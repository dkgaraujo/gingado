{
 "cells": [
  {
   "cell_type": "code",
   "execution_count": null,
   "metadata": {},
   "outputs": [],
   "source": [
    "#hide\n",
    "#skip\n",
    "! [ -e /content ] && pip install -Uqq pip gingado nbdev # install or upgrade gingado on colab"
   ]
  },
  {
   "cell_type": "markdown",
   "metadata": {},
   "source": [
    "# Using gingado to understand economic growth\n",
    "> An illustration with Barro and Lee (1994)"
   ]
  },
  {
   "cell_type": "markdown",
   "metadata": {},
   "source": [
    "This notebook showcases one possible use of `gingado` by estimating economic growth across countries, using the dataset studied by Barro and Lee (1994, \"Sources of economic growth\", Carnegie-Rochester Conference Series on Public Policy, 40, p.1-46). You can run this notebook interactively, by clicking on the appropriate link above.\n",
    "\n",
    "This dataset has been widely studied in economics. Belloni et al (2011, \"Inference for high-dimensional sparse econometric models\") and Giannone et al (2021, \"Economic predictions with big data: the illusion of sparsity\", Econometrica, 89, 5, p.2409-2437) are two studies of this dataset that are most related to machine learning.\n",
    "\n",
    "This notebook will use `gingado` to compare different classes of models (and their combination in a single model), select the best performing alternative, and document it. Because the notebook is for pedagogical purposes only, please bear in mind some aspects of the machine learning workflow (such as carefully thinking about the cross-validation strategy) are glossed over in this notebook.\n",
    "\n",
    "For a more thorough description of `gingado`, please refer to the package's [website](https://dkgaraujo.github.io/gingado) and to the academic [material](https://www.github.com/dkgaraujo/gingado_comms) about it.\n",
    "\n",
    "## Setting the stage\n",
    "\n",
    "We will import packages as the work progresses. This will help highlight the specific steps in the workflow that `gingado` can be helpful with."
   ]
  },
  {
   "cell_type": "code",
   "execution_count": null,
   "metadata": {},
   "outputs": [],
   "source": [
    "import pandas as pd\n",
    "from scipy import io"
   ]
  },
  {
   "cell_type": "markdown",
   "metadata": {},
   "source": [
    "The data is available in the [online annex](https://onlinelibrary.wiley.com/doi/abs/10.3982/ECTA17842) to Giannone et al (2021). In that paper, this dataset corresponds to what the authors call \"macro2\"."
   ]
  },
  {
   "cell_type": "code",
   "execution_count": null,
   "metadata": {},
   "outputs": [],
   "source": [
    "growth_data = io.loadmat('data/GrowthData.mat')\n",
    "colnames = [m[0].strip() for m in growth_data['Mnem'][0]]\n",
    "df = pd.DataFrame(growth_data['data'], columns=colnames)"
   ]
  },
  {
   "cell_type": "markdown",
   "metadata": {},
   "source": [
    "The dataset contains explanatory variables and the outcome variable, representing per-capita growth between 1960 and 1985, for 90 countries."
   ]
  },
  {
   "cell_type": "code",
   "execution_count": null,
   "metadata": {},
   "outputs": [
    {
     "data": {
      "text/html": [
       "<div>\n",
       "<style scoped>\n",
       "    .dataframe tbody tr th:only-of-type {\n",
       "        vertical-align: middle;\n",
       "    }\n",
       "\n",
       "    .dataframe tbody tr th {\n",
       "        vertical-align: top;\n",
       "    }\n",
       "\n",
       "    .dataframe thead th {\n",
       "        text-align: right;\n",
       "    }\n",
       "</style>\n",
       "<table border=\"1\" class=\"dataframe\">\n",
       "  <thead>\n",
       "    <tr style=\"text-align: right;\">\n",
       "      <th></th>\n",
       "      <th>gdpsh465</th>\n",
       "      <th>bmp1l</th>\n",
       "      <th>freeop</th>\n",
       "      <th>freetar</th>\n",
       "      <th>h65</th>\n",
       "      <th>hm65</th>\n",
       "      <th>hf65</th>\n",
       "      <th>p65</th>\n",
       "      <th>pm65</th>\n",
       "      <th>pf65</th>\n",
       "      <th>...</th>\n",
       "      <th>syr65</th>\n",
       "      <th>syrm65</th>\n",
       "      <th>syrf65</th>\n",
       "      <th>teapri65</th>\n",
       "      <th>teasec65</th>\n",
       "      <th>ex1</th>\n",
       "      <th>im1</th>\n",
       "      <th>xr65</th>\n",
       "      <th>tot1</th>\n",
       "      <th>Outcome</th>\n",
       "    </tr>\n",
       "  </thead>\n",
       "  <tbody>\n",
       "    <tr>\n",
       "      <th>0</th>\n",
       "      <td>6.591674</td>\n",
       "      <td>0.2837</td>\n",
       "      <td>0.153491</td>\n",
       "      <td>0.043888</td>\n",
       "      <td>0.007</td>\n",
       "      <td>0.013</td>\n",
       "      <td>0.001</td>\n",
       "      <td>0.29</td>\n",
       "      <td>0.37</td>\n",
       "      <td>0.21</td>\n",
       "      <td>...</td>\n",
       "      <td>0.033</td>\n",
       "      <td>0.057</td>\n",
       "      <td>0.010</td>\n",
       "      <td>47.6</td>\n",
       "      <td>17.3</td>\n",
       "      <td>0.0729</td>\n",
       "      <td>0.0667</td>\n",
       "      <td>0.348</td>\n",
       "      <td>-0.014727</td>\n",
       "      <td>-0.024336</td>\n",
       "    </tr>\n",
       "    <tr>\n",
       "      <th>1</th>\n",
       "      <td>6.829794</td>\n",
       "      <td>0.6141</td>\n",
       "      <td>0.313509</td>\n",
       "      <td>0.061827</td>\n",
       "      <td>0.019</td>\n",
       "      <td>0.032</td>\n",
       "      <td>0.007</td>\n",
       "      <td>0.91</td>\n",
       "      <td>1.00</td>\n",
       "      <td>0.65</td>\n",
       "      <td>...</td>\n",
       "      <td>0.173</td>\n",
       "      <td>0.274</td>\n",
       "      <td>0.067</td>\n",
       "      <td>57.1</td>\n",
       "      <td>18.0</td>\n",
       "      <td>0.0940</td>\n",
       "      <td>0.1438</td>\n",
       "      <td>0.525</td>\n",
       "      <td>0.005750</td>\n",
       "      <td>0.100473</td>\n",
       "    </tr>\n",
       "    <tr>\n",
       "      <th>2</th>\n",
       "      <td>8.895082</td>\n",
       "      <td>0.0000</td>\n",
       "      <td>0.204244</td>\n",
       "      <td>0.009186</td>\n",
       "      <td>0.260</td>\n",
       "      <td>0.325</td>\n",
       "      <td>0.201</td>\n",
       "      <td>1.00</td>\n",
       "      <td>1.00</td>\n",
       "      <td>1.00</td>\n",
       "      <td>...</td>\n",
       "      <td>2.573</td>\n",
       "      <td>2.478</td>\n",
       "      <td>2.667</td>\n",
       "      <td>26.5</td>\n",
       "      <td>20.7</td>\n",
       "      <td>0.1741</td>\n",
       "      <td>0.1750</td>\n",
       "      <td>1.082</td>\n",
       "      <td>-0.010040</td>\n",
       "      <td>0.067051</td>\n",
       "    </tr>\n",
       "    <tr>\n",
       "      <th>3</th>\n",
       "      <td>7.565275</td>\n",
       "      <td>0.1997</td>\n",
       "      <td>0.248714</td>\n",
       "      <td>0.036270</td>\n",
       "      <td>0.061</td>\n",
       "      <td>0.070</td>\n",
       "      <td>0.051</td>\n",
       "      <td>1.00</td>\n",
       "      <td>1.00</td>\n",
       "      <td>1.00</td>\n",
       "      <td>...</td>\n",
       "      <td>0.438</td>\n",
       "      <td>0.453</td>\n",
       "      <td>0.424</td>\n",
       "      <td>27.8</td>\n",
       "      <td>22.7</td>\n",
       "      <td>0.1265</td>\n",
       "      <td>0.1496</td>\n",
       "      <td>6.625</td>\n",
       "      <td>-0.002195</td>\n",
       "      <td>0.064089</td>\n",
       "    </tr>\n",
       "    <tr>\n",
       "      <th>4</th>\n",
       "      <td>7.162397</td>\n",
       "      <td>0.1740</td>\n",
       "      <td>0.299252</td>\n",
       "      <td>0.037367</td>\n",
       "      <td>0.017</td>\n",
       "      <td>0.027</td>\n",
       "      <td>0.007</td>\n",
       "      <td>0.82</td>\n",
       "      <td>0.85</td>\n",
       "      <td>0.81</td>\n",
       "      <td>...</td>\n",
       "      <td>0.257</td>\n",
       "      <td>0.287</td>\n",
       "      <td>0.229</td>\n",
       "      <td>34.5</td>\n",
       "      <td>17.6</td>\n",
       "      <td>0.1211</td>\n",
       "      <td>0.1308</td>\n",
       "      <td>2.500</td>\n",
       "      <td>0.003283</td>\n",
       "      <td>0.027930</td>\n",
       "    </tr>\n",
       "    <tr>\n",
       "      <th>...</th>\n",
       "      <td>...</td>\n",
       "      <td>...</td>\n",
       "      <td>...</td>\n",
       "      <td>...</td>\n",
       "      <td>...</td>\n",
       "      <td>...</td>\n",
       "      <td>...</td>\n",
       "      <td>...</td>\n",
       "      <td>...</td>\n",
       "      <td>...</td>\n",
       "      <td>...</td>\n",
       "      <td>...</td>\n",
       "      <td>...</td>\n",
       "      <td>...</td>\n",
       "      <td>...</td>\n",
       "      <td>...</td>\n",
       "      <td>...</td>\n",
       "      <td>...</td>\n",
       "      <td>...</td>\n",
       "      <td>...</td>\n",
       "      <td>...</td>\n",
       "    </tr>\n",
       "    <tr>\n",
       "      <th>85</th>\n",
       "      <td>8.991064</td>\n",
       "      <td>0.0000</td>\n",
       "      <td>0.371898</td>\n",
       "      <td>0.014586</td>\n",
       "      <td>0.255</td>\n",
       "      <td>0.336</td>\n",
       "      <td>0.170</td>\n",
       "      <td>0.98</td>\n",
       "      <td>0.99</td>\n",
       "      <td>1.00</td>\n",
       "      <td>...</td>\n",
       "      <td>2.226</td>\n",
       "      <td>2.494</td>\n",
       "      <td>1.971</td>\n",
       "      <td>27.5</td>\n",
       "      <td>15.9</td>\n",
       "      <td>0.4407</td>\n",
       "      <td>0.4257</td>\n",
       "      <td>2.529</td>\n",
       "      <td>-0.011883</td>\n",
       "      <td>0.031196</td>\n",
       "    </tr>\n",
       "    <tr>\n",
       "      <th>86</th>\n",
       "      <td>8.025189</td>\n",
       "      <td>0.0050</td>\n",
       "      <td>0.296437</td>\n",
       "      <td>0.013615</td>\n",
       "      <td>0.108</td>\n",
       "      <td>0.117</td>\n",
       "      <td>0.093</td>\n",
       "      <td>1.00</td>\n",
       "      <td>1.00</td>\n",
       "      <td>0.96</td>\n",
       "      <td>...</td>\n",
       "      <td>0.510</td>\n",
       "      <td>0.694</td>\n",
       "      <td>0.362</td>\n",
       "      <td>20.2</td>\n",
       "      <td>15.7</td>\n",
       "      <td>0.1669</td>\n",
       "      <td>0.2201</td>\n",
       "      <td>25.553</td>\n",
       "      <td>-0.039080</td>\n",
       "      <td>0.034096</td>\n",
       "    </tr>\n",
       "    <tr>\n",
       "      <th>87</th>\n",
       "      <td>9.030137</td>\n",
       "      <td>0.0000</td>\n",
       "      <td>0.265778</td>\n",
       "      <td>0.008629</td>\n",
       "      <td>0.288</td>\n",
       "      <td>0.337</td>\n",
       "      <td>0.237</td>\n",
       "      <td>1.00</td>\n",
       "      <td>1.00</td>\n",
       "      <td>0.95</td>\n",
       "      <td>...</td>\n",
       "      <td>2.727</td>\n",
       "      <td>2.664</td>\n",
       "      <td>2.788</td>\n",
       "      <td>20.4</td>\n",
       "      <td>9.4</td>\n",
       "      <td>0.3238</td>\n",
       "      <td>0.3134</td>\n",
       "      <td>4.152</td>\n",
       "      <td>0.005175</td>\n",
       "      <td>0.046900</td>\n",
       "    </tr>\n",
       "    <tr>\n",
       "      <th>88</th>\n",
       "      <td>8.865312</td>\n",
       "      <td>0.0000</td>\n",
       "      <td>0.282939</td>\n",
       "      <td>0.005048</td>\n",
       "      <td>0.188</td>\n",
       "      <td>0.236</td>\n",
       "      <td>0.139</td>\n",
       "      <td>1.00</td>\n",
       "      <td>1.00</td>\n",
       "      <td>1.00</td>\n",
       "      <td>...</td>\n",
       "      <td>1.888</td>\n",
       "      <td>1.920</td>\n",
       "      <td>1.860</td>\n",
       "      <td>20.0</td>\n",
       "      <td>16.0</td>\n",
       "      <td>0.1845</td>\n",
       "      <td>0.1940</td>\n",
       "      <td>0.452</td>\n",
       "      <td>-0.029551</td>\n",
       "      <td>0.039773</td>\n",
       "    </tr>\n",
       "    <tr>\n",
       "      <th>89</th>\n",
       "      <td>8.912339</td>\n",
       "      <td>0.0000</td>\n",
       "      <td>0.150366</td>\n",
       "      <td>0.024377</td>\n",
       "      <td>0.257</td>\n",
       "      <td>0.338</td>\n",
       "      <td>0.215</td>\n",
       "      <td>1.00</td>\n",
       "      <td>1.00</td>\n",
       "      <td>1.00</td>\n",
       "      <td>...</td>\n",
       "      <td>3.051</td>\n",
       "      <td>3.235</td>\n",
       "      <td>2.875</td>\n",
       "      <td>18.5</td>\n",
       "      <td>29.1</td>\n",
       "      <td>0.1876</td>\n",
       "      <td>0.2007</td>\n",
       "      <td>0.886</td>\n",
       "      <td>-0.036482</td>\n",
       "      <td>0.040642</td>\n",
       "    </tr>\n",
       "  </tbody>\n",
       "</table>\n",
       "<p>90 rows × 62 columns</p>\n",
       "</div>"
      ],
      "text/plain": [
       "    gdpsh465   bmp1l    freeop   freetar    h65   hm65   hf65   p65  pm65  \\\n",
       "0   6.591674  0.2837  0.153491  0.043888  0.007  0.013  0.001  0.29  0.37   \n",
       "1   6.829794  0.6141  0.313509  0.061827  0.019  0.032  0.007  0.91  1.00   \n",
       "2   8.895082  0.0000  0.204244  0.009186  0.260  0.325  0.201  1.00  1.00   \n",
       "3   7.565275  0.1997  0.248714  0.036270  0.061  0.070  0.051  1.00  1.00   \n",
       "4   7.162397  0.1740  0.299252  0.037367  0.017  0.027  0.007  0.82  0.85   \n",
       "..       ...     ...       ...       ...    ...    ...    ...   ...   ...   \n",
       "85  8.991064  0.0000  0.371898  0.014586  0.255  0.336  0.170  0.98  0.99   \n",
       "86  8.025189  0.0050  0.296437  0.013615  0.108  0.117  0.093  1.00  1.00   \n",
       "87  9.030137  0.0000  0.265778  0.008629  0.288  0.337  0.237  1.00  1.00   \n",
       "88  8.865312  0.0000  0.282939  0.005048  0.188  0.236  0.139  1.00  1.00   \n",
       "89  8.912339  0.0000  0.150366  0.024377  0.257  0.338  0.215  1.00  1.00   \n",
       "\n",
       "    pf65  ...  syr65  syrm65  syrf65  teapri65  teasec65     ex1     im1  \\\n",
       "0   0.21  ...  0.033   0.057   0.010      47.6      17.3  0.0729  0.0667   \n",
       "1   0.65  ...  0.173   0.274   0.067      57.1      18.0  0.0940  0.1438   \n",
       "2   1.00  ...  2.573   2.478   2.667      26.5      20.7  0.1741  0.1750   \n",
       "3   1.00  ...  0.438   0.453   0.424      27.8      22.7  0.1265  0.1496   \n",
       "4   0.81  ...  0.257   0.287   0.229      34.5      17.6  0.1211  0.1308   \n",
       "..   ...  ...    ...     ...     ...       ...       ...     ...     ...   \n",
       "85  1.00  ...  2.226   2.494   1.971      27.5      15.9  0.4407  0.4257   \n",
       "86  0.96  ...  0.510   0.694   0.362      20.2      15.7  0.1669  0.2201   \n",
       "87  0.95  ...  2.727   2.664   2.788      20.4       9.4  0.3238  0.3134   \n",
       "88  1.00  ...  1.888   1.920   1.860      20.0      16.0  0.1845  0.1940   \n",
       "89  1.00  ...  3.051   3.235   2.875      18.5      29.1  0.1876  0.2007   \n",
       "\n",
       "      xr65      tot1   Outcome  \n",
       "0    0.348 -0.014727 -0.024336  \n",
       "1    0.525  0.005750  0.100473  \n",
       "2    1.082 -0.010040  0.067051  \n",
       "3    6.625 -0.002195  0.064089  \n",
       "4    2.500  0.003283  0.027930  \n",
       "..     ...       ...       ...  \n",
       "85   2.529 -0.011883  0.031196  \n",
       "86  25.553 -0.039080  0.034096  \n",
       "87   4.152  0.005175  0.046900  \n",
       "88   0.452 -0.029551  0.039773  \n",
       "89   0.886 -0.036482  0.040642  \n",
       "\n",
       "[90 rows x 62 columns]"
      ]
     },
     "execution_count": null,
     "metadata": {},
     "output_type": "execute_result"
    }
   ],
   "source": [
    "df"
   ]
  },
  {
   "cell_type": "markdown",
   "metadata": {},
   "source": [
    "For the remainder of this notebook, the dataset will be divided into an `X` dataset of regressors and a `y` vector of outcomes."
   ]
  },
  {
   "cell_type": "code",
   "execution_count": null,
   "metadata": {},
   "outputs": [],
   "source": [
    "from sklearn.model_selection import train_test_split\n",
    "\n",
    "y = df.pop('Outcome')\n",
    "X = df"
   ]
  },
  {
   "cell_type": "code",
   "execution_count": null,
   "metadata": {},
   "outputs": [
    {
     "data": {
      "text/plain": [
       "<AxesSubplot:ylabel='Frequency'>"
      ]
     },
     "execution_count": null,
     "metadata": {},
     "output_type": "execute_result"
    },
    {
     "data": {
      "image/png": "[encoded data removed]",
      "text/plain": [
       "<Figure size 432x288 with 1 Axes>"
      ]
     },
     "metadata": {
      "needs_background": "light"
     },
     "output_type": "display_data"
    }
   ],
   "source": [
    "y.plot.hist(bins=90)"
   ]
  },
  {
   "cell_type": "code",
   "execution_count": null,
   "metadata": {},
   "outputs": [
    {
     "data": {
      "text/html": [
       "<div>\n",
       "<style scoped>\n",
       "    .dataframe tbody tr th:only-of-type {\n",
       "        vertical-align: middle;\n",
       "    }\n",
       "\n",
       "    .dataframe tbody tr th {\n",
       "        vertical-align: top;\n",
       "    }\n",
       "\n",
       "    .dataframe thead th {\n",
       "        text-align: right;\n",
       "    }\n",
       "</style>\n",
       "<table border=\"1\" class=\"dataframe\">\n",
       "  <thead>\n",
       "    <tr style=\"text-align: right;\">\n",
       "      <th></th>\n",
       "      <th>gdpsh465</th>\n",
       "      <th>bmp1l</th>\n",
       "      <th>freeop</th>\n",
       "      <th>freetar</th>\n",
       "      <th>h65</th>\n",
       "      <th>hm65</th>\n",
       "      <th>hf65</th>\n",
       "      <th>p65</th>\n",
       "      <th>pm65</th>\n",
       "      <th>pf65</th>\n",
       "      <th>...</th>\n",
       "      <th>seccf65</th>\n",
       "      <th>syr65</th>\n",
       "      <th>syrm65</th>\n",
       "      <th>syrf65</th>\n",
       "      <th>teapri65</th>\n",
       "      <th>teasec65</th>\n",
       "      <th>ex1</th>\n",
       "      <th>im1</th>\n",
       "      <th>xr65</th>\n",
       "      <th>tot1</th>\n",
       "    </tr>\n",
       "  </thead>\n",
       "  <tbody>\n",
       "    <tr>\n",
       "      <th>0</th>\n",
       "      <td>6.591674</td>\n",
       "      <td>0.2837</td>\n",
       "      <td>0.153491</td>\n",
       "      <td>0.043888</td>\n",
       "      <td>0.007</td>\n",
       "      <td>0.013</td>\n",
       "      <td>0.001</td>\n",
       "      <td>0.29</td>\n",
       "      <td>0.37</td>\n",
       "      <td>0.21</td>\n",
       "      <td>...</td>\n",
       "      <td>0.04</td>\n",
       "      <td>0.033</td>\n",
       "      <td>0.057</td>\n",
       "      <td>0.010</td>\n",
       "      <td>47.6</td>\n",
       "      <td>17.3</td>\n",
       "      <td>0.0729</td>\n",
       "      <td>0.0667</td>\n",
       "      <td>0.348</td>\n",
       "      <td>-0.014727</td>\n",
       "    </tr>\n",
       "    <tr>\n",
       "      <th>1</th>\n",
       "      <td>6.829794</td>\n",
       "      <td>0.6141</td>\n",
       "      <td>0.313509</td>\n",
       "      <td>0.061827</td>\n",
       "      <td>0.019</td>\n",
       "      <td>0.032</td>\n",
       "      <td>0.007</td>\n",
       "      <td>0.91</td>\n",
       "      <td>1.00</td>\n",
       "      <td>0.65</td>\n",
       "      <td>...</td>\n",
       "      <td>0.64</td>\n",
       "      <td>0.173</td>\n",
       "      <td>0.274</td>\n",
       "      <td>0.067</td>\n",
       "      <td>57.1</td>\n",
       "      <td>18.0</td>\n",
       "      <td>0.0940</td>\n",
       "      <td>0.1438</td>\n",
       "      <td>0.525</td>\n",
       "      <td>0.005750</td>\n",
       "    </tr>\n",
       "    <tr>\n",
       "      <th>2</th>\n",
       "      <td>8.895082</td>\n",
       "      <td>0.0000</td>\n",
       "      <td>0.204244</td>\n",
       "      <td>0.009186</td>\n",
       "      <td>0.260</td>\n",
       "      <td>0.325</td>\n",
       "      <td>0.201</td>\n",
       "      <td>1.00</td>\n",
       "      <td>1.00</td>\n",
       "      <td>1.00</td>\n",
       "      <td>...</td>\n",
       "      <td>18.14</td>\n",
       "      <td>2.573</td>\n",
       "      <td>2.478</td>\n",
       "      <td>2.667</td>\n",
       "      <td>26.5</td>\n",
       "      <td>20.7</td>\n",
       "      <td>0.1741</td>\n",
       "      <td>0.1750</td>\n",
       "      <td>1.082</td>\n",
       "      <td>-0.010040</td>\n",
       "    </tr>\n",
       "    <tr>\n",
       "      <th>3</th>\n",
       "      <td>7.565275</td>\n",
       "      <td>0.1997</td>\n",
       "      <td>0.248714</td>\n",
       "      <td>0.036270</td>\n",
       "      <td>0.061</td>\n",
       "      <td>0.070</td>\n",
       "      <td>0.051</td>\n",
       "      <td>1.00</td>\n",
       "      <td>1.00</td>\n",
       "      <td>1.00</td>\n",
       "      <td>...</td>\n",
       "      <td>2.63</td>\n",
       "      <td>0.438</td>\n",
       "      <td>0.453</td>\n",
       "      <td>0.424</td>\n",
       "      <td>27.8</td>\n",
       "      <td>22.7</td>\n",
       "      <td>0.1265</td>\n",
       "      <td>0.1496</td>\n",
       "      <td>6.625</td>\n",
       "      <td>-0.002195</td>\n",
       "    </tr>\n",
       "    <tr>\n",
       "      <th>4</th>\n",
       "      <td>7.162397</td>\n",
       "      <td>0.1740</td>\n",
       "      <td>0.299252</td>\n",
       "      <td>0.037367</td>\n",
       "      <td>0.017</td>\n",
       "      <td>0.027</td>\n",
       "      <td>0.007</td>\n",
       "      <td>0.82</td>\n",
       "      <td>0.85</td>\n",
       "      <td>0.81</td>\n",
       "      <td>...</td>\n",
       "      <td>2.11</td>\n",
       "      <td>0.257</td>\n",
       "      <td>0.287</td>\n",
       "      <td>0.229</td>\n",
       "      <td>34.5</td>\n",
       "      <td>17.6</td>\n",
       "      <td>0.1211</td>\n",
       "      <td>0.1308</td>\n",
       "      <td>2.500</td>\n",
       "      <td>0.003283</td>\n",
       "    </tr>\n",
       "    <tr>\n",
       "      <th>...</th>\n",
       "      <td>...</td>\n",
       "      <td>...</td>\n",
       "      <td>...</td>\n",
       "      <td>...</td>\n",
       "      <td>...</td>\n",
       "      <td>...</td>\n",
       "      <td>...</td>\n",
       "      <td>...</td>\n",
       "      <td>...</td>\n",
       "      <td>...</td>\n",
       "      <td>...</td>\n",
       "      <td>...</td>\n",
       "      <td>...</td>\n",
       "      <td>...</td>\n",
       "      <td>...</td>\n",
       "      <td>...</td>\n",
       "      <td>...</td>\n",
       "      <td>...</td>\n",
       "      <td>...</td>\n",
       "      <td>...</td>\n",
       "      <td>...</td>\n",
       "    </tr>\n",
       "    <tr>\n",
       "      <th>85</th>\n",
       "      <td>8.991064</td>\n",
       "      <td>0.0000</td>\n",
       "      <td>0.371898</td>\n",
       "      <td>0.014586</td>\n",
       "      <td>0.255</td>\n",
       "      <td>0.336</td>\n",
       "      <td>0.170</td>\n",
       "      <td>0.98</td>\n",
       "      <td>0.99</td>\n",
       "      <td>1.00</td>\n",
       "      <td>...</td>\n",
       "      <td>11.41</td>\n",
       "      <td>2.226</td>\n",
       "      <td>2.494</td>\n",
       "      <td>1.971</td>\n",
       "      <td>27.5</td>\n",
       "      <td>15.9</td>\n",
       "      <td>0.4407</td>\n",
       "      <td>0.4257</td>\n",
       "      <td>2.529</td>\n",
       "      <td>-0.011883</td>\n",
       "    </tr>\n",
       "    <tr>\n",
       "      <th>86</th>\n",
       "      <td>8.025189</td>\n",
       "      <td>0.0050</td>\n",
       "      <td>0.296437</td>\n",
       "      <td>0.013615</td>\n",
       "      <td>0.108</td>\n",
       "      <td>0.117</td>\n",
       "      <td>0.093</td>\n",
       "      <td>1.00</td>\n",
       "      <td>1.00</td>\n",
       "      <td>0.96</td>\n",
       "      <td>...</td>\n",
       "      <td>1.95</td>\n",
       "      <td>0.510</td>\n",
       "      <td>0.694</td>\n",
       "      <td>0.362</td>\n",
       "      <td>20.2</td>\n",
       "      <td>15.7</td>\n",
       "      <td>0.1669</td>\n",
       "      <td>0.2201</td>\n",
       "      <td>25.553</td>\n",
       "      <td>-0.039080</td>\n",
       "    </tr>\n",
       "    <tr>\n",
       "      <th>87</th>\n",
       "      <td>9.030137</td>\n",
       "      <td>0.0000</td>\n",
       "      <td>0.265778</td>\n",
       "      <td>0.008629</td>\n",
       "      <td>0.288</td>\n",
       "      <td>0.337</td>\n",
       "      <td>0.237</td>\n",
       "      <td>1.00</td>\n",
       "      <td>1.00</td>\n",
       "      <td>0.95</td>\n",
       "      <td>...</td>\n",
       "      <td>25.64</td>\n",
       "      <td>2.727</td>\n",
       "      <td>2.664</td>\n",
       "      <td>2.788</td>\n",
       "      <td>20.4</td>\n",
       "      <td>9.4</td>\n",
       "      <td>0.3238</td>\n",
       "      <td>0.3134</td>\n",
       "      <td>4.152</td>\n",
       "      <td>0.005175</td>\n",
       "    </tr>\n",
       "    <tr>\n",
       "      <th>88</th>\n",
       "      <td>8.865312</td>\n",
       "      <td>0.0000</td>\n",
       "      <td>0.282939</td>\n",
       "      <td>0.005048</td>\n",
       "      <td>0.188</td>\n",
       "      <td>0.236</td>\n",
       "      <td>0.139</td>\n",
       "      <td>1.00</td>\n",
       "      <td>1.00</td>\n",
       "      <td>1.00</td>\n",
       "      <td>...</td>\n",
       "      <td>10.76</td>\n",
       "      <td>1.888</td>\n",
       "      <td>1.920</td>\n",
       "      <td>1.860</td>\n",
       "      <td>20.0</td>\n",
       "      <td>16.0</td>\n",
       "      <td>0.1845</td>\n",
       "      <td>0.1940</td>\n",
       "      <td>0.452</td>\n",
       "      <td>-0.029551</td>\n",
       "    </tr>\n",
       "    <tr>\n",
       "      <th>89</th>\n",
       "      <td>8.912339</td>\n",
       "      <td>0.0000</td>\n",
       "      <td>0.150366</td>\n",
       "      <td>0.024377</td>\n",
       "      <td>0.257</td>\n",
       "      <td>0.338</td>\n",
       "      <td>0.215</td>\n",
       "      <td>1.00</td>\n",
       "      <td>1.00</td>\n",
       "      <td>1.00</td>\n",
       "      <td>...</td>\n",
       "      <td>24.40</td>\n",
       "      <td>3.051</td>\n",
       "      <td>3.235</td>\n",
       "      <td>2.875</td>\n",
       "      <td>18.5</td>\n",
       "      <td>29.1</td>\n",
       "      <td>0.1876</td>\n",
       "      <td>0.2007</td>\n",
       "      <td>0.886</td>\n",
       "      <td>-0.036482</td>\n",
       "    </tr>\n",
       "  </tbody>\n",
       "</table>\n",
       "<p>90 rows × 61 columns</p>\n",
       "</div>"
      ],
      "text/plain": [
       "    gdpsh465   bmp1l    freeop   freetar    h65   hm65   hf65   p65  pm65  \\\n",
       "0   6.591674  0.2837  0.153491  0.043888  0.007  0.013  0.001  0.29  0.37   \n",
       "1   6.829794  0.6141  0.313509  0.061827  0.019  0.032  0.007  0.91  1.00   \n",
       "2   8.895082  0.0000  0.204244  0.009186  0.260  0.325  0.201  1.00  1.00   \n",
       "3   7.565275  0.1997  0.248714  0.036270  0.061  0.070  0.051  1.00  1.00   \n",
       "4   7.162397  0.1740  0.299252  0.037367  0.017  0.027  0.007  0.82  0.85   \n",
       "..       ...     ...       ...       ...    ...    ...    ...   ...   ...   \n",
       "85  8.991064  0.0000  0.371898  0.014586  0.255  0.336  0.170  0.98  0.99   \n",
       "86  8.025189  0.0050  0.296437  0.013615  0.108  0.117  0.093  1.00  1.00   \n",
       "87  9.030137  0.0000  0.265778  0.008629  0.288  0.337  0.237  1.00  1.00   \n",
       "88  8.865312  0.0000  0.282939  0.005048  0.188  0.236  0.139  1.00  1.00   \n",
       "89  8.912339  0.0000  0.150366  0.024377  0.257  0.338  0.215  1.00  1.00   \n",
       "\n",
       "    pf65  ...  seccf65  syr65  syrm65  syrf65  teapri65  teasec65     ex1  \\\n",
       "0   0.21  ...     0.04  0.033   0.057   0.010      47.6      17.3  0.0729   \n",
       "1   0.65  ...     0.64  0.173   0.274   0.067      57.1      18.0  0.0940   \n",
       "2   1.00  ...    18.14  2.573   2.478   2.667      26.5      20.7  0.1741   \n",
       "3   1.00  ...     2.63  0.438   0.453   0.424      27.8      22.7  0.1265   \n",
       "4   0.81  ...     2.11  0.257   0.287   0.229      34.5      17.6  0.1211   \n",
       "..   ...  ...      ...    ...     ...     ...       ...       ...     ...   \n",
       "85  1.00  ...    11.41  2.226   2.494   1.971      27.5      15.9  0.4407   \n",
       "86  0.96  ...     1.95  0.510   0.694   0.362      20.2      15.7  0.1669   \n",
       "87  0.95  ...    25.64  2.727   2.664   2.788      20.4       9.4  0.3238   \n",
       "88  1.00  ...    10.76  1.888   1.920   1.860      20.0      16.0  0.1845   \n",
       "89  1.00  ...    24.40  3.051   3.235   2.875      18.5      29.1  0.1876   \n",
       "\n",
       "       im1    xr65      tot1  \n",
       "0   0.0667   0.348 -0.014727  \n",
       "1   0.1438   0.525  0.005750  \n",
       "2   0.1750   1.082 -0.010040  \n",
       "3   0.1496   6.625 -0.002195  \n",
       "4   0.1308   2.500  0.003283  \n",
       "..     ...     ...       ...  \n",
       "85  0.4257   2.529 -0.011883  \n",
       "86  0.2201  25.553 -0.039080  \n",
       "87  0.3134   4.152  0.005175  \n",
       "88  0.1940   0.452 -0.029551  \n",
       "89  0.2007   0.886 -0.036482  \n",
       "\n",
       "[90 rows x 61 columns]"
      ]
     },
     "execution_count": null,
     "metadata": {},
     "output_type": "execute_result"
    }
   ],
   "source": [
    "X"
   ]
  },
  {
   "cell_type": "markdown",
   "metadata": {},
   "source": [
    "# Establishing a benchmark model\n",
    "\n",
    "Generally speaking, it is a good idea to establish a benchmark model at the first stages of development of the machine learning model. `gingado` offers a class of automatic benchmarks that can be used off-the-shelf depending on the task at hand: `RegressionBenchmark` and `ClassificationBenchmark`. It is also good to keep in mind that more advanced users can create their own benchmark on top of a base class provided by `gingado`: `ggdBenchmark`.\n",
    "\n",
    "For this application, since we are interested in running a regression task, we will use `RegressionBenchmark`:"
   ]
  },
  {
   "cell_type": "code",
   "execution_count": null,
   "metadata": {},
   "outputs": [],
   "source": [
    "from gingado.benchmark import RegressionBenchmark"
   ]
  },
  {
   "cell_type": "markdown",
   "metadata": {},
   "source": [
    "What this object does is the following:\n",
    "* it creates a random forest\n",
    "* three different vesions of the random forest are trained on the user data\n",
    "* the version that performs better is chosen as the benchmark\n",
    "* right after it is trained, the benchmark is documented using `gingado`'s `ModelCard` documenter.\n",
    "\n",
    "The user can easily change the parameters above. For example, instead of a random forest the user might prefer a neural network as the benchmark. Or, in lieu of the default parameters provided by `gingado`, users might have their own idea of what could be a reasonable parameter space to search.\n",
    "\n",
    "Random forests are chosen as the go-to benchmark algorithm because of their reasonably good performance in a wide variety of settings, the fact that they don't require much data transformation (ie, normalising the data to have zero mean and one standard deviation), and by virtue of their relatively transparency about the importance of each regressor.\n",
    "\n",
    "The first step is to initialise the benchmark object. At this time, we pass some arguments about how we want it to behave. In this case, we set the verbosity level to produce output related to each alternative considered."
   ]
  },
  {
   "cell_type": "code",
   "execution_count": null,
   "metadata": {},
   "outputs": [],
   "source": [
    "benchmark = RegressionBenchmark(verbose_grid=3)"
   ]
  },
  {
   "cell_type": "markdown",
   "metadata": {},
   "source": [
    "The next step is to fit the `benchmark` object to the data. "
   ]
  },
  {
   "cell_type": "code",
   "execution_count": null,
   "metadata": {},
   "outputs": [
    {
     "name": "stdout",
     "output_type": "stream",
     "text": [
      "Fitting 5 folds for each of 3 candidates, totalling 15 fits\n",
      "[CV 1/5] END ..................n_estimators=50;, score=-0.617 total time=   0.1s\n",
      "[CV 2/5] END ..................n_estimators=50;, score=-0.358 total time=   0.1s\n",
      "[CV 3/5] END ...................n_estimators=50;, score=0.429 total time=   0.1s\n",
      "[CV 4/5] END ..................n_estimators=50;, score=-0.621 total time=   0.1s\n",
      "[CV 5/5] END ...................n_estimators=50;, score=0.115 total time=   0.1s\n",
      "[CV 1/5] END .................n_estimators=100;, score=-0.493 total time=   0.2s\n",
      "[CV 2/5] END .................n_estimators=100;, score=-0.472 total time=   0.1s\n",
      "[CV 3/5] END ..................n_estimators=100;, score=0.374 total time=   0.2s\n",
      "[CV 4/5] END .................n_estimators=100;, score=-0.591 total time=   0.1s\n",
      "[CV 5/5] END ..................n_estimators=100;, score=0.204 total time=   0.1s\n",
      "[CV 1/5] END .................n_estimators=250;, score=-0.496 total time=   0.3s\n",
      "[CV 2/5] END .................n_estimators=250;, score=-0.350 total time=   0.4s\n",
      "[CV 3/5] END ..................n_estimators=250;, score=0.405 total time=   0.4s\n",
      "[CV 4/5] END .................n_estimators=250;, score=-0.533 total time=   0.4s\n",
      "[CV 5/5] END ..................n_estimators=250;, score=0.292 total time=   0.4s\n"
     ]
    },
    {
     "data": {
      "text/plain": [
       "RegressionBenchmark(cv=StratifiedShuffleSplit(n_splits=10, random_state=None, test_size=None,\n",
       "            train_size=None),\n",
       "                    verbose_grid=3)"
      ]
     },
     "execution_count": null,
     "metadata": {},
     "output_type": "execute_result"
    }
   ],
   "source": [
    "#collapse_output\n",
    "benchmark.fit(X, y)"
   ]
  },
  {
   "cell_type": "markdown",
   "metadata": {},
   "source": [
    "As we can see above, with a few lines we have trained a random forest on the dataset. In this case, the benchmark was the better of three versions of the random forest: one with 50 estimators, another with 100 and the thid with 250 estimators. They were each trained using a 5-fold cross-validation. Let's see which one was the best performing in this case, and hence our benchmark model:"
   ]
  },
  {
   "cell_type": "code",
   "execution_count": null,
   "metadata": {},
   "outputs": [
    {
     "data": {
      "text/html": [
       "<div>\n",
       "<style scoped>\n",
       "    .dataframe tbody tr th:only-of-type {\n",
       "        vertical-align: middle;\n",
       "    }\n",
       "\n",
       "    .dataframe tbody tr th {\n",
       "        vertical-align: top;\n",
       "    }\n",
       "\n",
       "    .dataframe thead th {\n",
       "        text-align: right;\n",
       "    }\n",
       "</style>\n",
       "<table border=\"1\" class=\"dataframe\">\n",
       "  <thead>\n",
       "    <tr style=\"text-align: right;\">\n",
       "      <th></th>\n",
       "      <th>mean_fit_time</th>\n",
       "      <th>std_fit_time</th>\n",
       "      <th>mean_score_time</th>\n",
       "      <th>std_score_time</th>\n",
       "      <th>param_n_estimators</th>\n",
       "      <th>params</th>\n",
       "      <th>split0_test_score</th>\n",
       "      <th>split1_test_score</th>\n",
       "      <th>split2_test_score</th>\n",
       "      <th>split3_test_score</th>\n",
       "      <th>split4_test_score</th>\n",
       "      <th>mean_test_score</th>\n",
       "      <th>std_test_score</th>\n",
       "      <th>rank_test_score</th>\n",
       "    </tr>\n",
       "  </thead>\n",
       "  <tbody>\n",
       "    <tr>\n",
       "      <th>0</th>\n",
       "      <td>0.076122</td>\n",
       "      <td>0.005055</td>\n",
       "      <td>0.003419</td>\n",
       "      <td>0.000329</td>\n",
       "      <td>50</td>\n",
       "      <td>{'n_estimators': 50}</td>\n",
       "      <td>-0.617408</td>\n",
       "      <td>-0.357543</td>\n",
       "      <td>0.428781</td>\n",
       "      <td>-0.621305</td>\n",
       "      <td>0.114665</td>\n",
       "      <td>-0.210562</td>\n",
       "      <td>0.417222</td>\n",
       "      <td>3</td>\n",
       "    </tr>\n",
       "    <tr>\n",
       "      <th>1</th>\n",
       "      <td>0.146107</td>\n",
       "      <td>0.007717</td>\n",
       "      <td>0.006118</td>\n",
       "      <td>0.000455</td>\n",
       "      <td>100</td>\n",
       "      <td>{'n_estimators': 100}</td>\n",
       "      <td>-0.493427</td>\n",
       "      <td>-0.471947</td>\n",
       "      <td>0.374170</td>\n",
       "      <td>-0.591038</td>\n",
       "      <td>0.203583</td>\n",
       "      <td>-0.195732</td>\n",
       "      <td>0.401354</td>\n",
       "      <td>2</td>\n",
       "    </tr>\n",
       "    <tr>\n",
       "      <th>2</th>\n",
       "      <td>0.342422</td>\n",
       "      <td>0.007035</td>\n",
       "      <td>0.013998</td>\n",
       "      <td>0.000393</td>\n",
       "      <td>250</td>\n",
       "      <td>{'n_estimators': 250}</td>\n",
       "      <td>-0.496082</td>\n",
       "      <td>-0.350251</td>\n",
       "      <td>0.404963</td>\n",
       "      <td>-0.533221</td>\n",
       "      <td>0.292423</td>\n",
       "      <td>-0.136434</td>\n",
       "      <td>0.402376</td>\n",
       "      <td>1</td>\n",
       "    </tr>\n",
       "  </tbody>\n",
       "</table>\n",
       "</div>"
      ],
      "text/plain": [
       "   mean_fit_time  std_fit_time  mean_score_time  std_score_time  \\\n",
       "0       0.076122      0.005055         0.003419        0.000329   \n",
       "1       0.146107      0.007717         0.006118        0.000455   \n",
       "2       0.342422      0.007035         0.013998        0.000393   \n",
       "\n",
       "  param_n_estimators                 params  split0_test_score  \\\n",
       "0                 50   {'n_estimators': 50}          -0.617408   \n",
       "1                100  {'n_estimators': 100}          -0.493427   \n",
       "2                250  {'n_estimators': 250}          -0.496082   \n",
       "\n",
       "   split1_test_score  split2_test_score  split3_test_score  split4_test_score  \\\n",
       "0          -0.357543           0.428781          -0.621305           0.114665   \n",
       "1          -0.471947           0.374170          -0.591038           0.203583   \n",
       "2          -0.350251           0.404963          -0.533221           0.292423   \n",
       "\n",
       "   mean_test_score  std_test_score  rank_test_score  \n",
       "0        -0.210562        0.417222                3  \n",
       "1        -0.195732        0.401354                2  \n",
       "2        -0.136434        0.402376                1  "
      ]
     },
     "execution_count": null,
     "metadata": {},
     "output_type": "execute_result"
    }
   ],
   "source": [
    "pd.DataFrame(benchmark.benchmark.cv_results_)"
   ]
  },
  {
   "cell_type": "markdown",
   "metadata": {},
   "source": [
    "The values above are calculated with $R^2$, the default scoring function for a random forest from the `scikit-learn` package. Suppose that instead we would like a benchmark model that is optimised on the maximum error, ie a benchmark that minimises the worst deviation from prediction to ground truth for all the sample. These are the steps that we would take. Note that a more complete list of ready-made scoring parameters and how to create your own function can be found [here](https://scikit-learn.org/stable/modules/model_evaluation.html#)."
   ]
  },
  {
   "cell_type": "code",
   "execution_count": null,
   "metadata": {},
   "outputs": [
    {
     "name": "stdout",
     "output_type": "stream",
     "text": [
      "Fitting 5 folds for each of 3 candidates, totalling 15 fits\n",
      "[CV 1/5] END ..................n_estimators=50;, score=-0.124 total time=   0.1s\n",
      "[CV 2/5] END ..................n_estimators=50;, score=-0.158 total time=   0.1s\n",
      "[CV 3/5] END ..................n_estimators=50;, score=-0.085 total time=   0.1s\n",
      "[CV 4/5] END ..................n_estimators=50;, score=-0.155 total time=   0.1s\n",
      "[CV 5/5] END ..................n_estimators=50;, score=-0.109 total time=   0.1s\n",
      "[CV 1/5] END .................n_estimators=100;, score=-0.103 total time=   0.2s\n",
      "[CV 2/5] END .................n_estimators=100;, score=-0.171 total time=   0.1s\n",
      "[CV 3/5] END .................n_estimators=100;, score=-0.085 total time=   0.2s\n",
      "[CV 4/5] END .................n_estimators=100;, score=-0.154 total time=   0.1s\n",
      "[CV 5/5] END .................n_estimators=100;, score=-0.114 total time=   0.1s\n",
      "[CV 1/5] END .................n_estimators=250;, score=-0.111 total time=   0.3s\n",
      "[CV 2/5] END .................n_estimators=250;, score=-0.167 total time=   0.4s\n",
      "[CV 3/5] END .................n_estimators=250;, score=-0.094 total time=   0.4s\n",
      "[CV 4/5] END .................n_estimators=250;, score=-0.159 total time=   0.4s\n",
      "[CV 5/5] END .................n_estimators=250;, score=-0.107 total time=   0.4s\n"
     ]
    },
    {
     "data": {
      "text/plain": [
       "RegressionBenchmark(cv=StratifiedShuffleSplit(n_splits=10, random_state=None, test_size=None,\n",
       "            train_size=None),\n",
       "                    scoring='max_error', verbose_grid=3)"
      ]
     },
     "execution_count": null,
     "metadata": {},
     "output_type": "execute_result"
    }
   ],
   "source": [
    "#collapse_output\n",
    "benchmark_lower_worsterror = RegressionBenchmark(scoring='max_error', verbose_grid=3)\n",
    "benchmark_lower_worsterror.fit(X, y)"
   ]
  },
  {
   "cell_type": "code",
   "execution_count": null,
   "metadata": {},
   "outputs": [
    {
     "data": {
      "text/html": [
       "<div>\n",
       "<style scoped>\n",
       "    .dataframe tbody tr th:only-of-type {\n",
       "        vertical-align: middle;\n",
       "    }\n",
       "\n",
       "    .dataframe tbody tr th {\n",
       "        vertical-align: top;\n",
       "    }\n",
       "\n",
       "    .dataframe thead th {\n",
       "        text-align: right;\n",
       "    }\n",
       "</style>\n",
       "<table border=\"1\" class=\"dataframe\">\n",
       "  <thead>\n",
       "    <tr style=\"text-align: right;\">\n",
       "      <th></th>\n",
       "      <th>mean_fit_time</th>\n",
       "      <th>std_fit_time</th>\n",
       "      <th>mean_score_time</th>\n",
       "      <th>std_score_time</th>\n",
       "      <th>param_n_estimators</th>\n",
       "      <th>params</th>\n",
       "      <th>split0_test_score</th>\n",
       "      <th>split1_test_score</th>\n",
       "      <th>split2_test_score</th>\n",
       "      <th>split3_test_score</th>\n",
       "      <th>split4_test_score</th>\n",
       "      <th>mean_test_score</th>\n",
       "      <th>std_test_score</th>\n",
       "      <th>rank_test_score</th>\n",
       "    </tr>\n",
       "  </thead>\n",
       "  <tbody>\n",
       "    <tr>\n",
       "      <th>0</th>\n",
       "      <td>0.073788</td>\n",
       "      <td>0.005697</td>\n",
       "      <td>0.003297</td>\n",
       "      <td>0.000220</td>\n",
       "      <td>50</td>\n",
       "      <td>{'n_estimators': 50}</td>\n",
       "      <td>-0.123775</td>\n",
       "      <td>-0.157914</td>\n",
       "      <td>-0.084902</td>\n",
       "      <td>-0.154562</td>\n",
       "      <td>-0.108941</td>\n",
       "      <td>-0.126019</td>\n",
       "      <td>0.027638</td>\n",
       "      <td>2</td>\n",
       "    </tr>\n",
       "    <tr>\n",
       "      <th>1</th>\n",
       "      <td>0.140052</td>\n",
       "      <td>0.003612</td>\n",
       "      <td>0.006048</td>\n",
       "      <td>0.000424</td>\n",
       "      <td>100</td>\n",
       "      <td>{'n_estimators': 100}</td>\n",
       "      <td>-0.102623</td>\n",
       "      <td>-0.171207</td>\n",
       "      <td>-0.085241</td>\n",
       "      <td>-0.153683</td>\n",
       "      <td>-0.114334</td>\n",
       "      <td>-0.125417</td>\n",
       "      <td>0.032101</td>\n",
       "      <td>1</td>\n",
       "    </tr>\n",
       "    <tr>\n",
       "      <th>2</th>\n",
       "      <td>0.343159</td>\n",
       "      <td>0.005991</td>\n",
       "      <td>0.013555</td>\n",
       "      <td>0.000415</td>\n",
       "      <td>250</td>\n",
       "      <td>{'n_estimators': 250}</td>\n",
       "      <td>-0.111196</td>\n",
       "      <td>-0.167359</td>\n",
       "      <td>-0.093885</td>\n",
       "      <td>-0.159190</td>\n",
       "      <td>-0.106703</td>\n",
       "      <td>-0.127666</td>\n",
       "      <td>0.029736</td>\n",
       "      <td>3</td>\n",
       "    </tr>\n",
       "  </tbody>\n",
       "</table>\n",
       "</div>"
      ],
      "text/plain": [
       "   mean_fit_time  std_fit_time  mean_score_time  std_score_time  \\\n",
       "0       0.073788      0.005697         0.003297        0.000220   \n",
       "1       0.140052      0.003612         0.006048        0.000424   \n",
       "2       0.343159      0.005991         0.013555        0.000415   \n",
       "\n",
       "  param_n_estimators                 params  split0_test_score  \\\n",
       "0                 50   {'n_estimators': 50}          -0.123775   \n",
       "1                100  {'n_estimators': 100}          -0.102623   \n",
       "2                250  {'n_estimators': 250}          -0.111196   \n",
       "\n",
       "   split1_test_score  split2_test_score  split3_test_score  split4_test_score  \\\n",
       "0          -0.157914          -0.084902          -0.154562          -0.108941   \n",
       "1          -0.171207          -0.085241          -0.153683          -0.114334   \n",
       "2          -0.167359          -0.093885          -0.159190          -0.106703   \n",
       "\n",
       "   mean_test_score  std_test_score  rank_test_score  \n",
       "0        -0.126019        0.027638                2  \n",
       "1        -0.125417        0.032101                1  \n",
       "2        -0.127666        0.029736                3  "
      ]
     },
     "execution_count": null,
     "metadata": {},
     "output_type": "execute_result"
    }
   ],
   "source": [
    "pd.DataFrame(benchmark_lower_worsterror.benchmark.cv_results_)"
   ]
  },
  {
   "cell_type": "markdown",
   "metadata": {},
   "source": [
    "Now we even have two benchmark models 😎.\n",
    "\n",
    "We could further tweek and adjust them, but one of the ideas behind having a benchmark is that it is simple and easy to set up. \n",
    "\n",
    "Let's now look at the predictions, comparing them to the original growth values."
   ]
  },
  {
   "cell_type": "code",
   "execution_count": null,
   "metadata": {},
   "outputs": [
    {
     "name": "stderr",
     "output_type": "stream",
     "text": [
      "/Users/douglasaraujo/Coding/.venv_gingado/lib/python3.10/site-packages/sklearn/base.py:443: UserWarning: X has feature names, but RandomForestRegressor was fitted without feature names\n",
      "  warnings.warn(\n"
     ]
    },
    {
     "data": {
      "text/plain": [
       "<AxesSubplot:xlabel='y', ylabel='y_pred'>"
      ]
     },
     "execution_count": null,
     "metadata": {},
     "output_type": "execute_result"
    },
    {
     "data": {
      "image/png": "[encoded data removed]",
      "text/plain": [
       "<Figure size 432x288 with 1 Axes>"
      ]
     },
     "metadata": {
      "needs_background": "light"
     },
     "output_type": "display_data"
    }
   ],
   "source": [
    "y_pred = benchmark.predict(X)\n",
    "\n",
    "pd.DataFrame({\n",
    "    'y': y,\n",
    "    'y_pred': y_pred\n",
    "    }).plot.scatter(x='y', y='y_pred', grid=True)"
   ]
  },
  {
   "cell_type": "markdown",
   "metadata": {},
   "source": [
    "And now a histogram of the benchmark's errors:"
   ]
  },
  {
   "cell_type": "code",
   "execution_count": null,
   "metadata": {},
   "outputs": [
    {
     "data": {
      "text/plain": [
       "<AxesSubplot:ylabel='Frequency'>"
      ]
     },
     "execution_count": null,
     "metadata": {},
     "output_type": "execute_result"
    },
    {
     "data": {
      "image/png": "[encoded data removed]",
      "text/plain": [
       "<Figure size 432x288 with 1 Axes>"
      ]
     },
     "metadata": {
      "needs_background": "light"
     },
     "output_type": "display_data"
    }
   ],
   "source": [
    "pd.DataFrame(y - y_pred).plot.hist(bins=30)"
   ]
  },
  {
   "cell_type": "markdown",
   "metadata": {},
   "source": [
    "Since the benchmark is a random forest model, we can see what are the most important regressors, measured as the average reduction in impurity across the trees in the random forest that actually use that particular regressor. They are scaled so that the sum for all features is one. Higher importance amounts indicate that that particular regressor is a more important contributor to the final prediction."
   ]
  },
  {
   "cell_type": "code",
   "execution_count": null,
   "metadata": {},
   "outputs": [
    {
     "data": {
      "text/plain": [
       "<AxesSubplot:>"
      ]
     },
     "execution_count": null,
     "metadata": {},
     "output_type": "execute_result"
    },
    {
     "data": {
      "image/png": "[encoded data removed]",
      "text/plain": [
       "<Figure size 1440x576 with 1 Axes>"
      ]
     },
     "metadata": {
      "needs_background": "light"
     },
     "output_type": "display_data"
    }
   ],
   "source": [
    "regressor_importance = pd.DataFrame(benchmark.benchmark.best_estimator_.feature_importances_, index=X.columns, columns=[\"Importance\"])\n",
    "\n",
    "regressor_importance.sort_values(by=\"Importance\", ascending=False).plot.bar(figsize=(20, 8))"
   ]
  },
  {
   "cell_type": "markdown",
   "metadata": {},
   "source": [
    "From the graph above, we can see that the regressor `bmp1l` (black-market premium on foreign exchange) predominates. Interestingly, Belloni et al (2011) using squared-root lasso also find this regressor to be important.\n",
    "\n",
    "## Model documentation\n",
    "\n",
    "Importantly, the benchmark already has some baseline documentation set up. If the user wishes, they can use that as a basis to document their model. Note that the output is in a raw format that is suitable for machine reading and writing. Intermediary and advanced users may wish to use that format to construct personalised forms, documents, etc."
   ]
  },
  {
   "cell_type": "code",
   "execution_count": null,
   "metadata": {},
   "outputs": [
    {
     "data": {
      "text/plain": [
       "{'model_details': {'developer': 'douglasaraujo',\n",
       "  'datetime': '2022-06-15 00:56:43 ',\n",
       "  'version': 'Model version',\n",
       "  'type': 'Model type',\n",
       "  'info': {'_estimator_type': 'regressor',\n",
       "   'best_estimator_': RandomForestRegressor(n_estimators=250),\n",
       "   'best_index_': 2,\n",
       "   'best_params_': {'n_estimators': 250},\n",
       "   'best_score_': -0.13643354164690033,\n",
       "   'cv_results_': {'mean_fit_time': array([0.07612152, 0.14610734, 0.34242196]),\n",
       "    'std_fit_time': array([0.00505525, 0.00771705, 0.0070346 ]),\n",
       "    'mean_score_time': array([0.0034193 , 0.00611849, 0.01399784]),\n",
       "    'std_score_time': array([0.00032856, 0.00045528, 0.00039293]),\n",
       "    'param_n_estimators': masked_array(data=[50, 100, 250],\n",
       "                 mask=[False, False, False],\n",
       "           fill_value='?',\n",
       "                dtype=object),\n",
       "    'params': [{'n_estimators': 50},\n",
       "     {'n_estimators': 100},\n",
       "     {'n_estimators': 250}],\n",
       "    'split0_test_score': array([-0.61740758, -0.49342732, -0.49608154]),\n",
       "    'split1_test_score': array([-0.35754327, -0.47194663, -0.35025107]),\n",
       "    'split2_test_score': array([0.42878114, 0.37416987, 0.40496339]),\n",
       "    'split3_test_score': array([-0.62130498, -0.59103768, -0.53322115]),\n",
       "    'split4_test_score': array([0.11466514, 0.20358278, 0.29242266]),\n",
       "    'mean_test_score': array([-0.21056191, -0.1957318 , -0.13643354]),\n",
       "    'std_test_score': array([0.41722152, 0.40135372, 0.40237627]),\n",
       "    'rank_test_score': array([3, 2, 1], dtype=int32)},\n",
       "   'multimetric_': False,\n",
       "   'n_features_in_': 61,\n",
       "   'n_splits_': 5,\n",
       "   'refit_time_': 0.39920830726623535,\n",
       "   'scorer_': <function sklearn.metrics._scorer._passthrough_scorer(estimator, *args, **kwargs)>},\n",
       "  'paper': 'Paper or other resource for more information',\n",
       "  'citation': 'Citation details',\n",
       "  'license': 'License',\n",
       "  'contact': 'Where to send questions or comments about the model'},\n",
       " 'intended_use': {'primary_uses': 'Primary intended uses',\n",
       "  'primary_users': 'Primary intended users',\n",
       "  'out_of_scope': 'Out-of-scope use cases'},\n",
       " 'factors': {'relevant': 'Relevant factors',\n",
       "  'evaluation': 'Evaluation factors'},\n",
       " 'metrics': {'performance_measures': 'Model performance measures',\n",
       "  'thresholds': 'Decision thresholds',\n",
       "  'variation_approaches': 'Variation approaches'},\n",
       " 'evaluation_data': {'datasets': 'Datasets',\n",
       "  'motivation': 'Motivation',\n",
       "  'preprocessing': 'Preprocessing'},\n",
       " 'training_data': {'training_data': 'Information on training data'},\n",
       " 'quant_analyses': {'unitary': 'Unitary results',\n",
       "  'intersectional': 'Intersectional results'},\n",
       " 'ethical_considerations': {'sensitive_data': 'Does the model use any sensitive data (e.g., protected classes)?',\n",
       "  'human_life': 'Is the model intended to inform decisions about mat- ters central to human life or flourishing - e.g., health or safety? Or could it be used in such a way?',\n",
       "  'mitigations': 'What risk mitigation strategies were used during model development?',\n",
       "  'risks_and_harms': '\\n            What risks may be present in model usage? Try to identify the potential recipients, likelihood, and magnitude of harms.\\n            If these cannot be determined, note that they were consid- ered but remain unknown',\n",
       "  'use_cases': 'Are there any known model use cases that are especially fraught?',\n",
       "  'additional_information': '\\n            If possible, this section should also include any additional ethical considerations that went into model development,\\n            for example, review by an external board, or testing with a specific community.'},\n",
       " 'caveats_recommendations': {'caveats': 'For example, did the results suggest any further testing? Were there any relevant groups that were not represented in the evaluation dataset?',\n",
       "  'recommendations': 'Are there additional recommendations for model use? What are the ideal characteristics of an evaluation dataset for this model?'}}"
      ]
     },
     "execution_count": null,
     "metadata": {},
     "output_type": "execute_result"
    }
   ],
   "source": [
    "#collapse_output\n",
    "benchmark.model_documentation.show_json()"
   ]
  },
  {
   "cell_type": "markdown",
   "metadata": {},
   "source": [
    "Since there is some information in the model documentation that was automatically added, we might want to concentrate on the fields in the model card that are yet to be answered. Actually, this is the purpose of `gingado`'s automatic documentation: to afford users more time so they can invest, if they want, on model documentation."
   ]
  },
  {
   "cell_type": "code",
   "execution_count": null,
   "metadata": {},
   "outputs": [
    {
     "data": {
      "text/plain": [
       "['model_details__version',\n",
       " 'model_details__type',\n",
       " 'model_details__paper',\n",
       " 'model_details__citation',\n",
       " 'model_details__license',\n",
       " 'model_details__contact',\n",
       " 'intended_use__primary_uses',\n",
       " 'intended_use__primary_users',\n",
       " 'intended_use__out_of_scope',\n",
       " 'factors__relevant',\n",
       " 'factors__evaluation',\n",
       " 'metrics__performance_measures',\n",
       " 'metrics__thresholds',\n",
       " 'metrics__variation_approaches',\n",
       " 'evaluation_data__datasets',\n",
       " 'evaluation_data__motivation',\n",
       " 'evaluation_data__preprocessing',\n",
       " 'training_data__training_data',\n",
       " 'quant_analyses__unitary',\n",
       " 'quant_analyses__intersectional',\n",
       " 'ethical_considerations__sensitive_data',\n",
       " 'ethical_considerations__human_life',\n",
       " 'ethical_considerations__mitigations',\n",
       " 'ethical_considerations__risks_and_harms',\n",
       " 'ethical_considerations__use_cases',\n",
       " 'ethical_considerations__additional_information',\n",
       " 'caveats_recommendations__caveats',\n",
       " 'caveats_recommendations__recommendations']"
      ]
     },
     "execution_count": null,
     "metadata": {},
     "output_type": "execute_result"
    }
   ],
   "source": [
    "#collapse_output\n",
    "benchmark.model_documentation.open_questions()"
   ]
  },
  {
   "cell_type": "markdown",
   "metadata": {},
   "source": [
    "Let's fill some information:"
   ]
  },
  {
   "cell_type": "code",
   "execution_count": null,
   "metadata": {},
   "outputs": [],
   "source": [
    "benchmark.model_documentation.fill_info({\n",
    "    'intended_use': {\n",
    "        'primary_uses': 'This model is trained for pedagogical uses only.',\n",
    "        'primary_users': 'Everyone is welcome to follow the description showing the development of this benchmark.'\n",
    "    }\n",
    "})"
   ]
  },
  {
   "cell_type": "markdown",
   "metadata": {},
   "source": [
    "Note the format, based on a Python dictionary. In particular, the `open_questions` method results include keys divided by double underscores. As seen above, these should be interpreted as different levels of the documentation template, leading to a nested dictionary. \n",
    "\n",
    "Now when we confirm that the questions answered above are no longer \"open questions\":"
   ]
  },
  {
   "cell_type": "code",
   "execution_count": null,
   "metadata": {},
   "outputs": [
    {
     "data": {
      "text/plain": [
       "['model_details__version',\n",
       " 'model_details__type',\n",
       " 'model_details__paper',\n",
       " 'model_details__citation',\n",
       " 'model_details__license',\n",
       " 'model_details__contact',\n",
       " 'intended_use__out_of_scope',\n",
       " 'factors__relevant',\n",
       " 'factors__evaluation',\n",
       " 'metrics__performance_measures',\n",
       " 'metrics__thresholds',\n",
       " 'metrics__variation_approaches',\n",
       " 'evaluation_data__datasets',\n",
       " 'evaluation_data__motivation',\n",
       " 'evaluation_data__preprocessing',\n",
       " 'training_data__training_data',\n",
       " 'quant_analyses__unitary',\n",
       " 'quant_analyses__intersectional',\n",
       " 'ethical_considerations__sensitive_data',\n",
       " 'ethical_considerations__human_life',\n",
       " 'ethical_considerations__mitigations',\n",
       " 'ethical_considerations__risks_and_harms',\n",
       " 'ethical_considerations__use_cases',\n",
       " 'ethical_considerations__additional_information',\n",
       " 'caveats_recommendations__caveats',\n",
       " 'caveats_recommendations__recommendations']"
      ]
     },
     "execution_count": null,
     "metadata": {},
     "output_type": "execute_result"
    }
   ],
   "source": [
    "benchmark.model_documentation.open_questions()"
   ]
  },
  {
   "cell_type": "markdown",
   "metadata": {},
   "source": [
    "If we want, at any time we can save the documentation to a local JSON file, as well as read another document.\n",
    "\n",
    "## Trying out model alternatives\n",
    "\n",
    "The benchmark model may be enough for some analyses, or maybe the user is interested in using the benchmark to explore the data and have an understanding of the importance of each regressor, to concentrate their work on data that can be meaningful for their purposes. But oftentimes a user will want to seek a machine learning model that performs as well as possible.\n",
    "\n",
    "For users that want to manually create other models, `gingado` allows the possibility of comparing them with the benchmark. If the user model is better, it becomes the new benchmark!\n",
    "\n",
    "For the following analyses, we will use K-fold as cross-validation, with 5 splits of the sample."
   ]
  },
  {
   "cell_type": "markdown",
   "metadata": {},
   "source": [
    "### First candidate: a gradient boosting tree"
   ]
  },
  {
   "cell_type": "code",
   "execution_count": null,
   "metadata": {},
   "outputs": [
    {
     "name": "stdout",
     "output_type": "stream",
     "text": [
      "Fitting 5 folds for each of 9 candidates, totalling 45 fits\n",
      "[CV 3/5] END ...learning_rate=0.01, max_depth=3;, score=0.296 total time=   0.1s\n",
      "[CV 1/5] END ..learning_rate=0.01, max_depth=3;, score=-0.475 total time=   0.1s\n",
      "[CV 4/5] END ..learning_rate=0.01, max_depth=3;, score=-0.655 total time=   0.1s\n",
      "[CV 2/5] END ..learning_rate=0.01, max_depth=3;, score=-0.512 total time=   0.1s\n",
      "[CV 5/5] END ...learning_rate=0.01, max_depth=3;, score=0.153 total time=   0.2s\n",
      "[CV 1/5] END ...learning_rate=0.1, max_depth=3;, score=-0.749 total time=   0.2s\n",
      "[CV 1/5] END ..learning_rate=0.01, max_depth=6;, score=-0.859 total time=   0.2s\n",
      "[CV 3/5] END ...learning_rate=0.01, max_depth=6;, score=0.454 total time=   0.2s\n",
      "[CV 2/5] END ..learning_rate=0.01, max_depth=6;, score=-0.632 total time=   0.3s\n",
      "[CV 5/5] END ...learning_rate=0.01, max_depth=6;, score=0.099 total time=   0.3s\n",
      "[CV 4/5] END ..learning_rate=0.01, max_depth=6;, score=-0.718 total time=   0.3s\n",
      "[CV 1/5] END ..learning_rate=0.01, max_depth=9;, score=-0.981 total time=   0.3s\n",
      "[CV 2/5] END ..learning_rate=0.01, max_depth=9;, score=-0.575 total time=   0.3s\n",
      "[CV 3/5] END ...learning_rate=0.01, max_depth=9;, score=0.172 total time=   0.3s\n",
      "[CV 5/5] END ...learning_rate=0.01, max_depth=9;, score=0.111 total time=   0.3s\n",
      "[CV 4/5] END ...learning_rate=0.1, max_depth=3;, score=-0.754 total time=   0.1s\n",
      "[CV 4/5] END ..learning_rate=0.01, max_depth=9;, score=-0.629 total time=   0.3s\n",
      "[CV 5/5] END ....learning_rate=0.1, max_depth=3;, score=0.206 total time=   0.1s\n",
      "[CV 3/5] END ....learning_rate=0.1, max_depth=3;, score=0.236 total time=   0.2s\n",
      "[CV 2/5] END ...learning_rate=0.1, max_depth=3;, score=-0.359 total time=   0.2s\n",
      "[CV 1/5] END ...learning_rate=0.1, max_depth=6;, score=-1.787 total time=   0.2s\n",
      "[CV 2/5] END ..learning_rate=0.25, max_depth=3;, score=-0.641 total time=   0.1s\n",
      "[CV 1/5] END ..learning_rate=0.25, max_depth=3;, score=-0.576 total time=   0.1s\n",
      "[CV 2/5] END ...learning_rate=0.1, max_depth=6;, score=-0.933 total time=   0.2s\n",
      "[CV 3/5] END ...learning_rate=0.25, max_depth=3;, score=0.318 total time=   0.1s\n",
      "[CV 4/5] END ..learning_rate=0.25, max_depth=3;, score=-0.770 total time=   0.1s\n",
      "[CV 3/5] END ....learning_rate=0.1, max_depth=6;, score=0.306 total time=   0.2s\n",
      "[CV 5/5] END ...learning_rate=0.25, max_depth=3;, score=0.240 total time=   0.1s\n",
      "[CV 1/5] END ..learning_rate=0.25, max_depth=6;, score=-1.672 total time=   0.1s\n",
      "[CV 4/5] END ...learning_rate=0.1, max_depth=6;, score=-0.885 total time=   0.2s\n",
      "[CV 5/5] END ...learning_rate=0.1, max_depth=6;, score=-0.088 total time=   0.2s\n",
      "[CV 2/5] END ...learning_rate=0.1, max_depth=9;, score=-0.795 total time=   0.2s\n",
      "[CV 1/5] END ...learning_rate=0.1, max_depth=9;, score=-2.484 total time=   0.2s\n",
      "[CV 2/5] END ..learning_rate=0.25, max_depth=6;, score=-0.964 total time=   0.1s\n",
      "[CV 3/5] END ...learning_rate=0.1, max_depth=9;, score=-0.102 total time=   0.2s\n",
      "[CV 5/5] END ...learning_rate=0.1, max_depth=9;, score=-0.318 total time=   0.2s\n",
      "[CV 4/5] END ...learning_rate=0.1, max_depth=9;, score=-0.844 total time=   0.2s\n",
      "[CV 3/5] END ...learning_rate=0.25, max_depth=6;, score=0.293 total time=   0.1s\n",
      "[CV 2/5] END ..learning_rate=0.25, max_depth=9;, score=-0.872 total time=   0.1s\n",
      "[CV 1/5] END ..learning_rate=0.25, max_depth=9;, score=-2.706 total time=   0.1s\n",
      "[CV 5/5] END ..learning_rate=0.25, max_depth=6;, score=-0.053 total time=   0.1s\n",
      "[CV 4/5] END ..learning_rate=0.25, max_depth=6;, score=-0.876 total time=   0.1s\n",
      "[CV 3/5] END ..learning_rate=0.25, max_depth=9;, score=-0.114 total time=   0.1s\n",
      "[CV 5/5] END ..learning_rate=0.25, max_depth=9;, score=-0.307 total time=   0.1s\n",
      "[CV 4/5] END ..learning_rate=0.25, max_depth=9;, score=-0.754 total time=   0.1s\n"
     ]
    }
   ],
   "source": [
    "#collapse_output\n",
    "import numpy as np\n",
    "from sklearn.model_selection import GridSearchCV\n",
    "from sklearn.ensemble import GradientBoostingRegressor\n",
    "\n",
    "param_grid = {\n",
    "    'learning_rate': [0.01, 0.1, 0.25],\n",
    "    'max_depth': [3, 6, 9]\n",
    "}\n",
    "\n",
    "reg_gradbooster = GradientBoostingRegressor()\n",
    "\n",
    "gradboosterg_grid = GridSearchCV(\n",
    "    reg_gradbooster,\n",
    "    param_grid,\n",
    "    n_jobs=-1,\n",
    "    verbose=3\n",
    ").fit(X, y)"
   ]
  },
  {
   "cell_type": "code",
   "execution_count": null,
   "metadata": {},
   "outputs": [
    {
     "data": {
      "text/plain": [
       "<AxesSubplot:xlabel='y', ylabel='y_pred'>"
      ]
     },
     "execution_count": null,
     "metadata": {},
     "output_type": "execute_result"
    },
    {
     "data": {
      "image/png": "[encoded data removed]",
      "text/plain": [
       "<Figure size 432x288 with 1 Axes>"
      ]
     },
     "metadata": {
      "needs_background": "light"
     },
     "output_type": "display_data"
    }
   ],
   "source": [
    "y_pred = gradboosterg_grid.predict(X)\n",
    "pd.DataFrame({\n",
    "    'y': y,\n",
    "    'y_pred': y_pred\n",
    "    }).plot.scatter(x='y', y='y_pred', grid=True)"
   ]
  },
  {
   "cell_type": "code",
   "execution_count": null,
   "metadata": {},
   "outputs": [
    {
     "data": {
      "text/plain": [
       "<AxesSubplot:ylabel='Frequency'>"
      ]
     },
     "execution_count": null,
     "metadata": {},
     "output_type": "execute_result"
    },
    {
     "data": {
      "image/png": "[encoded data removed]",
      "text/plain": [
       "<Figure size 432x288 with 1 Axes>"
      ]
     },
     "metadata": {
      "needs_background": "light"
     },
     "output_type": "display_data"
    }
   ],
   "source": [
    "pd.DataFrame(y - y_pred).plot.hist(bins=30)"
   ]
  },
  {
   "cell_type": "markdown",
   "metadata": {},
   "source": [
    "### Second candidate: lasso"
   ]
  },
  {
   "cell_type": "code",
   "execution_count": null,
   "metadata": {},
   "outputs": [
    {
     "name": "stdout",
     "output_type": "stream",
     "text": [
      "Fitting 5 folds for each of 3 candidates, totalling 15 fits\n",
      "[CV 4/5] END ........................alpha=0.5;, score=-0.647 total time=   0.0s\n",
      "[CV 5/5] END ........................alpha=0.5;, score=-0.129 total time=   0.0s\n",
      "[CV 1/5] END ........................alpha=0.5;, score=-0.074 total time=   0.0s\n",
      "[CV 2/5] END ..........................alpha=1;, score=-0.659 total time=   0.0s\n",
      "[CV 2/5] END ........................alpha=0.5;, score=-0.552 total time=   0.0s\n",
      "[CV 1/5] END ..........................alpha=1;, score=-0.060 total time=   0.0s\n",
      "[CV 3/5] END ........................alpha=0.5;, score=-0.125 total time=   0.0s\n",
      "[CV 3/5] END ..........................alpha=1;, score=-0.152 total time=   0.0s\n",
      "[CV 4/5] END ..........................alpha=1;, score=-0.676 total time=   0.0s\n",
      "[CV 5/5] END ..........................alpha=1;, score=-0.096 total time=   0.0s\n",
      "[CV 2/5] END .......................alpha=1.25;, score=-0.659 total time=   0.0s\n",
      "[CV 3/5] END .......................alpha=1.25;, score=-0.166 total time=   0.0s\n",
      "[CV 1/5] END .......................alpha=1.25;, score=-0.054 total time=   0.0s\n",
      "[CV 4/5] END .......................alpha=1.25;, score=-0.692 total time=   0.0s\n",
      "[CV 5/5] END .......................alpha=1.25;, score=-0.117 total time=   0.0s\n"
     ]
    }
   ],
   "source": [
    "#collapse_output\n",
    "from sklearn.linear_model import Lasso\n",
    "\n",
    "param_grid = {\n",
    "    'alpha': [0.5, 1, 1.25],\n",
    "}\n",
    "\n",
    "reg_lasso = Lasso(fit_intercept=True)\n",
    "\n",
    "lasso_grid = GridSearchCV(\n",
    "    reg_lasso,\n",
    "    param_grid,\n",
    "    n_jobs=-1,\n",
    "    verbose=3\n",
    ").fit(X, y)"
   ]
  },
  {
   "cell_type": "code",
   "execution_count": null,
   "metadata": {},
   "outputs": [
    {
     "data": {
      "text/plain": [
       "<AxesSubplot:xlabel='y', ylabel='y_pred'>"
      ]
     },
     "execution_count": null,
     "metadata": {},
     "output_type": "execute_result"
    },
    {
     "data": {
      "image/png": "[encoded data removed]",
      "text/plain": [
       "<Figure size 432x288 with 1 Axes>"
      ]
     },
     "metadata": {
      "needs_background": "light"
     },
     "output_type": "display_data"
    }
   ],
   "source": [
    "y_pred = lasso_grid.predict(X)\n",
    "pd.DataFrame({\n",
    "    'y': y,\n",
    "    'y_pred': y_pred\n",
    "    }).plot.scatter(x='y', y='y_pred', grid=True)"
   ]
  },
  {
   "cell_type": "code",
   "execution_count": null,
   "metadata": {},
   "outputs": [
    {
     "data": {
      "text/plain": [
       "<AxesSubplot:ylabel='Frequency'>"
      ]
     },
     "execution_count": null,
     "metadata": {},
     "output_type": "execute_result"
    },
    {
     "data": {
      "image/png": "[encoded data removed]",
      "text/plain": [
       "<Figure size 432x288 with 1 Axes>"
      ]
     },
     "metadata": {
      "needs_background": "light"
     },
     "output_type": "display_data"
    }
   ],
   "source": [
    "pd.DataFrame(y - y_pred).plot.hist(bins=30)"
   ]
  },
  {
   "cell_type": "markdown",
   "metadata": {},
   "source": [
    "## Comparing the models with the benchmark\n",
    "\n",
    "`gingado` allows users to compare different candidate models with the existing benchmark in a very simple way: using the `compare` method."
   ]
  },
  {
   "cell_type": "code",
   "execution_count": null,
   "metadata": {},
   "outputs": [
    {
     "ename": "NameError",
     "evalue": "name 'gradboosterg_grid' is not defined",
     "output_type": "error",
     "traceback": [
      "\u001b[0;31m---------------------------------------------------------------------------\u001b[0m",
      "\u001b[0;31mNameError\u001b[0m                                 Traceback (most recent call last)",
      "\u001b[1;32m/Users/douglasaraujo/Coding/gingado/01_BarroLee1994.ipynb Cell 47'\u001b[0m in \u001b[0;36m<module>\u001b[0;34m\u001b[0m\n\u001b[1;32m      <a href='vscode-notebook-cell:/Users/douglasaraujo/Coding/gingado/01_BarroLee1994.ipynb#ch0000047?line=0'>1</a>\u001b[0m \u001b[39m#collapse_output\u001b[39;00m\n\u001b[0;32m----> <a href='vscode-notebook-cell:/Users/douglasaraujo/Coding/gingado/01_BarroLee1994.ipynb#ch0000047?line=1'>2</a>\u001b[0m candidates \u001b[39m=\u001b[39m [gradboosterg_grid, lasso_grid]\n\u001b[1;32m      <a href='vscode-notebook-cell:/Users/douglasaraujo/Coding/gingado/01_BarroLee1994.ipynb#ch0000047?line=2'>3</a>\u001b[0m benchmark\u001b[39m.\u001b[39mcompare(X, y, candidates)\n",
      "\u001b[0;31mNameError\u001b[0m: name 'gradboosterg_grid' is not defined"
     ]
    }
   ],
   "source": [
    "#collapse_output\n",
    "candidates = [gradboosterg_grid, lasso_grid]\n",
    "benchmark.compare(X, y, candidates)"
   ]
  },
  {
   "cell_type": "markdown",
   "metadata": {},
   "source": [
    "The output above clearly indicates that after evaluating the models - and their ensemble together with the existing benchmark - at least one of them was better than the current benchmark. Therefore, it will now be the new benchmark."
   ]
  },
  {
   "cell_type": "code",
   "execution_count": null,
   "metadata": {},
   "outputs": [
    {
     "data": {
      "text/plain": [
       "<AxesSubplot:xlabel='y', ylabel='y_pred'>"
      ]
     },
     "execution_count": null,
     "metadata": {},
     "output_type": "execute_result"
    },
    {
     "data": {
      "image/png": "[encoded data removed]",
      "text/plain": [
       "<Figure size 432x288 with 1 Axes>"
      ]
     },
     "metadata": {
      "needs_background": "light"
     },
     "output_type": "display_data"
    }
   ],
   "source": [
    "y_pred = benchmark.predict(X)\n",
    "pd.DataFrame({\n",
    "    'y': y,\n",
    "    'y_pred': y_pred\n",
    "    }).plot.scatter(x='y', y='y_pred', grid=True)"
   ]
  },
  {
   "cell_type": "code",
   "execution_count": null,
   "metadata": {},
   "outputs": [
    {
     "data": {
      "text/plain": [
       "<AxesSubplot:ylabel='Frequency'>"
      ]
     },
     "execution_count": null,
     "metadata": {},
     "output_type": "execute_result"
    },
    {
     "data": {
      "image/png": "[encoded data removed]",
      "text/plain": [
       "<Figure size 432x288 with 1 Axes>"
      ]
     },
     "metadata": {
      "needs_background": "light"
     },
     "output_type": "display_data"
    }
   ],
   "source": [
    "pd.DataFrame(y - y_pred).plot.hist(bins=30)"
   ]
  },
  {
   "cell_type": "markdown",
   "metadata": {},
   "source": [
    "## Model documentation\n",
    "\n",
    "After this process, we can now see how the model documentation was updated automatically:"
   ]
  },
  {
   "cell_type": "code",
   "execution_count": null,
   "metadata": {},
   "outputs": [
    {
     "data": {
      "text/plain": [
       "{'model_details': {'developer': 'douglasaraujo',\n",
       "  'datetime': '2022-06-15 01:21:11 ',\n",
       "  'version': 'Model version',\n",
       "  'type': 'Model type',\n",
       "  'info': {'_estimator_type': 'regressor',\n",
       "   'best_estimator_': Pipeline(steps=[('candidate_estimator',\n",
       "                    GridSearchCV(estimator=RandomForestRegressor(),\n",
       "                                 param_grid={'n_estimators': [50, 100, 250]},\n",
       "                                 verbose=3))]),\n",
       "   'best_index_': 0,\n",
       "   'best_params_': {'candidate_estimator': GridSearchCV(estimator=RandomForestRegressor(),\n",
       "                 param_grid={'n_estimators': [50, 100, 250]}, verbose=3),\n",
       "    'candidate_estimator__cv': None,\n",
       "    'candidate_estimator__error_score': nan,\n",
       "    'candidate_estimator__estimator': RandomForestRegressor(),\n",
       "    'candidate_estimator__estimator__bootstrap': True,\n",
       "    'candidate_estimator__estimator__ccp_alpha': 0.0,\n",
       "    'candidate_estimator__estimator__criterion': 'squared_error',\n",
       "    'candidate_estimator__estimator__max_depth': None,\n",
       "    'candidate_estimator__estimator__max_features': 'auto',\n",
       "    'candidate_estimator__estimator__max_leaf_nodes': None,\n",
       "    'candidate_estimator__estimator__max_samples': None,\n",
       "    'candidate_estimator__estimator__min_impurity_decrease': 0.0,\n",
       "    'candidate_estimator__estimator__min_samples_leaf': 1,\n",
       "    'candidate_estimator__estimator__min_samples_split': 2,\n",
       "    'candidate_estimator__estimator__min_weight_fraction_leaf': 0.0,\n",
       "    'candidate_estimator__estimator__n_estimators': 100,\n",
       "    'candidate_estimator__estimator__n_jobs': None,\n",
       "    'candidate_estimator__estimator__oob_score': False,\n",
       "    'candidate_estimator__estimator__random_state': None,\n",
       "    'candidate_estimator__estimator__verbose': 0,\n",
       "    'candidate_estimator__estimator__warm_start': False,\n",
       "    'candidate_estimator__n_jobs': None,\n",
       "    'candidate_estimator__param_grid': {'n_estimators': [50, 100, 250]},\n",
       "    'candidate_estimator__pre_dispatch': '2*n_jobs',\n",
       "    'candidate_estimator__refit': True,\n",
       "    'candidate_estimator__return_train_score': False,\n",
       "    'candidate_estimator__scoring': None,\n",
       "    'candidate_estimator__verbose': 3},\n",
       "   'best_score_': -0.10315724608836183,\n",
       "   'cv_results_': {'mean_fit_time': array([2.85310149, 0.62027512, 0.02366719, 3.35664468]),\n",
       "    'std_fit_time': array([0.17830792, 0.15865339, 0.00209249, 0.14148891]),\n",
       "    'mean_score_time': array([0.0098772 , 0.00153837, 0.00140133, 0.01041098]),\n",
       "    'std_score_time': array([4.29111859e-03, 9.85864255e-05, 3.22102000e-05, 4.92912233e-03]),\n",
       "    'param_candidate_estimator': masked_array(data=[GridSearchCV(estimator=RandomForestRegressor(),\n",
       "                                    param_grid={'n_estimators': [50, 100, 250]}, verbose=3),\n",
       "                       GridSearchCV(estimator=GradientBoostingRegressor(), n_jobs=-1,\n",
       "                                    param_grid={'learning_rate': [0.01, 0.1, 0.25],\n",
       "                                                'max_depth': [3, 6, 9]},\n",
       "                                    verbose=3)                                       ,\n",
       "                       GridSearchCV(estimator=Lasso(), n_jobs=-1, param_grid={'alpha': [0.5, 1, 1.25]},\n",
       "                                    verbose=3)                                                         ,\n",
       "                       VotingRegressor(estimators=[('candidate_1',\n",
       "                                                    GridSearchCV(estimator=RandomForestRegressor(),\n",
       "                                                                 param_grid={'n_estimators': [50, 100,\n",
       "                                                                                              250]},\n",
       "                                                                 verbose=3)),\n",
       "                                                   ('candidate_2',\n",
       "                                                    GridSearchCV(estimator=GradientBoostingRegressor(),\n",
       "                                                                 n_jobs=-1,\n",
       "                                                                 param_grid={'learning_rate': [0.01,\n",
       "                                                                                               0.1,\n",
       "                                                                                               0.25],\n",
       "                                                                             'max_depth': [3, 6, 9]},\n",
       "                                                                 verbose=3)),\n",
       "                                                   ('candidate_3',\n",
       "                                                    GridSearchCV(estimator=Lasso(), n_jobs=-1,\n",
       "                                                                 param_grid={'alpha': [0.5, 1, 1.25]},\n",
       "                                                                 verbose=3))])                         ],\n",
       "                 mask=[False, False, False, False],\n",
       "           fill_value='?',\n",
       "                dtype=object),\n",
       "    'param_candidate_estimator__cv': masked_array(data=[None, None, None, --],\n",
       "                 mask=[False, False, False,  True],\n",
       "           fill_value='?',\n",
       "                dtype=object),\n",
       "    'param_candidate_estimator__error_score': masked_array(data=[nan, nan, nan, --],\n",
       "                 mask=[False, False, False,  True],\n",
       "           fill_value='?',\n",
       "                dtype=object),\n",
       "    'param_candidate_estimator__estimator': masked_array(data=[RandomForestRegressor(), GradientBoostingRegressor(),\n",
       "                       Lasso(), --],\n",
       "                 mask=[False, False, False,  True],\n",
       "           fill_value='?',\n",
       "                dtype=object),\n",
       "    'param_candidate_estimator__estimator__bootstrap': masked_array(data=[True, --, --, --],\n",
       "                 mask=[False,  True,  True,  True],\n",
       "           fill_value='?',\n",
       "                dtype=object),\n",
       "    'param_candidate_estimator__estimator__ccp_alpha': masked_array(data=[0.0, 0.0, --, --],\n",
       "                 mask=[False, False,  True,  True],\n",
       "           fill_value='?',\n",
       "                dtype=object),\n",
       "    'param_candidate_estimator__estimator__criterion': masked_array(data=['squared_error', 'friedman_mse', --, --],\n",
       "                 mask=[False, False,  True,  True],\n",
       "           fill_value='?',\n",
       "                dtype=object),\n",
       "    'param_candidate_estimator__estimator__max_depth': masked_array(data=[None, 3, --, --],\n",
       "                 mask=[False, False,  True,  True],\n",
       "           fill_value='?',\n",
       "                dtype=object),\n",
       "    'param_candidate_estimator__estimator__max_features': masked_array(data=['auto', None, --, --],\n",
       "                 mask=[False, False,  True,  True],\n",
       "           fill_value='?',\n",
       "                dtype=object),\n",
       "    'param_candidate_estimator__estimator__max_leaf_nodes': masked_array(data=[None, None, --, --],\n",
       "                 mask=[False, False,  True,  True],\n",
       "           fill_value='?',\n",
       "                dtype=object),\n",
       "    'param_candidate_estimator__estimator__max_samples': masked_array(data=[None, --, --, --],\n",
       "                 mask=[False,  True,  True,  True],\n",
       "           fill_value='?',\n",
       "                dtype=object),\n",
       "    'param_candidate_estimator__estimator__min_impurity_decrease': masked_array(data=[0.0, 0.0, --, --],\n",
       "                 mask=[False, False,  True,  True],\n",
       "           fill_value='?',\n",
       "                dtype=object),\n",
       "    'param_candidate_estimator__estimator__min_samples_leaf': masked_array(data=[1, 1, --, --],\n",
       "                 mask=[False, False,  True,  True],\n",
       "           fill_value='?',\n",
       "                dtype=object),\n",
       "    'param_candidate_estimator__estimator__min_samples_split': masked_array(data=[2, 2, --, --],\n",
       "                 mask=[False, False,  True,  True],\n",
       "           fill_value='?',\n",
       "                dtype=object),\n",
       "    'param_candidate_estimator__estimator__min_weight_fraction_leaf': masked_array(data=[0.0, 0.0, --, --],\n",
       "                 mask=[False, False,  True,  True],\n",
       "           fill_value='?',\n",
       "                dtype=object),\n",
       "    'param_candidate_estimator__estimator__n_estimators': masked_array(data=[100, 100, --, --],\n",
       "                 mask=[False, False,  True,  True],\n",
       "           fill_value='?',\n",
       "                dtype=object),\n",
       "    'param_candidate_estimator__estimator__n_jobs': masked_array(data=[None, --, --, --],\n",
       "                 mask=[False,  True,  True,  True],\n",
       "           fill_value='?',\n",
       "                dtype=object),\n",
       "    'param_candidate_estimator__estimator__oob_score': masked_array(data=[False, --, --, --],\n",
       "                 mask=[False,  True,  True,  True],\n",
       "           fill_value='?',\n",
       "                dtype=object),\n",
       "    'param_candidate_estimator__estimator__random_state': masked_array(data=[None, None, None, --],\n",
       "                 mask=[False, False, False,  True],\n",
       "           fill_value='?',\n",
       "                dtype=object),\n",
       "    'param_candidate_estimator__estimator__verbose': masked_array(data=[0, 0, --, --],\n",
       "                 mask=[False, False,  True,  True],\n",
       "           fill_value='?',\n",
       "                dtype=object),\n",
       "    'param_candidate_estimator__estimator__warm_start': masked_array(data=[False, False, False, --],\n",
       "                 mask=[False, False, False,  True],\n",
       "           fill_value='?',\n",
       "                dtype=object),\n",
       "    'param_candidate_estimator__n_jobs': masked_array(data=[None, -1, -1, --],\n",
       "                 mask=[False, False, False,  True],\n",
       "           fill_value='?',\n",
       "                dtype=object),\n",
       "    'param_candidate_estimator__param_grid': masked_array(data=[{'n_estimators': [50, 100, 250]},\n",
       "                       {'learning_rate': [0.01, 0.1, 0.25], 'max_depth': [3, 6, 9]},\n",
       "                       {'alpha': [0.5, 1, 1.25]}, --],\n",
       "                 mask=[False, False, False,  True],\n",
       "           fill_value='?',\n",
       "                dtype=object),\n",
       "    'param_candidate_estimator__pre_dispatch': masked_array(data=['2*n_jobs', '2*n_jobs', '2*n_jobs', --],\n",
       "                 mask=[False, False, False,  True],\n",
       "           fill_value='?',\n",
       "                dtype=object),\n",
       "    'param_candidate_estimator__refit': masked_array(data=[True, True, True, --],\n",
       "                 mask=[False, False, False,  True],\n",
       "           fill_value='?',\n",
       "                dtype=object),\n",
       "    'param_candidate_estimator__return_train_score': masked_array(data=[False, False, False, --],\n",
       "                 mask=[False, False, False,  True],\n",
       "           fill_value='?',\n",
       "                dtype=object),\n",
       "    'param_candidate_estimator__scoring': masked_array(data=[None, None, None, --],\n",
       "                 mask=[False, False, False,  True],\n",
       "           fill_value='?',\n",
       "                dtype=object),\n",
       "    'param_candidate_estimator__verbose': masked_array(data=[3, 3, 3, --],\n",
       "                 mask=[False, False, False,  True],\n",
       "           fill_value='?',\n",
       "                dtype=object),\n",
       "    'param_candidate_estimator__estimator__alpha': masked_array(data=[--, 0.9, 1.0, --],\n",
       "                 mask=[ True, False, False,  True],\n",
       "           fill_value='?',\n",
       "                dtype=object),\n",
       "    'param_candidate_estimator__estimator__init': masked_array(data=[--, None, --, --],\n",
       "                 mask=[ True, False,  True,  True],\n",
       "           fill_value='?',\n",
       "                dtype=object),\n",
       "    'param_candidate_estimator__estimator__learning_rate': masked_array(data=[--, 0.1, --, --],\n",
       "                 mask=[ True, False,  True,  True],\n",
       "           fill_value='?',\n",
       "                dtype=object),\n",
       "    'param_candidate_estimator__estimator__loss': masked_array(data=[--, 'squared_error', --, --],\n",
       "                 mask=[ True, False,  True,  True],\n",
       "           fill_value='?',\n",
       "                dtype=object),\n",
       "    'param_candidate_estimator__estimator__n_iter_no_change': masked_array(data=[--, None, --, --],\n",
       "                 mask=[ True, False,  True,  True],\n",
       "           fill_value='?',\n",
       "                dtype=object),\n",
       "    'param_candidate_estimator__estimator__subsample': masked_array(data=[--, 1.0, --, --],\n",
       "                 mask=[ True, False,  True,  True],\n",
       "           fill_value='?',\n",
       "                dtype=object),\n",
       "    'param_candidate_estimator__estimator__tol': masked_array(data=[--, 0.0001, 0.0001, --],\n",
       "                 mask=[ True, False, False,  True],\n",
       "           fill_value='?',\n",
       "                dtype=object),\n",
       "    'param_candidate_estimator__estimator__validation_fraction': masked_array(data=[--, 0.1, --, --],\n",
       "                 mask=[ True, False,  True,  True],\n",
       "           fill_value='?',\n",
       "                dtype=object),\n",
       "    'param_candidate_estimator__estimator__copy_X': masked_array(data=[--, --, True, --],\n",
       "                 mask=[ True,  True, False,  True],\n",
       "           fill_value='?',\n",
       "                dtype=object),\n",
       "    'param_candidate_estimator__estimator__fit_intercept': masked_array(data=[--, --, True, --],\n",
       "                 mask=[ True,  True, False,  True],\n",
       "           fill_value='?',\n",
       "                dtype=object),\n",
       "    'param_candidate_estimator__estimator__max_iter': masked_array(data=[--, --, 1000, --],\n",
       "                 mask=[ True,  True, False,  True],\n",
       "           fill_value='?',\n",
       "                dtype=object),\n",
       "    'param_candidate_estimator__estimator__normalize': masked_array(data=[--, --, 'deprecated', --],\n",
       "                 mask=[ True,  True, False,  True],\n",
       "           fill_value='?',\n",
       "                dtype=object),\n",
       "    'param_candidate_estimator__estimator__positive': masked_array(data=[--, --, False, --],\n",
       "                 mask=[ True,  True, False,  True],\n",
       "           fill_value='?',\n",
       "                dtype=object),\n",
       "    'param_candidate_estimator__estimator__precompute': masked_array(data=[--, --, False, --],\n",
       "                 mask=[ True,  True, False,  True],\n",
       "           fill_value='?',\n",
       "                dtype=object),\n",
       "    'param_candidate_estimator__estimator__selection': masked_array(data=[--, --, 'cyclic', --],\n",
       "                 mask=[ True,  True, False,  True],\n",
       "           fill_value='?',\n",
       "                dtype=object),\n",
       "    'params': [{'candidate_estimator': GridSearchCV(estimator=RandomForestRegressor(),\n",
       "                   param_grid={'n_estimators': [50, 100, 250]}, verbose=3),\n",
       "      'candidate_estimator__cv': None,\n",
       "      'candidate_estimator__error_score': nan,\n",
       "      'candidate_estimator__estimator': RandomForestRegressor(),\n",
       "      'candidate_estimator__estimator__bootstrap': True,\n",
       "      'candidate_estimator__estimator__ccp_alpha': 0.0,\n",
       "      'candidate_estimator__estimator__criterion': 'squared_error',\n",
       "      'candidate_estimator__estimator__max_depth': None,\n",
       "      'candidate_estimator__estimator__max_features': 'auto',\n",
       "      'candidate_estimator__estimator__max_leaf_nodes': None,\n",
       "      'candidate_estimator__estimator__max_samples': None,\n",
       "      'candidate_estimator__estimator__min_impurity_decrease': 0.0,\n",
       "      'candidate_estimator__estimator__min_samples_leaf': 1,\n",
       "      'candidate_estimator__estimator__min_samples_split': 2,\n",
       "      'candidate_estimator__estimator__min_weight_fraction_leaf': 0.0,\n",
       "      'candidate_estimator__estimator__n_estimators': 100,\n",
       "      'candidate_estimator__estimator__n_jobs': None,\n",
       "      'candidate_estimator__estimator__oob_score': False,\n",
       "      'candidate_estimator__estimator__random_state': None,\n",
       "      'candidate_estimator__estimator__verbose': 0,\n",
       "      'candidate_estimator__estimator__warm_start': False,\n",
       "      'candidate_estimator__n_jobs': None,\n",
       "      'candidate_estimator__param_grid': {'n_estimators': [50, 100, 250]},\n",
       "      'candidate_estimator__pre_dispatch': '2*n_jobs',\n",
       "      'candidate_estimator__refit': True,\n",
       "      'candidate_estimator__return_train_score': False,\n",
       "      'candidate_estimator__scoring': None,\n",
       "      'candidate_estimator__verbose': 3},\n",
       "     {'candidate_estimator': GridSearchCV(estimator=GradientBoostingRegressor(), n_jobs=-1,\n",
       "                   param_grid={'learning_rate': [0.01, 0.1, 0.25],\n",
       "                               'max_depth': [3, 6, 9]},\n",
       "                   verbose=3),\n",
       "      'candidate_estimator__cv': None,\n",
       "      'candidate_estimator__error_score': nan,\n",
       "      'candidate_estimator__estimator': GradientBoostingRegressor(),\n",
       "      'candidate_estimator__estimator__alpha': 0.9,\n",
       "      'candidate_estimator__estimator__ccp_alpha': 0.0,\n",
       "      'candidate_estimator__estimator__criterion': 'friedman_mse',\n",
       "      'candidate_estimator__estimator__init': None,\n",
       "      'candidate_estimator__estimator__learning_rate': 0.1,\n",
       "      'candidate_estimator__estimator__loss': 'squared_error',\n",
       "      'candidate_estimator__estimator__max_depth': 3,\n",
       "      'candidate_estimator__estimator__max_features': None,\n",
       "      'candidate_estimator__estimator__max_leaf_nodes': None,\n",
       "      'candidate_estimator__estimator__min_impurity_decrease': 0.0,\n",
       "      'candidate_estimator__estimator__min_samples_leaf': 1,\n",
       "      'candidate_estimator__estimator__min_samples_split': 2,\n",
       "      'candidate_estimator__estimator__min_weight_fraction_leaf': 0.0,\n",
       "      'candidate_estimator__estimator__n_estimators': 100,\n",
       "      'candidate_estimator__estimator__n_iter_no_change': None,\n",
       "      'candidate_estimator__estimator__random_state': None,\n",
       "      'candidate_estimator__estimator__subsample': 1.0,\n",
       "      'candidate_estimator__estimator__tol': 0.0001,\n",
       "      'candidate_estimator__estimator__validation_fraction': 0.1,\n",
       "      'candidate_estimator__estimator__verbose': 0,\n",
       "      'candidate_estimator__estimator__warm_start': False,\n",
       "      'candidate_estimator__n_jobs': -1,\n",
       "      'candidate_estimator__param_grid': {'learning_rate': [0.01, 0.1, 0.25],\n",
       "       'max_depth': [3, 6, 9]},\n",
       "      'candidate_estimator__pre_dispatch': '2*n_jobs',\n",
       "      'candidate_estimator__refit': True,\n",
       "      'candidate_estimator__return_train_score': False,\n",
       "      'candidate_estimator__scoring': None,\n",
       "      'candidate_estimator__verbose': 3},\n",
       "     {'candidate_estimator': GridSearchCV(estimator=Lasso(), n_jobs=-1, param_grid={'alpha': [0.5, 1, 1.25]},\n",
       "                   verbose=3),\n",
       "      'candidate_estimator__cv': None,\n",
       "      'candidate_estimator__error_score': nan,\n",
       "      'candidate_estimator__estimator': Lasso(),\n",
       "      'candidate_estimator__estimator__alpha': 1.0,\n",
       "      'candidate_estimator__estimator__copy_X': True,\n",
       "      'candidate_estimator__estimator__fit_intercept': True,\n",
       "      'candidate_estimator__estimator__max_iter': 1000,\n",
       "      'candidate_estimator__estimator__normalize': 'deprecated',\n",
       "      'candidate_estimator__estimator__positive': False,\n",
       "      'candidate_estimator__estimator__precompute': False,\n",
       "      'candidate_estimator__estimator__random_state': None,\n",
       "      'candidate_estimator__estimator__selection': 'cyclic',\n",
       "      'candidate_estimator__estimator__tol': 0.0001,\n",
       "      'candidate_estimator__estimator__warm_start': False,\n",
       "      'candidate_estimator__n_jobs': -1,\n",
       "      'candidate_estimator__param_grid': {'alpha': [0.5, 1, 1.25]},\n",
       "      'candidate_estimator__pre_dispatch': '2*n_jobs',\n",
       "      'candidate_estimator__refit': True,\n",
       "      'candidate_estimator__return_train_score': False,\n",
       "      'candidate_estimator__scoring': None,\n",
       "      'candidate_estimator__verbose': 3},\n",
       "     {'candidate_estimator': VotingRegressor(estimators=[('candidate_1',\n",
       "                                   GridSearchCV(estimator=RandomForestRegressor(),\n",
       "                                                param_grid={'n_estimators': [50, 100,\n",
       "                                                                             250]},\n",
       "                                                verbose=3)),\n",
       "                                  ('candidate_2',\n",
       "                                   GridSearchCV(estimator=GradientBoostingRegressor(),\n",
       "                                                n_jobs=-1,\n",
       "                                                param_grid={'learning_rate': [0.01,\n",
       "                                                                              0.1,\n",
       "                                                                              0.25],\n",
       "                                                            'max_depth': [3, 6, 9]},\n",
       "                                                verbose=3)),\n",
       "                                  ('candidate_3',\n",
       "                                   GridSearchCV(estimator=Lasso(), n_jobs=-1,\n",
       "                                                param_grid={'alpha': [0.5, 1, 1.25]},\n",
       "                                                verbose=3))])}],\n",
       "    'split0_test_score': array([-0.34472316, -0.44217581, -0.05987803, -0.227937  ]),\n",
       "    'split1_test_score': array([-0.38385165, -0.31066621, -0.6591801 , -0.38038732]),\n",
       "    'split2_test_score': array([ 0.40515869,  0.29420068, -0.1660621 ,  0.2880721 ]),\n",
       "    'split3_test_score': array([-0.45966623, -0.65168386, -0.69195534, -0.6236829 ]),\n",
       "    'split4_test_score': array([ 0.26729612,  0.1823822 , -0.09628362,  0.16864685]),\n",
       "    'mean_test_score': array([-0.10315725, -0.1855886 , -0.33467184, -0.15505766]),\n",
       "    'std_test_score': array([0.3632803 , 0.36450692, 0.28061608, 0.33965956]),\n",
       "    'rank_test_score': array([1, 3, 4, 2], dtype=int32)},\n",
       "   'feature_names_in_': array(['gdpsh465', 'bmp1l', 'freeop', 'freetar', 'h65', 'hm65', 'hf65',\n",
       "          'p65', 'pm65', 'pf65', 's65', 'sm65', 'sf65', 'fert65', 'mort65',\n",
       "          'lifee065', 'gpop1', 'fert1', 'mort1', 'invsh41', 'geetot1',\n",
       "          'geerec1', 'gde1', 'govwb1', 'govsh41', 'gvxdxe41', 'high65',\n",
       "          'highm65', 'highf65', 'highc65', 'highcm65', 'highcf65', 'human65',\n",
       "          'humanm65', 'humanf65', 'hyr65', 'hyrm65', 'hyrf65', 'no65',\n",
       "          'nom65', 'nof65', 'pinstab1', 'pop65', 'worker65', 'pop1565',\n",
       "          'pop6565', 'sec65', 'secm65', 'secf65', 'secc65', 'seccm65',\n",
       "          'seccf65', 'syr65', 'syrm65', 'syrf65', 'teapri65', 'teasec65',\n",
       "          'ex1', 'im1', 'xr65', 'tot1'], dtype=object),\n",
       "   'multimetric_': False,\n",
       "   'n_features_in_': 61,\n",
       "   'n_splits_': 5,\n",
       "   'refit_time_': 3.371522903442383,\n",
       "   'scorer_': <function sklearn.metrics._scorer._passthrough_scorer(estimator, *args, **kwargs)>},\n",
       "  'paper': 'Paper or other resource for more information',\n",
       "  'citation': 'Citation details',\n",
       "  'license': 'License',\n",
       "  'contact': 'Where to send questions or comments about the model'},\n",
       " 'intended_use': {'primary_uses': 'Primary intended uses',\n",
       "  'primary_users': 'Primary intended users',\n",
       "  'out_of_scope': 'Out-of-scope use cases'},\n",
       " 'factors': {'relevant': 'Relevant factors',\n",
       "  'evaluation': 'Evaluation factors'},\n",
       " 'metrics': {'performance_measures': 'Model performance measures',\n",
       "  'thresholds': 'Decision thresholds',\n",
       "  'variation_approaches': 'Variation approaches'},\n",
       " 'evaluation_data': {'datasets': 'Datasets',\n",
       "  'motivation': 'Motivation',\n",
       "  'preprocessing': 'Preprocessing'},\n",
       " 'training_data': {'training_data': 'Information on training data'},\n",
       " 'quant_analyses': {'unitary': 'Unitary results',\n",
       "  'intersectional': 'Intersectional results'},\n",
       " 'ethical_considerations': {'sensitive_data': 'Does the model use any sensitive data (e.g., protected classes)?',\n",
       "  'human_life': 'Is the model intended to inform decisions about mat- ters central to human life or flourishing - e.g., health or safety? Or could it be used in such a way?',\n",
       "  'mitigations': 'What risk mitigation strategies were used during model development?',\n",
       "  'risks_and_harms': '\\n            What risks may be present in model usage? Try to identify the potential recipients, likelihood, and magnitude of harms.\\n            If these cannot be determined, note that they were consid- ered but remain unknown',\n",
       "  'use_cases': 'Are there any known model use cases that are especially fraught?',\n",
       "  'additional_information': '\\n            If possible, this section should also include any additional ethical considerations that went into model development,\\n            for example, review by an external board, or testing with a specific community.'},\n",
       " 'caveats_recommendations': {'caveats': 'For example, did the results suggest any further testing? Were there any relevant groups that were not represented in the evaluation dataset?',\n",
       "  'recommendations': 'Are there additional recommendations for model use? What are the ideal characteristics of an evaluation dataset for this model?'}}"
      ]
     },
     "execution_count": null,
     "metadata": {},
     "output_type": "execute_result"
    }
   ],
   "source": [
    "#collapse_output\n",
    "benchmark.model_documentation.show_json()"
   ]
  }
 ],
 "metadata": {
  "kernelspec": {
   "display_name": "Python 3.9.10 64-bit ('.venv_gingado': venv)",
   "language": "python",
   "name": "python3"
  }
 },
 "nbformat": 4,
 "nbformat_minor": 2
}
