{
 "cells": [
  {
   "cell_type": "raw",
   "metadata": {},
   "source": [
    "---\n",
    "description: A beginning-to-end illustration with foreign exchange rates inspired\n",
    "  by Rossi (2013)\n",
    "output-file: forecast.html\n",
    "title: Using gingado to forecast financial series\n",
    "\n",
    "---\n",
    "\n"
   ]
  },
  {
   "cell_type": "code",
   "execution_count": 2,
   "metadata": {},
   "outputs": [],
   "source": [
    "#| include: false\n",
    "#skip\n",
    "! [ -e /content ] && pip install -Uqq gingado nbdev # install or upgrade gingado on colab"
   ]
  },
  {
   "cell_type": "markdown",
   "metadata": {},
   "source": [
    "This notebook illustrates the use of `gingado` to build models for forecasting, using foreign exchange (FX) rate movements as an example. Please note that the results or the model should not be taken as investment advice.\n",
    "\n",
    "Forecasting exchange rates is notoriously difficult (Rossi, 2013 and references therein).\n",
    "\n",
    "This exercise will illustrate various functionalities provided by `gingado`:\n",
    "* how to use `gingado` utilities, such as an object to compare different lags of the model and a function that downloads specific SDMX data.\n",
    "* how to augment the original dataset of interest\n",
    "* how to quickly create a benchmark model, and use it compare different alternatives\n",
    "* how to document the model\n",
    "\n",
    "Unlike most scripts that concentrate the package imports at the beginning, this walkthrough will import as needed, to better highlight where each contribution of `gingado` is used in the workflow."
   ]
  },
  {
   "cell_type": "markdown",
   "metadata": {},
   "source": [
    "First, we will use `gingado` to run a simple example with the following characteristics:\n",
    "* selected currency pairs will be downloaded from the European Central Bank (ECB) servers using the [SDMX](www.sdmx.org) protocol\n",
    "    * these pairs will form our dependent variables in the models\n",
    "* using `gingado`, this series will be augmented with a time series on central bank policy rates and the interaction of rate changes and FX rate movements\n",
    "* the regressors (including the FX rates themselves) are lagged up to 10 lags using the `gingado` utility `Lag`\n",
    "* a different benchmark model is created for each of the FX rates, using a random forest\n",
    "    * `gingado` will automatically search for the best specification for each currency pair from a default list of hyperparameters\n",
    "* throughout the example, `ModelCard` is used to document the models being trained"
   ]
  },
  {
   "cell_type": "markdown",
   "metadata": {},
   "source": [
    "## Downloading FX rates\n",
    "\n",
    "In this exercise, we will concentrate on the bilateral FX rates between the 🇺🇸 US Dollar (USD) and the 🇧🇷 Brazilian Real (BRL), 🇨🇦 Canadian Dollar (CAD), 🇨🇭 Swiss Franc (CHF), 🇪🇺 Euro (EUR), 🇬🇧 British Pound (GBP), 🇯🇵 Japanese Yen (JPY) and 🇲🇽 Mexican Peso (MXN). \n",
    "\n",
    "The rates are standardised to measure the units in foreign currency bought by one USD. Therefore, positive returns represent USD is more valued compared to the other currency, and vice-versa."
   ]
  },
  {
   "cell_type": "code",
   "execution_count": 4,
   "metadata": {},
   "outputs": [
    {
     "name": "stdout",
     "output_type": "stream",
     "text": [
      "Querying data from BIS's dataflow 'WS_XRU' - US dollar exchange rates, m,q,a...\n",
      "this dataflow does not have data in the desired frequency and time period.\n",
      "Querying data from BIS's dataflow 'WS_XRU_D' - US dollar exchange rates, daily...\n"
     ]
    }
   ],
   "source": [
    "from gingado.utils import load_SDMX_data\n",
    "\n",
    "df = load_SDMX_data(\n",
    "    sources={'BIS': 'WS_XRU_D'},\n",
    "    keys={\n",
    "        'FREQ': 'D', \n",
    "        'CURRENCY': ['BRL', 'CAD', 'CHF', 'EUR', 'GBP', 'JPY', 'MXN'],\n",
    "        'REF_AREA': ['BR', 'CA', 'CH', 'XM', 'GB', 'JP', 'MX']\n",
    "        },\n",
    "    params={'startPeriod': 2003}\n",
    ")"
   ]
  },
  {
   "cell_type": "markdown",
   "metadata": {},
   "source": [
    "The code below simplifies the column names by removing the identification of the SDMX sources, dataflows and keys and replacing it with the usual code for the bilateral exchange rates."
   ]
  },
  {
   "cell_type": "code",
   "execution_count": 5,
   "metadata": {},
   "outputs": [
    {
     "name": "stdout",
     "output_type": "stream",
     "text": [
      "Original column names:\n",
      "Index(['BIS__WS_XRU_D_D__BR__BRL__A', 'BIS__WS_XRU_D_D__CA__CAD__A',\n",
      "       'BIS__WS_XRU_D_D__CH__CHF__A', 'BIS__WS_XRU_D_D__GB__GBP__A',\n",
      "       'BIS__WS_XRU_D_D__JP__JPY__A', 'BIS__WS_XRU_D_D__MX__MXN__A',\n",
      "       'BIS__WS_XRU_D_D__XM__EUR__A'],\n",
      "      dtype='object')\n",
      "New column names:\n",
      "Index(['USDBRL', 'USDCAD', 'USDCHF', 'USDGBP', 'USDJPY', 'USDMXN', 'USDEUR'], dtype='object')\n"
     ]
    }
   ],
   "source": [
    "print(\"Original column names:\")\n",
    "print(df.columns)\n",
    "\n",
    "df.columns = ['USD' + col.split('_')[9] for col in df.columns]\n",
    "\n",
    "print(\"New column names:\")\n",
    "print(df.columns)"
   ]
  },
  {
   "cell_type": "markdown",
   "metadata": {},
   "source": [
    "The dataset looks like this so far (most recent 5 rows displayed only):"
   ]
  },
  {
   "cell_type": "code",
   "execution_count": 6,
   "metadata": {},
   "outputs": [
    {
     "data": {
      "text/html": [
       "<div>\n",
       "<style scoped>\n",
       "    .dataframe tbody tr th:only-of-type {\n",
       "        vertical-align: middle;\n",
       "    }\n",
       "\n",
       "    .dataframe tbody tr th {\n",
       "        vertical-align: top;\n",
       "    }\n",
       "\n",
       "    .dataframe thead th {\n",
       "        text-align: right;\n",
       "    }\n",
       "</style>\n",
       "<table border=\"1\" class=\"dataframe\">\n",
       "  <thead>\n",
       "    <tr style=\"text-align: right;\">\n",
       "      <th></th>\n",
       "      <th>USDBRL</th>\n",
       "      <th>USDCAD</th>\n",
       "      <th>USDCHF</th>\n",
       "      <th>USDGBP</th>\n",
       "      <th>USDJPY</th>\n",
       "      <th>USDMXN</th>\n",
       "      <th>USDEUR</th>\n",
       "    </tr>\n",
       "    <tr>\n",
       "      <th>TIME_PERIOD</th>\n",
       "      <th></th>\n",
       "      <th></th>\n",
       "      <th></th>\n",
       "      <th></th>\n",
       "      <th></th>\n",
       "      <th></th>\n",
       "      <th></th>\n",
       "    </tr>\n",
       "  </thead>\n",
       "  <tbody>\n",
       "    <tr>\n",
       "      <th>2022-06-14</th>\n",
       "      <td>5.102277</td>\n",
       "      <td>1.293724</td>\n",
       "      <td>0.994451</td>\n",
       "      <td>0.828339</td>\n",
       "      <td>134.538844</td>\n",
       "      <td>20.554152</td>\n",
       "      <td>0.956755</td>\n",
       "    </tr>\n",
       "    <tr>\n",
       "      <th>2022-06-15</th>\n",
       "      <td>5.096731</td>\n",
       "      <td>1.294027</td>\n",
       "      <td>1.000383</td>\n",
       "      <td>0.827610</td>\n",
       "      <td>134.685073</td>\n",
       "      <td>20.588918</td>\n",
       "      <td>0.958681</td>\n",
       "    </tr>\n",
       "    <tr>\n",
       "      <th>2022-06-16</th>\n",
       "      <td>5.053750</td>\n",
       "      <td>1.292885</td>\n",
       "      <td>0.975192</td>\n",
       "      <td>0.822596</td>\n",
       "      <td>132.923077</td>\n",
       "      <td>20.587981</td>\n",
       "      <td>0.961538</td>\n",
       "    </tr>\n",
       "    <tr>\n",
       "      <th>2022-06-17</th>\n",
       "      <td>5.132939</td>\n",
       "      <td>1.299924</td>\n",
       "      <td>0.963666</td>\n",
       "      <td>0.815373</td>\n",
       "      <td>134.665268</td>\n",
       "      <td>20.453366</td>\n",
       "      <td>0.953652</td>\n",
       "    </tr>\n",
       "    <tr>\n",
       "      <th>2022-06-20</th>\n",
       "      <td>5.145669</td>\n",
       "      <td>1.299040</td>\n",
       "      <td>0.966245</td>\n",
       "      <td>0.815328</td>\n",
       "      <td>134.962442</td>\n",
       "      <td>20.254445</td>\n",
       "      <td>0.950841</td>\n",
       "    </tr>\n",
       "  </tbody>\n",
       "</table>\n",
       "</div>"
      ],
      "text/plain": [
       "               USDBRL    USDCAD    USDCHF    USDGBP      USDJPY     USDMXN  \\\n",
       "TIME_PERIOD                                                                  \n",
       "2022-06-14   5.102277  1.293724  0.994451  0.828339  134.538844  20.554152   \n",
       "2022-06-15   5.096731  1.294027  1.000383  0.827610  134.685073  20.588918   \n",
       "2022-06-16   5.053750  1.292885  0.975192  0.822596  132.923077  20.587981   \n",
       "2022-06-17   5.132939  1.299924  0.963666  0.815373  134.665268  20.453366   \n",
       "2022-06-20   5.145669  1.299040  0.966245  0.815328  134.962442  20.254445   \n",
       "\n",
       "               USDEUR  \n",
       "TIME_PERIOD            \n",
       "2022-06-14   0.956755  \n",
       "2022-06-15   0.958681  \n",
       "2022-06-16   0.961538  \n",
       "2022-06-17   0.953652  \n",
       "2022-06-20   0.950841  "
      ]
     },
     "execution_count": 6,
     "metadata": {},
     "output_type": "execute_result"
    }
   ],
   "source": [
    "df.tail()"
   ]
  },
  {
   "cell_type": "markdown",
   "metadata": {},
   "source": [
    "We are interested in the percentage change from the previous day."
   ]
  },
  {
   "cell_type": "code",
   "execution_count": 7,
   "metadata": {},
   "outputs": [],
   "source": [
    "FX_rate_changes = df.pct_change()\n",
    "FX_rate_changes.dropna(inplace=True)"
   ]
  },
  {
   "cell_type": "code",
   "execution_count": 8,
   "metadata": {},
   "outputs": [
    {
     "data": {
      "text/plain": [
       "array([[<AxesSubplot:xlabel='TIME_PERIOD'>,\n",
       "        <AxesSubplot:xlabel='TIME_PERIOD'>],\n",
       "       [<AxesSubplot:xlabel='TIME_PERIOD'>,\n",
       "        <AxesSubplot:xlabel='TIME_PERIOD'>],\n",
       "       [<AxesSubplot:xlabel='TIME_PERIOD'>,\n",
       "        <AxesSubplot:xlabel='TIME_PERIOD'>],\n",
       "       [<AxesSubplot:xlabel='TIME_PERIOD'>,\n",
       "        <AxesSubplot:xlabel='TIME_PERIOD'>]], dtype=object)"
      ]
     },
     "execution_count": 8,
     "metadata": {},
     "output_type": "execute_result"
    },
    {
     "data": {
      "image/png": "[encoded data removed]",
      "text/plain": [
       "<Figure size 1080x1080 with 8 Axes>"
      ]
     },
     "metadata": {
      "needs_background": "light"
     },
     "output_type": "display_data"
    }
   ],
   "source": [
    "FX_rate_changes.plot(subplots=True, layout=(4, 2), figsize=(15, 15), sharex=True)"
   ]
  },
  {
   "cell_type": "markdown",
   "metadata": {},
   "source": [
    "## Augmenting the dataset"
   ]
  },
  {
   "cell_type": "markdown",
   "metadata": {},
   "source": [
    "We will complement the FX rates data with two other datasets:\n",
    "* daily central bank policy rates from the Bank for International Settlements (BIS), and\n",
    "* the daily Composite Indicator of Systemic Stress (CISS), created by Holló, Kremer, and Lo Duca (2012) and updated by the European Central Bank (ECB)."
   ]
  },
  {
   "cell_type": "code",
   "execution_count": 9,
   "metadata": {},
   "outputs": [
    {
     "name": "stdout",
     "output_type": "stream",
     "text": [
      "Querying data from BIS's dataflow 'WS_CBPOL_D' - Policy rates daily...\n",
      "Querying data from ECB's dataflow 'CISS' - Composite Indicator of Systemic Stress...\n"
     ]
    },
    {
     "name": "stderr",
     "output_type": "stream",
     "text": [
      "2022-06-28 08:34:46,396 pandasdmx.reader.sdmxml - INFO: Use supplied dsd=… argument for non–structure-specific message\n"
     ]
    }
   ],
   "source": [
    "from gingado.augmentation import AugmentSDMX\n",
    "\n",
    "X = AugmentSDMX(sources={'BIS': 'WS_CBPOL_D', 'ECB': 'CISS'}).fit_transform(FX_rate_changes)"
   ]
  },
  {
   "cell_type": "markdown",
   "metadata": {},
   "source": [
    ":::{.callout-note}\n",
    "\n",
    "it is acceptable in `gingado` to pass the variable of interest (the \"y\", or in this case, `FX_rate_changes`) as the `X` argument in `fit_transform`. This is because this series will also be merged with the additional, augmented data and subsequently lagged along with it.\n",
    "\n",
    ":::"
   ]
  },
  {
   "cell_type": "markdown",
   "metadata": {},
   "source": [
    "You can see below that the column names for the newly added columns reflect the source (BIS or ECB), the dataflow (separated from the source by a double underline), and then the specific keys to the series, which are specific to each dataflow."
   ]
  },
  {
   "cell_type": "code",
   "execution_count": 10,
   "metadata": {},
   "outputs": [
    {
     "data": {
      "text/plain": [
       "Index(['USDBRL', 'USDCAD', 'USDCHF', 'USDGBP', 'USDJPY', 'USDMXN', 'USDEUR',\n",
       "       'BIS__WS_CBPOL_D_D__AR', 'BIS__WS_CBPOL_D_D__AU',\n",
       "       'BIS__WS_CBPOL_D_D__BR', 'BIS__WS_CBPOL_D_D__CA',\n",
       "       'BIS__WS_CBPOL_D_D__CH', 'BIS__WS_CBPOL_D_D__CL',\n",
       "       'BIS__WS_CBPOL_D_D__CN', 'BIS__WS_CBPOL_D_D__CO',\n",
       "       'BIS__WS_CBPOL_D_D__CZ', 'BIS__WS_CBPOL_D_D__DK',\n",
       "       'BIS__WS_CBPOL_D_D__GB', 'BIS__WS_CBPOL_D_D__HK',\n",
       "       'BIS__WS_CBPOL_D_D__HR', 'BIS__WS_CBPOL_D_D__HU',\n",
       "       'BIS__WS_CBPOL_D_D__ID', 'BIS__WS_CBPOL_D_D__IL',\n",
       "       'BIS__WS_CBPOL_D_D__IN', 'BIS__WS_CBPOL_D_D__IS',\n",
       "       'BIS__WS_CBPOL_D_D__JP', 'BIS__WS_CBPOL_D_D__KR',\n",
       "       'BIS__WS_CBPOL_D_D__MK', 'BIS__WS_CBPOL_D_D__MX',\n",
       "       'BIS__WS_CBPOL_D_D__MY', 'BIS__WS_CBPOL_D_D__NO',\n",
       "       'BIS__WS_CBPOL_D_D__NZ', 'BIS__WS_CBPOL_D_D__PE',\n",
       "       'BIS__WS_CBPOL_D_D__PH', 'BIS__WS_CBPOL_D_D__PL',\n",
       "       'BIS__WS_CBPOL_D_D__RO', 'BIS__WS_CBPOL_D_D__RS',\n",
       "       'BIS__WS_CBPOL_D_D__RU', 'BIS__WS_CBPOL_D_D__SA',\n",
       "       'BIS__WS_CBPOL_D_D__SE', 'BIS__WS_CBPOL_D_D__TH',\n",
       "       'BIS__WS_CBPOL_D_D__TR', 'BIS__WS_CBPOL_D_D__US',\n",
       "       'BIS__WS_CBPOL_D_D__XM', 'BIS__WS_CBPOL_D_D__ZA',\n",
       "       'ECB__CISS_D__AT__Z0Z__4F__EC__SS_CIN__IDX',\n",
       "       'ECB__CISS_D__BE__Z0Z__4F__EC__SS_CIN__IDX',\n",
       "       'ECB__CISS_D__CN__Z0Z__4F__EC__SS_CIN__IDX',\n",
       "       'ECB__CISS_D__DE__Z0Z__4F__EC__SS_CIN__IDX',\n",
       "       'ECB__CISS_D__ES__Z0Z__4F__EC__SS_CIN__IDX',\n",
       "       'ECB__CISS_D__FI__Z0Z__4F__EC__SS_CIN__IDX',\n",
       "       'ECB__CISS_D__FR__Z0Z__4F__EC__SS_CIN__IDX',\n",
       "       'ECB__CISS_D__GB__Z0Z__4F__EC__SS_CIN__IDX',\n",
       "       'ECB__CISS_D__IE__Z0Z__4F__EC__SS_CIN__IDX',\n",
       "       'ECB__CISS_D__IT__Z0Z__4F__EC__SS_CIN__IDX',\n",
       "       'ECB__CISS_D__NL__Z0Z__4F__EC__SS_CIN__IDX',\n",
       "       'ECB__CISS_D__PT__Z0Z__4F__EC__SS_CIN__IDX',\n",
       "       'ECB__CISS_D__U2__Z0Z__4F__EC__SS_BM__CON',\n",
       "       'ECB__CISS_D__U2__Z0Z__4F__EC__SS_CI__IDX',\n",
       "       'ECB__CISS_D__U2__Z0Z__4F__EC__SS_CIN__IDX',\n",
       "       'ECB__CISS_D__U2__Z0Z__4F__EC__SS_CO__CON',\n",
       "       'ECB__CISS_D__U2__Z0Z__4F__EC__SS_EM__CON',\n",
       "       'ECB__CISS_D__U2__Z0Z__4F__EC__SS_FI__CON',\n",
       "       'ECB__CISS_D__U2__Z0Z__4F__EC__SS_FX__CON',\n",
       "       'ECB__CISS_D__U2__Z0Z__4F__EC__SS_MM__CON',\n",
       "       'ECB__CISS_D__US__Z0Z__4F__EC__SS_CI__IDX',\n",
       "       'ECB__CISS_D__US__Z0Z__4F__EC__SS_CIN__IDX'],\n",
       "      dtype='object')"
      ]
     },
     "execution_count": 10,
     "metadata": {},
     "output_type": "execute_result"
    }
   ],
   "source": [
    "X.columns"
   ]
  },
  {
   "cell_type": "markdown",
   "metadata": {},
   "source": [
    "Before proceeding, we also include a differentiated version of the central bank policy data. It will be sparse, since these changes occur infrequently for most central banks, but it can help the model uncover how FX rate changes respond to central bank policy changes."
   ]
  },
  {
   "cell_type": "code",
   "execution_count": 11,
   "metadata": {},
   "outputs": [],
   "source": [
    "import pandas as pd\n",
    "\n",
    "X_diff = X.loc[:, X.columns.str.contains(\"BIS__WS_CBPOL_D\", case=False)].diff()\n",
    "X_diff.columns = [col + \"_diff\" for col in X_diff.columns]\n",
    "X = pd.concat([X, X_diff], axis=1)"
   ]
  },
  {
   "cell_type": "markdown",
   "metadata": {},
   "source": [
    "This is how the data looks like now. Note that the names of the added columns reflect the source, dataflow and keys, all separated by underlines (the source is separated from the dataflow by two underlines at all cases). For example, the last key is the jurisdiction of the central bank.\n",
    "\n",
    "We will keep all the newly added variables - even those that are from countries not in the currency list. This is because the model may uncover any relationship of interest between central bank policies from other countries and each particular currency pair."
   ]
  },
  {
   "cell_type": "code",
   "execution_count": 12,
   "metadata": {},
   "outputs": [
    {
     "data": {
      "text/html": [
       "<div>\n",
       "<style scoped>\n",
       "    .dataframe tbody tr th:only-of-type {\n",
       "        vertical-align: middle;\n",
       "    }\n",
       "\n",
       "    .dataframe tbody tr th {\n",
       "        vertical-align: top;\n",
       "    }\n",
       "\n",
       "    .dataframe thead th {\n",
       "        text-align: right;\n",
       "    }\n",
       "</style>\n",
       "<table border=\"1\" class=\"dataframe\">\n",
       "  <thead>\n",
       "    <tr style=\"text-align: right;\">\n",
       "      <th></th>\n",
       "      <th>count</th>\n",
       "      <th>mean</th>\n",
       "      <th>std</th>\n",
       "      <th>min</th>\n",
       "      <th>25%</th>\n",
       "      <th>50%</th>\n",
       "      <th>75%</th>\n",
       "      <th>max</th>\n",
       "    </tr>\n",
       "  </thead>\n",
       "  <tbody>\n",
       "    <tr>\n",
       "      <th>USDBRL</th>\n",
       "      <td>5033.0</td>\n",
       "      <td>0.000132</td>\n",
       "      <td>0.010611</td>\n",
       "      <td>-0.080226</td>\n",
       "      <td>-0.005765</td>\n",
       "      <td>-0.000017</td>\n",
       "      <td>0.005375</td>\n",
       "      <td>0.120503</td>\n",
       "    </tr>\n",
       "    <tr>\n",
       "      <th>USDCAD</th>\n",
       "      <td>5033.0</td>\n",
       "      <td>-0.000021</td>\n",
       "      <td>0.005852</td>\n",
       "      <td>-0.043367</td>\n",
       "      <td>-0.003223</td>\n",
       "      <td>-0.000133</td>\n",
       "      <td>0.003036</td>\n",
       "      <td>0.036864</td>\n",
       "    </tr>\n",
       "    <tr>\n",
       "      <th>USDCHF</th>\n",
       "      <td>5033.0</td>\n",
       "      <td>-0.000051</td>\n",
       "      <td>0.006444</td>\n",
       "      <td>-0.139149</td>\n",
       "      <td>-0.003229</td>\n",
       "      <td>0.000000</td>\n",
       "      <td>0.003257</td>\n",
       "      <td>0.085326</td>\n",
       "    </tr>\n",
       "    <tr>\n",
       "      <th>USDGBP</th>\n",
       "      <td>5033.0</td>\n",
       "      <td>0.000071</td>\n",
       "      <td>0.005986</td>\n",
       "      <td>-0.038140</td>\n",
       "      <td>-0.003299</td>\n",
       "      <td>-0.000016</td>\n",
       "      <td>0.003211</td>\n",
       "      <td>0.085019</td>\n",
       "    </tr>\n",
       "    <tr>\n",
       "      <th>USDJPY</th>\n",
       "      <td>5033.0</td>\n",
       "      <td>0.000043</td>\n",
       "      <td>0.005943</td>\n",
       "      <td>-0.041963</td>\n",
       "      <td>-0.003008</td>\n",
       "      <td>0.000115</td>\n",
       "      <td>0.003163</td>\n",
       "      <td>0.032901</td>\n",
       "    </tr>\n",
       "    <tr>\n",
       "      <th>...</th>\n",
       "      <td>...</td>\n",
       "      <td>...</td>\n",
       "      <td>...</td>\n",
       "      <td>...</td>\n",
       "      <td>...</td>\n",
       "      <td>...</td>\n",
       "      <td>...</td>\n",
       "      <td>...</td>\n",
       "    </tr>\n",
       "    <tr>\n",
       "      <th>BIS__WS_CBPOL_D_D__TH_diff</th>\n",
       "      <td>5032.0</td>\n",
       "      <td>-0.000248</td>\n",
       "      <td>0.033622</td>\n",
       "      <td>-1.000000</td>\n",
       "      <td>0.000000</td>\n",
       "      <td>0.000000</td>\n",
       "      <td>0.000000</td>\n",
       "      <td>0.500000</td>\n",
       "    </tr>\n",
       "    <tr>\n",
       "      <th>BIS__WS_CBPOL_D_D__TR_diff</th>\n",
       "      <td>5032.0</td>\n",
       "      <td>-0.005962</td>\n",
       "      <td>0.253605</td>\n",
       "      <td>-4.250000</td>\n",
       "      <td>0.000000</td>\n",
       "      <td>0.000000</td>\n",
       "      <td>0.000000</td>\n",
       "      <td>8.500000</td>\n",
       "    </tr>\n",
       "    <tr>\n",
       "      <th>BIS__WS_CBPOL_D_D__US_diff</th>\n",
       "      <td>5032.0</td>\n",
       "      <td>0.000075</td>\n",
       "      <td>0.037509</td>\n",
       "      <td>-1.000000</td>\n",
       "      <td>0.000000</td>\n",
       "      <td>0.000000</td>\n",
       "      <td>0.000000</td>\n",
       "      <td>0.750000</td>\n",
       "    </tr>\n",
       "    <tr>\n",
       "      <th>BIS__WS_CBPOL_D_D__XM_diff</th>\n",
       "      <td>5032.0</td>\n",
       "      <td>-0.000547</td>\n",
       "      <td>0.024505</td>\n",
       "      <td>-0.750000</td>\n",
       "      <td>0.000000</td>\n",
       "      <td>0.000000</td>\n",
       "      <td>0.000000</td>\n",
       "      <td>0.250000</td>\n",
       "    </tr>\n",
       "    <tr>\n",
       "      <th>BIS__WS_CBPOL_D_D__ZA_diff</th>\n",
       "      <td>5032.0</td>\n",
       "      <td>-0.001739</td>\n",
       "      <td>0.061530</td>\n",
       "      <td>-1.500000</td>\n",
       "      <td>0.000000</td>\n",
       "      <td>0.000000</td>\n",
       "      <td>0.000000</td>\n",
       "      <td>0.500000</td>\n",
       "    </tr>\n",
       "  </tbody>\n",
       "</table>\n",
       "<p>105 rows × 8 columns</p>\n",
       "</div>"
      ],
      "text/plain": [
       "                             count      mean       std       min       25%  \\\n",
       "USDBRL                      5033.0  0.000132  0.010611 -0.080226 -0.005765   \n",
       "USDCAD                      5033.0 -0.000021  0.005852 -0.043367 -0.003223   \n",
       "USDCHF                      5033.0 -0.000051  0.006444 -0.139149 -0.003229   \n",
       "USDGBP                      5033.0  0.000071  0.005986 -0.038140 -0.003299   \n",
       "USDJPY                      5033.0  0.000043  0.005943 -0.041963 -0.003008   \n",
       "...                            ...       ...       ...       ...       ...   \n",
       "BIS__WS_CBPOL_D_D__TH_diff  5032.0 -0.000248  0.033622 -1.000000  0.000000   \n",
       "BIS__WS_CBPOL_D_D__TR_diff  5032.0 -0.005962  0.253605 -4.250000  0.000000   \n",
       "BIS__WS_CBPOL_D_D__US_diff  5032.0  0.000075  0.037509 -1.000000  0.000000   \n",
       "BIS__WS_CBPOL_D_D__XM_diff  5032.0 -0.000547  0.024505 -0.750000  0.000000   \n",
       "BIS__WS_CBPOL_D_D__ZA_diff  5032.0 -0.001739  0.061530 -1.500000  0.000000   \n",
       "\n",
       "                                 50%       75%       max  \n",
       "USDBRL                     -0.000017  0.005375  0.120503  \n",
       "USDCAD                     -0.000133  0.003036  0.036864  \n",
       "USDCHF                      0.000000  0.003257  0.085326  \n",
       "USDGBP                     -0.000016  0.003211  0.085019  \n",
       "USDJPY                      0.000115  0.003163  0.032901  \n",
       "...                              ...       ...       ...  \n",
       "BIS__WS_CBPOL_D_D__TH_diff  0.000000  0.000000  0.500000  \n",
       "BIS__WS_CBPOL_D_D__TR_diff  0.000000  0.000000  8.500000  \n",
       "BIS__WS_CBPOL_D_D__US_diff  0.000000  0.000000  0.750000  \n",
       "BIS__WS_CBPOL_D_D__XM_diff  0.000000  0.000000  0.250000  \n",
       "BIS__WS_CBPOL_D_D__ZA_diff  0.000000  0.000000  0.500000  \n",
       "\n",
       "[105 rows x 8 columns]"
      ]
     },
     "execution_count": 12,
     "metadata": {},
     "output_type": "execute_result"
    }
   ],
   "source": [
    "#collapse_output\n",
    "X.describe().transpose()"
   ]
  },
  {
   "cell_type": "markdown",
   "metadata": {},
   "source": [
    "The policy rates for some central banks have less observations than the others, as seen above.\n",
    "\n",
    "Because some data are missing, we will impute data for the missing dates, by simply propagating the last valid observation, and when that is not possible, replacing the missing information with a \"0\"."
   ]
  },
  {
   "cell_type": "code",
   "execution_count": 13,
   "metadata": {},
   "outputs": [],
   "source": [
    "X.fillna(method='pad', inplace=True)\n",
    "X.fillna(value=0, inplace=True)"
   ]
  },
  {
   "cell_type": "markdown",
   "metadata": {},
   "source": [
    "Now is a good time to start the model documentation. For this, we can use the standard model card that already comes with `gingado`.\n",
    "\n",
    "The goal is to facilitate economists who want to make model documentation a part of their normal workflow."
   ]
  },
  {
   "cell_type": "code",
   "execution_count": 14,
   "metadata": {},
   "outputs": [
    {
     "data": {
      "text/plain": [
       "['model_details__developer',\n",
       " 'model_details__version',\n",
       " 'model_details__type',\n",
       " 'model_details__info',\n",
       " 'model_details__paper',\n",
       " 'model_details__citation',\n",
       " 'model_details__license',\n",
       " 'model_details__contact',\n",
       " 'intended_use__primary_uses',\n",
       " 'intended_use__primary_users',\n",
       " 'intended_use__out_of_scope',\n",
       " 'factors__relevant',\n",
       " 'factors__evaluation',\n",
       " 'metrics__performance_measures',\n",
       " 'metrics__thresholds',\n",
       " 'metrics__variation_approaches',\n",
       " 'evaluation_data__datasets',\n",
       " 'evaluation_data__motivation',\n",
       " 'evaluation_data__preprocessing',\n",
       " 'training_data__training_data',\n",
       " 'quant_analyses__unitary',\n",
       " 'quant_analyses__intersectional',\n",
       " 'ethical_considerations__sensitive_data',\n",
       " 'ethical_considerations__human_life',\n",
       " 'ethical_considerations__mitigations',\n",
       " 'ethical_considerations__risks_and_harms',\n",
       " 'ethical_considerations__use_cases',\n",
       " 'ethical_considerations__additional_information',\n",
       " 'caveats_recommendations__caveats',\n",
       " 'caveats_recommendations__recommendations']"
      ]
     },
     "execution_count": 14,
     "metadata": {},
     "output_type": "execute_result"
    }
   ],
   "source": [
    "#collapse_output\n",
    "from gingado.model_documentation import ModelCard\n",
    "\n",
    "model_doc = ModelCard()\n",
    "model_doc.open_questions()"
   ]
  },
  {
   "cell_type": "markdown",
   "metadata": {},
   "source": [
    "As an example, we can add the following information to the model:"
   ]
  },
  {
   "cell_type": "code",
   "execution_count": 15,
   "metadata": {},
   "outputs": [],
   "source": [
    "model_doc.fill_info({\n",
    "    'intended_use': {\n",
    "        'primary_uses': 'These models are simplified toy models made to illustrate the use of gingado',\n",
    "        'out_of_scope': 'These models were not constructed for decision-making and as such their use as predictors in real life decisions is strongly discouraged and out of scope.'\n",
    "    },\n",
    "    'metrics': {\n",
    "        'performance_measures': 'Consistent with most papers reviewed by Rossi (2013), these models were evaluated by their root mean squared error.'\n",
    "    },\n",
    "    'ethical_considerations': {\n",
    "        'sensitive_data': 'These models were not trained with sensitive data.',\n",
    "        'human_life': 'The models do not involve the collection or use of individual-level data, and have no foreseen impact on human life.'\n",
    "    },\n",
    "    \n",
    "})"
   ]
  },
  {
   "cell_type": "markdown",
   "metadata": {},
   "source": [
    "## Lagging the regressors\n",
    "\n",
    "This model will not include any contemporaneous variable. Therefore, all regresors must be lagged.\n",
    "\n",
    "For illustration purposes, we use 5 lags in this exercise."
   ]
  },
  {
   "cell_type": "code",
   "execution_count": 16,
   "metadata": {},
   "outputs": [],
   "source": [
    "from gingado.utils import Lag\n",
    "\n",
    "n_lags = 5\n",
    "\n",
    "X_lagged = Lag(lags=n_lags).fit_transform(X)\n",
    "X_lagged\n",
    "\n",
    "y = FX_rate_changes[n_lags:]"
   ]
  },
  {
   "cell_type": "markdown",
   "metadata": {},
   "source": [
    "Now is a good opportunity to check by how much we have increased our regressor space:"
   ]
  },
  {
   "cell_type": "code",
   "execution_count": 17,
   "metadata": {},
   "outputs": [
    {
     "data": {
      "text/plain": [
       "FX rates only               7\n",
       "... with augmentation_    105\n",
       "... lagged                525\n",
       "dtype: int64"
      ]
     },
     "execution_count": 17,
     "metadata": {},
     "output_type": "execute_result"
    }
   ],
   "source": [
    "pd.Series({\n",
    "    \"FX rates only\": y.shape[1],\n",
    "    \"... with augmentation_\": X.shape[1],\n",
    "    \"... lagged\": X_lagged.shape[1]\n",
    "})"
   ]
  },
  {
   "cell_type": "markdown",
   "metadata": {},
   "source": [
    "## Training the models\n",
    "\n",
    "Our dataset is now complete. Before using it to train the models, we hold out the most recent data to serve as our testing dataset, so we can compare our models with real out-of-sample information.\n",
    "\n",
    "We can choose, say, 1st January 2022."
   ]
  },
  {
   "cell_type": "code",
   "execution_count": 24,
   "metadata": {},
   "outputs": [],
   "source": [
    "cutoff = '2020-01-01'\n",
    "\n",
    "X_train, X_test = X_lagged[:cutoff], X_lagged[cutoff:]\n",
    "y_train, y_test = y[:cutoff], y[cutoff:]"
   ]
  },
  {
   "cell_type": "code",
   "execution_count": 25,
   "metadata": {},
   "outputs": [],
   "source": [
    "model_doc.fill_info({\n",
    "    'training_data': \n",
    "    {'training_data': \n",
    "        \"\"\"\n",
    "        The training data comprise time series obtained from official sources (BIS and ECB) on:\n",
    "        * foreign exchange rates\n",
    "        * central bank policy rates\n",
    "        * an estimated indicator for systemic stress\n",
    "        The training and evaluation datasets are the same time series, only different windows in time.\"\"\"\n",
    "    }\n",
    "})"
   ]
  },
  {
   "cell_type": "markdown",
   "metadata": {},
   "source": [
    "The current status of the documentation is:"
   ]
  },
  {
   "cell_type": "code",
   "execution_count": 26,
   "metadata": {},
   "outputs": [
    {
     "data": {
      "text/plain": [
       "model_details              {'developer': 'Person or organisation developi...\n",
       "intended_use               {'primary_uses': 'These models are simplified ...\n",
       "factors                    {'relevant': 'Relevant factors', 'evaluation':...\n",
       "metrics                    {'performance_measures': 'Consistent with most...\n",
       "evaluation_data            {'datasets': 'Datasets', 'motivation': 'Motiva...\n",
       "training_data              {'training_data': '\n",
       "        The training data ...\n",
       "quant_analyses             {'unitary': 'Unitary results', 'intersectional...\n",
       "ethical_considerations     {'sensitive_data': 'These models were not trai...\n",
       "caveats_recommendations    {'caveats': 'For example, did the results sugg...\n",
       "dtype: object"
      ]
     },
     "execution_count": 26,
     "metadata": {},
     "output_type": "execute_result"
    }
   ],
   "source": [
    "pd.Series(model_doc.show_json())"
   ]
  },
  {
   "cell_type": "markdown",
   "metadata": {},
   "source": [
    "### Creating a random walk benchmark\n",
    "\n",
    "Rossi (2013) highlights that few predictors beat the random walk without drift model. This is a good opportunity to showcase how we can use `gingado`'s in-built base class `ggdBenchmark` to build our customised benchmark model, in this case a random walk.\n",
    "\n",
    "The calculation of the random walk benchmark is very simple. Still, creating a `gingado` benchmark offers some advantages: it is easier to compare alternative models, and the model documentation is done more seamlessly.\n",
    "\n",
    "A custom benchmark model must implement the following steps:\n",
    "* sub-class `ggdBenchmark` (or alternatively implement its methods)\n",
    "* define an `estimator` that is compatible with `scikit-learn`'s API:\n",
    "    * at the very least, it has a `fit` method that returns `self`\n",
    "\n",
    "If the user is relying on a custom estimator - like in this case, a random walk estimator to align with the literature - then this custom estimator also has some requirements:\n",
    "* it should ideally subclass `scikit-learn`'s `BaseEstimator` (mostly for the `get_params` / `set_params` methods)\n",
    "* three methods are necessary:\n",
    "    * `fit`, which should at least create an attribute ending in an underline (\"_\"), so that `gingado` knows it is fitted\n",
    "    * `predict`\n",
    "    * `score`"
   ]
  },
  {
   "cell_type": "code",
   "execution_count": 38,
   "metadata": {},
   "outputs": [],
   "source": [
    "import numpy as np\n",
    "from gingado.benchmark import ggdBenchmark\n",
    "from sklearn.base import BaseEstimator\n",
    "from sklearn.ensemble import VotingRegressor\n",
    "from sklearn.model_selection import TimeSeriesSplit\n",
    "\n",
    "class RandomWalkEstimator(BaseEstimator):\n",
    "    def __init__(self, scoring='neg_root_mean_squared_error'):\n",
    "        self.scoring = scoring\n",
    "    \n",
    "    def fit(self, X, y=None):\n",
    "        self.n_samples_ = X.shape[0]\n",
    "        return self\n",
    "\n",
    "    def predict(self, X):\n",
    "        return np.zeros(X.shape[0])\n",
    "\n",
    "    def score(self, X, y, sample_weight=None):\n",
    "        from sklearn.metrics import mean_squared_error\n",
    "        y_pred = self.predict(X)\n",
    "        return mean_squared_error(y, y_pred, sample_weight=sample_weight, squared=False)\n",
    "\n",
    "    def forecast(self, forecast_horizon=1):\n",
    "        self.forecast_horizon = forecast_horizon\n",
    "        return np.zeros(self.forecast_horizon)\n",
    "\n",
    "class RandomWalkBenchmark(ggdBenchmark):\n",
    "    def __init__(\n",
    "        self, \n",
    "        estimator=RandomWalkEstimator(), \n",
    "        auto_document=ModelCard,\n",
    "        cv=TimeSeriesSplit(n_splits=10, test_size=60), \n",
    "        ensemble_method=VotingRegressor, \n",
    "        verbose_grid=None):\n",
    "        self.estimator = estimator\n",
    "        self.auto_document = auto_document\n",
    "        self.cv = cv\n",
    "        self.ensemble_method = ensemble_method\n",
    "        self.verbose_grid = verbose_grid\n",
    "\n",
    "    def fit(self, X, y=None):\n",
    "        self.benchmark = self.estimator\n",
    "        self.benchmark.fit(X, y)\n",
    "        return self"
   ]
  },
  {
   "cell_type": "markdown",
   "metadata": {},
   "source": [
    "### Training the candidate models\n",
    "\n",
    "Now that we have a benchmark, we can create candidate models that will try to beat it.\n",
    "\n",
    "In this simplified example, we will choose only two: a random forest, an AdaBoost regressor and a Lasso model. Their hyperparameters are not particularly important for the example, but of course they could be fine-tuned as well.\n",
    "\n",
    "In the language of Rossi (2013), the models below are one *\"single-equation, lagged fundamental model\"* for each currency."
   ]
  },
  {
   "cell_type": "code",
   "execution_count": 30,
   "metadata": {},
   "outputs": [],
   "source": [
    "from sklearn.ensemble import RandomForestRegressor\n",
    "from sklearn.ensemble import AdaBoostRegressor\n",
    "from sklearn.linear_model import Lasso\n",
    "\n",
    "forest = RandomForestRegressor(n_estimators=250, max_features='log2').fit(X_train, y_train['USDBRL'])\n",
    "adaboost = AdaBoostRegressor(n_estimators=150).fit(X_train, y_train['USDBRL'])\n",
    "lasso = Lasso(alpha=0.1).fit(X_train, y_train['USDBRL'])\n",
    "\n",
    "rw = RandomWalkBenchmark().fit(X_train, y_train['USDBRL'])"
   ]
  },
  {
   "cell_type": "markdown",
   "metadata": {},
   "source": [
    "We can now compare the model results, using the test dataset we held out previously.\n",
    "\n",
    "Note that we must pass the criterion against which we are comparing the forecasts."
   ]
  },
  {
   "cell_type": "code",
   "execution_count": 31,
   "metadata": {},
   "outputs": [
    {
     "data": {
      "text/plain": [
       "RandomWalkEstimator()                                           0.000130\n",
       "RandomForestRegressor(max_features='log2', n_estimators=250)    0.000131\n",
       "AdaBoostRegressor(n_estimators=150)                             0.000138\n",
       "Lasso(alpha=0.1)                                                0.000130\n",
       "dtype: float64"
      ]
     },
     "execution_count": 31,
     "metadata": {},
     "output_type": "execute_result"
    }
   ],
   "source": [
    "from sklearn.metrics import mean_squared_error\n",
    "\n",
    "results = rw.compare_fitted_candidates(\n",
    "    X_test, y_test['USDBRL'],\n",
    "    candidates=[forest, adaboost, lasso],\n",
    "    scoring_func=mean_squared_error)\n",
    "\n",
    "pd.Series(results)"
   ]
  },
  {
   "cell_type": "markdown",
   "metadata": {},
   "source": [
    "As mentioned above, benchmarks can facilitate the model documentation. In addition to the broader documentation that is already ongoing, each benchmark object create their own where they store model information. We can use that for the broader documentation.\n",
    "\n",
    "In our case, the only parameter we created above during fit is the number of samples: not a particularly informative variable but it was included just for illustration purposes. In any case, the parameter appears in the \"model_details\" section, item \"info\", of the benchmark's `rw` documentation. Similarly, the parameters of more fully-fledged estimators also appear in that section."
   ]
  },
  {
   "cell_type": "code",
   "execution_count": 41,
   "metadata": {},
   "outputs": [
    {
     "data": {
      "text/plain": [
       "{'n_samples_': 4394}"
      ]
     },
     "execution_count": 41,
     "metadata": {},
     "output_type": "execute_result"
    }
   ],
   "source": [
    "rw.document()\n",
    "\n",
    "rw.model_documentation.show_json()['model_details']['info']"
   ]
  },
  {
   "cell_type": "code",
   "execution_count": 42,
   "metadata": {},
   "outputs": [],
   "source": [
    "model_doc.fill_info({\n",
    "    'model_details': {'info': rw.model_documentation.show_json()['model_details']['info']}\n",
    "})"
   ]
  },
  {
   "cell_type": "code",
   "execution_count": 43,
   "metadata": {},
   "outputs": [
    {
     "data": {
      "text/plain": [
       "{'model_details': {'developer': 'Person or organisation developing the model',\n",
       "  'datetime': '2022-06-28 08:35:12 ',\n",
       "  'version': 'Model version',\n",
       "  'type': 'Model type',\n",
       "  'info': {'n_samples_': 4394},\n",
       "  'paper': 'Paper or other resource for more information',\n",
       "  'citation': 'Citation details',\n",
       "  'license': 'License',\n",
       "  'contact': 'Where to send questions or comments about the model'},\n",
       " 'intended_use': {'primary_uses': 'These models are simplified toy models made to illustrate the use of gingado',\n",
       "  'primary_users': 'Primary intended users',\n",
       "  'out_of_scope': 'These models were not constructed for decision-making and as such their use as predictors in real life decisions is strongly discouraged and out of scope.'},\n",
       " 'factors': {'relevant': 'Relevant factors',\n",
       "  'evaluation': 'Evaluation factors'},\n",
       " 'metrics': {'performance_measures': 'Consistent with most papers reviewed by Rossi (2013), these models were evaluated by their root mean squared error.',\n",
       "  'thresholds': 'Decision thresholds',\n",
       "  'variation_approaches': 'Variation approaches'},\n",
       " 'evaluation_data': {'datasets': 'Datasets',\n",
       "  'motivation': 'Motivation',\n",
       "  'preprocessing': 'Preprocessing'},\n",
       " 'training_data': {'training_data': '\\n        The training data comprise time series obtained from official sources (BIS and ECB) on:\\n        * foreign exchange rates\\n        * central bank policy rates\\n        * an estimated indicator for systemic stress\\n        The training and evaluation datasets are the same time series, only different windows in time.'},\n",
       " 'quant_analyses': {'unitary': 'Unitary results',\n",
       "  'intersectional': 'Intersectional results'},\n",
       " 'ethical_considerations': {'sensitive_data': 'These models were not trained with sensitive data.',\n",
       "  'human_life': 'The models do not involve the collection or use of individual-level data, and have no foreseen impact on human life.',\n",
       "  'mitigations': 'What risk mitigation strategies were used during model development?',\n",
       "  'risks_and_harms': '\\n            What risks may be present in model usage? Try to identify the potential recipients, likelihood, and magnitude of harms.\\n            If these cannot be determined, note that they were consid- ered but remain unknown',\n",
       "  'use_cases': 'Are there any known model use cases that are especially fraught?',\n",
       "  'additional_information': '\\n            If possible, this section should also include any additional ethical considerations that went into model development,\\n            for example, review by an external board, or testing with a specific community.'},\n",
       " 'caveats_recommendations': {'caveats': 'For example, did the results suggest any further testing? Were there any relevant groups that were not represented in the evaluation dataset?',\n",
       "  'recommendations': 'Are there additional recommendations for model use? What are the ideal characteristics of an evaluation dataset for this model?'}}"
      ]
     },
     "execution_count": 43,
     "metadata": {},
     "output_type": "execute_result"
    }
   ],
   "source": [
    "model_doc.show_json()"
   ]
  },
  {
   "cell_type": "markdown",
   "metadata": {},
   "source": [
    "We can save the documentation to disk in JSON format with `model_doc.save_json()`, or parse it to create other documents (eg, a PDF file) using third-party libraries."
   ]
  },
  {
   "cell_type": "markdown",
   "metadata": {},
   "source": [
    "## References\n",
    "\n",
    "Bank for International Settlements (2017): \"Recent enhancements to the BIS statistics\", Quarterly Review, September. Available at: https://www.bis.org/publ/qtrpdf/r_qt1709c.htm\n",
    "\n",
    "Holló, D, M Kremer, M Lo Duca (2012): \"CISS - A composite indicator of systemic stress in the financial system\", ECB Working Paper. Available at: https://www.ecb.europa.eu/pub/pdf/scpwps/ecbwp1426.pdf\n",
    "\n",
    "Rossi, B (2013): \"Exchange rate predictability\", Journal of Economic Literature, 51, 4, p.1063-1119."
   ]
  }
 ],
 "metadata": {
  "kernelspec": {
   "display_name": "Python 3.9.10 64-bit ('.venv_gingado': venv)",
   "language": "python",
   "name": "python3"
  },
  "language_info": {
   "codemirror_mode": {
    "name": "ipython",
    "version": 3
   },
   "file_extension": ".py",
   "mimetype": "text/x-python",
   "name": "python",
   "nbconvert_exporter": "python",
   "pygments_lexer": "ipython3",
   "version": "3.10.2"
  },
  "orig_nbformat": 4,
  "vscode": {
   "interpreter": {
    "hash": "977c2d9435ad3a481cf1bbece8d5ecb19e078de55648a0a0bad32b79c2e18340"
   }
  }
 },
 "nbformat": 4,
 "nbformat_minor": 2
}
