{
 "cells": [
  {
   "cell_type": "code",
   "execution_count": null,
   "metadata": {},
   "outputs": [],
   "source": [
    "#default_exp utils\n",
    "#hide\n",
    "%load_ext autoreload\n",
    "%autoreload 2"
   ]
  },
  {
   "cell_type": "code",
   "execution_count": null,
   "metadata": {},
   "outputs": [],
   "source": [
    "#hide\n",
    "#export\n",
    "from nbdev.showdoc import *"
   ]
  },
  {
   "cell_type": "markdown",
   "metadata": {},
   "source": [
    "# Utils\n",
    "> Functions to support the use of `gingado`"
   ]
  },
  {
   "cell_type": "code",
   "execution_count": null,
   "metadata": {},
   "outputs": [],
   "source": [
    "#hide\n",
    "#export\n",
    "import datetime\n",
    "import os\n",
    "import pwd"
   ]
  },
  {
   "cell_type": "code",
   "execution_count": null,
   "metadata": {},
   "outputs": [],
   "source": [
    "#hide\n",
    "#export\n",
    "def get_username():\n",
    "    \"Returns the active username in the computer\"\n",
    "    return pwd.getpwuid(os.getuid()).pw_name"
   ]
  },
  {
   "cell_type": "code",
   "execution_count": null,
   "metadata": {},
   "outputs": [
    {
     "data": {
      "text/markdown": [
       "<h4 id=\"get_username\" class=\"doc_header\"><code>get_username</code><a href=\"__main__.py#L3\" class=\"source_link\" style=\"float:right\">[source]</a></h4>\n",
       "\n",
       "> <code>get_username</code>()\n",
       "\n",
       "Returns the active username in the computer"
      ],
      "text/plain": [
       "<IPython.core.display.Markdown object>"
      ]
     },
     "metadata": {},
     "output_type": "display_data"
    }
   ],
   "source": [
    "show_doc(get_username)"
   ]
  },
  {
   "cell_type": "code",
   "execution_count": null,
   "metadata": {},
   "outputs": [],
   "source": [
    "u = get_username()\n",
    "assert isinstance(u, str)\n",
    "assert len(u) > 0"
   ]
  },
  {
   "cell_type": "code",
   "execution_count": null,
   "metadata": {},
   "outputs": [],
   "source": [
    "#hide\n",
    "#export\n",
    "def get_datetime():\n",
    "    \"Returns the time now\"\n",
    "    return datetime.datetime.now().strftime(\"%Y-%m-%d %H:%M:%S %Z\") "
   ]
  },
  {
   "cell_type": "code",
   "execution_count": null,
   "metadata": {},
   "outputs": [
    {
     "data": {
      "text/markdown": [
       "<h4 id=\"get_datetime\" class=\"doc_header\"><code>get_datetime</code><a href=\"__main__.py#L3\" class=\"source_link\" style=\"float:right\">[source]</a></h4>\n",
       "\n",
       "> <code>get_datetime</code>()\n",
       "\n",
       "Returns the time now"
      ],
      "text/plain": [
       "<IPython.core.display.Markdown object>"
      ]
     },
     "metadata": {},
     "output_type": "display_data"
    }
   ],
   "source": [
    "show_doc(get_datetime)"
   ]
  },
  {
   "cell_type": "code",
   "execution_count": null,
   "metadata": {},
   "outputs": [],
   "source": [
    "d = get_datetime()\n",
    "assert isinstance(d, str)\n",
    "assert len(d) > 0"
   ]
  },
  {
   "cell_type": "code",
   "execution_count": null,
   "metadata": {},
   "outputs": [],
   "source": [
    "#hide\n",
    "#export\n",
    "import numpy as np\n",
    "import pandas as pd\n",
    "from sklearn.base import BaseEstimator, TransformerMixin\n",
    "from sklearn.utils.validation import check_is_fitted\n",
    "\n",
    "class Lag(BaseEstimator, TransformerMixin):\n",
    "    def __init__(self, lags=1, jump=0, keep_contemporaneous_X=False):\n",
    "        self.lags = lags\n",
    "        self.jump = jump\n",
    "        self.keep_contemporaneous_X = keep_contemporaneous_X\n",
    "    \n",
    "    def fit(self, X, y=None):        \n",
    "        self.index = None\n",
    "        if hasattr(X, \"index\"):\n",
    "            self.index = X.index\n",
    "        else:\n",
    "            if y is not None and hasattr(y, \"index\"):\n",
    "                self.index = y.index\n",
    "        X = self._validate_data(X)\n",
    "\n",
    "        self.effective_lags_ = self.lags + self.jump\n",
    "        return self\n",
    "\n",
    "    def transform(self, X):\n",
    "        X_forlag = X\n",
    "        \n",
    "        X = self._validate_data(X)\n",
    "        check_is_fitted(self)\n",
    "        X_lags = []\n",
    "        X_colnames = list(self.feature_names_in_) if self.keep_contemporaneous_X else []\n",
    "        for lag in range(self.effective_lags_):\n",
    "            if lag < self.jump:\n",
    "                continue\n",
    "            lag_count = lag+1\n",
    "            lag_X = np.roll(X_forlag, lag_count, axis=0)\n",
    "            X_lags.append(lag_X)\n",
    "            if hasattr(self, \"feature_names_in_\"):\n",
    "                X_colnames = X_colnames + [col+\"_lag_\"+str(lag+1) for col in list(self.feature_names_in_)]\n",
    "        X = np.concatenate(X_lags, axis=1)\n",
    "        if self.keep_contemporaneous_X:\n",
    "            X = np.concatenate([X_forlag, X], axis=1)\n",
    "        X = X[self.effective_lags_:, :]\n",
    "        if hasattr(self, \"index\") and self.index is not None:\n",
    "            new_index = self.index[self.effective_lags_:]\n",
    "            X = pd.DataFrame(X, index=new_index, columns=X_colnames)\n",
    "        else:\n",
    "            X = pd.DataFrame(X)\n",
    "        return X"
   ]
  },
  {
   "cell_type": "code",
   "execution_count": null,
   "metadata": {},
   "outputs": [
    {
     "data": {
      "text/markdown": [
       "<h2 id=\"Lag\" class=\"doc_header\"><code>class</code> <code>Lag</code><a href=\"\" class=\"source_link\" style=\"float:right\">[source]</a></h2>\n",
       "\n",
       "> <code>Lag</code>(**`lags`**=*`1`*, **`jump`**=*`0`*, **`keep_contemporaneous_X`**=*`False`*) :: `BaseEstimator`\n",
       "\n",
       "Base class for all estimators in scikit-learn.\n",
       "\n",
       "Notes\n",
       "-----\n",
       "All estimators should specify all the parameters that can be set\n",
       "at the class level in their ``__init__`` as explicit keyword\n",
       "arguments (no ``*args`` or ``**kwargs``)."
      ],
      "text/plain": [
       "<IPython.core.display.Markdown object>"
      ]
     },
     "metadata": {},
     "output_type": "display_data"
    }
   ],
   "source": [
    "show_doc(Lag)"
   ]
  },
  {
   "cell_type": "markdown",
   "metadata": {},
   "source": [
    "The code below demonstrates how `Lag` works in practice."
   ]
  },
  {
   "cell_type": "code",
   "execution_count": null,
   "metadata": {},
   "outputs": [],
   "source": [
    "import numpy as np\n",
    "from sklearn.pipeline import Pipeline\n",
    "from sklearn.preprocessing import StandardScaler\n",
    "\n",
    "randomX = np.random.rand(15, 2)\n",
    "randomY = np.random.rand(15)\n",
    "\n",
    "lags = 3\n",
    "jump = 2\n",
    "\n",
    "pipe = Pipeline([\n",
    "    ('scaler', StandardScaler()),\n",
    "    ('lagger', Lag(lags=lags, jump=jump, keep_contemporaneous_X=False))\n",
    "]).fit_transform(randomX, randomY)"
   ]
  },
  {
   "cell_type": "markdown",
   "metadata": {},
   "source": [
    "Below we confirm that the lagger object removes the correct number of rows corresponding to the lagged observations:"
   ]
  },
  {
   "cell_type": "code",
   "execution_count": null,
   "metadata": {},
   "outputs": [],
   "source": [
    "assert randomX.shape[0] - lags - jump == pipe.shape[0]"
   ]
  },
  {
   "cell_type": "markdown",
   "metadata": {},
   "source": [
    "## Real-life example dataset\n",
    "\n",
    "The function `load_EURFX_data` is a helper function to download a test dataset containing real life data. This dataset was chosen due to the assumption that most users have at least an intuitive understanding of what a foreign exchange is: the price of changing one currency for the other. This example dataset does not imply this data is more or less relevant than others; it is used only for pedagogical purposes and also to provide an example source code for users on how such data can be downloaded and prepared, including with `gingado`'s `Lag` class. "
   ]
  },
  {
   "cell_type": "code",
   "execution_count": null,
   "metadata": {},
   "outputs": [],
   "source": [
    "#hide\n",
    "#export\n",
    "import pandasdmx as sdmx\n",
    "\n",
    "def load_EURFX_data(startYear=2003, lags=1, jump=0, keep_contemporaneous_X=True):\n",
    "    \"Loads a real-life dataset for testing use cases.\"\n",
    "    ecb = sdmx.Request('ECB')\n",
    "    exr_msg = ecb.dataflow('EXR')\n",
    "    exr_flow = exr_msg.dataflow.EXR\n",
    "    dsd = exr_flow.structure\n",
    "    key = {\n",
    "    \"CURRENCY\": ['EUR', 'AUD', 'BRL', 'CAD', 'CHF', 'GBP', 'JPY', 'SGD', 'USD'],\n",
    "    \"FREQ\": 'D'\n",
    "    }\n",
    "    params = {\"startPeriod\": startYear}\n",
    "    data_msg = ecb.data('EXR', key=key, params=params, dsd=dsd)\n",
    "    df = sdmx.to_pandas(data_msg.data[0], datetime='TIME_PERIOD')\n",
    "    df = df.droplevel(['FREQ', 'CURRENCY_DENOM', 'EXR_TYPE', 'EXR_SUFFIX'], axis=1).dropna(how='all')\n",
    "    \n",
    "    if lags or jump:\n",
    "        df = Lag(lags=lags, jump=jump, keep_contemporaneous_X=keep_contemporaneous_X).fit_transform(df)\n",
    "    return df"
   ]
  },
  {
   "cell_type": "code",
   "execution_count": null,
   "metadata": {},
   "outputs": [
    {
     "data": {
      "text/markdown": [
       "<h4 id=\"load_EURFX_data\" class=\"doc_header\"><code>load_EURFX_data</code><a href=\"__main__.py#L5\" class=\"source_link\" style=\"float:right\">[source]</a></h4>\n",
       "\n",
       "> <code>load_EURFX_data</code>(**`startYear`**=*`2003`*, **`lags`**=*`1`*, **`jump`**=*`0`*, **`keep_contemporaneous_X`**=*`True`*)\n",
       "\n",
       "Loads a real-life dataset for testing use cases."
      ],
      "text/plain": [
       "<IPython.core.display.Markdown object>"
      ]
     },
     "metadata": {},
     "output_type": "display_data"
    }
   ],
   "source": [
    "show_doc(load_EURFX_data)"
   ]
  },
  {
   "cell_type": "code",
   "execution_count": null,
   "metadata": {},
   "outputs": [
    {
     "data": {
      "text/html": [
       "<div>\n",
       "<style scoped>\n",
       "    .dataframe tbody tr th:only-of-type {\n",
       "        vertical-align: middle;\n",
       "    }\n",
       "\n",
       "    .dataframe tbody tr th {\n",
       "        vertical-align: top;\n",
       "    }\n",
       "\n",
       "    .dataframe thead th {\n",
       "        text-align: right;\n",
       "    }\n",
       "</style>\n",
       "<table border=\"1\" class=\"dataframe\">\n",
       "  <thead>\n",
       "    <tr style=\"text-align: right;\">\n",
       "      <th></th>\n",
       "      <th>AUD</th>\n",
       "      <th>BRL</th>\n",
       "      <th>CAD</th>\n",
       "      <th>CHF</th>\n",
       "      <th>GBP</th>\n",
       "      <th>JPY</th>\n",
       "      <th>SGD</th>\n",
       "      <th>USD</th>\n",
       "      <th>AUD_lag_1</th>\n",
       "      <th>BRL_lag_1</th>\n",
       "      <th>CAD_lag_1</th>\n",
       "      <th>CHF_lag_1</th>\n",
       "      <th>GBP_lag_1</th>\n",
       "      <th>JPY_lag_1</th>\n",
       "      <th>SGD_lag_1</th>\n",
       "      <th>USD_lag_1</th>\n",
       "    </tr>\n",
       "    <tr>\n",
       "      <th>TIME_PERIOD</th>\n",
       "      <th></th>\n",
       "      <th></th>\n",
       "      <th></th>\n",
       "      <th></th>\n",
       "      <th></th>\n",
       "      <th></th>\n",
       "      <th></th>\n",
       "      <th></th>\n",
       "      <th></th>\n",
       "      <th></th>\n",
       "      <th></th>\n",
       "      <th></th>\n",
       "      <th></th>\n",
       "      <th></th>\n",
       "      <th></th>\n",
       "      <th></th>\n",
       "    </tr>\n",
       "  </thead>\n",
       "  <tbody>\n",
       "    <tr>\n",
       "      <th>2003-01-03</th>\n",
       "      <td>1.8440</td>\n",
       "      <td>3.6112</td>\n",
       "      <td>1.6264</td>\n",
       "      <td>1.4555</td>\n",
       "      <td>0.65000</td>\n",
       "      <td>124.56</td>\n",
       "      <td>1.8132</td>\n",
       "      <td>1.0392</td>\n",
       "      <td>1.8554</td>\n",
       "      <td>3.6770</td>\n",
       "      <td>1.6422</td>\n",
       "      <td>1.4528</td>\n",
       "      <td>0.65200</td>\n",
       "      <td>124.40</td>\n",
       "      <td>1.8188</td>\n",
       "      <td>1.0446</td>\n",
       "    </tr>\n",
       "    <tr>\n",
       "      <th>2003-01-06</th>\n",
       "      <td>1.8281</td>\n",
       "      <td>3.5145</td>\n",
       "      <td>1.6383</td>\n",
       "      <td>1.4563</td>\n",
       "      <td>0.64950</td>\n",
       "      <td>124.40</td>\n",
       "      <td>1.8210</td>\n",
       "      <td>1.0488</td>\n",
       "      <td>1.8440</td>\n",
       "      <td>3.6112</td>\n",
       "      <td>1.6264</td>\n",
       "      <td>1.4555</td>\n",
       "      <td>0.65000</td>\n",
       "      <td>124.56</td>\n",
       "      <td>1.8132</td>\n",
       "      <td>1.0392</td>\n",
       "    </tr>\n",
       "    <tr>\n",
       "      <th>2003-01-07</th>\n",
       "      <td>1.8160</td>\n",
       "      <td>3.5139</td>\n",
       "      <td>1.6257</td>\n",
       "      <td>1.4565</td>\n",
       "      <td>0.64960</td>\n",
       "      <td>124.82</td>\n",
       "      <td>1.8155</td>\n",
       "      <td>1.0425</td>\n",
       "      <td>1.8281</td>\n",
       "      <td>3.5145</td>\n",
       "      <td>1.6383</td>\n",
       "      <td>1.4563</td>\n",
       "      <td>0.64950</td>\n",
       "      <td>124.40</td>\n",
       "      <td>1.8210</td>\n",
       "      <td>1.0488</td>\n",
       "    </tr>\n",
       "    <tr>\n",
       "      <th>2003-01-08</th>\n",
       "      <td>1.8132</td>\n",
       "      <td>3.4405</td>\n",
       "      <td>1.6231</td>\n",
       "      <td>1.4586</td>\n",
       "      <td>0.64950</td>\n",
       "      <td>124.90</td>\n",
       "      <td>1.8102</td>\n",
       "      <td>1.0377</td>\n",
       "      <td>1.8160</td>\n",
       "      <td>3.5139</td>\n",
       "      <td>1.6257</td>\n",
       "      <td>1.4565</td>\n",
       "      <td>0.64960</td>\n",
       "      <td>124.82</td>\n",
       "      <td>1.8155</td>\n",
       "      <td>1.0425</td>\n",
       "    </tr>\n",
       "    <tr>\n",
       "      <th>2003-01-09</th>\n",
       "      <td>1.8172</td>\n",
       "      <td>3.4915</td>\n",
       "      <td>1.6371</td>\n",
       "      <td>1.4597</td>\n",
       "      <td>0.65300</td>\n",
       "      <td>125.16</td>\n",
       "      <td>1.8244</td>\n",
       "      <td>1.0507</td>\n",
       "      <td>1.8132</td>\n",
       "      <td>3.4405</td>\n",
       "      <td>1.6231</td>\n",
       "      <td>1.4586</td>\n",
       "      <td>0.64950</td>\n",
       "      <td>124.90</td>\n",
       "      <td>1.8102</td>\n",
       "      <td>1.0377</td>\n",
       "    </tr>\n",
       "    <tr>\n",
       "      <th>...</th>\n",
       "      <td>...</td>\n",
       "      <td>...</td>\n",
       "      <td>...</td>\n",
       "      <td>...</td>\n",
       "      <td>...</td>\n",
       "      <td>...</td>\n",
       "      <td>...</td>\n",
       "      <td>...</td>\n",
       "      <td>...</td>\n",
       "      <td>...</td>\n",
       "      <td>...</td>\n",
       "      <td>...</td>\n",
       "      <td>...</td>\n",
       "      <td>...</td>\n",
       "      <td>...</td>\n",
       "      <td>...</td>\n",
       "    </tr>\n",
       "    <tr>\n",
       "      <th>2022-05-23</th>\n",
       "      <td>1.4982</td>\n",
       "      <td>5.1623</td>\n",
       "      <td>1.3626</td>\n",
       "      <td>1.0310</td>\n",
       "      <td>0.84783</td>\n",
       "      <td>136.05</td>\n",
       "      <td>1.4639</td>\n",
       "      <td>1.0659</td>\n",
       "      <td>1.4980</td>\n",
       "      <td>5.1989</td>\n",
       "      <td>1.3526</td>\n",
       "      <td>1.0280</td>\n",
       "      <td>0.84820</td>\n",
       "      <td>135.34</td>\n",
       "      <td>1.4588</td>\n",
       "      <td>1.0577</td>\n",
       "    </tr>\n",
       "    <tr>\n",
       "      <th>2022-05-24</th>\n",
       "      <td>1.5152</td>\n",
       "      <td>5.1793</td>\n",
       "      <td>1.3714</td>\n",
       "      <td>1.0334</td>\n",
       "      <td>0.85750</td>\n",
       "      <td>136.49</td>\n",
       "      <td>1.4722</td>\n",
       "      <td>1.0720</td>\n",
       "      <td>1.4982</td>\n",
       "      <td>5.1623</td>\n",
       "      <td>1.3626</td>\n",
       "      <td>1.0310</td>\n",
       "      <td>0.84783</td>\n",
       "      <td>136.05</td>\n",
       "      <td>1.4639</td>\n",
       "      <td>1.0659</td>\n",
       "    </tr>\n",
       "    <tr>\n",
       "      <th>2022-05-25</th>\n",
       "      <td>1.5126</td>\n",
       "      <td>5.1736</td>\n",
       "      <td>1.3720</td>\n",
       "      <td>1.0269</td>\n",
       "      <td>0.85295</td>\n",
       "      <td>135.34</td>\n",
       "      <td>1.4676</td>\n",
       "      <td>1.0656</td>\n",
       "      <td>1.5152</td>\n",
       "      <td>5.1793</td>\n",
       "      <td>1.3714</td>\n",
       "      <td>1.0334</td>\n",
       "      <td>0.85750</td>\n",
       "      <td>136.49</td>\n",
       "      <td>1.4722</td>\n",
       "      <td>1.0720</td>\n",
       "    </tr>\n",
       "    <tr>\n",
       "      <th>2022-05-26</th>\n",
       "      <td>1.5110</td>\n",
       "      <td>5.1741</td>\n",
       "      <td>1.3715</td>\n",
       "      <td>1.0283</td>\n",
       "      <td>0.85073</td>\n",
       "      <td>135.95</td>\n",
       "      <td>1.4709</td>\n",
       "      <td>1.0697</td>\n",
       "      <td>1.5126</td>\n",
       "      <td>5.1736</td>\n",
       "      <td>1.3720</td>\n",
       "      <td>1.0269</td>\n",
       "      <td>0.85295</td>\n",
       "      <td>135.34</td>\n",
       "      <td>1.4676</td>\n",
       "      <td>1.0656</td>\n",
       "    </tr>\n",
       "    <tr>\n",
       "      <th>2022-05-27</th>\n",
       "      <td>1.4995</td>\n",
       "      <td>5.0959</td>\n",
       "      <td>1.3661</td>\n",
       "      <td>1.0258</td>\n",
       "      <td>0.84875</td>\n",
       "      <td>136.05</td>\n",
       "      <td>1.4679</td>\n",
       "      <td>1.0722</td>\n",
       "      <td>1.5110</td>\n",
       "      <td>5.1741</td>\n",
       "      <td>1.3715</td>\n",
       "      <td>1.0283</td>\n",
       "      <td>0.85073</td>\n",
       "      <td>135.95</td>\n",
       "      <td>1.4709</td>\n",
       "      <td>1.0697</td>\n",
       "    </tr>\n",
       "  </tbody>\n",
       "</table>\n",
       "<p>4969 rows × 16 columns</p>\n",
       "</div>"
      ],
      "text/plain": [
       "                AUD     BRL     CAD     CHF      GBP     JPY     SGD     USD  \\\n",
       "TIME_PERIOD                                                                    \n",
       "2003-01-03   1.8440  3.6112  1.6264  1.4555  0.65000  124.56  1.8132  1.0392   \n",
       "2003-01-06   1.8281  3.5145  1.6383  1.4563  0.64950  124.40  1.8210  1.0488   \n",
       "2003-01-07   1.8160  3.5139  1.6257  1.4565  0.64960  124.82  1.8155  1.0425   \n",
       "2003-01-08   1.8132  3.4405  1.6231  1.4586  0.64950  124.90  1.8102  1.0377   \n",
       "2003-01-09   1.8172  3.4915  1.6371  1.4597  0.65300  125.16  1.8244  1.0507   \n",
       "...             ...     ...     ...     ...      ...     ...     ...     ...   \n",
       "2022-05-23   1.4982  5.1623  1.3626  1.0310  0.84783  136.05  1.4639  1.0659   \n",
       "2022-05-24   1.5152  5.1793  1.3714  1.0334  0.85750  136.49  1.4722  1.0720   \n",
       "2022-05-25   1.5126  5.1736  1.3720  1.0269  0.85295  135.34  1.4676  1.0656   \n",
       "2022-05-26   1.5110  5.1741  1.3715  1.0283  0.85073  135.95  1.4709  1.0697   \n",
       "2022-05-27   1.4995  5.0959  1.3661  1.0258  0.84875  136.05  1.4679  1.0722   \n",
       "\n",
       "             AUD_lag_1  BRL_lag_1  CAD_lag_1  CHF_lag_1  GBP_lag_1  JPY_lag_1  \\\n",
       "TIME_PERIOD                                                                     \n",
       "2003-01-03      1.8554     3.6770     1.6422     1.4528    0.65200     124.40   \n",
       "2003-01-06      1.8440     3.6112     1.6264     1.4555    0.65000     124.56   \n",
       "2003-01-07      1.8281     3.5145     1.6383     1.4563    0.64950     124.40   \n",
       "2003-01-08      1.8160     3.5139     1.6257     1.4565    0.64960     124.82   \n",
       "2003-01-09      1.8132     3.4405     1.6231     1.4586    0.64950     124.90   \n",
       "...                ...        ...        ...        ...        ...        ...   \n",
       "2022-05-23      1.4980     5.1989     1.3526     1.0280    0.84820     135.34   \n",
       "2022-05-24      1.4982     5.1623     1.3626     1.0310    0.84783     136.05   \n",
       "2022-05-25      1.5152     5.1793     1.3714     1.0334    0.85750     136.49   \n",
       "2022-05-26      1.5126     5.1736     1.3720     1.0269    0.85295     135.34   \n",
       "2022-05-27      1.5110     5.1741     1.3715     1.0283    0.85073     135.95   \n",
       "\n",
       "             SGD_lag_1  USD_lag_1  \n",
       "TIME_PERIOD                        \n",
       "2003-01-03      1.8188     1.0446  \n",
       "2003-01-06      1.8132     1.0392  \n",
       "2003-01-07      1.8210     1.0488  \n",
       "2003-01-08      1.8155     1.0425  \n",
       "2003-01-09      1.8102     1.0377  \n",
       "...                ...        ...  \n",
       "2022-05-23      1.4588     1.0577  \n",
       "2022-05-24      1.4639     1.0659  \n",
       "2022-05-25      1.4722     1.0720  \n",
       "2022-05-26      1.4676     1.0656  \n",
       "2022-05-27      1.4709     1.0697  \n",
       "\n",
       "[4969 rows x 16 columns]"
      ]
     },
     "execution_count": null,
     "metadata": {},
     "output_type": "execute_result"
    }
   ],
   "source": [
    "EUR_FX = load_EURFX_data()\n",
    "\n",
    "assert type(EUR_FX) == pd.DataFrame\n",
    "assert EUR_FX.shape[0] > 0\n",
    "assert EUR_FX.shape[1] > 0\n",
    "\n",
    "EUR_FX"
   ]
  },
  {
   "cell_type": "code",
   "execution_count": null,
   "metadata": {},
   "outputs": [],
   "source": []
  }
 ],
 "metadata": {
  "kernelspec": {
   "display_name": "Python 3.9.10 64-bit ('.venv_gingado': venv)",
   "language": "python",
   "name": "python3"
  }
 },
 "nbformat": 4,
 "nbformat_minor": 2
}
