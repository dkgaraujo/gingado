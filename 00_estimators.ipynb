{
 "cells": [
  {
   "cell_type": "raw",
   "metadata": {},
   "source": [
    "---\n",
    "badges: true\n",
    "description: Machine learning-based estimators of economic models\n",
    "output-file: estimators.html\n",
    "title: Estimators\n",
    "\n",
    "---"
   ]
  },
  {
   "cell_type": "code",
   "execution_count": null,
   "metadata": {},
   "outputs": [],
   "source": [
    "#| default_exp estimators"
   ]
  },
  {
   "cell_type": "code",
   "execution_count": null,
   "metadata": {},
   "outputs": [],
   "source": [
    "#| export\n",
    "#| include: false\n",
    "#| echo: false\n",
    "from __future__ import annotations # allows multiple typing of arguments in Python versions prior to 3.10"
   ]
  },
  {
   "cell_type": "code",
   "execution_count": null,
   "metadata": {},
   "outputs": [],
   "source": [
    "#| include: false\n",
    "#| echo: false\n",
    "! [ -e /content ] && pip install -Uqq gingado nbdev # install or upgrade gingado on colab"
   ]
  },
  {
   "cell_type": "code",
   "execution_count": null,
   "metadata": {},
   "outputs": [],
   "source": [
    "#| include: false\n",
    "%load_ext autoreload\n",
    "%autoreload 2"
   ]
  },
  {
   "cell_type": "code",
   "execution_count": null,
   "metadata": {},
   "outputs": [],
   "source": [
    "#| include: false\n",
    "from nbdev.showdoc import show_doc"
   ]
  },
  {
   "cell_type": "markdown",
   "metadata": {},
   "source": [
    "In many instances, economists are interested in using machine learning models for specific purposes that go beyond their ability to predict variables to a good accuracy. For example:\n",
    "\n",
    "- understanding the relationship between covariates and the outcome (\"*coefficient-focused tasks*\"), usually to demonstrate that a non-trivial effect of one variable on another exists.\n",
    "\n",
    "- estimating a certain measure with certain desirable statistical and econometric properties (\"*measure-focused tasks*\"), where the object of interest is the predicted outcome of an adapted algorithm.\n",
    "\n",
    "- identifying which covariates are related or not to a certain outcome (\"*covariate-selection tasks*\"), often to demonstrate the relevance of a certain theory.\n",
    "\n",
    "- process non-traditional data (eg, text) for inclusion in a traditional econometrics regression (\"*covariate-processing tasks*\"), especially useful in settings where measurable quantitative data is complemented with this other type of data.\n",
    "\n",
    "The `gingado.estimators` module contains machine learning algorithms adapted to enable the types of analyses described above. More estimators can be expected over time."
   ]
  },
  {
   "cell_type": "markdown",
   "metadata": {},
   "source": [
    "# Covariate-selection tasks"
   ]
  },
  {
   "cell_type": "markdown",
   "metadata": {},
   "source": [
    "## Clustering\n",
    "\n",
    "The clustering algorithms used below are not themselves adapted from the general use methods. Rather, the functions offer convenience functionalities to find and retain the other variables in the same cluster. \n",
    "\n",
    "These variables are usually entities (individuals, countries, stocks, etc) in a larger population.\n",
    "\n",
    "The `gingado` clustering routines are designed to allow users standalone usage, or a seamless integration as part of a pipeline.\n",
    "\n",
    "There are three levels of sophistication that users can choose from:\n",
    "\n",
    "- using the off-the-shelf clustering routines provided by `gingado`, which were selected to be applied cross various use cases;\n",
    "\n",
    "- selecting an existing clustering routine from the [`scikit-learn.cluster`](https://scikit-learn.org/stable/modules/clustering.html) module; or\n",
    "\n",
    "- designing their own clustering algorithm."
   ]
  },
  {
   "cell_type": "code",
   "execution_count": null,
   "metadata": {},
   "outputs": [],
   "source": [
    "#| include: false\n",
    "#| export\n",
    "\n",
    "import numpy as np\n",
    "from sklearn.base import BaseEstimator, ClusterMixin\n",
    "from sklearn.cluster import AffinityPropagation\n",
    "from sklearn.utils.metaestimators import available_if"
   ]
  },
  {
   "cell_type": "code",
   "execution_count": null,
   "metadata": {},
   "outputs": [],
   "source": [
    "#| include: false\n",
    "#| export\n",
    "\n",
    "class FindCluster(BaseEstimator):\n",
    "    \"Retain only the columns of `X` that are in the same cluster as `y`.\"\n",
    "\n",
    "    def __init__(\n",
    "        self,\n",
    "        cluster_alg:[BaseEstimator,ClusterMixin]=AffinityPropagation(), # An instance of the clustering algorithm to use\n",
    "        random_state:int|None=None, # The random seed to be used by the algorithm, if relevant\n",
    "    ):\n",
    "        self.cluster_alg = cluster_alg\n",
    "        self.random_state = random_state\n",
    "        if hasattr(self.cluster_alg, \"random_state\"):\n",
    "            self.cluster_alg.set_params(random_state=self.random_state)\n",
    "\n",
    "\n",
    "    def fit(\n",
    "        self,\n",
    "        X, # The population of entities, organised in columns\n",
    "        y # The entity of interest\n",
    "    ):\n",
    "        \"Fit `FindCluster`\"\n",
    "        temp_y_colname = \"gingado_ycol\"\n",
    "\n",
    "        X[temp_y_colname] = y\n",
    "\n",
    "        entities = X.columns\n",
    "        y_mask = entities == temp_y_colname\n",
    "\n",
    "        self.cluster_alg.fit(X.T)\n",
    "\n",
    "        cluster = entities[self.cluster_alg.labels_ == self.cluster_alg.labels_[y_mask]]\n",
    "        self.same_cluster_ = [e for e in cluster if e != temp_y_colname]\n",
    "        return self\n",
    "\n",
    "    def transform(\n",
    "        self,\n",
    "        X # The population of entities, organised in columns\n",
    "    )->np.array: # Columns of `X` that are in the same cluster as `y`\n",
    "        \"Keep only the entities in `X` that belong to the same cluster as `y`\"\n",
    "        return X[self.same_cluster_]\n",
    "\n",
    "    def fit_transform(\n",
    "        self,\n",
    "        X, # The population of entities, organised in columns\n",
    "        y # The entity of interest\n",
    "    )->np.array: # Columns of `X` that are in the same cluster as `y`\n",
    "        \"Fit a `FindCluster` object and keep only the entities in `X` that belong to the same cluster as `y`\"\n",
    "        self.fit(X, y)\n",
    "        return self.transform(X)"
   ]
  },
  {
   "cell_type": "code",
   "execution_count": null,
   "metadata": {},
   "outputs": [
    {
     "data": {
      "text/markdown": [
       "---\n",
       "\n",
       "[source](https://github.com/dkgaraujo/gingado/blob/main/gingado/estimators.py#L20){target=\"_blank\" style=\"float:right; font-size:smaller\"}\n",
       "\n",
       "### FindCluster\n",
       "\n",
       ">      FindCluster (cluster_alg:[<class'sklearn.base.BaseEstimator'>,<class'skle\n",
       ">                   arn.base.ClusterMixin'>]=AffinityPropagation(),\n",
       ">                   random_state:int|None=None)\n",
       "\n",
       "Retain only the columns of `X` that are in the same cluster as `y`.\n",
       "\n",
       "|    | **Type** | **Default** | **Details** |\n",
       "| -- | -------- | ----------- | ----------- |\n",
       "| cluster_alg | [BaseEstimator, ClusterMixin] | AffinityPropagation() | An instance of the clustering algorithm to use |\n",
       "| random_state | int \\| None | None | The random seed to be used by the algorithm, if relevant |"
      ],
      "text/plain": [
       "---\n",
       "\n",
       "[source](https://github.com/dkgaraujo/gingado/blob/main/gingado/estimators.py#L20){target=\"_blank\" style=\"float:right; font-size:smaller\"}\n",
       "\n",
       "### FindCluster\n",
       "\n",
       ">      FindCluster (cluster_alg:[<class'sklearn.base.BaseEstimator'>,<class'skle\n",
       ">                   arn.base.ClusterMixin'>]=AffinityPropagation(),\n",
       ">                   random_state:int|None=None)\n",
       "\n",
       "Retain only the columns of `X` that are in the same cluster as `y`.\n",
       "\n",
       "|    | **Type** | **Default** | **Details** |\n",
       "| -- | -------- | ----------- | ----------- |\n",
       "| cluster_alg | [BaseEstimator, ClusterMixin] | AffinityPropagation() | An instance of the clustering algorithm to use |\n",
       "| random_state | int \\| None | None | The random seed to be used by the algorithm, if relevant |"
      ]
     },
     "execution_count": null,
     "metadata": {},
     "output_type": "execute_result"
    }
   ],
   "source": [
    "show_doc(FindCluster)"
   ]
  },
  {
   "cell_type": "code",
   "execution_count": null,
   "metadata": {},
   "outputs": [
    {
     "data": {
      "text/markdown": [
       "---\n",
       "\n",
       "[source](https://github.com/dkgaraujo/gingado/blob/main/gingado/estimators.py#L34){target=\"_blank\" style=\"float:right; font-size:smaller\"}\n",
       "\n",
       "#### fit\n",
       "\n",
       ">      fit (X, y)\n",
       "\n",
       "Fit `FindCluster`\n",
       "\n",
       "|    | **Details** |\n",
       "| -- | ----------- |\n",
       "| X | The population of entities, organised in columns |\n",
       "| y | The entity of interest |"
      ],
      "text/plain": [
       "---\n",
       "\n",
       "[source](https://github.com/dkgaraujo/gingado/blob/main/gingado/estimators.py#L34){target=\"_blank\" style=\"float:right; font-size:smaller\"}\n",
       "\n",
       "#### fit\n",
       "\n",
       ">      fit (X, y)\n",
       "\n",
       "Fit `FindCluster`\n",
       "\n",
       "|    | **Details** |\n",
       "| -- | ----------- |\n",
       "| X | The population of entities, organised in columns |\n",
       "| y | The entity of interest |"
      ]
     },
     "execution_count": null,
     "metadata": {},
     "output_type": "execute_result"
    }
   ],
   "source": [
    "show_doc(FindCluster.fit, name=\"fit\", title_level=4)"
   ]
  },
  {
   "cell_type": "code",
   "execution_count": null,
   "metadata": {},
   "outputs": [
    {
     "data": {
      "text/markdown": [
       "---\n",
       "\n",
       "[source](https://github.com/dkgaraujo/gingado/blob/main/gingado/estimators.py#L53){target=\"_blank\" style=\"float:right; font-size:smaller\"}\n",
       "\n",
       "#### transform\n",
       "\n",
       ">      transform (X)\n",
       "\n",
       "Keep only the entities in `X` that belong to the same cluster as `y`\n",
       "\n",
       "|    | **Type** | **Details** |\n",
       "| -- | -------- | ----------- |\n",
       "| X |  | The population of entities, organised in columns |\n",
       "| **Returns** | **np.array** | **Columns of `X` that are in the same cluster as `y`** |"
      ],
      "text/plain": [
       "---\n",
       "\n",
       "[source](https://github.com/dkgaraujo/gingado/blob/main/gingado/estimators.py#L53){target=\"_blank\" style=\"float:right; font-size:smaller\"}\n",
       "\n",
       "#### transform\n",
       "\n",
       ">      transform (X)\n",
       "\n",
       "Keep only the entities in `X` that belong to the same cluster as `y`\n",
       "\n",
       "|    | **Type** | **Details** |\n",
       "| -- | -------- | ----------- |\n",
       "| X |  | The population of entities, organised in columns |\n",
       "| **Returns** | **np.array** | **Columns of `X` that are in the same cluster as `y`** |"
      ]
     },
     "execution_count": null,
     "metadata": {},
     "output_type": "execute_result"
    }
   ],
   "source": [
    "show_doc(FindCluster.transform, name=\"transform\", title_level=4)"
   ]
  },
  {
   "cell_type": "code",
   "execution_count": null,
   "metadata": {},
   "outputs": [
    {
     "data": {
      "text/markdown": [
       "---\n",
       "\n",
       "[source](https://github.com/dkgaraujo/gingado/blob/main/gingado/estimators.py#L60){target=\"_blank\" style=\"float:right; font-size:smaller\"}\n",
       "\n",
       "#### fit_transform\n",
       "\n",
       ">      fit_transform (X, y)\n",
       "\n",
       "Fit a `FindCluster` object and keep only the entities in `X` that belong to the same cluster as `y`\n",
       "\n",
       "|    | **Type** | **Details** |\n",
       "| -- | -------- | ----------- |\n",
       "| X |  | The population of entities, organised in columns |\n",
       "| y |  | The entity of interest |\n",
       "| **Returns** | **np.array** | **Columns of `X` that are in the same cluster as `y`** |"
      ],
      "text/plain": [
       "---\n",
       "\n",
       "[source](https://github.com/dkgaraujo/gingado/blob/main/gingado/estimators.py#L60){target=\"_blank\" style=\"float:right; font-size:smaller\"}\n",
       "\n",
       "#### fit_transform\n",
       "\n",
       ">      fit_transform (X, y)\n",
       "\n",
       "Fit a `FindCluster` object and keep only the entities in `X` that belong to the same cluster as `y`\n",
       "\n",
       "|    | **Type** | **Details** |\n",
       "| -- | -------- | ----------- |\n",
       "| X |  | The population of entities, organised in columns |\n",
       "| y |  | The entity of interest |\n",
       "| **Returns** | **np.array** | **Columns of `X` that are in the same cluster as `y`** |"
      ]
     },
     "execution_count": null,
     "metadata": {},
     "output_type": "execute_result"
    }
   ],
   "source": [
    "show_doc(FindCluster.fit_transform, name=\"fit_transform\", title_level=4)"
   ]
  },
  {
   "cell_type": "markdown",
   "metadata": {},
   "source": [
    "The @BARRO19941 dataset is used to illustrate the use of `FindCluster`. It is a country-level dataset. Let's use it to answer the following question: for some specific country, what other countries are the closest to it considering the data available?\n",
    "\n",
    "First, we import the data:"
   ]
  },
  {
   "cell_type": "code",
   "execution_count": null,
   "metadata": {},
   "outputs": [],
   "source": [
    "from gingado.datasets import load_BarroLee_1994"
   ]
  },
  {
   "cell_type": "markdown",
   "metadata": {},
   "source": [
    "The data is organized by rows: each row is a different country, and the variables are organised in columns. \n",
    "\n",
    "The dataset is originally organised for a regression of GDP growth (here denoted `y`) on the covariates (`X`). This is not what we want to do in this case. So instead of keeping GDP as a separate variable, the next step is to include it in the `X` DataFrame."
   ]
  },
  {
   "cell_type": "code",
   "execution_count": null,
   "metadata": {},
   "outputs": [
    {
     "data": {
      "text/html": [
       "<div>\n",
       "<style scoped>\n",
       "    .dataframe tbody tr th:only-of-type {\n",
       "        vertical-align: middle;\n",
       "    }\n",
       "\n",
       "    .dataframe tbody tr th {\n",
       "        vertical-align: top;\n",
       "    }\n",
       "\n",
       "    .dataframe thead th {\n",
       "        text-align: right;\n",
       "    }\n",
       "</style>\n",
       "<table border=\"1\" class=\"dataframe\">\n",
       "  <thead>\n",
       "    <tr style=\"text-align: right;\">\n",
       "      <th></th>\n",
       "      <th>Unnamed: 0</th>\n",
       "      <th>gdpsh465</th>\n",
       "      <th>bmp1l</th>\n",
       "      <th>freeop</th>\n",
       "      <th>freetar</th>\n",
       "      <th>h65</th>\n",
       "      <th>hm65</th>\n",
       "      <th>hf65</th>\n",
       "      <th>p65</th>\n",
       "      <th>pm65</th>\n",
       "      <th>...</th>\n",
       "      <th>syr65</th>\n",
       "      <th>syrm65</th>\n",
       "      <th>syrf65</th>\n",
       "      <th>teapri65</th>\n",
       "      <th>teasec65</th>\n",
       "      <th>ex1</th>\n",
       "      <th>im1</th>\n",
       "      <th>xr65</th>\n",
       "      <th>tot1</th>\n",
       "      <th>gdp</th>\n",
       "    </tr>\n",
       "  </thead>\n",
       "  <tbody>\n",
       "    <tr>\n",
       "      <th>0</th>\n",
       "      <td>0</td>\n",
       "      <td>6.591674</td>\n",
       "      <td>0.2837</td>\n",
       "      <td>0.153491</td>\n",
       "      <td>0.043888</td>\n",
       "      <td>0.007</td>\n",
       "      <td>0.013</td>\n",
       "      <td>0.001</td>\n",
       "      <td>0.29</td>\n",
       "      <td>0.37</td>\n",
       "      <td>...</td>\n",
       "      <td>0.033</td>\n",
       "      <td>0.057</td>\n",
       "      <td>0.010</td>\n",
       "      <td>47.6</td>\n",
       "      <td>17.3</td>\n",
       "      <td>0.0729</td>\n",
       "      <td>0.0667</td>\n",
       "      <td>0.348</td>\n",
       "      <td>-0.014727</td>\n",
       "      <td>-0.024336</td>\n",
       "    </tr>\n",
       "    <tr>\n",
       "      <th>1</th>\n",
       "      <td>1</td>\n",
       "      <td>6.829794</td>\n",
       "      <td>0.6141</td>\n",
       "      <td>0.313509</td>\n",
       "      <td>0.061827</td>\n",
       "      <td>0.019</td>\n",
       "      <td>0.032</td>\n",
       "      <td>0.007</td>\n",
       "      <td>0.91</td>\n",
       "      <td>1.00</td>\n",
       "      <td>...</td>\n",
       "      <td>0.173</td>\n",
       "      <td>0.274</td>\n",
       "      <td>0.067</td>\n",
       "      <td>57.1</td>\n",
       "      <td>18.0</td>\n",
       "      <td>0.0940</td>\n",
       "      <td>0.1438</td>\n",
       "      <td>0.525</td>\n",
       "      <td>0.005750</td>\n",
       "      <td>0.100473</td>\n",
       "    </tr>\n",
       "    <tr>\n",
       "      <th>2</th>\n",
       "      <td>2</td>\n",
       "      <td>8.895082</td>\n",
       "      <td>0.0000</td>\n",
       "      <td>0.204244</td>\n",
       "      <td>0.009186</td>\n",
       "      <td>0.260</td>\n",
       "      <td>0.325</td>\n",
       "      <td>0.201</td>\n",
       "      <td>1.00</td>\n",
       "      <td>1.00</td>\n",
       "      <td>...</td>\n",
       "      <td>2.573</td>\n",
       "      <td>2.478</td>\n",
       "      <td>2.667</td>\n",
       "      <td>26.5</td>\n",
       "      <td>20.7</td>\n",
       "      <td>0.1741</td>\n",
       "      <td>0.1750</td>\n",
       "      <td>1.082</td>\n",
       "      <td>-0.010040</td>\n",
       "      <td>0.067051</td>\n",
       "    </tr>\n",
       "    <tr>\n",
       "      <th>3</th>\n",
       "      <td>3</td>\n",
       "      <td>7.565275</td>\n",
       "      <td>0.1997</td>\n",
       "      <td>0.248714</td>\n",
       "      <td>0.036270</td>\n",
       "      <td>0.061</td>\n",
       "      <td>0.070</td>\n",
       "      <td>0.051</td>\n",
       "      <td>1.00</td>\n",
       "      <td>1.00</td>\n",
       "      <td>...</td>\n",
       "      <td>0.438</td>\n",
       "      <td>0.453</td>\n",
       "      <td>0.424</td>\n",
       "      <td>27.8</td>\n",
       "      <td>22.7</td>\n",
       "      <td>0.1265</td>\n",
       "      <td>0.1496</td>\n",
       "      <td>6.625</td>\n",
       "      <td>-0.002195</td>\n",
       "      <td>0.064089</td>\n",
       "    </tr>\n",
       "    <tr>\n",
       "      <th>4</th>\n",
       "      <td>4</td>\n",
       "      <td>7.162397</td>\n",
       "      <td>0.1740</td>\n",
       "      <td>0.299252</td>\n",
       "      <td>0.037367</td>\n",
       "      <td>0.017</td>\n",
       "      <td>0.027</td>\n",
       "      <td>0.007</td>\n",
       "      <td>0.82</td>\n",
       "      <td>0.85</td>\n",
       "      <td>...</td>\n",
       "      <td>0.257</td>\n",
       "      <td>0.287</td>\n",
       "      <td>0.229</td>\n",
       "      <td>34.5</td>\n",
       "      <td>17.6</td>\n",
       "      <td>0.1211</td>\n",
       "      <td>0.1308</td>\n",
       "      <td>2.500</td>\n",
       "      <td>0.003283</td>\n",
       "      <td>0.027930</td>\n",
       "    </tr>\n",
       "  </tbody>\n",
       "</table>\n",
       "<p>5 rows × 63 columns</p>\n",
       "</div>"
      ],
      "text/plain": [
       "   Unnamed: 0  gdpsh465   bmp1l    freeop   freetar    h65   hm65   hf65  \\\n",
       "0           0  6.591674  0.2837  0.153491  0.043888  0.007  0.013  0.001   \n",
       "1           1  6.829794  0.6141  0.313509  0.061827  0.019  0.032  0.007   \n",
       "2           2  8.895082  0.0000  0.204244  0.009186  0.260  0.325  0.201   \n",
       "3           3  7.565275  0.1997  0.248714  0.036270  0.061  0.070  0.051   \n",
       "4           4  7.162397  0.1740  0.299252  0.037367  0.017  0.027  0.007   \n",
       "\n",
       "    p65  pm65  ...  syr65  syrm65  syrf65  teapri65  teasec65     ex1     im1  \\\n",
       "0  0.29  0.37  ...  0.033   0.057   0.010      47.6      17.3  0.0729  0.0667   \n",
       "1  0.91  1.00  ...  0.173   0.274   0.067      57.1      18.0  0.0940  0.1438   \n",
       "2  1.00  1.00  ...  2.573   2.478   2.667      26.5      20.7  0.1741  0.1750   \n",
       "3  1.00  1.00  ...  0.438   0.453   0.424      27.8      22.7  0.1265  0.1496   \n",
       "4  0.82  0.85  ...  0.257   0.287   0.229      34.5      17.6  0.1211  0.1308   \n",
       "\n",
       "    xr65      tot1       gdp  \n",
       "0  0.348 -0.014727 -0.024336  \n",
       "1  0.525  0.005750  0.100473  \n",
       "2  1.082 -0.010040  0.067051  \n",
       "3  6.625 -0.002195  0.064089  \n",
       "4  2.500  0.003283  0.027930  \n",
       "\n",
       "[5 rows x 63 columns]"
      ]
     },
     "execution_count": null,
     "metadata": {},
     "output_type": "execute_result"
    }
   ],
   "source": [
    "X, y = load_BarroLee_1994()\n",
    "X['gdp'] = y\n",
    "X.head()"
   ]
  },
  {
   "cell_type": "markdown",
   "metadata": {},
   "source": [
    "Now we remove the first column (an identifier) and transpose the DataFrame, so that countries are organized in columns.\n",
    "\n",
    "Each country is identified by a number: 0, 1, ..."
   ]
  },
  {
   "cell_type": "code",
   "execution_count": null,
   "metadata": {},
   "outputs": [
    {
     "data": {
      "text/html": [
       "<div>\n",
       "<style scoped>\n",
       "    .dataframe tbody tr th:only-of-type {\n",
       "        vertical-align: middle;\n",
       "    }\n",
       "\n",
       "    .dataframe tbody tr th {\n",
       "        vertical-align: top;\n",
       "    }\n",
       "\n",
       "    .dataframe thead th {\n",
       "        text-align: right;\n",
       "    }\n",
       "</style>\n",
       "<table border=\"1\" class=\"dataframe\">\n",
       "  <thead>\n",
       "    <tr style=\"text-align: right;\">\n",
       "      <th></th>\n",
       "      <th>country_0</th>\n",
       "      <th>country_1</th>\n",
       "      <th>country_2</th>\n",
       "      <th>country_3</th>\n",
       "      <th>country_4</th>\n",
       "      <th>country_5</th>\n",
       "      <th>country_6</th>\n",
       "      <th>country_7</th>\n",
       "      <th>country_8</th>\n",
       "      <th>country_9</th>\n",
       "      <th>...</th>\n",
       "      <th>country_80</th>\n",
       "      <th>country_81</th>\n",
       "      <th>country_82</th>\n",
       "      <th>country_83</th>\n",
       "      <th>country_84</th>\n",
       "      <th>country_85</th>\n",
       "      <th>country_86</th>\n",
       "      <th>country_87</th>\n",
       "      <th>country_88</th>\n",
       "      <th>country_89</th>\n",
       "    </tr>\n",
       "  </thead>\n",
       "  <tbody>\n",
       "    <tr>\n",
       "      <th>gdpsh465</th>\n",
       "      <td>6.591674</td>\n",
       "      <td>6.829794</td>\n",
       "      <td>8.895082</td>\n",
       "      <td>7.565275</td>\n",
       "      <td>7.162397</td>\n",
       "      <td>7.218910</td>\n",
       "      <td>7.853605</td>\n",
       "      <td>7.703910</td>\n",
       "      <td>9.063463</td>\n",
       "      <td>8.151910</td>\n",
       "      <td>...</td>\n",
       "      <td>9.030974</td>\n",
       "      <td>8.995537</td>\n",
       "      <td>8.234830</td>\n",
       "      <td>8.332549</td>\n",
       "      <td>8.645586</td>\n",
       "      <td>8.991064</td>\n",
       "      <td>8.025189</td>\n",
       "      <td>9.030137</td>\n",
       "      <td>8.865312</td>\n",
       "      <td>8.912339</td>\n",
       "    </tr>\n",
       "    <tr>\n",
       "      <th>bmp1l</th>\n",
       "      <td>0.283700</td>\n",
       "      <td>0.614100</td>\n",
       "      <td>0.000000</td>\n",
       "      <td>0.199700</td>\n",
       "      <td>0.174000</td>\n",
       "      <td>0.000000</td>\n",
       "      <td>0.000000</td>\n",
       "      <td>0.277600</td>\n",
       "      <td>0.000000</td>\n",
       "      <td>0.148400</td>\n",
       "      <td>...</td>\n",
       "      <td>0.000000</td>\n",
       "      <td>0.000000</td>\n",
       "      <td>0.036300</td>\n",
       "      <td>0.000000</td>\n",
       "      <td>0.000000</td>\n",
       "      <td>0.000000</td>\n",
       "      <td>0.005000</td>\n",
       "      <td>0.000000</td>\n",
       "      <td>0.000000</td>\n",
       "      <td>0.000000</td>\n",
       "    </tr>\n",
       "    <tr>\n",
       "      <th>freeop</th>\n",
       "      <td>0.153491</td>\n",
       "      <td>0.313509</td>\n",
       "      <td>0.204244</td>\n",
       "      <td>0.248714</td>\n",
       "      <td>0.299252</td>\n",
       "      <td>0.258865</td>\n",
       "      <td>0.182525</td>\n",
       "      <td>0.215275</td>\n",
       "      <td>0.109614</td>\n",
       "      <td>0.110885</td>\n",
       "      <td>...</td>\n",
       "      <td>0.293138</td>\n",
       "      <td>0.304720</td>\n",
       "      <td>0.288405</td>\n",
       "      <td>0.345485</td>\n",
       "      <td>0.288440</td>\n",
       "      <td>0.371898</td>\n",
       "      <td>0.296437</td>\n",
       "      <td>0.265778</td>\n",
       "      <td>0.282939</td>\n",
       "      <td>0.150366</td>\n",
       "    </tr>\n",
       "    <tr>\n",
       "      <th>freetar</th>\n",
       "      <td>0.043888</td>\n",
       "      <td>0.061827</td>\n",
       "      <td>0.009186</td>\n",
       "      <td>0.036270</td>\n",
       "      <td>0.037367</td>\n",
       "      <td>0.020880</td>\n",
       "      <td>0.014385</td>\n",
       "      <td>0.029713</td>\n",
       "      <td>0.002171</td>\n",
       "      <td>0.028579</td>\n",
       "      <td>...</td>\n",
       "      <td>0.005517</td>\n",
       "      <td>0.011658</td>\n",
       "      <td>0.011589</td>\n",
       "      <td>0.006503</td>\n",
       "      <td>0.005995</td>\n",
       "      <td>0.014586</td>\n",
       "      <td>0.013615</td>\n",
       "      <td>0.008629</td>\n",
       "      <td>0.005048</td>\n",
       "      <td>0.024377</td>\n",
       "    </tr>\n",
       "    <tr>\n",
       "      <th>h65</th>\n",
       "      <td>0.007000</td>\n",
       "      <td>0.019000</td>\n",
       "      <td>0.260000</td>\n",
       "      <td>0.061000</td>\n",
       "      <td>0.017000</td>\n",
       "      <td>0.023000</td>\n",
       "      <td>0.039000</td>\n",
       "      <td>0.024000</td>\n",
       "      <td>0.402000</td>\n",
       "      <td>0.145000</td>\n",
       "      <td>...</td>\n",
       "      <td>0.245000</td>\n",
       "      <td>0.246000</td>\n",
       "      <td>0.183000</td>\n",
       "      <td>0.188000</td>\n",
       "      <td>0.256000</td>\n",
       "      <td>0.255000</td>\n",
       "      <td>0.108000</td>\n",
       "      <td>0.288000</td>\n",
       "      <td>0.188000</td>\n",
       "      <td>0.257000</td>\n",
       "    </tr>\n",
       "  </tbody>\n",
       "</table>\n",
       "<p>5 rows × 90 columns</p>\n",
       "</div>"
      ],
      "text/plain": [
       "          country_0  country_1  country_2  country_3  country_4  country_5  \\\n",
       "gdpsh465   6.591674   6.829794   8.895082   7.565275   7.162397   7.218910   \n",
       "bmp1l      0.283700   0.614100   0.000000   0.199700   0.174000   0.000000   \n",
       "freeop     0.153491   0.313509   0.204244   0.248714   0.299252   0.258865   \n",
       "freetar    0.043888   0.061827   0.009186   0.036270   0.037367   0.020880   \n",
       "h65        0.007000   0.019000   0.260000   0.061000   0.017000   0.023000   \n",
       "\n",
       "          country_6  country_7  country_8  country_9  ...  country_80  \\\n",
       "gdpsh465   7.853605   7.703910   9.063463   8.151910  ...    9.030974   \n",
       "bmp1l      0.000000   0.277600   0.000000   0.148400  ...    0.000000   \n",
       "freeop     0.182525   0.215275   0.109614   0.110885  ...    0.293138   \n",
       "freetar    0.014385   0.029713   0.002171   0.028579  ...    0.005517   \n",
       "h65        0.039000   0.024000   0.402000   0.145000  ...    0.245000   \n",
       "\n",
       "          country_81  country_82  country_83  country_84  country_85  \\\n",
       "gdpsh465    8.995537    8.234830    8.332549    8.645586    8.991064   \n",
       "bmp1l       0.000000    0.036300    0.000000    0.000000    0.000000   \n",
       "freeop      0.304720    0.288405    0.345485    0.288440    0.371898   \n",
       "freetar     0.011658    0.011589    0.006503    0.005995    0.014586   \n",
       "h65         0.246000    0.183000    0.188000    0.256000    0.255000   \n",
       "\n",
       "          country_86  country_87  country_88  country_89  \n",
       "gdpsh465    8.025189    9.030137    8.865312    8.912339  \n",
       "bmp1l       0.005000    0.000000    0.000000    0.000000  \n",
       "freeop      0.296437    0.265778    0.282939    0.150366  \n",
       "freetar     0.013615    0.008629    0.005048    0.024377  \n",
       "h65         0.108000    0.288000    0.188000    0.257000  \n",
       "\n",
       "[5 rows x 90 columns]"
      ]
     },
     "execution_count": null,
     "metadata": {},
     "output_type": "execute_result"
    }
   ],
   "source": [
    "X = X.iloc[:, 1:]\n",
    "countries = X.T\n",
    "countries.columns = ['country_' + str(c) for c in countries.columns]\n",
    "countries.head()"
   ]
  },
  {
   "cell_type": "markdown",
   "metadata": {},
   "source": [
    "Suppose we are interested in country No 13. What other countries are similar to it?\n",
    "\n",
    "First, country No 13 needs to be carved out of the DataFrame with the other countries.\n",
    "\n",
    "Second, we can now pass the larger DataFrame and country 13's data separately to an instance of `FindCluster`."
   ]
  },
  {
   "cell_type": "code",
   "execution_count": null,
   "metadata": {},
   "outputs": [],
   "source": [
    "country_of_interest = countries.pop('country_13')\n"
   ]
  },
  {
   "cell_type": "code",
   "execution_count": null,
   "metadata": {},
   "outputs": [
    {
     "data": {
      "text/html": [
       "<style>#sk-container-id-1 {color: black;background-color: white;}#sk-container-id-1 pre{padding: 0;}#sk-container-id-1 div.sk-toggleable {background-color: white;}#sk-container-id-1 label.sk-toggleable__label {cursor: pointer;display: block;width: 100%;margin-bottom: 0;padding: 0.3em;box-sizing: border-box;text-align: center;}#sk-container-id-1 label.sk-toggleable__label-arrow:before {content: \"▸\";float: left;margin-right: 0.25em;color: #696969;}#sk-container-id-1 label.sk-toggleable__label-arrow:hover:before {color: black;}#sk-container-id-1 div.sk-estimator:hover label.sk-toggleable__label-arrow:before {color: black;}#sk-container-id-1 div.sk-toggleable__content {max-height: 0;max-width: 0;overflow: hidden;text-align: left;background-color: #f0f8ff;}#sk-container-id-1 div.sk-toggleable__content pre {margin: 0.2em;color: black;border-radius: 0.25em;background-color: #f0f8ff;}#sk-container-id-1 input.sk-toggleable__control:checked~div.sk-toggleable__content {max-height: 200px;max-width: 100%;overflow: auto;}#sk-container-id-1 input.sk-toggleable__control:checked~label.sk-toggleable__label-arrow:before {content: \"▾\";}#sk-container-id-1 div.sk-estimator input.sk-toggleable__control:checked~label.sk-toggleable__label {background-color: #d4ebff;}#sk-container-id-1 div.sk-label input.sk-toggleable__control:checked~label.sk-toggleable__label {background-color: #d4ebff;}#sk-container-id-1 input.sk-hidden--visually {border: 0;clip: rect(1px 1px 1px 1px);clip: rect(1px, 1px, 1px, 1px);height: 1px;margin: -1px;overflow: hidden;padding: 0;position: absolute;width: 1px;}#sk-container-id-1 div.sk-estimator {font-family: monospace;background-color: #f0f8ff;border: 1px dotted black;border-radius: 0.25em;box-sizing: border-box;margin-bottom: 0.5em;}#sk-container-id-1 div.sk-estimator:hover {background-color: #d4ebff;}#sk-container-id-1 div.sk-parallel-item::after {content: \"\";width: 100%;border-bottom: 1px solid gray;flex-grow: 1;}#sk-container-id-1 div.sk-label:hover label.sk-toggleable__label {background-color: #d4ebff;}#sk-container-id-1 div.sk-serial::before {content: \"\";position: absolute;border-left: 1px solid gray;box-sizing: border-box;top: 0;bottom: 0;left: 50%;z-index: 0;}#sk-container-id-1 div.sk-serial {display: flex;flex-direction: column;align-items: center;background-color: white;padding-right: 0.2em;padding-left: 0.2em;position: relative;}#sk-container-id-1 div.sk-item {position: relative;z-index: 1;}#sk-container-id-1 div.sk-parallel {display: flex;align-items: stretch;justify-content: center;background-color: white;position: relative;}#sk-container-id-1 div.sk-item::before, #sk-container-id-1 div.sk-parallel-item::before {content: \"\";position: absolute;border-left: 1px solid gray;box-sizing: border-box;top: 0;bottom: 0;left: 50%;z-index: -1;}#sk-container-id-1 div.sk-parallel-item {display: flex;flex-direction: column;z-index: 1;position: relative;background-color: white;}#sk-container-id-1 div.sk-parallel-item:first-child::after {align-self: flex-end;width: 50%;}#sk-container-id-1 div.sk-parallel-item:last-child::after {align-self: flex-start;width: 50%;}#sk-container-id-1 div.sk-parallel-item:only-child::after {width: 0;}#sk-container-id-1 div.sk-dashed-wrapped {border: 1px dashed gray;margin: 0 0.4em 0.5em 0.4em;box-sizing: border-box;padding-bottom: 0.4em;background-color: white;}#sk-container-id-1 div.sk-label label {font-family: monospace;font-weight: bold;display: inline-block;line-height: 1.2em;}#sk-container-id-1 div.sk-label-container {text-align: center;}#sk-container-id-1 div.sk-container {/* jupyter's `normalize.less` sets `[hidden] { display: none; }` but bootstrap.min.css set `[hidden] { display: none !important; }` so we also need the `!important` here to be able to override the default hidden behavior on the sphinx rendered scikit-learn.org. See: https://github.com/scikit-learn/scikit-learn/issues/21755 */display: inline-block !important;position: relative;}#sk-container-id-1 div.sk-text-repr-fallback {display: none;}</style><div id=\"sk-container-id-1\" class=\"sk-top-container\"><div class=\"sk-text-repr-fallback\"><pre>FindCluster(cluster_alg=AffinityPropagation(convergence_iter=5000))</pre><b>In a Jupyter environment, please rerun this cell to show the HTML representation or trust the notebook. <br />On GitHub, the HTML representation is unable to render, please try loading this page with nbviewer.org.</b></div><div class=\"sk-container\" hidden><div class=\"sk-item sk-dashed-wrapped\"><div class=\"sk-label-container\"><div class=\"sk-label sk-toggleable\"><input class=\"sk-toggleable__control sk-hidden--visually\" id=\"sk-estimator-id-1\" type=\"checkbox\" ><label for=\"sk-estimator-id-1\" class=\"sk-toggleable__label sk-toggleable__label-arrow\">FindCluster</label><div class=\"sk-toggleable__content\"><pre>FindCluster(cluster_alg=AffinityPropagation(convergence_iter=5000))</pre></div></div></div><div class=\"sk-parallel\"><div class=\"sk-parallel-item\"><div class=\"sk-item\"><div class=\"sk-label-container\"><div class=\"sk-label sk-toggleable\"><input class=\"sk-toggleable__control sk-hidden--visually\" id=\"sk-estimator-id-2\" type=\"checkbox\" ><label for=\"sk-estimator-id-2\" class=\"sk-toggleable__label sk-toggleable__label-arrow\">cluster_alg: AffinityPropagation</label><div class=\"sk-toggleable__content\"><pre>AffinityPropagation(convergence_iter=5000)</pre></div></div></div><div class=\"sk-serial\"><div class=\"sk-item\"><div class=\"sk-estimator sk-toggleable\"><input class=\"sk-toggleable__control sk-hidden--visually\" id=\"sk-estimator-id-3\" type=\"checkbox\" ><label for=\"sk-estimator-id-3\" class=\"sk-toggleable__label sk-toggleable__label-arrow\">AffinityPropagation</label><div class=\"sk-toggleable__content\"><pre>AffinityPropagation(convergence_iter=5000)</pre></div></div></div></div></div></div></div></div></div></div>"
      ],
      "text/plain": [
       "FindCluster(cluster_alg=AffinityPropagation(convergence_iter=5000))"
      ]
     },
     "execution_count": null,
     "metadata": {},
     "output_type": "execute_result"
    }
   ],
   "source": [
    "similar = FindCluster(AffinityPropagation(convergence_iter=5000))\n",
    "similar"
   ]
  },
  {
   "cell_type": "code",
   "execution_count": null,
   "metadata": {},
   "outputs": [
    {
     "name": "stderr",
     "output_type": "stream",
     "text": [
      "/Users/douglasaraujo/Coding/.venv_gingado/lib/python3.10/site-packages/sklearn/cluster/_affinity_propagation.py:236: ConvergenceWarning: Affinity propagation did not converge, this model may return degenerate cluster centers and labels.\n",
      "  warnings.warn(\n",
      "/Users/douglasaraujo/Coding/.venv_gingado/lib/python3.10/site-packages/sklearn/cluster/_affinity_propagation.py:236: ConvergenceWarning: Affinity propagation did not converge, this model may return degenerate cluster centers and labels.\n",
      "  warnings.warn(\n"
     ]
    },
    {
     "data": {
      "text/html": [
       "<div>\n",
       "<style scoped>\n",
       "    .dataframe tbody tr th:only-of-type {\n",
       "        vertical-align: middle;\n",
       "    }\n",
       "\n",
       "    .dataframe tbody tr th {\n",
       "        vertical-align: top;\n",
       "    }\n",
       "\n",
       "    .dataframe thead th {\n",
       "        text-align: right;\n",
       "    }\n",
       "</style>\n",
       "<table border=\"1\" class=\"dataframe\">\n",
       "  <thead>\n",
       "    <tr style=\"text-align: right;\">\n",
       "      <th></th>\n",
       "      <th>country_2</th>\n",
       "      <th>country_9</th>\n",
       "      <th>country_41</th>\n",
       "      <th>country_48</th>\n",
       "      <th>country_49</th>\n",
       "      <th>country_52</th>\n",
       "      <th>country_60</th>\n",
       "      <th>country_64</th>\n",
       "      <th>country_66</th>\n",
       "    </tr>\n",
       "  </thead>\n",
       "  <tbody>\n",
       "    <tr>\n",
       "      <th>gdpsh465</th>\n",
       "      <td>8.895082</td>\n",
       "      <td>8.151910</td>\n",
       "      <td>7.360740</td>\n",
       "      <td>6.469250</td>\n",
       "      <td>5.762051</td>\n",
       "      <td>9.224933</td>\n",
       "      <td>8.346168</td>\n",
       "      <td>7.655864</td>\n",
       "      <td>7.830028</td>\n",
       "    </tr>\n",
       "    <tr>\n",
       "      <th>bmp1l</th>\n",
       "      <td>0.000000</td>\n",
       "      <td>0.148400</td>\n",
       "      <td>0.418100</td>\n",
       "      <td>0.538800</td>\n",
       "      <td>0.600500</td>\n",
       "      <td>0.000000</td>\n",
       "      <td>0.319900</td>\n",
       "      <td>0.134500</td>\n",
       "      <td>0.488000</td>\n",
       "    </tr>\n",
       "    <tr>\n",
       "      <th>freeop</th>\n",
       "      <td>0.204244</td>\n",
       "      <td>0.110885</td>\n",
       "      <td>0.218471</td>\n",
       "      <td>0.153491</td>\n",
       "      <td>0.151848</td>\n",
       "      <td>0.204244</td>\n",
       "      <td>0.110885</td>\n",
       "      <td>0.164598</td>\n",
       "      <td>0.136287</td>\n",
       "    </tr>\n",
       "    <tr>\n",
       "      <th>freetar</th>\n",
       "      <td>0.009186</td>\n",
       "      <td>0.028579</td>\n",
       "      <td>0.027087</td>\n",
       "      <td>0.043888</td>\n",
       "      <td>0.024100</td>\n",
       "      <td>0.009186</td>\n",
       "      <td>0.028579</td>\n",
       "      <td>0.044446</td>\n",
       "      <td>0.046730</td>\n",
       "    </tr>\n",
       "    <tr>\n",
       "      <th>h65</th>\n",
       "      <td>0.260000</td>\n",
       "      <td>0.145000</td>\n",
       "      <td>0.032000</td>\n",
       "      <td>0.015000</td>\n",
       "      <td>0.002000</td>\n",
       "      <td>0.393000</td>\n",
       "      <td>0.272000</td>\n",
       "      <td>0.080000</td>\n",
       "      <td>0.146000</td>\n",
       "    </tr>\n",
       "    <tr>\n",
       "      <th>...</th>\n",
       "      <td>...</td>\n",
       "      <td>...</td>\n",
       "      <td>...</td>\n",
       "      <td>...</td>\n",
       "      <td>...</td>\n",
       "      <td>...</td>\n",
       "      <td>...</td>\n",
       "      <td>...</td>\n",
       "      <td>...</td>\n",
       "    </tr>\n",
       "    <tr>\n",
       "      <th>ex1</th>\n",
       "      <td>0.174100</td>\n",
       "      <td>0.052400</td>\n",
       "      <td>0.190500</td>\n",
       "      <td>0.069200</td>\n",
       "      <td>0.148400</td>\n",
       "      <td>0.255800</td>\n",
       "      <td>0.062500</td>\n",
       "      <td>0.052500</td>\n",
       "      <td>0.076400</td>\n",
       "    </tr>\n",
       "    <tr>\n",
       "      <th>im1</th>\n",
       "      <td>0.175000</td>\n",
       "      <td>0.052300</td>\n",
       "      <td>0.225700</td>\n",
       "      <td>0.074800</td>\n",
       "      <td>0.186400</td>\n",
       "      <td>0.241200</td>\n",
       "      <td>0.057800</td>\n",
       "      <td>0.057200</td>\n",
       "      <td>0.086600</td>\n",
       "    </tr>\n",
       "    <tr>\n",
       "      <th>xr65</th>\n",
       "      <td>1.082000</td>\n",
       "      <td>2.119000</td>\n",
       "      <td>3.949000</td>\n",
       "      <td>0.348000</td>\n",
       "      <td>7.367000</td>\n",
       "      <td>1.017000</td>\n",
       "      <td>36.603000</td>\n",
       "      <td>30.929000</td>\n",
       "      <td>40.500000</td>\n",
       "    </tr>\n",
       "    <tr>\n",
       "      <th>tot1</th>\n",
       "      <td>-0.010040</td>\n",
       "      <td>0.007584</td>\n",
       "      <td>0.205768</td>\n",
       "      <td>0.035226</td>\n",
       "      <td>0.007548</td>\n",
       "      <td>0.018636</td>\n",
       "      <td>0.014286</td>\n",
       "      <td>-0.004592</td>\n",
       "      <td>-0.007018</td>\n",
       "    </tr>\n",
       "    <tr>\n",
       "      <th>gdp</th>\n",
       "      <td>0.067051</td>\n",
       "      <td>0.039147</td>\n",
       "      <td>0.016775</td>\n",
       "      <td>-0.048712</td>\n",
       "      <td>0.024477</td>\n",
       "      <td>0.050757</td>\n",
       "      <td>-0.034045</td>\n",
       "      <td>0.046010</td>\n",
       "      <td>-0.011384</td>\n",
       "    </tr>\n",
       "  </tbody>\n",
       "</table>\n",
       "<p>62 rows × 9 columns</p>\n",
       "</div>"
      ],
      "text/plain": [
       "          country_2  country_9  country_41  country_48  country_49  \\\n",
       "gdpsh465   8.895082   8.151910    7.360740    6.469250    5.762051   \n",
       "bmp1l      0.000000   0.148400    0.418100    0.538800    0.600500   \n",
       "freeop     0.204244   0.110885    0.218471    0.153491    0.151848   \n",
       "freetar    0.009186   0.028579    0.027087    0.043888    0.024100   \n",
       "h65        0.260000   0.145000    0.032000    0.015000    0.002000   \n",
       "...             ...        ...         ...         ...         ...   \n",
       "ex1        0.174100   0.052400    0.190500    0.069200    0.148400   \n",
       "im1        0.175000   0.052300    0.225700    0.074800    0.186400   \n",
       "xr65       1.082000   2.119000    3.949000    0.348000    7.367000   \n",
       "tot1      -0.010040   0.007584    0.205768    0.035226    0.007548   \n",
       "gdp        0.067051   0.039147    0.016775   -0.048712    0.024477   \n",
       "\n",
       "          country_52  country_60  country_64  country_66  \n",
       "gdpsh465    9.224933    8.346168    7.655864    7.830028  \n",
       "bmp1l       0.000000    0.319900    0.134500    0.488000  \n",
       "freeop      0.204244    0.110885    0.164598    0.136287  \n",
       "freetar     0.009186    0.028579    0.044446    0.046730  \n",
       "h65         0.393000    0.272000    0.080000    0.146000  \n",
       "...              ...         ...         ...         ...  \n",
       "ex1         0.255800    0.062500    0.052500    0.076400  \n",
       "im1         0.241200    0.057800    0.057200    0.086600  \n",
       "xr65        1.017000   36.603000   30.929000   40.500000  \n",
       "tot1        0.018636    0.014286   -0.004592   -0.007018  \n",
       "gdp         0.050757   -0.034045    0.046010   -0.011384  \n",
       "\n",
       "[62 rows x 9 columns]"
      ]
     },
     "execution_count": null,
     "metadata": {},
     "output_type": "execute_result"
    }
   ],
   "source": [
    "same_cluster = similar.fit_transform(X=countries, y=country_of_interest)\n",
    "\n",
    "assert same_cluster.equals(similar.fit(X=countries, y=country_of_interest).transform(X=countries))\n",
    "\n",
    "same_cluster"
   ]
  },
  {
   "cell_type": "markdown",
   "metadata": {},
   "source": [
    "The default clustering algorithm used by `FindCluster` is affinity propagation [@frey2007clustering]. It is the algorithm of choice because of it combines several desireable characteristics, in particular:\n",
    "- the number of clusters is data-driven instad of set by the user,\n",
    "- the number of entities in each cluster is also chosen by the model, \n",
    "- all entities are part of a cluster, and\n",
    "- each cluster might have a different number of entities.\n",
    "\n",
    "However, we may want to try different clustering algorithms. Let's compare the result above with the same analyses using DBSCAN [@ester1996density]."
   ]
  },
  {
   "cell_type": "code",
   "execution_count": null,
   "metadata": {},
   "outputs": [],
   "source": [
    "from sklearn.cluster import DBSCAN"
   ]
  },
  {
   "cell_type": "code",
   "execution_count": null,
   "metadata": {},
   "outputs": [
    {
     "data": {
      "text/html": [
       "<style>#sk-container-id-2 {color: black;background-color: white;}#sk-container-id-2 pre{padding: 0;}#sk-container-id-2 div.sk-toggleable {background-color: white;}#sk-container-id-2 label.sk-toggleable__label {cursor: pointer;display: block;width: 100%;margin-bottom: 0;padding: 0.3em;box-sizing: border-box;text-align: center;}#sk-container-id-2 label.sk-toggleable__label-arrow:before {content: \"▸\";float: left;margin-right: 0.25em;color: #696969;}#sk-container-id-2 label.sk-toggleable__label-arrow:hover:before {color: black;}#sk-container-id-2 div.sk-estimator:hover label.sk-toggleable__label-arrow:before {color: black;}#sk-container-id-2 div.sk-toggleable__content {max-height: 0;max-width: 0;overflow: hidden;text-align: left;background-color: #f0f8ff;}#sk-container-id-2 div.sk-toggleable__content pre {margin: 0.2em;color: black;border-radius: 0.25em;background-color: #f0f8ff;}#sk-container-id-2 input.sk-toggleable__control:checked~div.sk-toggleable__content {max-height: 200px;max-width: 100%;overflow: auto;}#sk-container-id-2 input.sk-toggleable__control:checked~label.sk-toggleable__label-arrow:before {content: \"▾\";}#sk-container-id-2 div.sk-estimator input.sk-toggleable__control:checked~label.sk-toggleable__label {background-color: #d4ebff;}#sk-container-id-2 div.sk-label input.sk-toggleable__control:checked~label.sk-toggleable__label {background-color: #d4ebff;}#sk-container-id-2 input.sk-hidden--visually {border: 0;clip: rect(1px 1px 1px 1px);clip: rect(1px, 1px, 1px, 1px);height: 1px;margin: -1px;overflow: hidden;padding: 0;position: absolute;width: 1px;}#sk-container-id-2 div.sk-estimator {font-family: monospace;background-color: #f0f8ff;border: 1px dotted black;border-radius: 0.25em;box-sizing: border-box;margin-bottom: 0.5em;}#sk-container-id-2 div.sk-estimator:hover {background-color: #d4ebff;}#sk-container-id-2 div.sk-parallel-item::after {content: \"\";width: 100%;border-bottom: 1px solid gray;flex-grow: 1;}#sk-container-id-2 div.sk-label:hover label.sk-toggleable__label {background-color: #d4ebff;}#sk-container-id-2 div.sk-serial::before {content: \"\";position: absolute;border-left: 1px solid gray;box-sizing: border-box;top: 0;bottom: 0;left: 50%;z-index: 0;}#sk-container-id-2 div.sk-serial {display: flex;flex-direction: column;align-items: center;background-color: white;padding-right: 0.2em;padding-left: 0.2em;position: relative;}#sk-container-id-2 div.sk-item {position: relative;z-index: 1;}#sk-container-id-2 div.sk-parallel {display: flex;align-items: stretch;justify-content: center;background-color: white;position: relative;}#sk-container-id-2 div.sk-item::before, #sk-container-id-2 div.sk-parallel-item::before {content: \"\";position: absolute;border-left: 1px solid gray;box-sizing: border-box;top: 0;bottom: 0;left: 50%;z-index: -1;}#sk-container-id-2 div.sk-parallel-item {display: flex;flex-direction: column;z-index: 1;position: relative;background-color: white;}#sk-container-id-2 div.sk-parallel-item:first-child::after {align-self: flex-end;width: 50%;}#sk-container-id-2 div.sk-parallel-item:last-child::after {align-self: flex-start;width: 50%;}#sk-container-id-2 div.sk-parallel-item:only-child::after {width: 0;}#sk-container-id-2 div.sk-dashed-wrapped {border: 1px dashed gray;margin: 0 0.4em 0.5em 0.4em;box-sizing: border-box;padding-bottom: 0.4em;background-color: white;}#sk-container-id-2 div.sk-label label {font-family: monospace;font-weight: bold;display: inline-block;line-height: 1.2em;}#sk-container-id-2 div.sk-label-container {text-align: center;}#sk-container-id-2 div.sk-container {/* jupyter's `normalize.less` sets `[hidden] { display: none; }` but bootstrap.min.css set `[hidden] { display: none !important; }` so we also need the `!important` here to be able to override the default hidden behavior on the sphinx rendered scikit-learn.org. See: https://github.com/scikit-learn/scikit-learn/issues/21755 */display: inline-block !important;position: relative;}#sk-container-id-2 div.sk-text-repr-fallback {display: none;}</style><div id=\"sk-container-id-2\" class=\"sk-top-container\"><div class=\"sk-text-repr-fallback\"><pre>FindCluster(cluster_alg=DBSCAN())</pre><b>In a Jupyter environment, please rerun this cell to show the HTML representation or trust the notebook. <br />On GitHub, the HTML representation is unable to render, please try loading this page with nbviewer.org.</b></div><div class=\"sk-container\" hidden><div class=\"sk-item sk-dashed-wrapped\"><div class=\"sk-label-container\"><div class=\"sk-label sk-toggleable\"><input class=\"sk-toggleable__control sk-hidden--visually\" id=\"sk-estimator-id-4\" type=\"checkbox\" ><label for=\"sk-estimator-id-4\" class=\"sk-toggleable__label sk-toggleable__label-arrow\">FindCluster</label><div class=\"sk-toggleable__content\"><pre>FindCluster(cluster_alg=DBSCAN())</pre></div></div></div><div class=\"sk-parallel\"><div class=\"sk-parallel-item\"><div class=\"sk-item\"><div class=\"sk-label-container\"><div class=\"sk-label sk-toggleable\"><input class=\"sk-toggleable__control sk-hidden--visually\" id=\"sk-estimator-id-5\" type=\"checkbox\" ><label for=\"sk-estimator-id-5\" class=\"sk-toggleable__label sk-toggleable__label-arrow\">cluster_alg: DBSCAN</label><div class=\"sk-toggleable__content\"><pre>DBSCAN()</pre></div></div></div><div class=\"sk-serial\"><div class=\"sk-item\"><div class=\"sk-estimator sk-toggleable\"><input class=\"sk-toggleable__control sk-hidden--visually\" id=\"sk-estimator-id-6\" type=\"checkbox\" ><label for=\"sk-estimator-id-6\" class=\"sk-toggleable__label sk-toggleable__label-arrow\">DBSCAN</label><div class=\"sk-toggleable__content\"><pre>DBSCAN()</pre></div></div></div></div></div></div></div></div></div></div>"
      ],
      "text/plain": [
       "FindCluster(cluster_alg=DBSCAN())"
      ]
     },
     "execution_count": null,
     "metadata": {},
     "output_type": "execute_result"
    }
   ],
   "source": [
    "similar_dbscan = FindCluster(cluster_alg=DBSCAN())\n",
    "similar_dbscan"
   ]
  },
  {
   "cell_type": "code",
   "execution_count": null,
   "metadata": {},
   "outputs": [
    {
     "data": {
      "text/html": [
       "<div>\n",
       "<style scoped>\n",
       "    .dataframe tbody tr th:only-of-type {\n",
       "        vertical-align: middle;\n",
       "    }\n",
       "\n",
       "    .dataframe tbody tr th {\n",
       "        vertical-align: top;\n",
       "    }\n",
       "\n",
       "    .dataframe thead th {\n",
       "        text-align: right;\n",
       "    }\n",
       "</style>\n",
       "<table border=\"1\" class=\"dataframe\">\n",
       "  <thead>\n",
       "    <tr style=\"text-align: right;\">\n",
       "      <th></th>\n",
       "      <th>country_0</th>\n",
       "      <th>country_1</th>\n",
       "      <th>country_2</th>\n",
       "      <th>country_3</th>\n",
       "      <th>country_4</th>\n",
       "      <th>country_5</th>\n",
       "      <th>country_6</th>\n",
       "      <th>country_7</th>\n",
       "      <th>country_8</th>\n",
       "      <th>country_9</th>\n",
       "      <th>...</th>\n",
       "      <th>country_80</th>\n",
       "      <th>country_81</th>\n",
       "      <th>country_82</th>\n",
       "      <th>country_83</th>\n",
       "      <th>country_84</th>\n",
       "      <th>country_85</th>\n",
       "      <th>country_86</th>\n",
       "      <th>country_87</th>\n",
       "      <th>country_88</th>\n",
       "      <th>country_89</th>\n",
       "    </tr>\n",
       "  </thead>\n",
       "  <tbody>\n",
       "    <tr>\n",
       "      <th>gdpsh465</th>\n",
       "      <td>6.591674</td>\n",
       "      <td>6.829794</td>\n",
       "      <td>8.895082</td>\n",
       "      <td>7.565275</td>\n",
       "      <td>7.162397</td>\n",
       "      <td>7.218910</td>\n",
       "      <td>7.853605</td>\n",
       "      <td>7.703910</td>\n",
       "      <td>9.063463</td>\n",
       "      <td>8.151910</td>\n",
       "      <td>...</td>\n",
       "      <td>9.030974</td>\n",
       "      <td>8.995537</td>\n",
       "      <td>8.234830</td>\n",
       "      <td>8.332549</td>\n",
       "      <td>8.645586</td>\n",
       "      <td>8.991064</td>\n",
       "      <td>8.025189</td>\n",
       "      <td>9.030137</td>\n",
       "      <td>8.865312</td>\n",
       "      <td>8.912339</td>\n",
       "    </tr>\n",
       "    <tr>\n",
       "      <th>bmp1l</th>\n",
       "      <td>0.283700</td>\n",
       "      <td>0.614100</td>\n",
       "      <td>0.000000</td>\n",
       "      <td>0.199700</td>\n",
       "      <td>0.174000</td>\n",
       "      <td>0.000000</td>\n",
       "      <td>0.000000</td>\n",
       "      <td>0.277600</td>\n",
       "      <td>0.000000</td>\n",
       "      <td>0.148400</td>\n",
       "      <td>...</td>\n",
       "      <td>0.000000</td>\n",
       "      <td>0.000000</td>\n",
       "      <td>0.036300</td>\n",
       "      <td>0.000000</td>\n",
       "      <td>0.000000</td>\n",
       "      <td>0.000000</td>\n",
       "      <td>0.005000</td>\n",
       "      <td>0.000000</td>\n",
       "      <td>0.000000</td>\n",
       "      <td>0.000000</td>\n",
       "    </tr>\n",
       "    <tr>\n",
       "      <th>freeop</th>\n",
       "      <td>0.153491</td>\n",
       "      <td>0.313509</td>\n",
       "      <td>0.204244</td>\n",
       "      <td>0.248714</td>\n",
       "      <td>0.299252</td>\n",
       "      <td>0.258865</td>\n",
       "      <td>0.182525</td>\n",
       "      <td>0.215275</td>\n",
       "      <td>0.109614</td>\n",
       "      <td>0.110885</td>\n",
       "      <td>...</td>\n",
       "      <td>0.293138</td>\n",
       "      <td>0.304720</td>\n",
       "      <td>0.288405</td>\n",
       "      <td>0.345485</td>\n",
       "      <td>0.288440</td>\n",
       "      <td>0.371898</td>\n",
       "      <td>0.296437</td>\n",
       "      <td>0.265778</td>\n",
       "      <td>0.282939</td>\n",
       "      <td>0.150366</td>\n",
       "    </tr>\n",
       "    <tr>\n",
       "      <th>freetar</th>\n",
       "      <td>0.043888</td>\n",
       "      <td>0.061827</td>\n",
       "      <td>0.009186</td>\n",
       "      <td>0.036270</td>\n",
       "      <td>0.037367</td>\n",
       "      <td>0.020880</td>\n",
       "      <td>0.014385</td>\n",
       "      <td>0.029713</td>\n",
       "      <td>0.002171</td>\n",
       "      <td>0.028579</td>\n",
       "      <td>...</td>\n",
       "      <td>0.005517</td>\n",
       "      <td>0.011658</td>\n",
       "      <td>0.011589</td>\n",
       "      <td>0.006503</td>\n",
       "      <td>0.005995</td>\n",
       "      <td>0.014586</td>\n",
       "      <td>0.013615</td>\n",
       "      <td>0.008629</td>\n",
       "      <td>0.005048</td>\n",
       "      <td>0.024377</td>\n",
       "    </tr>\n",
       "    <tr>\n",
       "      <th>h65</th>\n",
       "      <td>0.007000</td>\n",
       "      <td>0.019000</td>\n",
       "      <td>0.260000</td>\n",
       "      <td>0.061000</td>\n",
       "      <td>0.017000</td>\n",
       "      <td>0.023000</td>\n",
       "      <td>0.039000</td>\n",
       "      <td>0.024000</td>\n",
       "      <td>0.402000</td>\n",
       "      <td>0.145000</td>\n",
       "      <td>...</td>\n",
       "      <td>0.245000</td>\n",
       "      <td>0.246000</td>\n",
       "      <td>0.183000</td>\n",
       "      <td>0.188000</td>\n",
       "      <td>0.256000</td>\n",
       "      <td>0.255000</td>\n",
       "      <td>0.108000</td>\n",
       "      <td>0.288000</td>\n",
       "      <td>0.188000</td>\n",
       "      <td>0.257000</td>\n",
       "    </tr>\n",
       "    <tr>\n",
       "      <th>...</th>\n",
       "      <td>...</td>\n",
       "      <td>...</td>\n",
       "      <td>...</td>\n",
       "      <td>...</td>\n",
       "      <td>...</td>\n",
       "      <td>...</td>\n",
       "      <td>...</td>\n",
       "      <td>...</td>\n",
       "      <td>...</td>\n",
       "      <td>...</td>\n",
       "      <td>...</td>\n",
       "      <td>...</td>\n",
       "      <td>...</td>\n",
       "      <td>...</td>\n",
       "      <td>...</td>\n",
       "      <td>...</td>\n",
       "      <td>...</td>\n",
       "      <td>...</td>\n",
       "      <td>...</td>\n",
       "      <td>...</td>\n",
       "      <td>...</td>\n",
       "    </tr>\n",
       "    <tr>\n",
       "      <th>ex1</th>\n",
       "      <td>0.072900</td>\n",
       "      <td>0.094000</td>\n",
       "      <td>0.174100</td>\n",
       "      <td>0.126500</td>\n",
       "      <td>0.121100</td>\n",
       "      <td>0.063400</td>\n",
       "      <td>0.034200</td>\n",
       "      <td>0.086400</td>\n",
       "      <td>0.059400</td>\n",
       "      <td>0.052400</td>\n",
       "      <td>...</td>\n",
       "      <td>0.166200</td>\n",
       "      <td>0.259700</td>\n",
       "      <td>0.104400</td>\n",
       "      <td>0.286600</td>\n",
       "      <td>0.129600</td>\n",
       "      <td>0.440700</td>\n",
       "      <td>0.166900</td>\n",
       "      <td>0.323800</td>\n",
       "      <td>0.184500</td>\n",
       "      <td>0.187600</td>\n",
       "    </tr>\n",
       "    <tr>\n",
       "      <th>im1</th>\n",
       "      <td>0.066700</td>\n",
       "      <td>0.143800</td>\n",
       "      <td>0.175000</td>\n",
       "      <td>0.149600</td>\n",
       "      <td>0.130800</td>\n",
       "      <td>0.076200</td>\n",
       "      <td>0.042800</td>\n",
       "      <td>0.093100</td>\n",
       "      <td>0.046000</td>\n",
       "      <td>0.052300</td>\n",
       "      <td>...</td>\n",
       "      <td>0.161700</td>\n",
       "      <td>0.228800</td>\n",
       "      <td>0.179600</td>\n",
       "      <td>0.350000</td>\n",
       "      <td>0.145800</td>\n",
       "      <td>0.425700</td>\n",
       "      <td>0.220100</td>\n",
       "      <td>0.313400</td>\n",
       "      <td>0.194000</td>\n",
       "      <td>0.200700</td>\n",
       "    </tr>\n",
       "    <tr>\n",
       "      <th>xr65</th>\n",
       "      <td>0.348000</td>\n",
       "      <td>0.525000</td>\n",
       "      <td>1.082000</td>\n",
       "      <td>6.625000</td>\n",
       "      <td>2.500000</td>\n",
       "      <td>1.000000</td>\n",
       "      <td>12.499000</td>\n",
       "      <td>7.000000</td>\n",
       "      <td>1.000000</td>\n",
       "      <td>2.119000</td>\n",
       "      <td>...</td>\n",
       "      <td>4.286000</td>\n",
       "      <td>2.460000</td>\n",
       "      <td>32.051000</td>\n",
       "      <td>0.452000</td>\n",
       "      <td>652.850000</td>\n",
       "      <td>2.529000</td>\n",
       "      <td>25.553000</td>\n",
       "      <td>4.152000</td>\n",
       "      <td>0.452000</td>\n",
       "      <td>0.886000</td>\n",
       "    </tr>\n",
       "    <tr>\n",
       "      <th>tot1</th>\n",
       "      <td>-0.014727</td>\n",
       "      <td>0.005750</td>\n",
       "      <td>-0.010040</td>\n",
       "      <td>-0.002195</td>\n",
       "      <td>0.003283</td>\n",
       "      <td>-0.001747</td>\n",
       "      <td>0.009092</td>\n",
       "      <td>0.011630</td>\n",
       "      <td>0.008169</td>\n",
       "      <td>0.007584</td>\n",
       "      <td>...</td>\n",
       "      <td>-0.006642</td>\n",
       "      <td>-0.003241</td>\n",
       "      <td>-0.034352</td>\n",
       "      <td>-0.001660</td>\n",
       "      <td>-0.046278</td>\n",
       "      <td>-0.011883</td>\n",
       "      <td>-0.039080</td>\n",
       "      <td>0.005175</td>\n",
       "      <td>-0.029551</td>\n",
       "      <td>-0.036482</td>\n",
       "    </tr>\n",
       "    <tr>\n",
       "      <th>gdp</th>\n",
       "      <td>-0.024336</td>\n",
       "      <td>0.100473</td>\n",
       "      <td>0.067051</td>\n",
       "      <td>0.064089</td>\n",
       "      <td>0.027930</td>\n",
       "      <td>0.046407</td>\n",
       "      <td>0.067332</td>\n",
       "      <td>0.020978</td>\n",
       "      <td>0.033551</td>\n",
       "      <td>0.039147</td>\n",
       "      <td>...</td>\n",
       "      <td>0.038095</td>\n",
       "      <td>0.034213</td>\n",
       "      <td>0.052759</td>\n",
       "      <td>0.038416</td>\n",
       "      <td>0.031895</td>\n",
       "      <td>0.031196</td>\n",
       "      <td>0.034096</td>\n",
       "      <td>0.046900</td>\n",
       "      <td>0.039773</td>\n",
       "      <td>0.040642</td>\n",
       "    </tr>\n",
       "  </tbody>\n",
       "</table>\n",
       "<p>62 rows × 89 columns</p>\n",
       "</div>"
      ],
      "text/plain": [
       "          country_0  country_1  country_2  country_3  country_4  country_5  \\\n",
       "gdpsh465   6.591674   6.829794   8.895082   7.565275   7.162397   7.218910   \n",
       "bmp1l      0.283700   0.614100   0.000000   0.199700   0.174000   0.000000   \n",
       "freeop     0.153491   0.313509   0.204244   0.248714   0.299252   0.258865   \n",
       "freetar    0.043888   0.061827   0.009186   0.036270   0.037367   0.020880   \n",
       "h65        0.007000   0.019000   0.260000   0.061000   0.017000   0.023000   \n",
       "...             ...        ...        ...        ...        ...        ...   \n",
       "ex1        0.072900   0.094000   0.174100   0.126500   0.121100   0.063400   \n",
       "im1        0.066700   0.143800   0.175000   0.149600   0.130800   0.076200   \n",
       "xr65       0.348000   0.525000   1.082000   6.625000   2.500000   1.000000   \n",
       "tot1      -0.014727   0.005750  -0.010040  -0.002195   0.003283  -0.001747   \n",
       "gdp       -0.024336   0.100473   0.067051   0.064089   0.027930   0.046407   \n",
       "\n",
       "          country_6  country_7  country_8  country_9  ...  country_80  \\\n",
       "gdpsh465   7.853605   7.703910   9.063463   8.151910  ...    9.030974   \n",
       "bmp1l      0.000000   0.277600   0.000000   0.148400  ...    0.000000   \n",
       "freeop     0.182525   0.215275   0.109614   0.110885  ...    0.293138   \n",
       "freetar    0.014385   0.029713   0.002171   0.028579  ...    0.005517   \n",
       "h65        0.039000   0.024000   0.402000   0.145000  ...    0.245000   \n",
       "...             ...        ...        ...        ...  ...         ...   \n",
       "ex1        0.034200   0.086400   0.059400   0.052400  ...    0.166200   \n",
       "im1        0.042800   0.093100   0.046000   0.052300  ...    0.161700   \n",
       "xr65      12.499000   7.000000   1.000000   2.119000  ...    4.286000   \n",
       "tot1       0.009092   0.011630   0.008169   0.007584  ...   -0.006642   \n",
       "gdp        0.067332   0.020978   0.033551   0.039147  ...    0.038095   \n",
       "\n",
       "          country_81  country_82  country_83  country_84  country_85  \\\n",
       "gdpsh465    8.995537    8.234830    8.332549    8.645586    8.991064   \n",
       "bmp1l       0.000000    0.036300    0.000000    0.000000    0.000000   \n",
       "freeop      0.304720    0.288405    0.345485    0.288440    0.371898   \n",
       "freetar     0.011658    0.011589    0.006503    0.005995    0.014586   \n",
       "h65         0.246000    0.183000    0.188000    0.256000    0.255000   \n",
       "...              ...         ...         ...         ...         ...   \n",
       "ex1         0.259700    0.104400    0.286600    0.129600    0.440700   \n",
       "im1         0.228800    0.179600    0.350000    0.145800    0.425700   \n",
       "xr65        2.460000   32.051000    0.452000  652.850000    2.529000   \n",
       "tot1       -0.003241   -0.034352   -0.001660   -0.046278   -0.011883   \n",
       "gdp         0.034213    0.052759    0.038416    0.031895    0.031196   \n",
       "\n",
       "          country_86  country_87  country_88  country_89  \n",
       "gdpsh465    8.025189    9.030137    8.865312    8.912339  \n",
       "bmp1l       0.005000    0.000000    0.000000    0.000000  \n",
       "freeop      0.296437    0.265778    0.282939    0.150366  \n",
       "freetar     0.013615    0.008629    0.005048    0.024377  \n",
       "h65         0.108000    0.288000    0.188000    0.257000  \n",
       "...              ...         ...         ...         ...  \n",
       "ex1         0.166900    0.323800    0.184500    0.187600  \n",
       "im1         0.220100    0.313400    0.194000    0.200700  \n",
       "xr65       25.553000    4.152000    0.452000    0.886000  \n",
       "tot1       -0.039080    0.005175   -0.029551   -0.036482  \n",
       "gdp         0.034096    0.046900    0.039773    0.040642  \n",
       "\n",
       "[62 rows x 89 columns]"
      ]
     },
     "execution_count": null,
     "metadata": {},
     "output_type": "execute_result"
    }
   ],
   "source": [
    "same_cluster_dbscan = similar_dbscan.fit_transform(X=countries, y=country_of_interest)\n",
    "\n",
    "assert same_cluster_dbscan.equals(similar_dbscan.fit(X=countries, y=country_of_interest).transform(X=countries))\n",
    "\n",
    "same_cluster_dbscan"
   ]
  },
  {
   "cell_type": "markdown",
   "metadata": {},
   "source": [
    "As illustrated above, the results can be quite different. In this case, affinity propagation converged to more tightly defined clusters, while DBSCAN selected a cluster that contains almost all other countries (therefore, not useful in this particular case)."
   ]
  },
  {
   "cell_type": "markdown",
   "metadata": {},
   "source": [
    "`FindCluster` can also be used as part of a [`pipeline`](https://scikit-learn.org/stable/modules/generated/sklearn.pipeline.Pipeline.html#sklearn.pipeline.Pipeline). In this case, only the entities in the same cluster as the entity of interest will continue on to the next steps of the estimation."
   ]
  },
  {
   "cell_type": "markdown",
   "metadata": {},
   "source": [
    "# Measure-focused tasks"
   ]
  },
  {
   "cell_type": "markdown",
   "metadata": {},
   "source": [
    "## Machine controls\n",
    "\n",
    "> The machine learning version of synthetic controls methodology (@abadie2021using)\n"
   ]
  },
  {
   "cell_type": "code",
   "execution_count": null,
   "metadata": {},
   "outputs": [],
   "source": [
    "#| include: false\n",
    "#| export\n",
    "\n",
    "import pandas as pd\n",
    "\n",
    "from gingado.benchmark import ggdBenchmark, RegressionBenchmark\n",
    "from gingado.model_documentation import ggdModelDocumentation, ModelCard\n",
    "from sklearn.base import check_is_fitted\n",
    "from sklearn.pipeline import Pipeline\n",
    "from sklearn.manifold import TSNE\n",
    "from scipy.spatial.distance import pdist, squareform"
   ]
  },
  {
   "cell_type": "code",
   "execution_count": null,
   "metadata": {},
   "outputs": [],
   "source": [
    "#| include: false\n",
    "#| export\n",
    "\n",
    "class MachineControl(BaseEstimator):\n",
    "    \"Estimate synthetic controls with machine learning methods\"\n",
    "\n",
    "    def __init__(\n",
    "        self,\n",
    "        # An instance of the clustering algorithm to use, or None to retain all entities\n",
    "        cluster_alg:[BaseEstimator,ClusterMixin]|None=AffinityPropagation(),\n",
    "        # Method to weight the control entities\n",
    "        estimator:BaseEstimator=RegressionBenchmark(), \n",
    "        # Algorithm for manifold learning\n",
    "        manifold:BaseEstimator=TSNE(),\n",
    "        # Include placebo estimations during prediction?\n",
    "        with_placebo:bool=True,\n",
    "        # The random seed to be used by the algorithm, if relevant\n",
    "        random_state:int|None=None,\n",
    "        # gingado Documenter template to facilitate model documentation\n",
    "        auto_document:ggdModelDocumentation=ModelCard\n",
    "    ):\n",
    "        self.cluster_alg = cluster_alg\n",
    "        self.estimator = estimator\n",
    "        self.manifold = manifold\n",
    "        self.with_placebo = with_placebo\n",
    "        self.random_state = random_state\n",
    "        self.auto_document = auto_document\n",
    "\n",
    "        if hasattr(self.cluster_alg, \"random_state\"):\n",
    "            self.cluster_alg.set_params(random_state=self.random_state)\n",
    "        if hasattr(self.estimator, \"random_state\"):\n",
    "            self.estimator.set_params(random_state=self.random_state)\n",
    "        if hasattr(self.manifold, \"random_state\"):\n",
    "            self.manifold.set_params(random_state=self.random_state)    \n",
    "\n",
    "        self.pipeline = Pipeline([\n",
    "            ('donor_pool', self.cluster_alg),\n",
    "            ('estimator', self.estimator)\n",
    "        ])\n",
    "\n",
    "    def _placebo(self):\n",
    "        pass\n",
    "\n",
    "    def _select_controls(\n",
    "        self,\n",
    "        X:pd.DataFrame, # A pandas DataFrame with pre-intervention data of shape (n_samples, n_control_entites)\n",
    "        y:pd.DataFrame|pd.Series # A pandas DataFrame or Series with pre-intervention data of shape (n_samples,)\n",
    "    ): # \n",
    "        \"Identifies which columns of `X` should be used as controls\"\n",
    "        if self.cluster_alg is None:\n",
    "            self.donor_pool_ = X.columns\n",
    "        else:\n",
    "            Xy = pd.concat([X, y], axis=1)\n",
    "            self.cluster_alg.fit(Xy.T)\n",
    "            idx_y = Xy.columns == y.name\n",
    "            self.donor_pool_ = [\n",
    "                c for c in Xy.columns[self.cluster_alg.labels_ == self.cluster_alg.labels_[idx_y]]\n",
    "                if c != y.name\n",
    "            ]\n",
    "\n",
    "    def get_controls(self):\n",
    "        \"Get the list of control entities\"\n",
    "        if hasattr(self, \"donor_pool_\"):\n",
    "            return self.donor_pool_\n",
    "        else:\n",
    "            \"Controls not selected yet\"\n",
    "\n",
    "    def _compare_controls(\n",
    "        self,\n",
    "        X:np.ndarray, # Array-like pre-intervention data of shape (n_samples, n_control_entites)\n",
    "        y:np.ndarray # Array-like pre-intervention data of shape (n_samples,)\n",
    "    )->[np.ndarray, np.ndarray]: # 2-d representation of the treated entity, controls, and the synthetic control\n",
    "        \"Calculates the 2-d manifold learning distribution and locates the distance between target and control in this distribution\"\n",
    "        df_manifold_learning = pd.concat([\n",
    "            pd.DataFrame(X), \n",
    "            pd.DataFrame(self.machine_controls_),\n",
    "            pd.DataFrame(y) # if actual data is last, it is easier to do the distance learning\n",
    "        ], axis=1)\n",
    "        self.manifold_embed_ = self.manifold.fit_transform(X=df_manifold_learning.T)\n",
    "        self.distances_ = squareform(pdist(self.manifold_embed_))[-1,:-1] # last position in the resulting array is the dist between actual and synth control\n",
    "        self.control_quality_test_ = np.percentile(self.distances_, self.distances_[-1])\n",
    "\n",
    "    def fit(\n",
    "        self,\n",
    "        X:pd.DataFrame, # A pandas DataFrame with pre-intervention data of shape (n_samples, n_control_entites)\n",
    "        y:pd.DataFrame|pd.Series # A pandas DataFrame or Series with pre-intervention data of shape (n_samples,)\n",
    "    ):\n",
    "        \"Fit the `MachineControl` model\"\n",
    "        \n",
    "        self._select_controls(X=X, y=y)\n",
    "        \n",
    "        X_donor, y = self._validate_data(X[self.donor_pool_], y)\n",
    "        \n",
    "        self.estimator.fit(X=X_donor, y=y)\n",
    "        \n",
    "        self.machine_controls_ = self.estimator.predict(X=X_donor)\n",
    "\n",
    "        # for the comparison part, note we use everyone, not just the selected control entities\n",
    "        # this allows us to use a more robust test of whether there are many out-of-cluster entity\n",
    "        # that would by itself be closer to the target entity.\n",
    "        self._compare_controls(X=X.values, y=y)\n",
    "\n",
    "        if self.with_placebo:\n",
    "            self._placebo()\n",
    "\n",
    "        return self\n",
    "\n",
    "    def predict(\n",
    "        self,\n",
    "        X:pd.DataFrame # A pandas DataFrame with complete time series (pre- and post-intervention) of shape (n_samples, n_control_entites)\n",
    "    ):\n",
    "        \"Calculate the model predictions before and after the intervention\"\n",
    "        check_is_fitted(self.estimator)\n",
    "        pred = self.estimator.predict(X=X)\n",
    "\n",
    "        if self.with_placebo:\n",
    "            self._placebo()\n",
    "\n",
    "        return pred\n"
   ]
  },
  {
   "cell_type": "code",
   "execution_count": null,
   "metadata": {},
   "outputs": [
    {
     "data": {
      "text/markdown": [
       "---\n",
       "\n",
       "[source](https://github.com/dkgaraujo/gingado/blob/main/gingado/estimators.py#L77){target=\"_blank\" style=\"float:right; font-size:smaller\"}\n",
       "\n",
       "### MachineControl\n",
       "\n",
       "\n",
       "\n",
       "Estimate synthetic controls with machine learning methods"
      ],
      "text/plain": [
       "---\n",
       "\n",
       "[source](https://github.com/dkgaraujo/gingado/blob/main/gingado/estimators.py#L77){target=\"_blank\" style=\"float:right; font-size:smaller\"}\n",
       "\n",
       "### MachineControl\n",
       "\n",
       "\n",
       "\n",
       "Estimate synthetic controls with machine learning methods"
      ]
     },
     "execution_count": null,
     "metadata": {},
     "output_type": "execute_result"
    }
   ],
   "source": [
    "show_doc(MachineControl)"
   ]
  },
  {
   "cell_type": "code",
   "execution_count": null,
   "metadata": {},
   "outputs": [
    {
     "data": {
      "text/markdown": [
       "---\n",
       "\n",
       "[source](https://github.com/dkgaraujo/gingado/blob/main/gingado/estimators.py#L106){target=\"_blank\" style=\"float:right; font-size:smaller\"}\n",
       "\n",
       "#### fit\n",
       "\n",
       ">      fit (X:numpy.ndarray, y:numpy.ndarray)\n",
       "\n",
       "Fit the `MachineControl` model\n",
       "\n",
       "|    | **Type** | **Details** |\n",
       "| -- | -------- | ----------- |\n",
       "| X | np.ndarray | Array-like pre-intervention data of shape (n_samples, n_control_entites) |\n",
       "| y | np.ndarray | Array-like pre-intervention data of shape (n_samples,) |"
      ],
      "text/plain": [
       "---\n",
       "\n",
       "[source](https://github.com/dkgaraujo/gingado/blob/main/gingado/estimators.py#L106){target=\"_blank\" style=\"float:right; font-size:smaller\"}\n",
       "\n",
       "#### fit\n",
       "\n",
       ">      fit (X:numpy.ndarray, y:numpy.ndarray)\n",
       "\n",
       "Fit the `MachineControl` model\n",
       "\n",
       "|    | **Type** | **Details** |\n",
       "| -- | -------- | ----------- |\n",
       "| X | np.ndarray | Array-like pre-intervention data of shape (n_samples, n_control_entites) |\n",
       "| y | np.ndarray | Array-like pre-intervention data of shape (n_samples,) |"
      ]
     },
     "execution_count": null,
     "metadata": {},
     "output_type": "execute_result"
    }
   ],
   "source": [
    "show_doc(MachineControl.fit, name=\"fit\", title_level=4)"
   ]
  },
  {
   "cell_type": "code",
   "execution_count": null,
   "metadata": {},
   "outputs": [
    {
     "data": {
      "text/markdown": [
       "---\n",
       "\n",
       "[source](https://github.com/dkgaraujo/gingado/blob/main/gingado/estimators.py#L77){target=\"_blank\" style=\"float:right; font-size:smaller\"}\n",
       "\n",
       "#### predict\n",
       "\n",
       "\n",
       "\n",
       "Estimate synthetic controls with machine learning methods"
      ],
      "text/plain": [
       "---\n",
       "\n",
       "[source](https://github.com/dkgaraujo/gingado/blob/main/gingado/estimators.py#L77){target=\"_blank\" style=\"float:right; font-size:smaller\"}\n",
       "\n",
       "#### predict\n",
       "\n",
       "\n",
       "\n",
       "Estimate synthetic controls with machine learning methods"
      ]
     },
     "execution_count": null,
     "metadata": {},
     "output_type": "execute_result"
    }
   ],
   "source": [
    "show_doc(MachineControl.predict, name=\"predict\", title_level=4)"
   ]
  },
  {
   "cell_type": "code",
   "execution_count": null,
   "metadata": {},
   "outputs": [
    {
     "data": {
      "text/markdown": [
       "---\n",
       "\n",
       "#### get_controls\n",
       "\n",
       ">      get_controls ()\n",
       "\n",
       "Get the list of control entities"
      ],
      "text/plain": [
       "---\n",
       "\n",
       "#### get_controls\n",
       "\n",
       ">      get_controls ()\n",
       "\n",
       "Get the list of control entities"
      ]
     },
     "execution_count": null,
     "metadata": {},
     "output_type": "execute_result"
    }
   ],
   "source": [
    "show_doc(MachineControl.get_controls, name=\"get_controls\", title_level=4)"
   ]
  },
  {
   "cell_type": "markdown",
   "metadata": {},
   "source": [
    "The use of `MachineControl` estimator is illustrated with an admittedly simplistic estimation of the impact of softening labour regulation on output per worker (in constant 2017 international US dollars PPP).\n",
    "\n",
    "More specifically, the example below focuses on Brazil's 2017 labour reforms (Law No 13,467/2017). The reform substantially deregulated labour markets, with the purpose of increasing productivity and thereby unlocking growth. Some of its main points are:\n",
    "- prominence of collective bargaining between firms and employees over statutory \"blanket\" provisions\n",
    "- lower costs for employers of employment termination without just cause\n",
    "- discouraging of labour litigation by employees, previously diagnosed as being excessive and contributing to clogging the judicial system \n",
    "\n",
    "The reform was enacted in July 2017 and went into effect in November of the same year.\n",
    "\n",
    "`MachineControl` does the following:\n",
    "1. automatically select a group of countries from a global list to form a smaller set of control countries\n",
    "2. estimate a GDP value for \"synthetic Brazil\" using pre-enactment data on the outcome of interest\n",
    "3. check the statistical quality of the synthetic control\n",
    "4. calculates the difference between post-reforms actual Brazilian GDP growth to synthetic Brazil's to measure the effect of the labour reform.\n",
    "\n",
    "> Note: There are many other variables that would be interesting for this study as well, such as various labour market indicators."
   ]
  },
  {
   "cell_type": "code",
   "execution_count": null,
   "metadata": {},
   "outputs": [],
   "source": [
    "from gingado.utils import list_all_dataflows, load_SDMX_data"
   ]
  },
  {
   "cell_type": "code",
   "execution_count": null,
   "metadata": {},
   "outputs": [
    {
     "name": "stderr",
     "output_type": "stream",
     "text": [
      "2023-09-13 23:05:09,699 pandasdmx.reader.sdmxml - DEBUG: Truncate sub-microsecond time in <Prepared>\n",
      "2023-09-13 23:05:14,247 pandasdmx.reader.sdmxml - DEBUG: Truncate sub-microsecond time in <Prepared>\n",
      "2023-09-13 23:05:34,763 pandasdmx.reader.sdmxml - DEBUG: Truncate sub-microsecond time in <Prepared>\n",
      "2023-09-13 23:05:35,710 pandasdmx.reader.sdmxml - DEBUG: Truncate sub-microsecond time in <Prepared>\n",
      "2023-09-13 23:05:38,549 pandasdmx.reader.sdmxml - DEBUG: Truncate sub-microsecond time in <Prepared>\n",
      "2023-09-13 23:05:39,476 pandasdmx.reader.sdmxml - DEBUG: Truncate sub-microsecond time in <Prepared>\n"
     ]
    }
   ],
   "source": [
    "dflows = list_all_dataflows(return_pandas=True)"
   ]
  },
  {
   "cell_type": "code",
   "execution_count": null,
   "metadata": {},
   "outputs": [
    {
     "data": {
      "text/plain": [
       "BIS    WS_CREDIT_GAP                                    BIS credit-to-GDP gaps\n",
       "ILO    DF_GDP_205U_NOC_NB    Output per worker (GDP constant 2015 US $) -- ...\n",
       "       DF_GDP_211P_NOC_NB    Output per worker (GDP constant 2017 internati...\n",
       "       DF_GDP_PHRW_NOC_NB    Output per hour worked (GDP constant 2017 inte...\n",
       "       DF_LAP_2GDP_NOC_RT    Labour income share as a percent of GDP -- ILO...\n",
       "       DF_SDG_1041_NOC_RT    SDG indicator 10.4.1 - Labour income share as ...\n",
       "       DF_SDG_A821_NOC_RT    SDG indicator 8.2.1 - Annual growth rate of ou...\n",
       "       DF_SDG_B821_NOC_RT    SDG indicator 8.2.1 - Annual growth rate of ou...\n",
       "IMF    NAG_NSTD                           National Accounts - GDP_Non-Standard\n",
       "INSEE  CNA-2010-PIB          Gross domestic product (GDP) and its component...\n",
       "       CNA-2014-PIB            Gross domestic product (GDP) and its components\n",
       "ISTAT  163_156               Gross domestic product, expenditure components...\n",
       "       285_245               Contributions to GDP growth - editions until A...\n",
       "       732_1051              Gross domestic product, expenditure components...\n",
       "Name: dataflow, dtype: object"
      ]
     },
     "execution_count": null,
     "metadata": {},
     "output_type": "execute_result"
    }
   ],
   "source": [
    "dflows[dflows.str.contains('GDP', case=False)]"
   ]
  },
  {
   "cell_type": "code",
   "execution_count": null,
   "metadata": {},
   "outputs": [
    {
     "name": "stderr",
     "output_type": "stream",
     "text": [
      "2023-09-14 00:27:59,500 pandasdmx.reader.sdmxml - DEBUG: Truncate sub-microsecond time in <Prepared>\n"
     ]
    },
    {
     "name": "stdout",
     "output_type": "stream",
     "text": [
      "Querying data from ILO's dataflow 'DF_GDP_211P_NOC_NB' - Output per worker (GDP constant 2017 international $ at PPP) -- ILO modelled estimates, Nov. 2022...\n"
     ]
    },
    {
     "name": "stderr",
     "output_type": "stream",
     "text": [
      "2023-09-14 00:28:00,913 pandasdmx.reader.sdmxml - INFO: Use supplied dsd=… argument for non–structure-specific message\n"
     ]
    }
   ],
   "source": [
    "outcome_var = load_SDMX_data(\n",
    "    sources={'ILO': 'DF_GDP_211P_NOC_NB'}, \n",
    "    keys={'FREQ': 'A'}, \n",
    "    params={'startPeriod': 2000, 'endPeriod': 2022}\n",
    ")"
   ]
  },
  {
   "cell_type": "markdown",
   "metadata": {},
   "source": [
    "This dataflow provides one series for each country, as seen below:."
   ]
  },
  {
   "cell_type": "code",
   "execution_count": null,
   "metadata": {},
   "outputs": [
    {
     "name": "stdout",
     "output_type": "stream",
     "text": [
      "No of unique values for column No 0 :  1\n",
      "No of unique values for column No 1 :  271\n",
      "No of unique values for column No 2 :  1\n",
      "No of unique values for column No 3 :  1\n",
      "\n",
      "First five rows:\n",
      "     0                       1  2            3\n",
      "0  ILO  DF_GDP_211P_NOC_NB_AFG  A  GDP_211P_NB\n",
      "1  ILO  DF_GDP_211P_NOC_NB_AGO  A  GDP_211P_NB\n",
      "2  ILO  DF_GDP_211P_NOC_NB_ALB  A  GDP_211P_NB\n",
      "3  ILO  DF_GDP_211P_NOC_NB_ARE  A  GDP_211P_NB\n",
      "4  ILO  DF_GDP_211P_NOC_NB_ARG  A  GDP_211P_NB\n"
     ]
    }
   ],
   "source": [
    "col_fields = pd.DataFrame([c.split(\"__\") for c in outcome_var.columns])\n",
    "for col in col_fields.columns:\n",
    "    print(\"No of unique values for column No\", col, \": \", col_fields[col].nunique())\n",
    "print(\"\\nFirst five rows:\")\n",
    "print(col_fields.head())"
   ]
  },
  {
   "cell_type": "markdown",
   "metadata": {},
   "source": [
    "Because 271 is much higher than the number of countries that usually report international statistics (close to 200), it is likely some 70 columns or more correspond to aggregations, typically used in statistics for convenience (eg, one code that encompasses all countries in the European Union, etc). We need to take them out, in case Brazil is a constituent of any of those aggregations.\n",
    "\n",
    "One common way of spotting these aggregations in international statistics is by country codes that begin with \"X\"."
   ]
  },
  {
   "cell_type": "code",
   "execution_count": null,
   "metadata": {},
   "outputs": [
    {
     "data": {
      "text/plain": [
       "82"
      ]
     },
     "execution_count": null,
     "metadata": {},
     "output_type": "execute_result"
    }
   ],
   "source": [
    "len([c for c in outcome_var.columns if \"DF_GDP_211P_NOC_NB_X\" in c])"
   ]
  },
  {
   "cell_type": "markdown",
   "metadata": {},
   "source": [
    "Also, we will take out other countries that have undergone labour reforms more or less around the same area. I am aware of Argentina, Costa Rica, Paraguay, and Uruguay [@serra2022reforma], noting that these are only individually noted because, by virtue of being in the same geographical areas as Brazil, they were studied as potentially having the largest effect."
   ]
  },
  {
   "cell_type": "code",
   "execution_count": null,
   "metadata": {},
   "outputs": [],
   "source": [
    "col_filter = [\n",
    "    c for c in outcome_var.columns\n",
    "    if \"DF_GDP_211P_NOC_NB_X\" not in c\n",
    "    and \"DF_GDP_211P_NOC_NB_ARG\" not in c\n",
    "    and \"DF_GDP_211P_NOC_NB_PAR\" not in c\n",
    "]\n",
    "\n",
    "X = outcome_var[col_filter]\n",
    "X = X.dropna(axis=1)\n",
    "\n",
    "# cleaning out the name to remove the constant portions across all countries\n",
    "X.columns = [c.replace(\"ILO__DF_GDP_211P_NOC_NB_\", \"\").replace(\"__A__GDP_211P_NB\", \"\") for c in X.columns]\n",
    "\n",
    "col_BRA = [c for c in X.columns if c == \"BRA\"]\n",
    "y = X.pop(col_BRA[0])\n",
    "\n",
    "assert X.shape[0] == y.shape[0]"
   ]
  },
  {
   "cell_type": "markdown",
   "metadata": {},
   "source": [
    "This is what the series of annual output per worker in Brazil looks like. A vertical line marking November 2017, when the labour reforms entered into force."
   ]
  },
  {
   "cell_type": "code",
   "execution_count": null,
   "metadata": {},
   "outputs": [],
   "source": [
    "import matplotlib.pyplot as plt"
   ]
  },
  {
   "cell_type": "code",
   "execution_count": null,
   "metadata": {},
   "outputs": [
    {
     "data": {
      "text/plain": [
       "Text(0.5, 1.0, 'Labour productivity in Brazil')"
      ]
     },
     "execution_count": null,
     "metadata": {},
     "output_type": "execute_result"
    },
    {
     "data": {
      "image/png": "[encoded data removed]",
      "text/plain": [
       "<Figure size 432x288 with 1 Axes>"
      ]
     },
     "metadata": {
      "needs_background": "light"
     },
     "output_type": "display_data"
    }
   ],
   "source": [
    "ax = y.plot(legend=False)\n",
    "ax.axvline(x='2017-11-11', color='r', linestyle='--')\n",
    "plt.ylabel('PPP 2017 US$ per worker')\n",
    "plt.xlabel('')\n",
    "plt.title(\"Labour productivity in Brazil\")"
   ]
  },
  {
   "cell_type": "markdown",
   "metadata": {},
   "source": [
    "Before creating the `MachineControl` object, a final comment on the intervention date.\n",
    "\n",
    "Since the reforms were enacted and entered into force in the same year of 2017, we can be conservative and consider:\n",
    "- pre-intervention data up to end-2016\n",
    "- post-intervention data from 2018 onwards"
   ]
  },
  {
   "cell_type": "code",
   "execution_count": null,
   "metadata": {},
   "outputs": [],
   "source": [
    "X_pre, y_pre = X[:'2016-12-31'], y[:'2016-12-31']\n",
    "X_post, y_post = X['2018-01-01':], y['2018-01-01':]"
   ]
  },
  {
   "cell_type": "code",
   "execution_count": null,
   "metadata": {},
   "outputs": [
    {
     "data": {
      "text/plain": [
       "((17, 183), (17,))"
      ]
     },
     "execution_count": null,
     "metadata": {},
     "output_type": "execute_result"
    }
   ],
   "source": [
    "X_pre.shape, y_pre.shape"
   ]
  },
  {
   "cell_type": "code",
   "execution_count": null,
   "metadata": {},
   "outputs": [],
   "source": [
    "from sklearn.ensemble import RandomForestRegressor"
   ]
  },
  {
   "cell_type": "code",
   "execution_count": null,
   "metadata": {},
   "outputs": [],
   "source": [
    "synth_BR = MachineControl(\n",
    "    cluster_alg=AffinityPropagation(max_iter=10_000),\n",
    "    estimator=RandomForestRegressor(),\n",
    "    manifold=TSNE(perplexity=5)\n",
    ")\n",
    "synth_BR._select_controls(X_pre, y_pre)"
   ]
  },
  {
   "cell_type": "code",
   "execution_count": null,
   "metadata": {},
   "outputs": [
    {
     "data": {
      "text/plain": [
       "<AxesSubplot:xlabel='TIME_PERIOD'>"
      ]
     },
     "execution_count": null,
     "metadata": {},
     "output_type": "execute_result"
    },
    {
     "data": {
      "image/png": "[encoded data removed]",
      "text/plain": [
       "<Figure size 432x288 with 1 Axes>"
      ]
     },
     "metadata": {
      "needs_background": "light"
     },
     "output_type": "display_data"
    }
   ],
   "source": [
    "ax = X_pre[synth_BR.donor_pool_].plot(legend=False, color=\"grey\", linewidth=0.5)\n",
    "y_pre.plot(ax=ax, color=\"red\", linewidth=2.5)"
   ]
  },
  {
   "cell_type": "code",
   "execution_count": null,
   "metadata": {},
   "outputs": [
    {
     "name": "stderr",
     "output_type": "stream",
     "text": [
      "/Users/douglasaraujo/Coding/.venv_gingado/lib/python3.10/site-packages/sklearn/manifold/_t_sne.py:800: FutureWarning: The default initialization in TSNE will change from 'random' to 'pca' in 1.2.\n",
      "  warnings.warn(\n",
      "/Users/douglasaraujo/Coding/.venv_gingado/lib/python3.10/site-packages/sklearn/manifold/_t_sne.py:810: FutureWarning: The default learning rate in TSNE will change from 200.0 to 'auto' in 1.2.\n",
      "  warnings.warn(\n"
     ]
    },
    {
     "data": {
      "text/html": [
       "<style>#sk-container-id-19 {color: black;background-color: white;}#sk-container-id-19 pre{padding: 0;}#sk-container-id-19 div.sk-toggleable {background-color: white;}#sk-container-id-19 label.sk-toggleable__label {cursor: pointer;display: block;width: 100%;margin-bottom: 0;padding: 0.3em;box-sizing: border-box;text-align: center;}#sk-container-id-19 label.sk-toggleable__label-arrow:before {content: \"▸\";float: left;margin-right: 0.25em;color: #696969;}#sk-container-id-19 label.sk-toggleable__label-arrow:hover:before {color: black;}#sk-container-id-19 div.sk-estimator:hover label.sk-toggleable__label-arrow:before {color: black;}#sk-container-id-19 div.sk-toggleable__content {max-height: 0;max-width: 0;overflow: hidden;text-align: left;background-color: #f0f8ff;}#sk-container-id-19 div.sk-toggleable__content pre {margin: 0.2em;color: black;border-radius: 0.25em;background-color: #f0f8ff;}#sk-container-id-19 input.sk-toggleable__control:checked~div.sk-toggleable__content {max-height: 200px;max-width: 100%;overflow: auto;}#sk-container-id-19 input.sk-toggleable__control:checked~label.sk-toggleable__label-arrow:before {content: \"▾\";}#sk-container-id-19 div.sk-estimator input.sk-toggleable__control:checked~label.sk-toggleable__label {background-color: #d4ebff;}#sk-container-id-19 div.sk-label input.sk-toggleable__control:checked~label.sk-toggleable__label {background-color: #d4ebff;}#sk-container-id-19 input.sk-hidden--visually {border: 0;clip: rect(1px 1px 1px 1px);clip: rect(1px, 1px, 1px, 1px);height: 1px;margin: -1px;overflow: hidden;padding: 0;position: absolute;width: 1px;}#sk-container-id-19 div.sk-estimator {font-family: monospace;background-color: #f0f8ff;border: 1px dotted black;border-radius: 0.25em;box-sizing: border-box;margin-bottom: 0.5em;}#sk-container-id-19 div.sk-estimator:hover {background-color: #d4ebff;}#sk-container-id-19 div.sk-parallel-item::after {content: \"\";width: 100%;border-bottom: 1px solid gray;flex-grow: 1;}#sk-container-id-19 div.sk-label:hover label.sk-toggleable__label {background-color: #d4ebff;}#sk-container-id-19 div.sk-serial::before {content: \"\";position: absolute;border-left: 1px solid gray;box-sizing: border-box;top: 0;bottom: 0;left: 50%;z-index: 0;}#sk-container-id-19 div.sk-serial {display: flex;flex-direction: column;align-items: center;background-color: white;padding-right: 0.2em;padding-left: 0.2em;position: relative;}#sk-container-id-19 div.sk-item {position: relative;z-index: 1;}#sk-container-id-19 div.sk-parallel {display: flex;align-items: stretch;justify-content: center;background-color: white;position: relative;}#sk-container-id-19 div.sk-item::before, #sk-container-id-19 div.sk-parallel-item::before {content: \"\";position: absolute;border-left: 1px solid gray;box-sizing: border-box;top: 0;bottom: 0;left: 50%;z-index: -1;}#sk-container-id-19 div.sk-parallel-item {display: flex;flex-direction: column;z-index: 1;position: relative;background-color: white;}#sk-container-id-19 div.sk-parallel-item:first-child::after {align-self: flex-end;width: 50%;}#sk-container-id-19 div.sk-parallel-item:last-child::after {align-self: flex-start;width: 50%;}#sk-container-id-19 div.sk-parallel-item:only-child::after {width: 0;}#sk-container-id-19 div.sk-dashed-wrapped {border: 1px dashed gray;margin: 0 0.4em 0.5em 0.4em;box-sizing: border-box;padding-bottom: 0.4em;background-color: white;}#sk-container-id-19 div.sk-label label {font-family: monospace;font-weight: bold;display: inline-block;line-height: 1.2em;}#sk-container-id-19 div.sk-label-container {text-align: center;}#sk-container-id-19 div.sk-container {/* jupyter's `normalize.less` sets `[hidden] { display: none; }` but bootstrap.min.css set `[hidden] { display: none !important; }` so we also need the `!important` here to be able to override the default hidden behavior on the sphinx rendered scikit-learn.org. See: https://github.com/scikit-learn/scikit-learn/issues/21755 */display: inline-block !important;position: relative;}#sk-container-id-19 div.sk-text-repr-fallback {display: none;}</style><div id=\"sk-container-id-19\" class=\"sk-top-container\"><div class=\"sk-text-repr-fallback\"><pre>MachineControl(cluster_alg=AffinityPropagation(max_iter=10000),\n",
       "               estimator=RandomForestRegressor(), manifold=TSNE(perplexity=5))</pre><b>In a Jupyter environment, please rerun this cell to show the HTML representation or trust the notebook. <br />On GitHub, the HTML representation is unable to render, please try loading this page with nbviewer.org.</b></div><div class=\"sk-container\" hidden><div class=\"sk-item sk-dashed-wrapped\"><div class=\"sk-label-container\"><div class=\"sk-label sk-toggleable\"><input class=\"sk-toggleable__control sk-hidden--visually\" id=\"sk-estimator-id-103\" type=\"checkbox\" ><label for=\"sk-estimator-id-103\" class=\"sk-toggleable__label sk-toggleable__label-arrow\">MachineControl</label><div class=\"sk-toggleable__content\"><pre>MachineControl(cluster_alg=AffinityPropagation(max_iter=10000),\n",
       "               estimator=RandomForestRegressor(), manifold=TSNE(perplexity=5))</pre></div></div></div><div class=\"sk-parallel\"><div class=\"sk-parallel-item\"><div class=\"sk-item\"><div class=\"sk-label-container\"><div class=\"sk-label sk-toggleable\"><input class=\"sk-toggleable__control sk-hidden--visually\" id=\"sk-estimator-id-104\" type=\"checkbox\" ><label for=\"sk-estimator-id-104\" class=\"sk-toggleable__label sk-toggleable__label-arrow\">cluster_alg: AffinityPropagation</label><div class=\"sk-toggleable__content\"><pre>AffinityPropagation(max_iter=10000)</pre></div></div></div><div class=\"sk-serial\"><div class=\"sk-item\"><div class=\"sk-estimator sk-toggleable\"><input class=\"sk-toggleable__control sk-hidden--visually\" id=\"sk-estimator-id-105\" type=\"checkbox\" ><label for=\"sk-estimator-id-105\" class=\"sk-toggleable__label sk-toggleable__label-arrow\">AffinityPropagation</label><div class=\"sk-toggleable__content\"><pre>AffinityPropagation(max_iter=10000)</pre></div></div></div></div></div></div><div class=\"sk-parallel-item\"><div class=\"sk-item\"><div class=\"sk-label-container\"><div class=\"sk-label sk-toggleable\"><input class=\"sk-toggleable__control sk-hidden--visually\" id=\"sk-estimator-id-106\" type=\"checkbox\" ><label for=\"sk-estimator-id-106\" class=\"sk-toggleable__label sk-toggleable__label-arrow\">estimator: RandomForestRegressor</label><div class=\"sk-toggleable__content\"><pre>RandomForestRegressor()</pre></div></div></div><div class=\"sk-serial\"><div class=\"sk-item\"><div class=\"sk-estimator sk-toggleable\"><input class=\"sk-toggleable__control sk-hidden--visually\" id=\"sk-estimator-id-107\" type=\"checkbox\" ><label for=\"sk-estimator-id-107\" class=\"sk-toggleable__label sk-toggleable__label-arrow\">RandomForestRegressor</label><div class=\"sk-toggleable__content\"><pre>RandomForestRegressor()</pre></div></div></div></div></div></div><div class=\"sk-parallel-item\"><div class=\"sk-item\"><div class=\"sk-label-container\"><div class=\"sk-label sk-toggleable\"><input class=\"sk-toggleable__control sk-hidden--visually\" id=\"sk-estimator-id-108\" type=\"checkbox\" ><label for=\"sk-estimator-id-108\" class=\"sk-toggleable__label sk-toggleable__label-arrow\">manifold: TSNE</label><div class=\"sk-toggleable__content\"><pre>TSNE(perplexity=5)</pre></div></div></div><div class=\"sk-serial\"><div class=\"sk-item\"><div class=\"sk-estimator sk-toggleable\"><input class=\"sk-toggleable__control sk-hidden--visually\" id=\"sk-estimator-id-109\" type=\"checkbox\" ><label for=\"sk-estimator-id-109\" class=\"sk-toggleable__label sk-toggleable__label-arrow\">TSNE</label><div class=\"sk-toggleable__content\"><pre>TSNE(perplexity=5)</pre></div></div></div></div></div></div></div></div></div></div>"
      ],
      "text/plain": [
       "MachineControl(cluster_alg=AffinityPropagation(max_iter=10000),\n",
       "               estimator=RandomForestRegressor(), manifold=TSNE(perplexity=5))"
      ]
     },
     "execution_count": null,
     "metadata": {},
     "output_type": "execute_result"
    }
   ],
   "source": [
    "synth_BR.fit(X_pre, y_pre)"
   ]
  },
  {
   "cell_type": "code",
   "execution_count": null,
   "metadata": {},
   "outputs": [
    {
     "name": "stderr",
     "output_type": "stream",
     "text": [
      "/Users/douglasaraujo/Coding/.venv_gingado/lib/python3.10/site-packages/matplotlib/cbook/__init__.py:1026: VisibleDeprecationWarning: Creating an ndarray from ragged nested sequences (which is a list-or-tuple of lists-or-tuples-or ndarrays with different lengths or shapes) is deprecated. If you meant to do this, you must specify 'dtype=object' when creating the ndarray.\n",
      "  x = np.asanyarray(x)\n",
      "No artists with labels found to put in legend.  Note that artists whose label start with an underscore are ignored when legend() is called with no argument.\n"
     ]
    },
    {
     "data": {
      "image/png": "[encoded data removed]",
      "text/plain": [
       "<Figure size 432x288 with 1 Axes>"
      ]
     },
     "metadata": {
      "needs_background": "light"
     },
     "output_type": "display_data"
    }
   ],
   "source": [
    "colors = [(0.5, 0.5, 0.5, 0.35)] * X.shape[1] + ['red', 'blue']\n",
    "\n",
    "fig, ax = plt.subplots()\n",
    "ax.scatter(\n",
    "    synth_BR.manifold_embed_[:, 0], synth_BR.manifold_embed_[:, 1],\n",
    "    color=colors,\n",
    "    )\n",
    "ax.legend()\n",
    "plt.show()"
   ]
  },
  {
   "cell_type": "code",
   "execution_count": null,
   "metadata": {},
   "outputs": [
    {
     "data": {
      "text/plain": [
       "(0.020255679830091376, 0.7443352406500573)"
      ]
     },
     "execution_count": null,
     "metadata": {},
     "output_type": "execute_result"
    }
   ],
   "source": [
    "synth_BR.control_quality_test_ / 100"
   ]
  },
  {
   "cell_type": "markdown",
   "metadata": {},
   "source": [
    "As can be seen in the graph above, the actual Brazil (blue) and the machine controls (red) are almost juxtaposed.\n",
    "\n",
    "To confirm objectively that the control is good, the Euclidean distance between the embeddings for the control and the actual outcome are one of the lowest, more specifically at the 2% percentile. \n",
    "\n",
    "Together, both point to a strong signal that the control managed to replicate the pre-intervention outcome."
   ]
  },
  {
   "cell_type": "markdown",
   "metadata": {},
   "source": [
    "> TODO: placebo test, aggregated vs cumualative effects"
   ]
  },
  {
   "cell_type": "markdown",
   "metadata": {},
   "source": [
    "# References"
   ]
  },
  {
   "cell_type": "markdown",
   "metadata": {},
   "source": []
  }
 ],
 "metadata": {
  "kernelspec": {
   "display_name": "python3",
   "language": "python",
   "name": "python3"
  }
 },
 "nbformat": 4,
 "nbformat_minor": 2
}
