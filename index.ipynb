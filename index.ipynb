{
 "cells": [
  {
   "cell_type": "raw",
   "metadata": {},
   "source": [
    "---\n",
    "badges: true\n",
    "description: A machine learning library for economics and finance\n",
    "hide_binder_badge: true\n",
    "hide_colab_badge: true\n",
    "output-file: index.html\n",
    "title: Welcome to gingado!\n",
    "\n",
    "---\n",
    "\n"
   ]
  },
  {
   "cell_type": "code",
   "execution_count": null,
   "metadata": {},
   "outputs": [],
   "source": [
    "#| include: false\n",
    "%load_ext autoreload\n",
    "%autoreload 2"
   ]
  },
  {
   "cell_type": "markdown",
   "metadata": {},
   "source": [
    "`gingado` seeks to facilitate the use of machine learning in economic and finance use cases, while promoting good practices. This package aims to be suitable for beginners and advanced users alike. Use cases may range from simple data retrievals to experimentation with machine learning algorithms to more complex model pipelines used in production."
   ]
  },
  {
   "cell_type": "markdown",
   "metadata": {},
   "source": [
    "## Overview\n",
    "\n",
    "`gingado` is a free, open source library built different functionalities:\n",
    "\n",
    "* **data augmentation**, to add more data from official sources, improving the machine models being trained by the user;\n",
    "\n",
    "* **automatic benchmark model**, to enable the user to assess their models against a reasonably well-performant model; \n",
    "\n",
    "* *(new!)* **relevant datasets**, both real and simulamed, to allow for easier model development and comparison;\n",
    "\n",
    "* **support for model documentation**, to embed documentation and ethical considerations in the model development phase; and\n",
    "\n",
    "* **utils**, including tools to allow for lagging variables in a straightforward way.\n",
    "\n",
    "Each of these functionalities builds on top of the previous one. They can be used on a stand-alone basis, together, or even as part of a larger pipeline from data input to model training to documentation!\n",
    "\n",
    ":::{.callout-tip}\n",
    "\n",
    "New functionalities are planned over time, so consider checking frequently on `gingado` for the latest toolsets.\n",
    "\n",
    ":::"
   ]
  },
  {
   "cell_type": "markdown",
   "metadata": {},
   "source": [
    "## Design principles\n",
    "\n",
    "The choices made during development of `gingado` derive from the following principles, in no particular order:\n",
    "\n",
    "* **flexibility**: users can use `gingado` out of the box or build custom processes on top of it;\n",
    "\n",
    "* **compatibility**: `gingado` works well with other widely used libraries in machine learning, such as `scikit-learn` and `pandas`; and\n",
    "\n",
    "* **responsibility**: `gingado` facilitates and promotes model documentation, including ethical considerations, as part of the machine learning development workflow."
   ]
  },
  {
   "cell_type": "markdown",
   "metadata": {},
   "source": [
    "## Acknowledgements\n",
    "\n",
    "`gingado`'s API is inspired on the following libraries:\n",
    "\n",
    "* `scikit-learn` ([API description](https://arxiv.org/abs/1309.0238))\n",
    "\n",
    "* `keras` (website [here](https://keras.io/about/) and also, [this essay](https://medium.com/s/story/notes-to-myself-on-software-engineering-c890f16f4e4d))\n",
    "\n",
    "* `fastai` ([description here](https://www.mdpi.com/2078-2489/11/2/108))\n",
    "\n",
    "In addition, `gingado` is developed and maintained using [`nbdev`](https://nbdev.fast.ai)."
   ]
  },
  {
   "cell_type": "markdown",
   "metadata": {},
   "source": [
    "## Presentations, talks, papers\n",
    "\n",
    "The most current version of the paper describing `gingado` is [here](https://github.com/dkgaraujo/gingado_comms/blob/main/gingado.pdf). The paper and other material about `gingado` (ie, slide decks, papers) in [this dedicated repository](https://github.com/dkgaraujo/gingado_comms). Interested users are welcome to visit the repository and comment on the drafts or slide decks, preferably by opening an [issue](https://github.com/dkgaraujo/gingado_comms/issues). I also store in this repository suggestions I receive as issues, so users can see what others commented (anonymously unless requested) and comment along as well!"
   ]
  },
  {
   "cell_type": "markdown",
   "metadata": {},
   "source": [
    "## Install\n",
    "\n",
    "To install `gingado`, simply run the following code on the terminal:"
   ]
  },
  {
   "cell_type": "markdown",
   "metadata": {},
   "source": [
    "`$ pip install gingado`"
   ]
  },
  {
   "cell_type": "code",
   "execution_count": null,
   "metadata": {},
   "outputs": [],
   "source": [
    "#| echo: false\n",
    "import nbdev; nbdev.nbdev_export()"
   ]
  }
 ],
 "metadata": {
  "kernelspec": {
   "display_name": "Python 3.9.10 64-bit ('.venv_gingado': venv)",
   "language": "python",
   "name": "python3"
  }
 },
 "nbformat": 4,
 "nbformat_minor": 2
}
