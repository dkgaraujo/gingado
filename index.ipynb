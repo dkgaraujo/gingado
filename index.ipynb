{
 "cells": [
  {
   "cell_type": "code",
   "execution_count": null,
   "metadata": {},
   "outputs": [],
   "source": [
    "#hide\n",
    "%load_ext autoreload\n",
    "%autoreload 2"
   ]
  },
  {
   "cell_type": "markdown",
   "metadata": {},
   "source": [
    "# Welcome to gingado!\n",
    "\n",
    "> A machine learning library for economics and finance"
   ]
  },
  {
   "cell_type": "markdown",
   "metadata": {},
   "source": [
    "The purpose of `gingado` is to support usage of machine learning models in economics and finance use cases, promoting good modelling practices while being easy to use. `gingado` aims to be suitable for beginners and advanced users alike."
   ]
  },
  {
   "cell_type": "markdown",
   "metadata": {},
   "source": [
    "## Install\n",
    "\n",
    "To install `gingado`, simply run the following code on the terminal:"
   ]
  },
  {
   "cell_type": "markdown",
   "metadata": {},
   "source": [
    "`$ pip install gingado`"
   ]
  },
  {
   "cell_type": "markdown",
   "metadata": {},
   "source": [
    "## Overview\n",
    "\n",
    "`gingado` is built around three main functionalities:\n",
    "* **data augmentation**, to add more data from official sources, improving the machine models being trained by the user;\n",
    "* **automatic benchmark model**, to enable the user to assess their models against a reasonably well-performant model; and\n",
    "* **support for model documentation**, to embed documentation and ethical considerations in the model development phase.\n",
    "\n",
    "Each of these functionalities is illustrated below for a user trying to forecast GDP growth. Each step builds on top of the previous one, and they can be done with one line of code! But to highlight how `gingado` can benefit users in multiple ways, the brief walk-through below goes over them separtely. \n",
    "\n",
    "Before stepping in, let's import the necessary packages and data.\n",
    "\n",
    "### Setup\n",
    "\n",
    "This walk-through will use the [Jordà-Schularick-Taylor Macrohistory Database](https://www.macrohistory.net) on macroeconomics and finance as an example. As a preliminary step, let's import `gingado` and other necessary libraries, and proceed to download the data:"
   ]
  },
  {
   "cell_type": "code",
   "execution_count": null,
   "metadata": {},
   "outputs": [
    {
     "data": {
      "text/html": [
       "<div>\n",
       "<style scoped>\n",
       "    .dataframe tbody tr th:only-of-type {\n",
       "        vertical-align: middle;\n",
       "    }\n",
       "\n",
       "    .dataframe tbody tr th {\n",
       "        vertical-align: top;\n",
       "    }\n",
       "\n",
       "    .dataframe thead th {\n",
       "        text-align: right;\n",
       "    }\n",
       "</style>\n",
       "<table border=\"1\" class=\"dataframe\">\n",
       "  <thead>\n",
       "    <tr style=\"text-align: right;\">\n",
       "      <th></th>\n",
       "      <th>year</th>\n",
       "      <th>country</th>\n",
       "      <th>iso</th>\n",
       "      <th>ifs</th>\n",
       "      <th>pop</th>\n",
       "      <th>rgdpmad</th>\n",
       "      <th>rgdppc</th>\n",
       "      <th>rconpc</th>\n",
       "      <th>gdp</th>\n",
       "      <th>iy</th>\n",
       "      <th>...</th>\n",
       "      <th>eq_capgain</th>\n",
       "      <th>eq_dp</th>\n",
       "      <th>eq_capgain_interp</th>\n",
       "      <th>eq_tr_interp</th>\n",
       "      <th>eq_dp_interp</th>\n",
       "      <th>bond_rate</th>\n",
       "      <th>eq_div_rtn</th>\n",
       "      <th>capital_tr</th>\n",
       "      <th>risky_tr</th>\n",
       "      <th>safe_tr</th>\n",
       "    </tr>\n",
       "  </thead>\n",
       "  <tbody>\n",
       "    <tr>\n",
       "      <th>2659</th>\n",
       "      <td>2013.0</td>\n",
       "      <td>USA</td>\n",
       "      <td>USA</td>\n",
       "      <td>111</td>\n",
       "      <td>315820.328999</td>\n",
       "      <td>31571.993947</td>\n",
       "      <td>103.425299</td>\n",
       "      <td>101.892671</td>\n",
       "      <td>16784.851</td>\n",
       "      <td>0.192086</td>\n",
       "      <td>...</td>\n",
       "      <td>0.271035</td>\n",
       "      <td>0.019355</td>\n",
       "      <td>NaN</td>\n",
       "      <td>NaN</td>\n",
       "      <td>NaN</td>\n",
       "      <td>0.023508</td>\n",
       "      <td>0.024601</td>\n",
       "      <td>0.139843</td>\n",
       "      <td>0.212405</td>\n",
       "      <td>-0.065168</td>\n",
       "    </tr>\n",
       "    <tr>\n",
       "      <th>2660</th>\n",
       "      <td>2014.0</td>\n",
       "      <td>USA</td>\n",
       "      <td>USA</td>\n",
       "      <td>111</td>\n",
       "      <td>318106.646578</td>\n",
       "      <td>32113.618881</td>\n",
       "      <td>105.186253</td>\n",
       "      <td>104.113597</td>\n",
       "      <td>17527.258</td>\n",
       "      <td>0.196377</td>\n",
       "      <td>...</td>\n",
       "      <td>0.136350</td>\n",
       "      <td>0.019199</td>\n",
       "      <td>NaN</td>\n",
       "      <td>NaN</td>\n",
       "      <td>NaN</td>\n",
       "      <td>0.025408</td>\n",
       "      <td>0.021817</td>\n",
       "      <td>0.130063</td>\n",
       "      <td>0.132729</td>\n",
       "      <td>0.122398</td>\n",
       "    </tr>\n",
       "    <tr>\n",
       "      <th>2661</th>\n",
       "      <td>2015.0</td>\n",
       "      <td>USA</td>\n",
       "      <td>USA</td>\n",
       "      <td>111</td>\n",
       "      <td>320413.930388</td>\n",
       "      <td>32800.923063</td>\n",
       "      <td>107.421590</td>\n",
       "      <td>107.192931</td>\n",
       "      <td>18224.780</td>\n",
       "      <td>0.198301</td>\n",
       "      <td>...</td>\n",
       "      <td>-0.000092</td>\n",
       "      <td>0.021124</td>\n",
       "      <td>NaN</td>\n",
       "      <td>NaN</td>\n",
       "      <td>NaN</td>\n",
       "      <td>0.021358</td>\n",
       "      <td>0.021122</td>\n",
       "      <td>0.046193</td>\n",
       "      <td>0.065433</td>\n",
       "      <td>-0.008779</td>\n",
       "    </tr>\n",
       "    <tr>\n",
       "      <th>2662</th>\n",
       "      <td>2016.0</td>\n",
       "      <td>USA</td>\n",
       "      <td>USA</td>\n",
       "      <td>111</td>\n",
       "      <td>322705.239927</td>\n",
       "      <td>33078.508719</td>\n",
       "      <td>108.318698</td>\n",
       "      <td>109.333457</td>\n",
       "      <td>18715.040</td>\n",
       "      <td>0.195831</td>\n",
       "      <td>...</td>\n",
       "      <td>NaN</td>\n",
       "      <td>NaN</td>\n",
       "      <td>NaN</td>\n",
       "      <td>NaN</td>\n",
       "      <td>NaN</td>\n",
       "      <td>NaN</td>\n",
       "      <td>NaN</td>\n",
       "      <td>NaN</td>\n",
       "      <td>NaN</td>\n",
       "      <td>NaN</td>\n",
       "    </tr>\n",
       "    <tr>\n",
       "      <th>2663</th>\n",
       "      <td>2017.0</td>\n",
       "      <td>USA</td>\n",
       "      <td>USA</td>\n",
       "      <td>111</td>\n",
       "      <td>324802.861426</td>\n",
       "      <td>33593.446309</td>\n",
       "      <td>110.013284</td>\n",
       "      <td>111.389150</td>\n",
       "      <td>19519.424</td>\n",
       "      <td>0.204547</td>\n",
       "      <td>...</td>\n",
       "      <td>NaN</td>\n",
       "      <td>NaN</td>\n",
       "      <td>NaN</td>\n",
       "      <td>NaN</td>\n",
       "      <td>NaN</td>\n",
       "      <td>NaN</td>\n",
       "      <td>NaN</td>\n",
       "      <td>NaN</td>\n",
       "      <td>NaN</td>\n",
       "      <td>NaN</td>\n",
       "    </tr>\n",
       "  </tbody>\n",
       "</table>\n",
       "<p>5 rows × 57 columns</p>\n",
       "</div>"
      ],
      "text/plain": [
       "        year country  iso  ifs            pop       rgdpmad      rgdppc  \\\n",
       "2659  2013.0     USA  USA  111  315820.328999  31571.993947  103.425299   \n",
       "2660  2014.0     USA  USA  111  318106.646578  32113.618881  105.186253   \n",
       "2661  2015.0     USA  USA  111  320413.930388  32800.923063  107.421590   \n",
       "2662  2016.0     USA  USA  111  322705.239927  33078.508719  108.318698   \n",
       "2663  2017.0     USA  USA  111  324802.861426  33593.446309  110.013284   \n",
       "\n",
       "          rconpc        gdp        iy  ...  eq_capgain     eq_dp  \\\n",
       "2659  101.892671  16784.851  0.192086  ...    0.271035  0.019355   \n",
       "2660  104.113597  17527.258  0.196377  ...    0.136350  0.019199   \n",
       "2661  107.192931  18224.780  0.198301  ...   -0.000092  0.021124   \n",
       "2662  109.333457  18715.040  0.195831  ...         NaN       NaN   \n",
       "2663  111.389150  19519.424  0.204547  ...         NaN       NaN   \n",
       "\n",
       "      eq_capgain_interp  eq_tr_interp  eq_dp_interp  bond_rate  eq_div_rtn  \\\n",
       "2659                NaN           NaN           NaN   0.023508    0.024601   \n",
       "2660                NaN           NaN           NaN   0.025408    0.021817   \n",
       "2661                NaN           NaN           NaN   0.021358    0.021122   \n",
       "2662                NaN           NaN           NaN        NaN         NaN   \n",
       "2663                NaN           NaN           NaN        NaN         NaN   \n",
       "\n",
       "      capital_tr  risky_tr   safe_tr  \n",
       "2659    0.139843  0.212405 -0.065168  \n",
       "2660    0.130063  0.132729  0.122398  \n",
       "2661    0.046193  0.065433 -0.008779  \n",
       "2662         NaN       NaN       NaN  \n",
       "2663         NaN       NaN       NaN  \n",
       "\n",
       "[5 rows x 57 columns]"
      ]
     },
     "execution_count": null,
     "metadata": {},
     "output_type": "execute_result"
    }
   ],
   "source": [
    "import pandas as pd\n",
    "\n",
    "JST_url = \"http://data.macrohistory.net/JST/JSTdatasetR5.dta\"\n",
    "jst = pd.read_stata(JST_url, iterator=False)\n",
    "\n",
    "jst.tail()"
   ]
  },
  {
   "cell_type": "markdown",
   "metadata": {},
   "source": [
    "For practical purposes, let's use for this database only the information from 1991 onwards:"
   ]
  },
  {
   "cell_type": "code",
   "execution_count": null,
   "metadata": {},
   "outputs": [],
   "source": [
    "jst.drop(labels=['iso', 'ifs', 'crisisJST_old'], axis=1, inplace=True)\n",
    "jst['year'] = pd.to_datetime(jst['year'], format='%Y')\n",
    "\n",
    "start_year = '1991-01-01'\n",
    "end_year = '2016-01-01'\n",
    "jst = jst[jst['year'] >= start_year]"
   ]
  },
  {
   "cell_type": "code",
   "execution_count": null,
   "metadata": {},
   "outputs": [
    {
     "data": {
      "text/html": [
       "<div>\n",
       "<style scoped>\n",
       "    .dataframe tbody tr th:only-of-type {\n",
       "        vertical-align: middle;\n",
       "    }\n",
       "\n",
       "    .dataframe tbody tr th {\n",
       "        vertical-align: top;\n",
       "    }\n",
       "\n",
       "    .dataframe thead th {\n",
       "        text-align: right;\n",
       "    }\n",
       "</style>\n",
       "<table border=\"1\" class=\"dataframe\">\n",
       "  <thead>\n",
       "    <tr style=\"text-align: right;\">\n",
       "      <th></th>\n",
       "      <th>year</th>\n",
       "      <th>country</th>\n",
       "      <th>pop</th>\n",
       "      <th>rgdpmad</th>\n",
       "      <th>rgdppc</th>\n",
       "      <th>rconpc</th>\n",
       "      <th>gdp</th>\n",
       "      <th>iy</th>\n",
       "      <th>cpi</th>\n",
       "      <th>ca</th>\n",
       "      <th>...</th>\n",
       "      <th>eq_capgain</th>\n",
       "      <th>eq_dp</th>\n",
       "      <th>eq_capgain_interp</th>\n",
       "      <th>eq_tr_interp</th>\n",
       "      <th>eq_dp_interp</th>\n",
       "      <th>bond_rate</th>\n",
       "      <th>eq_div_rtn</th>\n",
       "      <th>capital_tr</th>\n",
       "      <th>risky_tr</th>\n",
       "      <th>safe_tr</th>\n",
       "    </tr>\n",
       "  </thead>\n",
       "  <tbody>\n",
       "    <tr>\n",
       "      <th>2659</th>\n",
       "      <td>2013-01-01</td>\n",
       "      <td>USA</td>\n",
       "      <td>315820.328999</td>\n",
       "      <td>31571.993947</td>\n",
       "      <td>103.425299</td>\n",
       "      <td>101.892671</td>\n",
       "      <td>16784.851</td>\n",
       "      <td>0.192086</td>\n",
       "      <td>173.067206</td>\n",
       "      <td>-426.197</td>\n",
       "      <td>...</td>\n",
       "      <td>0.271035</td>\n",
       "      <td>0.019355</td>\n",
       "      <td>NaN</td>\n",
       "      <td>NaN</td>\n",
       "      <td>NaN</td>\n",
       "      <td>0.023508</td>\n",
       "      <td>0.024601</td>\n",
       "      <td>0.139843</td>\n",
       "      <td>0.212405</td>\n",
       "      <td>-0.065168</td>\n",
       "    </tr>\n",
       "    <tr>\n",
       "      <th>2660</th>\n",
       "      <td>2014-01-01</td>\n",
       "      <td>USA</td>\n",
       "      <td>318106.646578</td>\n",
       "      <td>32113.618881</td>\n",
       "      <td>105.186253</td>\n",
       "      <td>104.113597</td>\n",
       "      <td>17527.258</td>\n",
       "      <td>0.196377</td>\n",
       "      <td>175.997979</td>\n",
       "      <td>-365.193</td>\n",
       "      <td>...</td>\n",
       "      <td>0.136350</td>\n",
       "      <td>0.019199</td>\n",
       "      <td>NaN</td>\n",
       "      <td>NaN</td>\n",
       "      <td>NaN</td>\n",
       "      <td>0.025408</td>\n",
       "      <td>0.021817</td>\n",
       "      <td>0.130063</td>\n",
       "      <td>0.132729</td>\n",
       "      <td>0.122398</td>\n",
       "    </tr>\n",
       "    <tr>\n",
       "      <th>2661</th>\n",
       "      <td>2015-01-01</td>\n",
       "      <td>USA</td>\n",
       "      <td>320413.930388</td>\n",
       "      <td>32800.923063</td>\n",
       "      <td>107.421590</td>\n",
       "      <td>107.192931</td>\n",
       "      <td>18224.780</td>\n",
       "      <td>0.198301</td>\n",
       "      <td>176.301162</td>\n",
       "      <td>-407.769</td>\n",
       "      <td>...</td>\n",
       "      <td>-0.000092</td>\n",
       "      <td>0.021124</td>\n",
       "      <td>NaN</td>\n",
       "      <td>NaN</td>\n",
       "      <td>NaN</td>\n",
       "      <td>0.021358</td>\n",
       "      <td>0.021122</td>\n",
       "      <td>0.046193</td>\n",
       "      <td>0.065433</td>\n",
       "      <td>-0.008779</td>\n",
       "    </tr>\n",
       "    <tr>\n",
       "      <th>2662</th>\n",
       "      <td>2016-01-01</td>\n",
       "      <td>USA</td>\n",
       "      <td>322705.239927</td>\n",
       "      <td>33078.508719</td>\n",
       "      <td>108.318698</td>\n",
       "      <td>109.333457</td>\n",
       "      <td>18715.040</td>\n",
       "      <td>0.195831</td>\n",
       "      <td>178.575038</td>\n",
       "      <td>-428.350</td>\n",
       "      <td>...</td>\n",
       "      <td>NaN</td>\n",
       "      <td>NaN</td>\n",
       "      <td>NaN</td>\n",
       "      <td>NaN</td>\n",
       "      <td>NaN</td>\n",
       "      <td>NaN</td>\n",
       "      <td>NaN</td>\n",
       "      <td>NaN</td>\n",
       "      <td>NaN</td>\n",
       "      <td>NaN</td>\n",
       "    </tr>\n",
       "    <tr>\n",
       "      <th>2663</th>\n",
       "      <td>2017-01-01</td>\n",
       "      <td>USA</td>\n",
       "      <td>324802.861426</td>\n",
       "      <td>33593.446309</td>\n",
       "      <td>110.013284</td>\n",
       "      <td>111.389150</td>\n",
       "      <td>19519.424</td>\n",
       "      <td>0.204547</td>\n",
       "      <td>182.415361</td>\n",
       "      <td>-439.642</td>\n",
       "      <td>...</td>\n",
       "      <td>NaN</td>\n",
       "      <td>NaN</td>\n",
       "      <td>NaN</td>\n",
       "      <td>NaN</td>\n",
       "      <td>NaN</td>\n",
       "      <td>NaN</td>\n",
       "      <td>NaN</td>\n",
       "      <td>NaN</td>\n",
       "      <td>NaN</td>\n",
       "      <td>NaN</td>\n",
       "    </tr>\n",
       "  </tbody>\n",
       "</table>\n",
       "<p>5 rows × 54 columns</p>\n",
       "</div>"
      ],
      "text/plain": [
       "           year country            pop       rgdpmad      rgdppc      rconpc  \\\n",
       "2659 2013-01-01     USA  315820.328999  31571.993947  103.425299  101.892671   \n",
       "2660 2014-01-01     USA  318106.646578  32113.618881  105.186253  104.113597   \n",
       "2661 2015-01-01     USA  320413.930388  32800.923063  107.421590  107.192931   \n",
       "2662 2016-01-01     USA  322705.239927  33078.508719  108.318698  109.333457   \n",
       "2663 2017-01-01     USA  324802.861426  33593.446309  110.013284  111.389150   \n",
       "\n",
       "            gdp        iy         cpi       ca  ...  eq_capgain     eq_dp  \\\n",
       "2659  16784.851  0.192086  173.067206 -426.197  ...    0.271035  0.019355   \n",
       "2660  17527.258  0.196377  175.997979 -365.193  ...    0.136350  0.019199   \n",
       "2661  18224.780  0.198301  176.301162 -407.769  ...   -0.000092  0.021124   \n",
       "2662  18715.040  0.195831  178.575038 -428.350  ...         NaN       NaN   \n",
       "2663  19519.424  0.204547  182.415361 -439.642  ...         NaN       NaN   \n",
       "\n",
       "      eq_capgain_interp  eq_tr_interp  eq_dp_interp  bond_rate  eq_div_rtn  \\\n",
       "2659                NaN           NaN           NaN   0.023508    0.024601   \n",
       "2660                NaN           NaN           NaN   0.025408    0.021817   \n",
       "2661                NaN           NaN           NaN   0.021358    0.021122   \n",
       "2662                NaN           NaN           NaN        NaN         NaN   \n",
       "2663                NaN           NaN           NaN        NaN         NaN   \n",
       "\n",
       "      capital_tr  risky_tr   safe_tr  \n",
       "2659    0.139843  0.212405 -0.065168  \n",
       "2660    0.130063  0.132729  0.122398  \n",
       "2661    0.046193  0.065433 -0.008779  \n",
       "2662         NaN       NaN       NaN  \n",
       "2663         NaN       NaN       NaN  \n",
       "\n",
       "[5 rows x 54 columns]"
      ]
     },
     "execution_count": null,
     "metadata": {},
     "output_type": "execute_result"
    }
   ],
   "source": [
    "jst.tail()"
   ]
  },
  {
   "cell_type": "markdown",
   "metadata": {},
   "source": [
    "### Data augmentation\n",
    "\n",
    "As we can see, the dataset contains mainly information on the GDP of other countries. There are many ways in which this dataset can be complement by a richer set of variables. For example, for the same time periods we can add detailed information on trade, inflation, labour markets, foreign currency exchange rates, and many other series that would help machine learning models better form predictions. \n",
    "\n",
    "`gingado` helps this step by facilitating *data augmentation*, ie complementing the user dataset with compatible data. `gingado` only sources data from official data sources, namely statistical agencies, central banks, and other relevant authorities at the domestic or international level.\n",
    "\n",
    "In particular, `gingado`'s function `augm_with_sdmx` looks for all data available from the desired sources for the defined period and frequency and downloads them all, but only adds to the original dataset the variables that bring some level of variance in the data that can be explored by the machine learning models later on."
   ]
  },
  {
   "cell_type": "code",
   "execution_count": null,
   "metadata": {},
   "outputs": [
    {
     "name": "stderr",
     "output_type": "stream",
     "text": [
      "  6%|▌         | 1/18 [00:00<00:07,  2.23it/s]"
     ]
    },
    {
     "name": "stdout",
     "output_type": "stream",
     "text": [
      "Source: BIS, dataflow: WS_CBPOL_D ok!\n"
     ]
    },
    {
     "name": "stderr",
     "output_type": "stream",
     "text": [
      " 11%|█         | 2/18 [00:00<00:05,  2.89it/s]"
     ]
    },
    {
     "name": "stdout",
     "output_type": "stream",
     "text": [
      "Source: BIS, dataflow: WS_CBPOL_M ok!\n"
     ]
    },
    {
     "name": "stderr",
     "output_type": "stream",
     "text": [
      " 17%|█▋        | 3/18 [00:01<00:04,  3.06it/s]"
     ]
    },
    {
     "name": "stdout",
     "output_type": "stream",
     "text": [
      "Source: BIS, dataflow: WS_CBS_PUB ok!\n"
     ]
    },
    {
     "name": "stderr",
     "output_type": "stream",
     "text": [
      " 22%|██▏       | 4/18 [00:01<00:04,  3.47it/s]"
     ]
    },
    {
     "name": "stdout",
     "output_type": "stream",
     "text": [
      "Source: BIS, dataflow: WS_CREDIT_GAP ok!\n"
     ]
    },
    {
     "name": "stderr",
     "output_type": "stream",
     "text": [
      " 28%|██▊       | 5/18 [00:01<00:03,  3.57it/s]"
     ]
    },
    {
     "name": "stdout",
     "output_type": "stream",
     "text": [
      "Source: BIS, dataflow: WS_DEBT_SEC2_PUB ok!\n"
     ]
    },
    {
     "name": "stderr",
     "output_type": "stream",
     "text": [
      " 39%|███▉      | 7/18 [00:01<00:02,  4.11it/s]"
     ]
    },
    {
     "name": "stdout",
     "output_type": "stream",
     "text": [
      "Source: BIS, dataflow: WS_DER_OTC_TOV ok!\n",
      "Source: BIS, dataflow: WS_DSR ok!\n"
     ]
    },
    {
     "name": "stderr",
     "output_type": "stream",
     "text": [
      " 50%|█████     | 9/18 [00:02<00:02,  3.89it/s]"
     ]
    },
    {
     "name": "stdout",
     "output_type": "stream",
     "text": [
      "Source: BIS, dataflow: WS_EER_D ok!\n",
      "Source: BIS, dataflow: WS_EER_M ok!\n"
     ]
    },
    {
     "name": "stderr",
     "output_type": "stream",
     "text": [
      " 61%|██████    | 11/18 [00:02<00:01,  4.27it/s]"
     ]
    },
    {
     "name": "stdout",
     "output_type": "stream",
     "text": [
      "Source: BIS, dataflow: WS_GLI ok!\n",
      "Source: BIS, dataflow: WS_LBS_D_PUB ok!\n"
     ]
    },
    {
     "name": "stderr",
     "output_type": "stream",
     "text": [
      " 67%|██████▋   | 12/18 [00:03<00:01,  4.42it/s]"
     ]
    },
    {
     "name": "stdout",
     "output_type": "stream",
     "text": [
      "Source: BIS, dataflow: WS_LONG_CPI ok!\n"
     ]
    },
    {
     "name": "stderr",
     "output_type": "stream",
     "text": [
      " 78%|███████▊  | 14/18 [00:03<00:00,  4.51it/s]"
     ]
    },
    {
     "name": "stdout",
     "output_type": "stream",
     "text": [
      "Source: BIS, dataflow: WS_OTC_DERIV2 ok!\n",
      "Source: BIS, dataflow: WS_SPP ok!\n"
     ]
    },
    {
     "name": "stderr",
     "output_type": "stream",
     "text": [
      " 89%|████████▉ | 16/18 [00:03<00:00,  5.14it/s]"
     ]
    },
    {
     "name": "stdout",
     "output_type": "stream",
     "text": [
      "Source: BIS, dataflow: WS_TC ok!\n",
      "Source: BIS, dataflow: WS_XRU ok!\n"
     ]
    },
    {
     "name": "stderr",
     "output_type": "stream",
     "text": [
      " 94%|█████████▍| 17/18 [00:04<00:00,  5.33it/s]"
     ]
    },
    {
     "name": "stdout",
     "output_type": "stream",
     "text": [
      "Source: BIS, dataflow: WS_XRU_D ok!\n"
     ]
    },
    {
     "name": "stderr",
     "output_type": "stream",
     "text": [
      "100%|██████████| 18/18 [00:04<00:00,  3.86it/s]\n"
     ]
    },
    {
     "name": "stdout",
     "output_type": "stream",
     "text": [
      "Source: BIS, dataflow: WS_XTD_DERIV ok!\n"
     ]
    },
    {
     "name": "stderr",
     "output_type": "stream",
     "text": [
      " 25%|██▌       | 1/4 [00:02<00:06,  2.05s/it]"
     ]
    },
    {
     "name": "stdout",
     "output_type": "stream",
     "text": [
      "Source: WB, dataflow: DF_WITS_Tariff_TRAINS ok!\n"
     ]
    },
    {
     "name": "stderr",
     "output_type": "stream",
     "text": [
      " 50%|█████     | 2/4 [00:02<00:02,  1.09s/it]"
     ]
    },
    {
     "name": "stdout",
     "output_type": "stream",
     "text": [
      "Source: WB, dataflow: DF_WITS_TradeStats_Development ok!\n"
     ]
    },
    {
     "name": "stderr",
     "output_type": "stream",
     "text": [
      " 75%|███████▌  | 3/4 [00:02<00:00,  1.28it/s]"
     ]
    },
    {
     "name": "stdout",
     "output_type": "stream",
     "text": [
      "Source: WB, dataflow: DF_WITS_TradeStats_Tariff ok!\n"
     ]
    },
    {
     "name": "stderr",
     "output_type": "stream",
     "text": [
      "100%|██████████| 4/4 [00:03<00:00,  1.21it/s]\n"
     ]
    },
    {
     "name": "stdout",
     "output_type": "stream",
     "text": [
      "Source: WB, dataflow: DF_WITS_TradeStats_Trade ok!\n"
     ]
    },
    {
     "name": "stderr",
     "output_type": "stream",
     "text": [
      "  6%|▌         | 1/18 [00:00<00:03,  4.54it/s]"
     ]
    },
    {
     "name": "stdout",
     "output_type": "stream",
     "text": [
      "Trying to download WS_CBPOL_D from BIS... not possible.\n"
     ]
    },
    {
     "name": "stderr",
     "output_type": "stream",
     "text": [
      " 11%|█         | 2/18 [00:00<00:03,  4.65it/s]"
     ]
    },
    {
     "name": "stdout",
     "output_type": "stream",
     "text": [
      "Trying to download WS_CBPOL_M from BIS... not possible.\n"
     ]
    },
    {
     "name": "stderr",
     "output_type": "stream",
     "text": [
      " 17%|█▋        | 3/18 [00:00<00:03,  3.95it/s]"
     ]
    },
    {
     "name": "stdout",
     "output_type": "stream",
     "text": [
      "Trying to download WS_CBS_PUB from BIS... not possible.\n"
     ]
    },
    {
     "name": "stderr",
     "output_type": "stream",
     "text": [
      " 22%|██▏       | 4/18 [00:00<00:03,  4.03it/s]"
     ]
    },
    {
     "name": "stdout",
     "output_type": "stream",
     "text": [
      "Trying to download WS_CREDIT_GAP from BIS... not possible.\n"
     ]
    },
    {
     "name": "stderr",
     "output_type": "stream",
     "text": [
      " 28%|██▊       | 5/18 [00:01<00:03,  3.95it/s]"
     ]
    },
    {
     "name": "stdout",
     "output_type": "stream",
     "text": [
      "Trying to download WS_DEBT_SEC2_PUB from BIS... not possible.\n"
     ]
    },
    {
     "name": "stderr",
     "output_type": "stream",
     "text": [
      " 33%|███▎      | 6/18 [02:41<10:57, 54.82s/it]"
     ]
    },
    {
     "name": "stdout",
     "output_type": "stream",
     "text": [
      "Trying to download WS_DER_OTC_TOV from BIS... ok!\n"
     ]
    },
    {
     "name": "stderr",
     "output_type": "stream",
     "text": [
      " 39%|███▉      | 7/18 [02:42<06:47, 37.02s/it]"
     ]
    },
    {
     "name": "stdout",
     "output_type": "stream",
     "text": [
      "Trying to download WS_DSR from BIS... not possible.\n"
     ]
    },
    {
     "name": "stderr",
     "output_type": "stream",
     "text": [
      " 44%|████▍     | 8/18 [02:42<04:12, 25.30s/it]"
     ]
    },
    {
     "name": "stdout",
     "output_type": "stream",
     "text": [
      "Trying to download WS_EER_D from BIS... not possible.\n"
     ]
    },
    {
     "name": "stderr",
     "output_type": "stream",
     "text": [
      " 50%|█████     | 9/18 [02:42<02:37, 17.45s/it]"
     ]
    },
    {
     "name": "stdout",
     "output_type": "stream",
     "text": [
      "Trying to download WS_EER_M from BIS... not possible.\n"
     ]
    },
    {
     "name": "stderr",
     "output_type": "stream",
     "text": [
      " 61%|██████    | 11/18 [02:43<00:59,  8.48s/it]"
     ]
    },
    {
     "name": "stdout",
     "output_type": "stream",
     "text": [
      "Trying to download WS_GLI from BIS... not possible.\n",
      "Trying to download WS_LBS_D_PUB from BIS... not possible.\n"
     ]
    },
    {
     "name": "stderr",
     "output_type": "stream",
     "text": [
      " 67%|██████▋   | 12/18 [02:43<00:36,  6.10s/it]"
     ]
    },
    {
     "name": "stdout",
     "output_type": "stream",
     "text": [
      "Trying to download WS_LONG_CPI from BIS... ok!\n"
     ]
    },
    {
     "name": "stderr",
     "output_type": "stream",
     "text": [
      " 78%|███████▊  | 14/18 [02:44<00:12,  3.06s/it]"
     ]
    },
    {
     "name": "stdout",
     "output_type": "stream",
     "text": [
      "Trying to download WS_OTC_DERIV2 from BIS... not possible.\n",
      "Trying to download WS_SPP from BIS... not possible.\n"
     ]
    },
    {
     "name": "stderr",
     "output_type": "stream",
     "text": [
      " 83%|████████▎ | 15/18 [02:44<00:06,  2.20s/it]"
     ]
    },
    {
     "name": "stdout",
     "output_type": "stream",
     "text": [
      "Trying to download WS_TC from BIS... not possible.\n"
     ]
    },
    {
     "name": "stderr",
     "output_type": "stream",
     "text": [
      " 94%|█████████▍| 17/18 [02:46<00:01,  1.44s/it]"
     ]
    },
    {
     "name": "stdout",
     "output_type": "stream",
     "text": [
      "Trying to download WS_XRU from BIS... ok!\n",
      "Trying to download WS_XRU_D from BIS... not possible.\n"
     ]
    },
    {
     "name": "stderr",
     "output_type": "stream",
     "text": [
      "100%|██████████| 18/18 [06:24<00:00, 21.37s/it]\n"
     ]
    },
    {
     "name": "stdout",
     "output_type": "stream",
     "text": [
      "Trying to download WS_XTD_DERIV from BIS... ok!\n"
     ]
    },
    {
     "name": "stderr",
     "output_type": "stream",
     "text": [
      "  0%|          | 0/4 [00:00<?, ?it/s]/Users/douglasaraujo/Coding/.venv_gingado/lib/python3.10/site-packages/pandasdmx/api.py:260: UserWarning: 'provider' argument is redundant for <Resource.data: 'data'>\n",
      "  warn(f\"'provider' argument is redundant for {resource_type!r}\")\n",
      " 25%|██▌       | 1/4 [00:01<00:03,  1.24s/it]"
     ]
    },
    {
     "name": "stdout",
     "output_type": "stream",
     "text": [
      "Trying to download DF_WITS_Tariff_TRAINS from WB... not possible.\n"
     ]
    },
    {
     "name": "stderr",
     "output_type": "stream",
     "text": [
      " 50%|█████     | 2/4 [00:01<00:01,  1.50it/s]"
     ]
    },
    {
     "name": "stdout",
     "output_type": "stream",
     "text": [
      "Trying to download DF_WITS_TradeStats_Development from WB... not possible.\n"
     ]
    },
    {
     "name": "stderr",
     "output_type": "stream",
     "text": [
      " 75%|███████▌  | 3/4 [00:01<00:00,  2.08it/s]"
     ]
    },
    {
     "name": "stdout",
     "output_type": "stream",
     "text": [
      "Trying to download DF_WITS_TradeStats_Tariff from WB... not possible.\n"
     ]
    },
    {
     "name": "stderr",
     "output_type": "stream",
     "text": [
      "100%|██████████| 4/4 [00:02<00:00,  1.94it/s]\n"
     ]
    },
    {
     "name": "stdout",
     "output_type": "stream",
     "text": [
      "Trying to download DF_WITS_TradeStats_Trade from WB... not possible.\n"
     ]
    },
    {
     "name": "stderr",
     "output_type": "stream",
     "text": [
      "  0%|          | 0/4 [00:00<?, ?it/s]"
     ]
    },
    {
     "name": "stdout",
     "output_type": "stream",
     "text": [
      "Getting data from BIS's WS_DER_OTC_TOV\n"
     ]
    },
    {
     "name": "stderr",
     "output_type": "stream",
     "text": [
      " 25%|██▌       | 1/4 [00:08<00:24,  8.31s/it]"
     ]
    },
    {
     "name": "stdout",
     "output_type": "stream",
     "text": [
      "Getting data from BIS's WS_LONG_CPI\n"
     ]
    },
    {
     "name": "stderr",
     "output_type": "stream",
     "text": [
      " 50%|█████     | 2/4 [00:08<00:07,  3.59s/it]"
     ]
    },
    {
     "name": "stdout",
     "output_type": "stream",
     "text": [
      "Successful\n",
      "Getting data from BIS's WS_XRU\n"
     ]
    },
    {
     "name": "stderr",
     "output_type": "stream",
     "text": [
      " 75%|███████▌  | 3/4 [00:09<00:02,  2.36s/it]"
     ]
    },
    {
     "name": "stdout",
     "output_type": "stream",
     "text": [
      "Successful\n",
      "Getting data from BIS's WS_XTD_DERIV\n"
     ]
    },
    {
     "name": "stderr",
     "output_type": "stream",
     "text": [
      "100%|██████████| 4/4 [00:10<00:00,  2.61s/it]\n"
     ]
    },
    {
     "name": "stdout",
     "output_type": "stream",
     "text": [
      "Successful\n"
     ]
    },
    {
     "name": "stderr",
     "output_type": "stream",
     "text": [
      "0it [00:00, ?it/s]\n"
     ]
    },
    {
     "ename": "AttributeError",
     "evalue": "'NoneType' object has no attribute 'dropna'",
     "output_type": "error",
     "traceback": [
      "\u001b[0;31m---------------------------------------------------------------------------\u001b[0m",
      "\u001b[0;31mAttributeError\u001b[0m                            Traceback (most recent call last)",
      "\u001b[1;32m/Users/douglasaraujo/Coding/gingado/index.ipynb Cell 11'\u001b[0m in \u001b[0;36m<module>\u001b[0;34m\u001b[0m\n\u001b[1;32m      <a href='vscode-notebook-cell:/Users/douglasaraujo/Coding/gingado/index.ipynb#ch0000007?line=0'>1</a>\u001b[0m \u001b[39mfrom\u001b[39;00m \u001b[39mgingado\u001b[39;00m\u001b[39m.\u001b[39;00m\u001b[39maugmentation\u001b[39;00m \u001b[39mimport\u001b[39;00m augm_with_sdmx\n\u001b[0;32m----> <a href='vscode-notebook-cell:/Users/douglasaraujo/Coding/gingado/index.ipynb#ch0000007?line=2'>3</a>\u001b[0m jst_augm_gingado \u001b[39m=\u001b[39m augm_with_sdmx(jst, start_year, end_year, time_col\u001b[39m=\u001b[39;49m\u001b[39m'\u001b[39;49m\u001b[39myear\u001b[39;49m\u001b[39m'\u001b[39;49m, freq\u001b[39m=\u001b[39;49m\u001b[39m'\u001b[39;49m\u001b[39mA\u001b[39;49m\u001b[39m'\u001b[39;49m, sources\u001b[39m=\u001b[39;49m[\u001b[39m'\u001b[39;49m\u001b[39mBIS\u001b[39;49m\u001b[39m'\u001b[39;49m, \u001b[39m'\u001b[39;49m\u001b[39mWB\u001b[39;49m\u001b[39m'\u001b[39;49m])\n",
      "File \u001b[0;32m~/Coding/gingado/gingado/augmentation.py:33\u001b[0m, in \u001b[0;36maugm_with_sdmx\u001b[0;34m(df, start_date, end_date, time_col, freq, sources)\u001b[0m\n\u001b[1;32m     <a href='file:///Users/douglasaraujo/Coding/gingado/gingado/augmentation.py?line=24'>25</a>\u001b[0m     end_date\u001b[39m=\u001b[39mdf[time_col]\u001b[39m.\u001b[39mmax()\n\u001b[1;32m     <a href='file:///Users/douglasaraujo/Coding/gingado/gingado/augmentation.py?line=26'>27</a>\u001b[0m sdmx_data \u001b[39m=\u001b[39m get_sdmx_data(\n\u001b[1;32m     <a href='file:///Users/douglasaraujo/Coding/gingado/gingado/augmentation.py?line=27'>28</a>\u001b[0m     start_date\u001b[39m=\u001b[39mstart_date,\n\u001b[1;32m     <a href='file:///Users/douglasaraujo/Coding/gingado/gingado/augmentation.py?line=28'>29</a>\u001b[0m     end_date\u001b[39m=\u001b[39mend_date,\n\u001b[1;32m     <a href='file:///Users/douglasaraujo/Coding/gingado/gingado/augmentation.py?line=29'>30</a>\u001b[0m     freq\u001b[39m=\u001b[39mfreq,\n\u001b[1;32m     <a href='file:///Users/douglasaraujo/Coding/gingado/gingado/augmentation.py?line=30'>31</a>\u001b[0m     sources\u001b[39m=\u001b[39msources\n\u001b[1;32m     <a href='file:///Users/douglasaraujo/Coding/gingado/gingado/augmentation.py?line=31'>32</a>\u001b[0m     )\n\u001b[0;32m---> <a href='file:///Users/douglasaraujo/Coding/gingado/gingado/augmentation.py?line=32'>33</a>\u001b[0m sdmx_data \u001b[39m=\u001b[39m sdmx_data\u001b[39m.\u001b[39;49mdropna(axis\u001b[39m=\u001b[39m\u001b[39m1\u001b[39m)\u001b[39m.\u001b[39msort_index()\n\u001b[1;32m     <a href='file:///Users/douglasaraujo/Coding/gingado/gingado/augmentation.py?line=33'>34</a>\u001b[0m sdmx_data\u001b[39m.\u001b[39mreset_index(inplace\u001b[39m=\u001b[39m\u001b[39mTrue\u001b[39;00m)\n\u001b[1;32m     <a href='file:///Users/douglasaraujo/Coding/gingado/gingado/augmentation.py?line=34'>35</a>\u001b[0m sdmx_data[\u001b[39m'\u001b[39m\u001b[39mTIME_PERIOD\u001b[39m\u001b[39m'\u001b[39m] \u001b[39m=\u001b[39m pd\u001b[39m.\u001b[39mto_datetime(sdmx_data[\u001b[39m'\u001b[39m\u001b[39mTIME_PERIOD\u001b[39m\u001b[39m'\u001b[39m])\n",
      "\u001b[0;31mAttributeError\u001b[0m: 'NoneType' object has no attribute 'dropna'"
     ]
    }
   ],
   "source": [
    "from gingado.augmentation import augm_with_sdmx\n",
    "\n",
    "jst_augm_gingado = augm_with_sdmx(jst, start_year, end_year, time_col='year', freq='A', sources='BIS')"
   ]
  },
  {
   "cell_type": "markdown",
   "metadata": {},
   "source": [
    "### Automatic benchmark\n",
    "\n",
    "Now"
   ]
  },
  {
   "cell_type": "markdown",
   "metadata": {},
   "source": [
    "## Design principles\n",
    "\n",
    "The choices made during development of `gingado` derive from the following principles, in no particular order:\n",
    "* *lowering the barrier to use machine learning* can help more economists familiarise themselves with these techniques and use them when appopriate\n",
    "* *promoting good practices* such as documenting ethical considerations and benchmarking models as part of machine learning development will help embed these habits in economists\n",
    "* *offering compatibility with other existing software that is consolidated by wide practice* benefits users and should be promoted as much as possible"
   ]
  },
  {
   "cell_type": "markdown",
   "metadata": {},
   "source": []
  }
 ],
 "metadata": {
  "kernelspec": {
   "display_name": "Python 3.9.10 64-bit ('.venv_gingado': venv)",
   "language": "python",
   "name": "python3"
  }
 },
 "nbformat": 4,
 "nbformat_minor": 2
}
