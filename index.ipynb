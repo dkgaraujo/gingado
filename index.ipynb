{
 "cells": [
  {
   "cell_type": "code",
   "execution_count": null,
   "metadata": {},
   "outputs": [],
   "source": [
    "#hide\n",
    "%load_ext autoreload\n",
    "%autoreload 2\n",
    "%matplotlib inline"
   ]
  },
  {
   "cell_type": "markdown",
   "metadata": {},
   "source": [
    "# Welcome to gingado!\n",
    "\n",
    "> A machine learning library for economics and finance"
   ]
  },
  {
   "cell_type": "markdown",
   "metadata": {},
   "source": [
    "The purpose of `gingado` is to support usage of machine learning models in economics and finance use cases, promoting good modelling practices while being easy to use. `gingado` aims to be suitable for beginners and advanced users alike.\n",
    "\n",
    "Most functionalities are likely to also be useful to a broader set of users. In addition to more general benefits, `gingado` is designed to align well with the workflow needs of economists due to its support for panel datasets and the functionality to quickly and easily add official statistical data on macroeconomics and finance to the user dataset."
   ]
  },
  {
   "cell_type": "markdown",
   "metadata": {},
   "source": [
    "## Overview\n",
    "\n",
    "`gingado` is built around three main functionalities:\n",
    "* **data augmentation**, to add more data from official sources, improving the machine models being trained by the user;\n",
    "* **automatic benchmark model**, to enable the user to assess their models against a reasonably well-performant model; and\n",
    "* **support for model documentation**, to embed documentation and ethical considerations in the model development phase.\n",
    "\n",
    "Each of these functionalities builds on top of the previous one, and they can be used stand-alone, together, or even as part of a larger pipeline from data input to model training to documentation!"
   ]
  },
  {
   "cell_type": "markdown",
   "metadata": {},
   "source": [
    "## Install\n",
    "\n",
    "To install `gingado`, simply run the following code on the terminal:"
   ]
  },
  {
   "cell_type": "markdown",
   "metadata": {},
   "source": [
    "`$ pip install gingado`"
   ]
  },
  {
   "cell_type": "markdown",
   "metadata": {},
   "source": [
    "## Design principles\n",
    "\n",
    "The choices made during development of `gingado` derive from the following principles, in no particular order:\n",
    "* *lowering the barrier to use machine learning* can help more economists familiarise themselves with these techniques and use them when appopriate\n",
    "* *promoting good practices* such as documenting ethical considerations and benchmarking models as part of machine learning development will help embed these habits in economists\n",
    "* *offering compatibility with other existing software that is consolidated by wide practice* benefits users and should be promoted as much as possible"
   ]
  }
 ],
 "metadata": {
  "kernelspec": {
   "display_name": "Python 3.9.10 64-bit ('.venv_gingado': venv)",
   "language": "python",
   "name": "python3"
  }
 },
 "nbformat": 4,
 "nbformat_minor": 2
}
