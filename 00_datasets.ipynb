{
 "cells": [
  {
   "cell_type": "raw",
   "metadata": {},
   "source": [
    "---\n",
    "badges: true\n",
    "description: Functions to load real or simulated datasets that are relevant for economic\n",
    "  and financial models\n",
    "output-file: datasets.html\n",
    "title: Datasets for economic research\n",
    "\n",
    "---\n",
    "\n"
   ]
  },
  {
   "cell_type": "code",
   "execution_count": null,
   "metadata": {},
   "outputs": [],
   "source": [
    "#| include: false\n",
    "#skip\n",
    "! [ -e /content ] && pip install -Uqq gingado nbdev # install or upgrade gingado on colab"
   ]
  },
  {
   "cell_type": "code",
   "execution_count": null,
   "metadata": {},
   "outputs": [],
   "source": [
    "#| default_exp datasets\n",
    "#| include: false\n",
    "%load_ext autoreload\n",
    "%autoreload 2"
   ]
  },
  {
   "cell_type": "code",
   "execution_count": null,
   "metadata": {},
   "outputs": [],
   "source": [
    "#| include: false\n",
    "from nbdev.showdoc import show_doc\n",
    "from fastcore.test import test_fail\n",
    "import matplotlib.pyplot as plt\n",
    "import pandas as pd"
   ]
  },
  {
   "cell_type": "markdown",
   "metadata": {},
   "source": [
    "The functions that load datasets output the variables necessary to run and test economic models - machine learning or not."
   ]
  },
  {
   "cell_type": "markdown",
   "metadata": {},
   "source": [
    "## Real datasets"
   ]
  },
  {
   "cell_type": "code",
   "execution_count": null,
   "metadata": {},
   "outputs": [],
   "source": [
    "#| include: false\n",
    "#| export\n",
    "import pandas as pd\n",
    "\n",
    "def load_BarroLee_1994():\n",
    "    \"Dataset used in R Barro and J-W Lee's *Sources of Economic Growth* (1994)\"\n",
    "    df = pd.read_csv('gingado/dataset_BarroLee_1994.csv')\n",
    "    y = df.pop('Outcome')\n",
    "    X = df\n",
    "    return X, y"
   ]
  },
  {
   "cell_type": "code",
   "execution_count": null,
   "metadata": {},
   "outputs": [
    {
     "data": {
      "text/markdown": [
       "<h4 id=\"load_BarroLee_1994\" class=\"doc_header\"><code>load_BarroLee_1994</code><a href=\"__main__.py#L5\" class=\"source_link\" style=\"float:right\">[source]</a></h4>\n",
       "\n",
       "> <code>load_BarroLee_1994</code>()\n",
       "\n",
       "Dataset used in R Barro and J-W Lee's *Sources of Economic Growth* (1994)"
      ],
      "text/plain": [
       "<IPython.core.display.Markdown object>"
      ]
     },
     "metadata": {},
     "output_type": "display_data"
    }
   ],
   "source": [
    "show_doc(load_BarroLee_1994)"
   ]
  },
  {
   "cell_type": "markdown",
   "metadata": {},
   "source": [
    "Robert Barro and Jong-Wha Lee published in 1994 their [cross-country study on sources of economic (GDP) growth](https://www.sciencedirect.com/science/article/pii/0167223194900027). Their dataset has been used over time by other economists, such as by [Domenico Giannone, Michele Lenza and Giorgio Primicieri (2021)](https://onlinelibrary.wiley.com/doi/abs/10.3982/ECTA17842). This function uses the version available in their [online annex](https://onlinelibrary.wiley.com/doi/abs/10.3982/ECTA17842). In that paper, this dataset corresponds to what the authors call \"macro2\".\n",
    "\n",
    "The original data, along with more information on the variables, can be found in [this NBER website](http://www2.nber.org/pub/barro.lee/). A very helpful codebook is found [in this repo](https://github.com/bizmaercq/Do-Poor-Countries-Grow-Faster-than-Rich-Countries/blob/master/data/Codebook.txt)."
   ]
  },
  {
   "cell_type": "markdown",
   "metadata": {},
   "source": [
    "## Simulated datasets\n",
    "\n",
    ":::{.callout-note}\n",
    "\n",
    "All of the functions creating simulated datasets have a parameter `random_state` that allow for reproducible random numbers.\n",
    "\n",
    ":::"
   ]
  },
  {
   "cell_type": "code",
   "execution_count": null,
   "metadata": {},
   "outputs": [],
   "source": [
    "#| include: false\n",
    "#| export\n",
    "import pandas as pd\n",
    "import numpy as np\n",
    "from inspect import signature\n",
    "from sklearn.utils import check_random_state\n",
    "\n",
    "def make_causal_effect(\n",
    "    n_samples:int=100,\n",
    "    n_features:int=100,\n",
    "    pretreatment_outcome=lambda X, bias, rng: X[:, 1] + np.maximum(X[:, 2], 0) + bias + rng.standard_normal(size=X.shape[0]),\n",
    "    treatment_propensity=lambda X: 0.4 + 0.2 * (X[:, 0] > 0),\n",
    "    treatment_assignment=lambda propensity, rng: rng.binomial(1, propensity),\n",
    "    treatment=lambda assignment: assignment,\n",
    "    treatment_effect=lambda treatment_value, X: np.maximum(X[:, 0], 0) * treatment_value,\n",
    "    bias:float=0,\n",
    "    noise=0,\n",
    "    random_state=None,\n",
    "    return_propensity=False,\n",
    "    return_assignment=False,\n",
    "    return_treatment_value=False,\n",
    "    return_treatment_effect=True,\n",
    "    return_pretreatment_y=False,\n",
    "    return_as_dict=False\n",
    "):\n",
    "    \"Simulated dataset with causal effects from treatment\"  \n",
    "    generator = check_random_state(random_state)\n",
    "\n",
    "    X = generator.standard_normal(size=(n_samples, n_features))\n",
    "\n",
    "    if 'rng' in signature(pretreatment_outcome).parameters.keys():\n",
    "        pretreatment_y = pretreatment_outcome(X=X, bias=bias, rng=generator)\n",
    "    else:\n",
    "        pretreatment_y = pretreatment_outcome(X=X, bias=bias)\n",
    "    pretreatment_y = np.squeeze(pretreatment_y)\n",
    "    if noise > 0.0:\n",
    "        pretreatment_y += generator.normal(scale=noise, size=pretreatment_y.shape)\n",
    "\n",
    "    # Since propensity may be a scalar (ie, the same propensity for all),\n",
    "    # it is necessary to first check that it is callable.\n",
    "    if callable(treatment_propensity):\n",
    "        propensity = treatment_propensity(X=X)\n",
    "    else:\n",
    "        propensity = np.broadcast_to(treatment_propensity, pretreatment_y.shape)\n",
    "\n",
    "    if 'rng' in signature(treatment_assignment).parameters.keys():\n",
    "        assignment = treatment_assignment(propensity=propensity, rng=generator)\n",
    "    else:\n",
    "        assignment = treatment_assignment(propensity=propensity)\n",
    "\n",
    "    # In case treatment is heterogenous amongst the treated observations,\n",
    "    # the treatment function depends on `X`; otherwise only on `assignment`\n",
    "    if 'X' in signature(treatment).parameters.keys():\n",
    "        treatment_value = treatment(assignment=assignment, X=X)\n",
    "    else:\n",
    "        treatment_value = treatment(assignment=assignment)\n",
    "\n",
    "    if len(treatment_value) == 1: treatment_value = treatment_value[0]\n",
    "\n",
    "    # check that the treatment value is 0 for all observations that\n",
    "    # are not assigned for treatment\n",
    "    treatment_check = np.column_stack((assignment, treatment_value))\n",
    "    if all(treatment_check[treatment_check[:, 0] == 0, 1] == 0) is False:\n",
    "        raise ValueError(\"Argument `treatment` must be a function that returns 0 for observations with `assignment` == 0.\\nOne suggestion is to multiply the desired treatment value with `assignment`.\")\n",
    "\n",
    "    # the code below checks whether the treatment effect responds to each unit's covariates\n",
    "    # if not, then it just passes the treatment variable to `treatment_effect`\n",
    "    if 'X' in signature(treatment_effect).parameters.keys(): \n",
    "        treat = treatment_effect(treatment_value=treatment_value, X=X)\n",
    "    else:\n",
    "        treat = treatment_effect(treatment_value=treatment_value)\n",
    "\n",
    "    y = pretreatment_y + treat\n",
    "\n",
    "    return_items = {'X': X, 'y': y}\n",
    "\n",
    "    if return_propensity: return_items['propensity'] = propensity\n",
    "    if return_assignment: return_items['treatment_assignment'] = assignment\n",
    "    if return_treatment_value: return_items['treatment_value'] = treatment_value,\n",
    "    if return_treatment_effect: return_items['treatment_effect'] = treat\n",
    "    if return_pretreatment_y: return_items['pretreatment_y'] = pretreatment_y\n",
    "\n",
    "    if return_as_dict == False:\n",
    "        return_items = [v for k, v in return_items.items()]\n",
    "\n",
    "    return return_items"
   ]
  },
  {
   "cell_type": "code",
   "execution_count": null,
   "metadata": {},
   "outputs": [
    {
     "data": {
      "text/markdown": [
       "<h4 id=\"make_causal_effect\" class=\"doc_header\"><code>make_causal_effect</code><a href=\"__main__.py#L8\" class=\"source_link\" style=\"float:right\">[source]</a></h4>\n",
       "\n",
       "> <code>make_causal_effect</code>(**`n_samples`**:`int`=*`100`*, **`n_features`**:`int`=*`100`*, **`pretreatment_outcome`**=*`<lambda>`*, **`treatment_propensity`**=*`<lambda>`*, **`treatment_assignment`**=*`<lambda>`*, **`treatment`**=*`<lambda>`*, **`treatment_effect`**=*`<lambda>`*, **`bias`**:`float`=*`0`*, **`noise`**=*`0`*, **`random_state`**=*`None`*, **`return_propensity`**=*`False`*, **`return_assignment`**=*`False`*, **`return_treatment_value`**=*`False`*, **`return_treatment_effect`**=*`True`*, **`return_pretreatment_y`**=*`False`*, **`return_as_dict`**=*`False`*)\n",
       "\n",
       "Simulated dataset with causal effects from treatment"
      ],
      "text/plain": [
       "<IPython.core.display.Markdown object>"
      ]
     },
     "metadata": {},
     "output_type": "display_data"
    }
   ],
   "source": [
    "show_doc(make_causal_effect)"
   ]
  },
  {
   "cell_type": "markdown",
   "metadata": {},
   "source": [
    "`make_causal_effect` creates a dataset for when the question of interest is related to the causal effects of a treatment. For example, for a simulated dataset, we can check that $y$ corresponds to the sum of the treatment effects plus the component that does not depend on the treatment:"
   ]
  },
  {
   "cell_type": "code",
   "execution_count": null,
   "metadata": {},
   "outputs": [],
   "source": [
    " causal_sim = make_causal_effect(\n",
    "    n_samples=2000,\n",
    "    n_features=100,\n",
    "    return_propensity=True,\n",
    "    return_treatment_effect=True, \n",
    "    return_pretreatment_y=True, \n",
    "    return_as_dict=True)\n",
    "\n",
    " assert not np.any(np.round(causal_sim['y'] - causal_sim['pretreatment_y'] - causal_sim['treatment_effect'], decimals=13))"
   ]
  },
  {
   "cell_type": "markdown",
   "metadata": {},
   "source": [
    "#### Pre-treatment outcome\n",
    "\n",
    "The pre-treatment outcome $Y_i|X_i$ (the part of the outcome variable that is not dependent on the treatment) might be defined by the user. This corresponds to the value of the outcome for any untreated observations. The function should always take at least two arguments: `X` and `bias`, even if one of them is unused; `bias` is the constant. The argument is zero by default but can be set by the user to be another value."
   ]
  },
  {
   "cell_type": "code",
   "execution_count": null,
   "metadata": {},
   "outputs": [],
   "source": [
    "causal_sim = make_causal_effect(\n",
    "    bias=0.123,\n",
    "    pretreatment_outcome=lambda X, bias: bias,\n",
    "    return_assignment=True,\n",
    "    return_as_dict=True\n",
    ")\n",
    "\n",
    "assert all(causal_sim['y'][causal_sim['treatment_assignment'] == 0] == 0.123)"
   ]
  },
  {
   "cell_type": "markdown",
   "metadata": {},
   "source": [
    "If the outcome depends on specific columns of $X$, this can be implemented as shown below."
   ]
  },
  {
   "cell_type": "code",
   "execution_count": null,
   "metadata": {},
   "outputs": [],
   "source": [
    "causal_sim = make_causal_effect(\n",
    "    pretreatment_outcome=lambda X, bias: X[:, 1] + np.maximum(X[:,2], 0) + X[:,3] * X[:,4] + bias\n",
    ")"
   ]
  },
  {
   "cell_type": "markdown",
   "metadata": {},
   "source": [
    "And of course, the outcome might also have a random component. \n",
    "\n",
    "In these cases (and in other parts of this function), when the user wants to use the same random number generator as the other parts of the function, the function must have an argment `rng` for the NumPy random number generator used in other parts of the function."
   ]
  },
  {
   "cell_type": "code",
   "execution_count": null,
   "metadata": {},
   "outputs": [],
   "source": [
    "causal_sim_1 = make_causal_effect(\n",
    "    pretreatment_outcome=lambda X, bias, rng: X[:, 1] + np.maximum(X[:,2], 0) + X[:,3] * X[:,4] + bias + rng.standard_normal(size=X.shape[0]),\n",
    "    random_state=42,\n",
    "    return_pretreatment_y=True,\n",
    "    return_as_dict=True\n",
    ")\n",
    "\n",
    "causal_sim_2 = make_causal_effect(\n",
    "    pretreatment_outcome=lambda X, bias, rng: X[:, 1] + np.maximum(X[:,2], 0) + X[:,3] * X[:,4] + bias + rng.standard_normal(size=X.shape[0]),\n",
    "    random_state=42,\n",
    "    return_pretreatment_y=True,\n",
    "    return_as_dict=True\n",
    ")\n",
    "\n",
    "assert all(causal_sim_1['X'].reshape(-1, 1) == causal_sim_2['X'].reshape(-1, 1))\n",
    "assert all(causal_sim_1['y'] == causal_sim_2['y'])\n",
    "assert all(causal_sim_1['pretreatment_y'] == causal_sim_2['pretreatment_y'])"
   ]
  },
  {
   "cell_type": "markdown",
   "metadata": {},
   "source": [
    "#### Treatment propensity\n",
    "\n",
    "The treatment propensity of observations may all be the same, in which case `treatment_propensity` is a floating number between 0 and 1."
   ]
  },
  {
   "cell_type": "code",
   "execution_count": null,
   "metadata": {},
   "outputs": [],
   "source": [
    "same_propensity_sim = make_causal_effect(\n",
    "    n_samples=485,\n",
    "    treatment_propensity=0.3,\n",
    "    return_propensity=True,\n",
    "    return_as_dict=True\n",
    ")\n",
    "\n",
    "assert np.unique(same_propensity_sim['propensity']) == 0.3\n",
    "assert len(same_propensity_sim['propensity']) == 485"
   ]
  },
  {
   "cell_type": "markdown",
   "metadata": {},
   "source": [
    "Or it might depend on the observation's covariates, with the user passing a function with an argument 'X'."
   ]
  },
  {
   "cell_type": "code",
   "execution_count": null,
   "metadata": {},
   "outputs": [
    {
     "data": {
      "image/png": "[encoded data removed]",
      "text/plain": [
       "<Figure size 432x288 with 1 Axes>"
      ]
     },
     "metadata": {
      "needs_background": "light"
     },
     "output_type": "display_data"
    }
   ],
   "source": [
    "heterogenous_propensities_sim = make_causal_effect(\n",
    "    n_samples=1000,\n",
    "    treatment_propensity=lambda X: 0.3 + (X[:, 0] > 0) * 0.2,\n",
    "    return_propensity=True,\n",
    "    return_as_dict=True\n",
    ")\n",
    "\n",
    "plt.title(\"Heterogenously distributed propensities\")\n",
    "plt.xlabel(\"Propensity\")\n",
    "plt.ylabel(\"No of observations\")\n",
    "plt.hist(heterogenous_propensities_sim['propensity'], bins=100)\n",
    "plt.show()"
   ]
  },
  {
   "cell_type": "markdown",
   "metadata": {},
   "source": [
    "The propensity can also be randomly allocated, together with covariate dependence or not. Note that even if the propensity is completely random and does not depend on covariates, the function must still use the argument `X` to calculate a random vector with the appropriate size."
   ]
  },
  {
   "cell_type": "code",
   "execution_count": null,
   "metadata": {},
   "outputs": [
    {
     "data": {
      "image/png": "[encoded data removed]",
      "text/plain": [
       "<Figure size 432x288 with 1 Axes>"
      ]
     },
     "metadata": {
      "needs_background": "light"
     },
     "output_type": "display_data"
    }
   ],
   "source": [
    "random_propensities_sim = make_causal_effect(\n",
    "    n_samples=50000,\n",
    "    treatment_propensity=lambda X: np.random.uniform(size=X.shape[0]),\n",
    "    return_propensity=True,\n",
    "    return_as_dict=True\n",
    ")\n",
    "\n",
    "plt.title(\"Randomly distributed propensities\")\n",
    "plt.xlabel(\"Propensity\")\n",
    "plt.ylabel(\"No of observations\")\n",
    "plt.hist(random_propensities_sim['propensity'], bins=100)\n",
    "plt.show()"
   ]
  },
  {
   "cell_type": "markdown",
   "metadata": {},
   "source": [
    "#### Treatment assignment\n",
    "\n",
    "As seen above, every observation has a given treatment propensity - the chance that they are treated. Users can define how this propensity translates into actual treatment with the argument `treatment_assignment`. This argument takes a function, which must have an argument called `propensity`.\n",
    "\n",
    "The default value for this argument is a function returning 1s with probability `propensity` and 0s otherwise. Any other function should always return either 0s or 1s for the data simulator to work as expected."
   ]
  },
  {
   "cell_type": "code",
   "execution_count": null,
   "metadata": {},
   "outputs": [],
   "source": [
    "causal_sim = make_causal_effect(\n",
    "    treatment_assignment=lambda propensity: np.random.binomial(1, propensity)\n",
    ")"
   ]
  },
  {
   "cell_type": "markdown",
   "metadata": {},
   "source": [
    "While the case above is likely to be the most useful in practice, this argument accepts more complex relationships between an observation's propensity and the actual treatment assignment.\n",
    "\n",
    "For example, if treatment is subject to rationing, then one could simulate data with 10 observations where only the samples with the highest (say, 3) propensity scores get treated, as below:"
   ]
  },
  {
   "cell_type": "code",
   "execution_count": null,
   "metadata": {},
   "outputs": [],
   "source": [
    "rationed_treatment_sim = make_causal_effect(\n",
    "    n_samples=10,\n",
    "    treatment_propensity=lambda X: np.random.uniform(size=X.shape[0]),\n",
    "    treatment_assignment=lambda propensity: propensity >= propensity[np.argsort(propensity)][-3],\n",
    "    return_propensity=True,\n",
    "    return_assignment=True,\n",
    "    return_as_dict=True\n",
    ")"
   ]
  },
  {
   "cell_type": "code",
   "execution_count": null,
   "metadata": {},
   "outputs": [],
   "source": [
    "rationed_treatment = pd.DataFrame(\n",
    "    np.column_stack((rationed_treatment_sim['propensity'], rationed_treatment_sim['treatment_assignment'])),\n",
    "    columns = ['propensity', 'assignment']\n",
    "    )"
   ]
  },
  {
   "cell_type": "code",
   "execution_count": null,
   "metadata": {},
   "outputs": [
    {
     "data": {
      "text/html": [
       "<div>\n",
       "<style scoped>\n",
       "    .dataframe tbody tr th:only-of-type {\n",
       "        vertical-align: middle;\n",
       "    }\n",
       "\n",
       "    .dataframe tbody tr th {\n",
       "        vertical-align: top;\n",
       "    }\n",
       "\n",
       "    .dataframe thead th {\n",
       "        text-align: right;\n",
       "    }\n",
       "</style>\n",
       "<table border=\"1\" class=\"dataframe\">\n",
       "  <thead>\n",
       "    <tr style=\"text-align: right;\">\n",
       "      <th></th>\n",
       "      <th>propensity</th>\n",
       "      <th>assignment</th>\n",
       "    </tr>\n",
       "  </thead>\n",
       "  <tbody>\n",
       "    <tr>\n",
       "      <th>6</th>\n",
       "      <td>0.038075</td>\n",
       "      <td>0.0</td>\n",
       "    </tr>\n",
       "    <tr>\n",
       "      <th>7</th>\n",
       "      <td>0.106176</td>\n",
       "      <td>0.0</td>\n",
       "    </tr>\n",
       "    <tr>\n",
       "      <th>2</th>\n",
       "      <td>0.191808</td>\n",
       "      <td>0.0</td>\n",
       "    </tr>\n",
       "    <tr>\n",
       "      <th>3</th>\n",
       "      <td>0.197068</td>\n",
       "      <td>0.0</td>\n",
       "    </tr>\n",
       "    <tr>\n",
       "      <th>8</th>\n",
       "      <td>0.531224</td>\n",
       "      <td>0.0</td>\n",
       "    </tr>\n",
       "    <tr>\n",
       "      <th>9</th>\n",
       "      <td>0.619038</td>\n",
       "      <td>0.0</td>\n",
       "    </tr>\n",
       "    <tr>\n",
       "      <th>4</th>\n",
       "      <td>0.710921</td>\n",
       "      <td>0.0</td>\n",
       "    </tr>\n",
       "    <tr>\n",
       "      <th>1</th>\n",
       "      <td>0.788564</td>\n",
       "      <td>1.0</td>\n",
       "    </tr>\n",
       "    <tr>\n",
       "      <th>0</th>\n",
       "      <td>0.889001</td>\n",
       "      <td>1.0</td>\n",
       "    </tr>\n",
       "    <tr>\n",
       "      <th>5</th>\n",
       "      <td>0.890778</td>\n",
       "      <td>1.0</td>\n",
       "    </tr>\n",
       "  </tbody>\n",
       "</table>\n",
       "</div>"
      ],
      "text/plain": [
       "   propensity  assignment\n",
       "6    0.038075         0.0\n",
       "7    0.106176         0.0\n",
       "2    0.191808         0.0\n",
       "3    0.197068         0.0\n",
       "8    0.531224         0.0\n",
       "9    0.619038         0.0\n",
       "4    0.710921         0.0\n",
       "1    0.788564         1.0\n",
       "0    0.889001         1.0\n",
       "5    0.890778         1.0"
      ]
     },
     "execution_count": null,
     "metadata": {},
     "output_type": "execute_result"
    }
   ],
   "source": [
    "rationed_treatment.sort_values('propensity')"
   ]
  },
  {
   "cell_type": "markdown",
   "metadata": {},
   "source": [
    "#### Treatment value\n",
    "\n",
    "The `treatment` argument indicates the magnitude of the treatment for each observation assigned for treatment. Its value is always a function that must have an argument called `assignment`, as in the first example below.\n",
    "\n",
    "In the simplest case, the treatment is a binary variable indicating whether or not a variable was treated. In other words, the treatment is the same as the assignment, as in the default value.\n",
    "\n",
    "But users can also simulate data with heterogenous treatment, conditional on assignment. This is done by including a pararemeter `X` in the function, as shown in the second example below."
   ]
  },
  {
   "cell_type": "code",
   "execution_count": null,
   "metadata": {},
   "outputs": [],
   "source": [
    "binary_treatment_sim = make_causal_effect(\n",
    "    n_samples=15,\n",
    "    treatment=lambda assignment: assignment,\n",
    "    return_assignment=True,\n",
    "    return_treatment_value=True,\n",
    "    return_as_dict=True\n",
    ")\n",
    "\n",
    "assert sum(binary_treatment_sim['treatment_assignment'] - binary_treatment_sim['treatment_value'][0]) == 0"
   ]
  },
  {
   "cell_type": "markdown",
   "metadata": {},
   "source": [
    "Heterogenous treatments may occur in settings where treatment intensity, conditional on assignment, varies across observations. Please note the following:\n",
    "* the heterogenous treatment amount may or may not depend on covariates, but either way, if treatment values are heterogenous, then `X` needs to be an argument of the function passed to `treatment`, if nothing else to make sure the shapes match; and\n",
    "* if treatments are heterogenous, then it is important to multiply the treatment value with the `assignment` argument to ensure that observations that are not assigned to be treated are indeed not treated (the function will return an `AssertionError` otherwise)."
   ]
  },
  {
   "cell_type": "code",
   "execution_count": null,
   "metadata": {},
   "outputs": [],
   "source": [
    "hetereogenous_treatment_sim = make_causal_effect(\n",
    "    n_samples=15,\n",
    "    treatment=lambda assignment, X: assignment * np.random.uniform(size=X.shape[0]),\n",
    "    return_assignment=True,\n",
    "    return_treatment_value=True,\n",
    "    return_as_dict=True\n",
    ")"
   ]
  },
  {
   "cell_type": "markdown",
   "metadata": {},
   "source": [
    "In contrast to the function above, in the chunk below we function `make_causal_effect` fails because a treatment value is also assigned to observations that were not assigned for treatment."
   ]
  },
  {
   "cell_type": "code",
   "execution_count": null,
   "metadata": {},
   "outputs": [],
   "source": [
    "test_fail(\n",
    "    make_causal_effect, \n",
    "    kwargs=dict(treatment=lambda assignment, X: assignment + np.random.uniform(size=X.shape[0]))\n",
    ")"
   ]
  },
  {
   "cell_type": "markdown",
   "metadata": {},
   "source": [
    "#### Treatment effect\n",
    "\n",
    "The treatment effect can be homogenous, ie, is doesn't depend on any other characteristic of the individual observations (in other words, does not depend on $X_i$), or heterogenous (where the treatment effect on $Y_i$ does depend on each observation's $X_i$). This can be done by specifying the causal relationship through a lambda function, as below:"
   ]
  },
  {
   "cell_type": "code",
   "execution_count": null,
   "metadata": {},
   "outputs": [],
   "source": [
    "homogenous_effects_sim = make_causal_effect(\n",
    "        treatment_effect=lambda treatment_value: treatment_value,\n",
    "        return_treatment_value=True,\n",
    "        return_as_dict=True\n",
    ")\n",
    "\n",
    "assert (homogenous_effects_sim['treatment_effect'] == homogenous_effects_sim['treatment_value']).all()\n",
    "\n",
    "heterogenous_effects_sim = make_causal_effect(\n",
    "        treatment_effect=lambda treatment_value, X: np.maximum(X[:, 1], 0) * treatment_value,\n",
    "        return_treatment_value=True,\n",
    "        return_as_dict=True\n",
    ")\n",
    "\n",
    "assert (heterogenous_effects_sim['treatment_effect'] != heterogenous_effects_sim['treatment_value']).any()"
   ]
  },
  {
   "cell_type": "markdown",
   "metadata": {},
   "source": [
    "## References\n",
    "\n",
    "Barro, R and J-W Lee (1994): \"Sources of economic growth\", Carnegie-Rochester Conference Series on Public Policy, 40, p. 1-46.\n",
    "\n",
    "Giannone, D, M Lenza, G Primiceri (2021): \"Economic predictions with big data: the illusion of sparsity\", Econometrica, 89, 5, p. 2409-2437."
   ]
  },
  {
   "cell_type": "code",
   "execution_count": null,
   "metadata": {},
   "outputs": [],
   "source": [
    "#| echo: false\n",
    "import nbdev; nbdev.nbdev_export()"
   ]
  }
 ],
 "metadata": {
  "kernelspec": {
   "display_name": "Python 3.9.10 64-bit ('.venv_gingado': venv)",
   "language": "python",
   "name": "python3"
  }
 },
 "nbformat": 4,
 "nbformat_minor": 2
}
