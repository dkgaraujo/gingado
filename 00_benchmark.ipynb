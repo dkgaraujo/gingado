{
 "cells": [
  {
   "cell_type": "code",
   "execution_count": null,
   "metadata": {},
   "outputs": [],
   "source": [
    "#default_exp benchmark"
   ]
  },
  {
   "cell_type": "markdown",
   "metadata": {},
   "source": [
    "# Automatic benchmark model\n",
    "> Functions to create a relevant, fast and reasonably well-performing benchmark"
   ]
  },
  {
   "cell_type": "markdown",
   "metadata": {},
   "source": [
    "A `Benchmark` object has a similar API to a `sciki-learn` estimator: you build an instance with the desired arguments, and fit it to the data at a later moment.\n",
    "\n",
    "`Benchmark` is a convenience wrapper for reading the training data, passing it through a simplified pipeline consisting of data imputation and a standard scalar, and then the benchmark function calibrated with a grid search.\n",
    "\n",
    "A `Benchmark` comprises the following steps, all glued together:\n",
    "* split the dataset into a training and a test datasets\n",
    "* a `Pipeline` that consisting of a data imputation, a standard scaler, and a random forest estimator\n",
    "* a grid search object\n",
    "\n",
    "The user may include her own data split and/or pipeline in the benchmark object. If none is present, the benchmark object will create one. The user may also include her own grid search parameter preferences, but that is also not required for the `Benchmark` to be instanciated appropriately.\n",
    "\n",
    "In addition to the estimator methods `Benchmark` has by virtue of itself being an estimator, these objects also have a `compare` method, which takes as argument another fitted estimator (which could be itself a solo estimator or a whole pipeline) or a list of estimators. "
   ]
  },
  {
   "cell_type": "code",
   "execution_count": null,
   "metadata": {},
   "outputs": [],
   "source": [
    "#export\n",
    "from sklearn.base import BaseEstimator, ClassifierMixin, RegressorMixin\n",
    "\n",
    "class ggdBenchmark(BaseEstimator):\n",
    "    def __init__():\n",
    "        pass\n",
    "\n",
    "    def fit(self, X, y=None):\n",
    "        pass\n",
    "\n",
    "    def compare(self, candidate):\n",
    "        pass\n",
    "    \n",
    "    "
   ]
  }
 ],
 "metadata": {
  "kernelspec": {
   "display_name": "Python 3.9.10 64-bit ('.venv_gingado': venv)",
   "language": "python",
   "name": "python3"
  }
 },
 "nbformat": 4,
 "nbformat_minor": 2
}
