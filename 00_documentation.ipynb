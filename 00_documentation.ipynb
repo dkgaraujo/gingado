{
 "cells": [
  {
   "cell_type": "code",
   "execution_count": null,
   "metadata": {},
   "outputs": [],
   "source": [
    "#default_exp model_documentation"
   ]
  },
  {
   "cell_type": "markdown",
   "metadata": {},
   "source": [
    "# Model documentation\n",
    "> Functions to jumpstat and facilitate model documentation"
   ]
  },
  {
   "cell_type": "code",
   "execution_count": null,
   "metadata": {},
   "outputs": [],
   "source": [
    "#hide\n",
    "from nbdev.showdoc import *"
   ]
  },
  {
   "cell_type": "markdown",
   "metadata": {},
   "source": [
    "Each user has a specific documentation need, ranging from the simply logging the model training to a more complex description of the model pipeline with a discusson of its predictions. `gingado` addresses this variety of needs by offering a class of objects that facilitate model documentation in a generic way, as well as one specific model documentation type, described below. \n",
    "\n",
    "The model documentation is performed by Documenters, objects that are analogous to `scikit-learn`'s Estimator, Predictor, Transformer and Model objects (described [here](https://scikit-learn.org/dev/developers/develop.html)). Users with documentation needs beyond the out-of-the-box solutions provided by `gingado` can simply create their own class of Documenters, and compatibility with these custom documentation routines with the rest of the code is ensured.\n",
    "\n",
    "The baseline `ggdModelDocumentation` class offers code that can be used by any Documenter object to read the pipeline in question and to save the resulting documentation in a variety of formats (eg, HTML, PDF).\n",
    "\n",
    "Users are encouraged to submit a PR with their own documentation models subclassing `ggdModelDocumentation`.\n",
    "\n",
    "**Warning: development of documentation is still on-going. Please do not use it yet.**"
   ]
  },
  {
   "cell_type": "code",
   "execution_count": null,
   "metadata": {},
   "outputs": [],
   "source": [
    "#export\n",
    "import json\n",
    "\n",
    "class ggdModelDocumentation:\n",
    "    \n",
    "    def documentation_path(self):\n",
    "        pass\n",
    "\n",
    "    def show_json(self):\n",
    "        return self.json_doc\n",
    "\n",
    "    def save_json(self, file_path):\n",
    "        with open(file_path, 'w') as f:\n",
    "            json.dump(self.json_doc, f)\n",
    "\n",
    "    def read_json(self, file_path):\n",
    "        f = open(file_path)\n",
    "        self.json_doc = json.load(f)\n",
    "\n",
    "    def open_questions(self):\n",
    "        return {k: v for k, v in self.json_doc.items() if v is None}\n",
    "\n",
    "    def fill_info(self, dict):\n",
    "        for k, v in dict.items():\n",
    "            self.json_doc[k] = v\n",
    "\n",
    "    def __setitem__(self, key, value):\n",
    "        setattr(self, key, value)\n",
    "\n",
    "    def __getitem__(self, key):\n",
    "        return getattr(self, key)"
   ]
  },
  {
   "cell_type": "code",
   "execution_count": null,
   "metadata": {},
   "outputs": [],
   "source": [
    "#hide\n",
    "#export\n",
    "from gingado.utils import get_username, get_datetime"
   ]
  },
  {
   "cell_type": "code",
   "execution_count": null,
   "metadata": {},
   "outputs": [],
   "source": [
    "#export\n",
    "class ModelCard(ggdModelDocumentation):\n",
    "    def __init__(self, from_template = True):\n",
    "        if from_template:\n",
    "            self.start_from_template()\n",
    "\n",
    "    def start_from_template(self):\n",
    "        \"\"\"Creates an empty model card template, then fills it with information that is automatically obtained from the system\"\"\"\n",
    "        self.json_doc = {}\n",
    "        self.json_doc['model_details'] = {}\n",
    "        self.json_doc['model_details']['developer'] = get_username()\n",
    "        self.json_doc['model_details']['datetime'] = get_datetime()\n",
    "        self.json_doc['model_details']['version'] = \"1\" \n",
    "        self.json_doc['model_details']['task'] = None\n",
    "        self.json_doc['model_details']['framework'] = None\n",
    "        self.json_doc['model_details']['architecture'] = None\n",
    "        self.json_doc['model_details']['parameters'] = None\n",
    "        self.json_doc['model_details']['optimizer'] = None\n",
    "        self.json_doc['model_details']['type'] = None\n",
    "        self.json_doc['model_details']['info'] = None\n",
    "        self.json_doc['model_details']['citation'] = None\n",
    "        self.json_doc['model_details']['license'] = None\n",
    "        self.json_doc['model_details']['contact'] = None\n",
    "\n",
    "        self.json_doc['intended_use'] = {}\n",
    "        self.json_doc['intended_use']['primary_uses'] = None\n",
    "        self.json_doc['intended_use']['primary_users'] = None\n",
    "        self.json_doc['intended_use']['out_of_scope'] = None\n",
    "\n",
    "        self.json_doc['factors'] = {}\n",
    "        self.json_doc['factors']['relevant'] = None\n",
    "        self.json_doc['factors']['evaluation'] = None\n",
    "\n",
    "        self.json_doc['metrics'] = {}\n",
    "        self.json_doc['metrics']['performance_measures'] = None\n",
    "        self.json_doc['metrics']['thresholds'] = None\n",
    "        self.json_doc['metrics']['variation_approaches'] = None\n",
    "\n",
    "        self.json_doc['data'] = {}\n",
    "        self.json_doc['data']['datasets'] = None\n",
    "        self.json_doc['data']['preprocessing'] = None\n",
    "        self.json_doc['data']['motivation'] = None\n",
    "\n",
    "        self.json_doc['ethical_cons'] = {}\n",
    "        self.json_doc['ethical_cons']['impact'] = None\n",
    "        self.json_doc['ethical_cons']['risks'] = None\n",
    "        self.json_doc['ethical_cons']['mitigation'] = None\n",
    "        self.json_doc['ethical_cons']['avoid'] = None\n",
    "\n",
    "        self.json_doc['caveats_recomm'] = {}\n",
    "        self.json_doc['caveats_recomm']['caveats'] = None\n",
    "        self.json_doc['caveats_recomm']['recommendations'] = None\n",
    "        self.json_doc['caveats_recomm']['misc_notes'] = None\n",
    "\n",
    "        return self  "
   ]
  },
  {
   "cell_type": "code",
   "execution_count": null,
   "metadata": {},
   "outputs": [
    {
     "data": {
      "text/markdown": [
       "<h4 id=\"ModelCard.__init__\" class=\"doc_header\"><code>ModelCard.__init__</code><a href=\"__main__.py#L3\" class=\"source_link\" style=\"float:right\">[source]</a></h4>\n",
       "\n",
       "> <code>ModelCard.__init__</code>(**`from_template`**=*`True`*)\n",
       "\n",
       "Initialize self.  See help(type(self)) for accurate signature."
      ],
      "text/plain": [
       "<IPython.core.display.Markdown object>"
      ]
     },
     "metadata": {},
     "output_type": "display_data"
    }
   ],
   "source": [
    "show_doc(ModelCard.__init__)"
   ]
  },
  {
   "cell_type": "code",
   "execution_count": null,
   "metadata": {},
   "outputs": [
    {
     "data": {
      "text/markdown": [
       "<h4 id=\"ModelCard.start_from_template\" class=\"doc_header\"><code>ModelCard.start_from_template</code><a href=\"__main__.py#L7\" class=\"source_link\" style=\"float:right\">[source]</a></h4>\n",
       "\n",
       "> <code>ModelCard.start_from_template</code>()\n",
       "\n",
       "Creates an empty model card template, then fills it with information that is automatically obtained from the system"
      ],
      "text/plain": [
       "<IPython.core.display.Markdown object>"
      ]
     },
     "metadata": {},
     "output_type": "display_data"
    }
   ],
   "source": [
    "show_doc(ModelCard.start_from_template)"
   ]
  },
  {
   "cell_type": "code",
   "execution_count": null,
   "metadata": {},
   "outputs": [],
   "source": [
    "mdoc = ModelCard()"
   ]
  },
  {
   "cell_type": "code",
   "execution_count": null,
   "metadata": {},
   "outputs": [
    {
     "data": {
      "text/plain": [
       "{}"
      ]
     },
     "execution_count": null,
     "metadata": {},
     "output_type": "execute_result"
    }
   ],
   "source": [
    "mdoc.open_questions()"
   ]
  },
  {
   "cell_type": "code",
   "execution_count": null,
   "metadata": {},
   "outputs": [],
   "source": []
  }
 ],
 "metadata": {
  "kernelspec": {
   "display_name": "Python 3.9.10 64-bit ('.venv_gingado': venv)",
   "language": "python",
   "name": "python3"
  }
 },
 "nbformat": 4,
 "nbformat_minor": 2
}
