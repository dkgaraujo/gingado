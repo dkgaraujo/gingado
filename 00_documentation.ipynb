{
 "cells": [
  {
   "cell_type": "code",
   "execution_count": null,
   "metadata": {},
   "outputs": [],
   "source": [
    "#default_exp model_documentation"
   ]
  },
  {
   "cell_type": "markdown",
   "metadata": {},
   "source": [
    "# Model documentation\n",
    "> Functions to jumpstat and facilitate model documentation"
   ]
  },
  {
   "cell_type": "code",
   "execution_count": null,
   "metadata": {},
   "outputs": [],
   "source": [
    "#hide\n",
    "from nbdev.showdoc import *"
   ]
  },
  {
   "cell_type": "markdown",
   "metadata": {},
   "source": [
    "Each user has a specific documentation need, ranging from the simply logging the model training to a more complex description of the model pipeline with a discusson of its predictions. `gingado` addresses this variety of needs by offering a class of objects that facilitate model documentation in a generic way, as well as one specific model documentation type, described below. \n",
    "\n",
    "The model documentation is performed by Documenters, objects that are analogous to `scikit-learn`'s Estimator, Predictor, Transformer and Model objects (described [here](https://scikit-learn.org/dev/developers/develop.html)). Users with documentation needs beyond the out-of-the-box solutions provided by `gingado` can simply create their own class of Documenters, and compatibility with these custom documentation routines with the rest of the code is ensured.\n",
    "\n",
    "The baseline `DocumenterMixin` class offers code that can be used by any Documenter object to read the pipeline in question and to save the resulting documentation in a variety of formats (eg, HTML, PDF).\n",
    "\n",
    "Users are encouraged to submit a PR with their own documentation models subclassing `DocumenterMixin`."
   ]
  },
  {
   "cell_type": "code",
   "execution_count": null,
   "metadata": {},
   "outputs": [],
   "source": [
    "class DocumenterMixin:\n",
    "    \"\"\"Mixin class for all documenters in gingado\"\"\"\n",
    "\n",
    "    def read"
   ]
  },
  {
   "cell_type": "code",
   "execution_count": null,
   "metadata": {},
   "outputs": [],
   "source": [
    "#hide\n",
    "#export\n",
    "from gingado.utils import get_username, get_datetime"
   ]
  },
  {
   "cell_type": "code",
   "execution_count": null,
   "metadata": {},
   "outputs": [],
   "source": [
    "#export\n",
    "class ModelCard:\n",
    "    def __init__(self, from_template: bool = True):\n",
    "        if from_template:\n",
    "            self.start_from_template()\n",
    "\n",
    "    def start_from_template(self):\n",
    "        \"\"\"Creates an empty model card template, then fills it with information that is automatically obtained from the system\"\"\"\n",
    "        \n",
    "        self.model_details = {}\n",
    "        self.model_details['developer'] = get_username()\n",
    "        self.model_details['datetime'] = get_datetime()\n",
    "        self.model_details['version'] = \"1\" \n",
    "        self.model_details['task'] = None\n",
    "        self.model_details['framework'] = None\n",
    "        self.model_details['architecture'] = None\n",
    "        self.model_details['parameters'] = None\n",
    "        self.model_details['optimizer'] = None\n",
    "        self.model_details['type'] = None\n",
    "        self.model_details['info'] = None\n",
    "        self.model_details['citation'] = None\n",
    "        self.model_details['license'] = None\n",
    "        self.model_details['contact'] = None\n",
    "\n",
    "        self.intended_use = {}\n",
    "        self.intended_use['primary_uses'] = None\n",
    "        self.intended_use['primary_users'] = None\n",
    "        self.intended_use['out_of_scope'] = None\n",
    "\n",
    "        self.factors = {}\n",
    "        self.factors['relevant'] = None\n",
    "        self.factors['evaluation'] = None\n",
    "\n",
    "        self.metrics = {}\n",
    "        self.metrics['performance_measures'] = None\n",
    "        self.metrics['thresholds'] = None\n",
    "        self.metrics['variation_approaches'] = None\n",
    "\n",
    "        self.data = {}\n",
    "        self.data['datasets'] = None\n",
    "        self.data['preprocessing'] = None\n",
    "        self.data['motivation'] = None\n",
    "\n",
    "        self.ethical_cons = {}\n",
    "        self.ethical_cons['impact'] = None\n",
    "        self.ethical_cons['risks'] = None\n",
    "        self.ethical_cons['mitigation'] = None\n",
    "        self.ethical_cons['avoid'] = None\n",
    "\n",
    "        self.caveats_recomm = {}\n",
    "        self.caveats_recomm['caveats'] = None\n",
    "        self.caveats_recomm['recommendations'] = None\n",
    "        self.caveats_recomm['misc_notes'] = None\n",
    "\n",
    "        return self\n",
    "    \n",
    "    def __setitem__(self, key, value):\n",
    "        setattr(self, key, value)\n",
    "\n",
    "    def __getitem__(self, key):\n",
    "        return getattr(self, key)"
   ]
  },
  {
   "cell_type": "code",
   "execution_count": null,
   "metadata": {},
   "outputs": [
    {
     "data": {
      "text/markdown": [
       "<h4 id=\"ModelCard.__init__\" class=\"doc_header\"><code>ModelCard.__init__</code><a href=\"__main__.py#L3\" class=\"source_link\" style=\"float:right\">[source]</a></h4>\n",
       "\n",
       "> <code>ModelCard.__init__</code>(**`from_template`**:`bool`=*`True`*)\n",
       "\n",
       "Initialize self.  See help(type(self)) for accurate signature."
      ],
      "text/plain": [
       "<IPython.core.display.Markdown object>"
      ]
     },
     "metadata": {},
     "output_type": "display_data"
    }
   ],
   "source": [
    "show_doc(ModelCard.__init__)"
   ]
  },
  {
   "cell_type": "code",
   "execution_count": null,
   "metadata": {},
   "outputs": [
    {
     "data": {
      "text/markdown": [
       "<h4 id=\"ModelCard.start_from_template\" class=\"doc_header\"><code>ModelCard.start_from_template</code><a href=\"__main__.py#L7\" class=\"source_link\" style=\"float:right\">[source]</a></h4>\n",
       "\n",
       "> <code>ModelCard.start_from_template</code>()\n",
       "\n",
       "Creates an empty model card template, then fills it with information that is automatically obtained from the system"
      ],
      "text/plain": [
       "<IPython.core.display.Markdown object>"
      ]
     },
     "metadata": {},
     "output_type": "display_data"
    }
   ],
   "source": [
    "show_doc(ModelCard.start_from_template)"
   ]
  },
  {
   "cell_type": "code",
   "execution_count": null,
   "metadata": {},
   "outputs": [
    {
     "data": {
      "text/markdown": [
       "<h4 id=\"ModelCard.__setitem__\" class=\"doc_header\"><code>ModelCard.__setitem__</code><a href=\"__main__.py#L57\" class=\"source_link\" style=\"float:right\">[source]</a></h4>\n",
       "\n",
       "> <code>ModelCard.__setitem__</code>(**`key`**, **`value`**)\n",
       "\n"
      ],
      "text/plain": [
       "<IPython.core.display.Markdown object>"
      ]
     },
     "metadata": {},
     "output_type": "display_data"
    }
   ],
   "source": [
    "show_doc(ModelCard.__setitem__)"
   ]
  },
  {
   "cell_type": "code",
   "execution_count": null,
   "metadata": {},
   "outputs": [
    {
     "data": {
      "text/markdown": [
       "<h4 id=\"object.__getattribute__\" class=\"doc_header\"><code>object.__getattribute__</code><a href=\"\" class=\"source_link\" style=\"float:right\">[source]</a></h4>\n",
       "\n",
       "> <code>object.__getattribute__</code>(**`name`**)\n",
       "\n",
       "Return getattr(self, name)."
      ],
      "text/plain": [
       "<IPython.core.display.Markdown object>"
      ]
     },
     "metadata": {},
     "output_type": "display_data"
    }
   ],
   "source": [
    "show_doc(ModelCard.__getattribute__)"
   ]
  }
 ],
 "metadata": {
  "kernelspec": {
   "display_name": "Python 3.9.10 64-bit ('.venv_gingado': venv)",
   "language": "python",
   "name": "python3"
  }
 },
 "nbformat": 4,
 "nbformat_minor": 2
}
