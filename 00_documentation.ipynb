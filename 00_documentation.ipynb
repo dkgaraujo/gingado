{
 "cells": [
  {
   "cell_type": "raw",
   "metadata": {},
   "source": [
    "---\n",
    "badges: true\n",
    "description: Functions to jumpstart and facilitate model documentation\n",
    "output-file: documentation.html\n",
    "title: Model documentation\n",
    "\n",
    "---\n",
    "\n"
   ]
  },
  {
   "cell_type": "code",
   "execution_count": null,
   "metadata": {},
   "outputs": [],
   "source": [
    "#| include: false\n",
    "#skip\n",
    "! [ -e /content ] && pip install -Uqq gingado nbdev # install or upgrade gingado on colab"
   ]
  },
  {
   "cell_type": "code",
   "execution_count": null,
   "metadata": {},
   "outputs": [],
   "source": [
    "#| default_exp model_documentation\n",
    "#| include: false\n",
    "%load_ext autoreload\n",
    "%autoreload 2"
   ]
  },
  {
   "cell_type": "code",
   "execution_count": null,
   "metadata": {},
   "outputs": [],
   "source": [
    "#| include: false\n",
    "#| echo: false\n",
    "\n",
    "# Code below included to ensure compatibility with scikit-learn v1.1.x\n",
    "from sklearn import set_config\n",
    "set_config(display='text')"
   ]
  },
  {
   "cell_type": "code",
   "execution_count": null,
   "metadata": {},
   "outputs": [],
   "source": [
    "#| include: false\n",
    "from nbdev.showdoc import show_doc"
   ]
  },
  {
   "cell_type": "markdown",
   "metadata": {},
   "source": [
    "Each user has a specific documentation need, ranging from simply logging the model training to a more complex description of the model pipeline with a discusson of the model outcomes. `gingado` addresses this variety of needs by offering a class of objects, \"Documenters\", that facilitate model documentation. A base class facilitates the creation of  generic ways to document models, and `gingado` includes off-the-shelf one specific model documentation template as described below. \n",
    "\n",
    "The model documentation is performed by Documenters, objects that subclass from the base class `ggdModelDocumentation`. This base class offers code that can be used by any Documenter to read the model in question, format the information according to a template and save the resulting documentation in a JSON format. Documenters save the underlying information using the JSON format. With the JSON documentation file at hand, the user can then use existing third-party libraries to transform the information stored in JSON into a variety of formats (eg, HTML, PDF) as needed.\n",
    "\n",
    "One current area of development is the automatic filing of some fields related to the model. The objective is to automatise documentation of the information that can be fetched automatically from the model, leaving time for the analyst to concentrate on other tasks, such as considering the ethical implications of the machine learning model being trained."
   ]
  },
  {
   "cell_type": "code",
   "execution_count": null,
   "metadata": {},
   "outputs": [],
   "source": [
    "#| include: false\n",
    "#| export\n",
    "import copy\n",
    "import json\n",
    "\n",
    "class ggdModelDocumentation:\n",
    "    \"Base class for gingado Documenters\"\n",
    "\n",
    "    def setup_template(self):\n",
    "        # Set up the template from the JSON documentation\n",
    "        self.json_doc = copy.deepcopy(self.__class__.template)\n",
    "        for k in self.json_doc.keys():\n",
    "            self.json_doc[k].pop('field_description', \"\")\n",
    "\n",
    "    def show_template(\n",
    "        self, \n",
    "        indent:bool=True # Whether to print JSON documentation template with indentation for easier human reading\n",
    "        ):\n",
    "        # Show documentation template in JSON format\n",
    "        if indent:\n",
    "            print(json.dumps(self.__class__.template, indent=self.indent_level))\n",
    "        else:\n",
    "            return self.__class__.template\n",
    "        \n",
    "    def documentation_path(self):\n",
    "        # Show path to documentation\n",
    "        print(self.file_path)\n",
    "\n",
    "    def show_json(self):\n",
    "        # Show documentation in JSON format\n",
    "        return self.json_doc\n",
    "        #print(json.dumps(self.json_doc, indent=self.indent_level))\n",
    "\n",
    "    def save_json(\n",
    "        self, \n",
    "        file_path # Path to save JSON file\n",
    "        ):\n",
    "        with open(file_path, 'w') as f:\n",
    "            json.dump(self.json_doc, f)\n",
    "\n",
    "    def read_json(\n",
    "        self, \n",
    "        file_path # Path to JSON file or path defined in `file_path` if None\n",
    "        ):\n",
    "        # Load documentation JSON from path\n",
    "        if file_path is None:\n",
    "            file_path = self.file_path\n",
    "        f = open(file_path)\n",
    "        self.json_doc = json.load(f)\n",
    "\n",
    "    def open_questions(self):\n",
    "        # List open fields in the documentation\n",
    "        return [\n",
    "                    k + \"__\" + v \n",
    "                    for k, v in self.json_doc.items()\n",
    "                    if isinstance(v, dict)\n",
    "                    for v, i in v.items()\n",
    "                    if i == self.__class__.template[k][v]\n",
    "        ]\n",
    "\n",
    "    def fill_info(self, new_info):\n",
    "        for k, v in new_info.items():\n",
    "            if k not in self.__class__.template.keys():\n",
    "                raise KeyError(f\"key '{k}' is not in the documentation template. The template's keys are: {self.__class__.template.keys()}\")\n",
    "            if isinstance(v, dict) and isinstance(self.json_doc[k], dict):\n",
    "                for v_k, v_v in v.items():\n",
    "                    if v_k == 'field_description':\n",
    "                        raise KeyError(\"The key 'field_description' is not supposed to be changed from the template definition.\")\n",
    "                    if v_k not in self.json_doc[k].keys():\n",
    "                        field_keys = [k for k in self.__class__.template[k].keys() if k != 'field_description']\n",
    "                        raise KeyError(f\"key '{v_k}' is not in the documentation template's item {k}. These template item's keys are: {field_keys}\")\n",
    "                    #self.json_doc[k][v_k] = v_v\n",
    "                    for kk in self.json_doc[k].keys():\n",
    "                        if kk == v_k:\n",
    "                            self.json_doc[k][kk] = v_v\n",
    "            else:\n",
    "                self.json_doc.update({k: v})\n",
    "\n",
    "    def _read_attr(self, model):\n",
    "        \"For use of method `read_model`\"\n",
    "        for a in dir(model):\n",
    "            if a == '_estimator_type' or a.endswith(\"_\") and not a.startswith(\"_\") and not a.endswith(\"__\"):\n",
    "                try:\n",
    "                    model_attr = model.__getattribute__(a)\n",
    "                    yield {a: model_attr}\n",
    "                except:\n",
    "                    pass\n",
    "\n",
    "    def read_model(\n",
    "        self, \n",
    "        model # The model to be documented\n",
    "        ):\n",
    "        if \"keras\" in str(type(model)):\n",
    "            model_info = model.to_json()\n",
    "        else:\n",
    "            model_info = list(self._read_attr(model))\n",
    "            model_info = {k:v for i in model_info for k, v in i.items()}\n",
    "        self.fill_model_info(model_info)\n",
    "\n",
    "    def __setitem__(self, key, value):\n",
    "        setattr(self, key, value)\n",
    "\n",
    "    def __getitem__(self, key):\n",
    "        return getattr(self, key)\n",
    "\n",
    "    def __str__(self):\n",
    "        return json.dumps(self.json_doc, indent=4)\n",
    "\n",
    "    def __repr__(self):\n",
    "        return f\"{self.__class__}()\""
   ]
  },
  {
   "cell_type": "code",
   "execution_count": null,
   "metadata": {},
   "outputs": [
    {
     "data": {
      "text/markdown": [
       "---\n",
       "\n",
       "[source](https://github.com/dkgaraujo/gingado/blob/main/gingado/model_documentation.py#L11){target=\"_blank\" style=\"float:right; font-size:smaller\"}\n",
       "\n",
       "### ggdModelDocumentation\n",
       "\n",
       ">      ggdModelDocumentation ()\n",
       "\n",
       "Base class for gingado Documenters"
      ],
      "text/plain": [
       "---\n",
       "\n",
       "[source](https://github.com/dkgaraujo/gingado/blob/main/gingado/model_documentation.py#L11){target=\"_blank\" style=\"float:right; font-size:smaller\"}\n",
       "\n",
       "### ggdModelDocumentation\n",
       "\n",
       ">      ggdModelDocumentation ()\n",
       "\n",
       "Base class for gingado Documenters"
      ]
     },
     "execution_count": null,
     "metadata": {},
     "output_type": "execute_result"
    }
   ],
   "source": [
    "show_doc(ggdModelDocumentation)"
   ]
  },
  {
   "cell_type": "code",
   "execution_count": null,
   "metadata": {},
   "outputs": [
    {
     "data": {
      "text/markdown": [
       "---\n",
       "\n",
       "[source](https://github.com/dkgaraujo/gingado/blob/main/gingado/model_documentation.py#L14){target=\"_blank\" style=\"float:right; font-size:smaller\"}\n",
       "\n",
       "### ggdModelDocumentation.setup_template\n",
       "\n",
       ">      ggdModelDocumentation.setup_template ()"
      ],
      "text/plain": [
       "---\n",
       "\n",
       "[source](https://github.com/dkgaraujo/gingado/blob/main/gingado/model_documentation.py#L14){target=\"_blank\" style=\"float:right; font-size:smaller\"}\n",
       "\n",
       "### ggdModelDocumentation.setup_template\n",
       "\n",
       ">      ggdModelDocumentation.setup_template ()"
      ]
     },
     "execution_count": null,
     "metadata": {},
     "output_type": "execute_result"
    }
   ],
   "source": [
    "show_doc(ggdModelDocumentation.setup_template)"
   ]
  },
  {
   "cell_type": "code",
   "execution_count": null,
   "metadata": {},
   "outputs": [
    {
     "data": {
      "text/markdown": [
       "---\n",
       "\n",
       "[source](https://github.com/dkgaraujo/gingado/blob/main/gingado/model_documentation.py#L20){target=\"_blank\" style=\"float:right; font-size:smaller\"}\n",
       "\n",
       "### ggdModelDocumentation.show_template\n",
       "\n",
       ">      ggdModelDocumentation.show_template (indent:bool=True)\n",
       "\n",
       "|    | **Type** | **Default** | **Details** |\n",
       "| -- | -------- | ----------- | ----------- |\n",
       "| indent | bool | True | Whether to print JSON documentation template with indentation for easier human reading |"
      ],
      "text/plain": [
       "---\n",
       "\n",
       "[source](https://github.com/dkgaraujo/gingado/blob/main/gingado/model_documentation.py#L20){target=\"_blank\" style=\"float:right; font-size:smaller\"}\n",
       "\n",
       "### ggdModelDocumentation.show_template\n",
       "\n",
       ">      ggdModelDocumentation.show_template (indent:bool=True)\n",
       "\n",
       "|    | **Type** | **Default** | **Details** |\n",
       "| -- | -------- | ----------- | ----------- |\n",
       "| indent | bool | True | Whether to print JSON documentation template with indentation for easier human reading |"
      ]
     },
     "execution_count": null,
     "metadata": {},
     "output_type": "execute_result"
    }
   ],
   "source": [
    "show_doc(ggdModelDocumentation.show_template)"
   ]
  },
  {
   "cell_type": "code",
   "execution_count": null,
   "metadata": {},
   "outputs": [
    {
     "data": {
      "text/markdown": [
       "---\n",
       "\n",
       "[source](https://github.com/dkgaraujo/gingado/blob/main/gingado/model_documentation.py#L30){target=\"_blank\" style=\"float:right; font-size:smaller\"}\n",
       "\n",
       "### ggdModelDocumentation.documentation_path\n",
       "\n",
       ">      ggdModelDocumentation.documentation_path ()"
      ],
      "text/plain": [
       "---\n",
       "\n",
       "[source](https://github.com/dkgaraujo/gingado/blob/main/gingado/model_documentation.py#L30){target=\"_blank\" style=\"float:right; font-size:smaller\"}\n",
       "\n",
       "### ggdModelDocumentation.documentation_path\n",
       "\n",
       ">      ggdModelDocumentation.documentation_path ()"
      ]
     },
     "execution_count": null,
     "metadata": {},
     "output_type": "execute_result"
    }
   ],
   "source": [
    "show_doc(ggdModelDocumentation.documentation_path)"
   ]
  },
  {
   "cell_type": "code",
   "execution_count": null,
   "metadata": {},
   "outputs": [
    {
     "data": {
      "text/markdown": [
       "---\n",
       "\n",
       "[source](https://github.com/dkgaraujo/gingado/blob/main/gingado/model_documentation.py#L46){target=\"_blank\" style=\"float:right; font-size:smaller\"}\n",
       "\n",
       "### ggdModelDocumentation.read_json\n",
       "\n",
       ">      ggdModelDocumentation.read_json (file_path)\n",
       "\n",
       "|    | **Details** |\n",
       "| -- | ----------- |\n",
       "| file_path | Path to JSON file or path defined in `file_path` if None |"
      ],
      "text/plain": [
       "---\n",
       "\n",
       "[source](https://github.com/dkgaraujo/gingado/blob/main/gingado/model_documentation.py#L46){target=\"_blank\" style=\"float:right; font-size:smaller\"}\n",
       "\n",
       "### ggdModelDocumentation.read_json\n",
       "\n",
       ">      ggdModelDocumentation.read_json (file_path)\n",
       "\n",
       "|    | **Details** |\n",
       "| -- | ----------- |\n",
       "| file_path | Path to JSON file or path defined in `file_path` if None |"
      ]
     },
     "execution_count": null,
     "metadata": {},
     "output_type": "execute_result"
    }
   ],
   "source": [
    "show_doc(ggdModelDocumentation.read_json)"
   ]
  },
  {
   "cell_type": "code",
   "execution_count": null,
   "metadata": {},
   "outputs": [
    {
     "data": {
      "text/markdown": [
       "---\n",
       "\n",
       "[source](https://github.com/dkgaraujo/gingado/blob/main/gingado/model_documentation.py#L94){target=\"_blank\" style=\"float:right; font-size:smaller\"}\n",
       "\n",
       "### ggdModelDocumentation.read_model\n",
       "\n",
       ">      ggdModelDocumentation.read_model (model)\n",
       "\n",
       "|    | **Details** |\n",
       "| -- | ----------- |\n",
       "| model | The model to be documented |"
      ],
      "text/plain": [
       "---\n",
       "\n",
       "[source](https://github.com/dkgaraujo/gingado/blob/main/gingado/model_documentation.py#L94){target=\"_blank\" style=\"float:right; font-size:smaller\"}\n",
       "\n",
       "### ggdModelDocumentation.read_model\n",
       "\n",
       ">      ggdModelDocumentation.read_model (model)\n",
       "\n",
       "|    | **Details** |\n",
       "| -- | ----------- |\n",
       "| model | The model to be documented |"
      ]
     },
     "execution_count": null,
     "metadata": {},
     "output_type": "execute_result"
    }
   ],
   "source": [
    "show_doc(ggdModelDocumentation.read_model)"
   ]
  },
  {
   "cell_type": "code",
   "execution_count": null,
   "metadata": {},
   "outputs": [
    {
     "data": {
      "text/markdown": [
       "---\n",
       "\n",
       "[source](https://github.com/dkgaraujo/gingado/blob/main/gingado/model_documentation.py#L56){target=\"_blank\" style=\"float:right; font-size:smaller\"}\n",
       "\n",
       "### ggdModelDocumentation.open_questions\n",
       "\n",
       ">      ggdModelDocumentation.open_questions ()"
      ],
      "text/plain": [
       "---\n",
       "\n",
       "[source](https://github.com/dkgaraujo/gingado/blob/main/gingado/model_documentation.py#L56){target=\"_blank\" style=\"float:right; font-size:smaller\"}\n",
       "\n",
       "### ggdModelDocumentation.open_questions\n",
       "\n",
       ">      ggdModelDocumentation.open_questions ()"
      ]
     },
     "execution_count": null,
     "metadata": {},
     "output_type": "execute_result"
    }
   ],
   "source": [
    "show_doc(ggdModelDocumentation.open_questions)"
   ]
  },
  {
   "cell_type": "code",
   "execution_count": null,
   "metadata": {},
   "outputs": [
    {
     "data": {
      "text/markdown": [
       "---\n",
       "\n",
       "[source](https://github.com/dkgaraujo/gingado/blob/main/gingado/model_documentation.py#L34){target=\"_blank\" style=\"float:right; font-size:smaller\"}\n",
       "\n",
       "### ggdModelDocumentation.show_json\n",
       "\n",
       ">      ggdModelDocumentation.show_json ()"
      ],
      "text/plain": [
       "---\n",
       "\n",
       "[source](https://github.com/dkgaraujo/gingado/blob/main/gingado/model_documentation.py#L34){target=\"_blank\" style=\"float:right; font-size:smaller\"}\n",
       "\n",
       "### ggdModelDocumentation.show_json\n",
       "\n",
       ">      ggdModelDocumentation.show_json ()"
      ]
     },
     "execution_count": null,
     "metadata": {},
     "output_type": "execute_result"
    }
   ],
   "source": [
    "show_doc(ggdModelDocumentation.show_json)"
   ]
  },
  {
   "cell_type": "code",
   "execution_count": null,
   "metadata": {},
   "outputs": [],
   "source": [
    "#| include: false\n",
    "#| export\n",
    "from gingado.utils import get_datetime"
   ]
  },
  {
   "cell_type": "markdown",
   "metadata": {},
   "source": [
    "## ModelCard\n",
    "\n",
    "`ModelCard` - the model documentation template inspired by the work of @ModelCards already comes with `gingado`. Its template can be used by users as is, or tweaked according to each need. The `ModelCard` template can also serve as inspiration for any custom documentation needs. Users with documentation needs beyond the out-of-the-box solutions provided by `gingado` can create their own class of Documenters (more information on that below), and compatibility with these custom documentation routines with the rest of the code is ensured. Users are encouraged to submit a pull request with their own documentation models subclassing `ggdModelDocumentation` if these custom templates can also benefit other users."
   ]
  },
  {
   "cell_type": "code",
   "execution_count": null,
   "metadata": {},
   "outputs": [],
   "source": [
    "#| include: false\n",
    "#| export\n",
    "\n",
    "class ModelCard(ggdModelDocumentation):\n",
    "    \"A gingado Documenter based on @ModelCards\"\n",
    "    template = {\n",
    "        'model_details': {\n",
    "            'field_description': \"Basic information about the model\",\n",
    "            'developer': \"Person or organisation developing the model\",\n",
    "            'datetime': \"Model date\",\n",
    "            'version': \"Model version\",\n",
    "            'type': \"Model type\",\n",
    "            'info': \"Information about training algorithms, parameters, fairness constraints or other applied approaches, and features\",\n",
    "            'paper': \"Paper or other resource for more information\",\n",
    "            'citation': \"Citation details\",\n",
    "            'license': \"License\",\n",
    "            'contact': \"Where to send questions or comments about the model\"\n",
    "        },\n",
    "        'intended_use': {\n",
    "            'field_description': \"Use cases that were envisioned during development\",\n",
    "            'primary_uses': \"Primary intended uses\",\n",
    "            'primary_users': \"Primary intended users\",\n",
    "            'out_of_scope': \"Out-of-scope use cases\"\n",
    "        },\n",
    "        'factors': {\n",
    "            'field_description': \"Factors could include demographic or phenotypic groups, environmental conditions, technical attributes, or others\",\n",
    "            'relevant': \"Relevant factors\",\n",
    "            'evaluation': \"Evaluation factors\" \n",
    "        },\n",
    "        'metrics': {\n",
    "            'field_description': \"Metrics should be chosen to reflect potential real world impacts of the model\",\n",
    "            'performance_measures': \"Model performance measures\",\n",
    "            'thresholds': \"Decision thresholds\",\n",
    "            'variation_approaches': \"Variation approaches\"\n",
    "        },\n",
    "        'evaluation_data': {\n",
    "            'field_description': \"Details on the dataset(s) used for the quantitative analyses in the documentation\",\n",
    "            'datasets': \"Datasets\",\n",
    "            'motivation': \"Motivation\",\n",
    "            'preprocessing': \"Preprocessing\"\n",
    "        },\n",
    "        'training_data': {\n",
    "            'field_description': \"\"\"\n",
    "            May not be possible to provide in practice. When possible, this section should mirror 'Evaluation Data'. \n",
    "            If such detail is not possible, minimal allowable information should be provided here, \n",
    "            such as details of the distribution over various factors in the training datasets.\"\"\",\n",
    "            'training_data': \"Information on training data\"\n",
    "        },\n",
    "        'quant_analyses': {\n",
    "            'field_description': \"Quantitative Analyses\",\n",
    "            'unitary': \"Unitary results\",\n",
    "            'intersectional': \"Intersectional results\"\n",
    "        },\n",
    "        'ethical_considerations': {\n",
    "            'field_description': \"\"\"\n",
    "            Ethical considerations that went into model development, surfacing ethical challenges and \n",
    "            solutions to stakeholders. Ethical analysis does not always lead to precise solutions, but the process \n",
    "            of ethical contemplation is worthwhile to inform on responsible practices and next steps in future work.\"\"\",\n",
    "            'sensitive_data': \"Does the model use any sensitive data (e.g., protected classes)?\",\n",
    "            'human_life': \"Is the model intended to inform decisions about mat- ters central to human life or flourishing - e.g., health or safety? Or could it be used in such a way?\",\n",
    "            'mitigations': \"What risk mitigation strategies were used during model development?\",\n",
    "            'risks_and_harms': \"\"\"\n",
    "            What risks may be present in model usage? Try to identify the potential recipients, likelihood, and magnitude of harms. \n",
    "            If these cannot be determined, note that they were consid- ered but remain unknown\"\"\",\n",
    "            'use_cases': \"Are there any known model use cases that are especially fraught?\",\n",
    "            'additional_information': \"\"\"\n",
    "            If possible, this section should also include any additional ethical considerations that went into model development, \n",
    "            for example, review by an external board, or testing with a specific community.\"\"\"\n",
    "        },\n",
    "        'caveats_recommendations': {\n",
    "            'field_description': \"Additional concerns that were not covered in the previous sections\",\n",
    "            'caveats': \"For example, did the results suggest any further testing? Were there any relevant groups that were not represented in the evaluation dataset?\",\n",
    "            'recommendations': \"Are there additional recommendations for model use? What are the ideal characteristics of an evaluation dataset for this model?\"\n",
    "        }\n",
    "    }\n",
    "\n",
    "    def __init__(self, file_path=\"\", autofill=True, indent_level=2):\n",
    "        self.file_path = file_path\n",
    "        self.autofill = autofill\n",
    "        self.indent_level = indent_level\n",
    "        self.setup_template()\n",
    "        if self.autofill:\n",
    "            self.autofill_template()            \n",
    "\n",
    "    def autofill_template(self):\n",
    "        \"Create an empty model card template, then fills it with information that is automatically obtained from the system\"\n",
    "        auto_info = {\n",
    "            'model_details': {\n",
    "                'datetime': get_datetime()\n",
    "            }\n",
    "        }\n",
    "        self.fill_info(auto_info)\n",
    "\n",
    "    def fill_model_info(self, model_info):\n",
    "        \"Called automatically, or by the user, to add model information to the documentation according to its template\"\n",
    "        model_info_template = {'model_details': {'info': model_info}}\n",
    "        self.fill_info(model_info_template)"
   ]
  },
  {
   "cell_type": "code",
   "execution_count": null,
   "metadata": {},
   "outputs": [
    {
     "data": {
      "text/markdown": [
       "---\n",
       "\n",
       "[source](https://github.com/dkgaraujo/gingado/blob/main/gingado/model_documentation.py#L123){target=\"_blank\" style=\"float:right; font-size:smaller\"}\n",
       "\n",
       "### ModelCard\n",
       "\n",
       ">      ModelCard (file_path='', autofill=True, indent_level=2)\n",
       "\n",
       "A gingado Documenter based on @ModelCards"
      ],
      "text/plain": [
       "---\n",
       "\n",
       "[source](https://github.com/dkgaraujo/gingado/blob/main/gingado/model_documentation.py#L123){target=\"_blank\" style=\"float:right; font-size:smaller\"}\n",
       "\n",
       "### ModelCard\n",
       "\n",
       ">      ModelCard (file_path='', autofill=True, indent_level=2)\n",
       "\n",
       "A gingado Documenter based on @ModelCards"
      ]
     },
     "execution_count": null,
     "metadata": {},
     "output_type": "execute_result"
    }
   ],
   "source": [
    "show_doc(ModelCard)"
   ]
  },
  {
   "cell_type": "code",
   "execution_count": null,
   "metadata": {},
   "outputs": [
    {
     "data": {
      "text/markdown": [
       "---\n",
       "\n",
       "[source](https://github.com/dkgaraujo/gingado/blob/main/gingado/model_documentation.py#L204){target=\"_blank\" style=\"float:right; font-size:smaller\"}\n",
       "\n",
       "### ModelCard.autofill_template\n",
       "\n",
       ">      ModelCard.autofill_template ()\n",
       "\n",
       "Create an empty model card template, then fills it with information that is automatically obtained from the system"
      ],
      "text/plain": [
       "---\n",
       "\n",
       "[source](https://github.com/dkgaraujo/gingado/blob/main/gingado/model_documentation.py#L204){target=\"_blank\" style=\"float:right; font-size:smaller\"}\n",
       "\n",
       "### ModelCard.autofill_template\n",
       "\n",
       ">      ModelCard.autofill_template ()\n",
       "\n",
       "Create an empty model card template, then fills it with information that is automatically obtained from the system"
      ]
     },
     "execution_count": null,
     "metadata": {},
     "output_type": "execute_result"
    }
   ],
   "source": [
    "show_doc(ModelCard.autofill_template)"
   ]
  },
  {
   "cell_type": "code",
   "execution_count": null,
   "metadata": {},
   "outputs": [
    {
     "data": {
      "text/markdown": [
       "---\n",
       "\n",
       "[source](https://github.com/dkgaraujo/gingado/blob/main/gingado/model_documentation.py#L213){target=\"_blank\" style=\"float:right; font-size:smaller\"}\n",
       "\n",
       "### ModelCard.fill_model_info\n",
       "\n",
       ">      ModelCard.fill_model_info (model_info)\n",
       "\n",
       "Called automatically, or by the user, to add model information to the documentation according to its template"
      ],
      "text/plain": [
       "---\n",
       "\n",
       "[source](https://github.com/dkgaraujo/gingado/blob/main/gingado/model_documentation.py#L213){target=\"_blank\" style=\"float:right; font-size:smaller\"}\n",
       "\n",
       "### ModelCard.fill_model_info\n",
       "\n",
       ">      ModelCard.fill_model_info (model_info)\n",
       "\n",
       "Called automatically, or by the user, to add model information to the documentation according to its template"
      ]
     },
     "execution_count": null,
     "metadata": {},
     "output_type": "execute_result"
    }
   ],
   "source": [
    "show_doc(ModelCard.fill_model_info)"
   ]
  },
  {
   "cell_type": "markdown",
   "metadata": {},
   "source": [
    "## Basic functioning of model documentation\n",
    "\n",
    "After a Documenter object, such as `ModelCard` is instanciated, the user can see the underlying template with the module `show_template`, as below:"
   ]
  },
  {
   "cell_type": "code",
   "execution_count": null,
   "metadata": {},
   "outputs": [
    {
     "name": "stdout",
     "output_type": "stream",
     "text": [
      "{\n",
      "  \"model_details\": {\n",
      "    \"field_description\": \"Basic information about the model\",\n",
      "    \"developer\": \"Person or organisation developing the model\",\n",
      "    \"datetime\": \"Model date\",\n",
      "    \"version\": \"Model version\",\n",
      "    \"type\": \"Model type\",\n",
      "    \"info\": \"Information about training algorithms, parameters, fairness constraints or other applied approaches, and features\",\n",
      "    \"paper\": \"Paper or other resource for more information\",\n",
      "    \"citation\": \"Citation details\",\n",
      "    \"license\": \"License\",\n",
      "    \"contact\": \"Where to send questions or comments about the model\"\n",
      "  },\n",
      "  \"intended_use\": {\n",
      "    \"field_description\": \"Use cases that were envisioned during development\",\n",
      "    \"primary_uses\": \"Primary intended uses\",\n",
      "    \"primary_users\": \"Primary intended users\",\n",
      "    \"out_of_scope\": \"Out-of-scope use cases\"\n",
      "  },\n",
      "  \"factors\": {\n",
      "    \"field_description\": \"Factors could include demographic or phenotypic groups, environmental conditions, technical attributes, or others\",\n",
      "    \"relevant\": \"Relevant factors\",\n",
      "    \"evaluation\": \"Evaluation factors\"\n",
      "  },\n",
      "  \"metrics\": {\n",
      "    \"field_description\": \"Metrics should be chosen to reflect potential real world impacts of the model\",\n",
      "    \"performance_measures\": \"Model performance measures\",\n",
      "    \"thresholds\": \"Decision thresholds\",\n",
      "    \"variation_approaches\": \"Variation approaches\"\n",
      "  },\n",
      "  \"evaluation_data\": {\n",
      "    \"field_description\": \"Details on the dataset(s) used for the quantitative analyses in the documentation\",\n",
      "    \"datasets\": \"Datasets\",\n",
      "    \"motivation\": \"Motivation\",\n",
      "    \"preprocessing\": \"Preprocessing\"\n",
      "  },\n",
      "  \"training_data\": {\n",
      "    \"field_description\": \"\\n            May not be possible to provide in practice. When possible, this section should mirror 'Evaluation Data'. \\n            If such detail is not possible, minimal allowable information should be provided here, \\n            such as details of the distribution over various factors in the training datasets.\",\n",
      "    \"training_data\": \"Information on training data\"\n",
      "  },\n",
      "  \"quant_analyses\": {\n",
      "    \"field_description\": \"Quantitative Analyses\",\n",
      "    \"unitary\": \"Unitary results\",\n",
      "    \"intersectional\": \"Intersectional results\"\n",
      "  },\n",
      "  \"ethical_considerations\": {\n",
      "    \"field_description\": \"\\n            Ethical considerations that went into model development, surfacing ethical challenges and \\n            solutions to stakeholders. Ethical analysis does not always lead to precise solutions, but the process \\n            of ethical contemplation is worthwhile to inform on responsible practices and next steps in future work.\",\n",
      "    \"sensitive_data\": \"Does the model use any sensitive data (e.g., protected classes)?\",\n",
      "    \"human_life\": \"Is the model intended to inform decisions about mat- ters central to human life or flourishing - e.g., health or safety? Or could it be used in such a way?\",\n",
      "    \"mitigations\": \"What risk mitigation strategies were used during model development?\",\n",
      "    \"risks_and_harms\": \"\\n            What risks may be present in model usage? Try to identify the potential recipients, likelihood, and magnitude of harms. \\n            If these cannot be determined, note that they were consid- ered but remain unknown\",\n",
      "    \"use_cases\": \"Are there any known model use cases that are especially fraught?\",\n",
      "    \"additional_information\": \"\\n            If possible, this section should also include any additional ethical considerations that went into model development, \\n            for example, review by an external board, or testing with a specific community.\"\n",
      "  },\n",
      "  \"caveats_recommendations\": {\n",
      "    \"field_description\": \"Additional concerns that were not covered in the previous sections\",\n",
      "    \"caveats\": \"For example, did the results suggest any further testing? Were there any relevant groups that were not represented in the evaluation dataset?\",\n",
      "    \"recommendations\": \"Are there additional recommendations for model use? What are the ideal characteristics of an evaluation dataset for this model?\"\n",
      "  }\n",
      "}\n"
     ]
    }
   ],
   "source": [
    "model_doc = ModelCard(autofill=False)\n",
    "assert model_doc.show_template(indent=False) == ModelCard.template\n",
    "\n",
    "model_doc.show_template()"
   ]
  },
  {
   "cell_type": "markdown",
   "metadata": {},
   "source": [
    "The method `show_json` prints the Documenter's documentation template, where the unfilled information retains the descriptions from the original template:"
   ]
  },
  {
   "cell_type": "code",
   "execution_count": null,
   "metadata": {},
   "outputs": [
    {
     "data": {
      "text/plain": [
       "{'model_details': {'developer': 'Person or organisation developing the model',\n",
       "  'datetime': '2022-09-24 00:39:28 ',\n",
       "  'version': 'Model version',\n",
       "  'type': 'Model type',\n",
       "  'info': 'Information about training algorithms, parameters, fairness constraints or other applied approaches, and features',\n",
       "  'paper': 'Paper or other resource for more information',\n",
       "  'citation': 'Citation details',\n",
       "  'license': 'License',\n",
       "  'contact': 'Where to send questions or comments about the model'},\n",
       " 'intended_use': {'primary_uses': 'Primary intended uses',\n",
       "  'primary_users': 'Primary intended users',\n",
       "  'out_of_scope': 'Out-of-scope use cases'},\n",
       " 'factors': {'relevant': 'Relevant factors',\n",
       "  'evaluation': 'Evaluation factors'},\n",
       " 'metrics': {'performance_measures': 'Model performance measures',\n",
       "  'thresholds': 'Decision thresholds',\n",
       "  'variation_approaches': 'Variation approaches'},\n",
       " 'evaluation_data': {'datasets': 'Datasets',\n",
       "  'motivation': 'Motivation',\n",
       "  'preprocessing': 'Preprocessing'},\n",
       " 'training_data': {'training_data': 'Information on training data'},\n",
       " 'quant_analyses': {'unitary': 'Unitary results',\n",
       "  'intersectional': 'Intersectional results'},\n",
       " 'ethical_considerations': {'sensitive_data': 'Does the model use any sensitive data (e.g., protected classes)?',\n",
       "  'human_life': 'Is the model intended to inform decisions about mat- ters central to human life or flourishing - e.g., health or safety? Or could it be used in such a way?',\n",
       "  'mitigations': 'What risk mitigation strategies were used during model development?',\n",
       "  'risks_and_harms': '\\n            What risks may be present in model usage? Try to identify the potential recipients, likelihood, and magnitude of harms. \\n            If these cannot be determined, note that they were consid- ered but remain unknown',\n",
       "  'use_cases': 'Are there any known model use cases that are especially fraught?',\n",
       "  'additional_information': '\\n            If possible, this section should also include any additional ethical considerations that went into model development, \\n            for example, review by an external board, or testing with a specific community.'},\n",
       " 'caveats_recommendations': {'caveats': 'For example, did the results suggest any further testing? Were there any relevant groups that were not represented in the evaluation dataset?',\n",
       "  'recommendations': 'Are there additional recommendations for model use? What are the ideal characteristics of an evaluation dataset for this model?'}}"
      ]
     },
     "execution_count": null,
     "metadata": {},
     "output_type": "execute_result"
    }
   ],
   "source": [
    "model_doc = ModelCard(autofill=True)\n",
    "model_doc.show_json()"
   ]
  },
  {
   "cell_type": "markdown",
   "metadata": {},
   "source": [
    "The template is protected from editing once a Documenter has been created. This way, even if a user unwarrantedly changes the template, this does not interfere with the Documenter functionality."
   ]
  },
  {
   "cell_type": "code",
   "execution_count": null,
   "metadata": {},
   "outputs": [
    {
     "name": "stdout",
     "output_type": "stream",
     "text": [
      "{\n",
      "  \"model_details\": {\n",
      "    \"field_description\": \"Basic information about the model\",\n",
      "    \"developer\": \"Person or organisation developing the model\",\n",
      "    \"datetime\": \"Model date\",\n",
      "    \"version\": \"Model version\",\n",
      "    \"type\": \"Model type\",\n",
      "    \"info\": \"Information about training algorithms, parameters, fairness constraints or other applied approaches, and features\",\n",
      "    \"paper\": \"Paper or other resource for more information\",\n",
      "    \"citation\": \"Citation details\",\n",
      "    \"license\": \"License\",\n",
      "    \"contact\": \"Where to send questions or comments about the model\"\n",
      "  },\n",
      "  \"intended_use\": {\n",
      "    \"field_description\": \"Use cases that were envisioned during development\",\n",
      "    \"primary_uses\": \"Primary intended uses\",\n",
      "    \"primary_users\": \"Primary intended users\",\n",
      "    \"out_of_scope\": \"Out-of-scope use cases\"\n",
      "  },\n",
      "  \"factors\": {\n",
      "    \"field_description\": \"Factors could include demographic or phenotypic groups, environmental conditions, technical attributes, or others\",\n",
      "    \"relevant\": \"Relevant factors\",\n",
      "    \"evaluation\": \"Evaluation factors\"\n",
      "  },\n",
      "  \"metrics\": {\n",
      "    \"field_description\": \"Metrics should be chosen to reflect potential real world impacts of the model\",\n",
      "    \"performance_measures\": \"Model performance measures\",\n",
      "    \"thresholds\": \"Decision thresholds\",\n",
      "    \"variation_approaches\": \"Variation approaches\"\n",
      "  },\n",
      "  \"evaluation_data\": {\n",
      "    \"field_description\": \"Details on the dataset(s) used for the quantitative analyses in the documentation\",\n",
      "    \"datasets\": \"Datasets\",\n",
      "    \"motivation\": \"Motivation\",\n",
      "    \"preprocessing\": \"Preprocessing\"\n",
      "  },\n",
      "  \"training_data\": {\n",
      "    \"field_description\": \"\\n            May not be possible to provide in practice. When possible, this section should mirror 'Evaluation Data'. \\n            If such detail is not possible, minimal allowable information should be provided here, \\n            such as details of the distribution over various factors in the training datasets.\",\n",
      "    \"training_data\": \"Information on training data\"\n",
      "  },\n",
      "  \"quant_analyses\": {\n",
      "    \"field_description\": \"Quantitative Analyses\",\n",
      "    \"unitary\": \"Unitary results\",\n",
      "    \"intersectional\": \"Intersectional results\"\n",
      "  },\n",
      "  \"ethical_considerations\": {\n",
      "    \"field_description\": \"\\n            Ethical considerations that went into model development, surfacing ethical challenges and \\n            solutions to stakeholders. Ethical analysis does not always lead to precise solutions, but the process \\n            of ethical contemplation is worthwhile to inform on responsible practices and next steps in future work.\",\n",
      "    \"sensitive_data\": \"Does the model use any sensitive data (e.g., protected classes)?\",\n",
      "    \"human_life\": \"Is the model intended to inform decisions about mat- ters central to human life or flourishing - e.g., health or safety? Or could it be used in such a way?\",\n",
      "    \"mitigations\": \"What risk mitigation strategies were used during model development?\",\n",
      "    \"risks_and_harms\": \"\\n            What risks may be present in model usage? Try to identify the potential recipients, likelihood, and magnitude of harms. \\n            If these cannot be determined, note that they were consid- ered but remain unknown\",\n",
      "    \"use_cases\": \"Are there any known model use cases that are especially fraught?\",\n",
      "    \"additional_information\": \"\\n            If possible, this section should also include any additional ethical considerations that went into model development, \\n            for example, review by an external board, or testing with a specific community.\"\n",
      "  },\n",
      "  \"caveats_recommendations\": {\n",
      "    \"field_description\": \"Additional concerns that were not covered in the previous sections\",\n",
      "    \"caveats\": \"For example, did the results suggest any further testing? Were there any relevant groups that were not represented in the evaluation dataset?\",\n",
      "    \"recommendations\": \"Are there additional recommendations for model use? What are the ideal characteristics of an evaluation dataset for this model?\"\n",
      "  }\n",
      "}\n"
     ]
    }
   ],
   "source": [
    "model_doc.template = None\n",
    "model_doc.show_template()\n",
    "\n",
    "assert model_doc.show_template(indent=False) == ModelCard.template"
   ]
  },
  {
   "cell_type": "markdown",
   "metadata": {},
   "source": [
    "Users can find which fields in their templates are still without response by using the module `open_questions`. The levels of the template are reflected in the resulting dictionary, with double underscores separating the different dictionary levels in the underlying template.\n",
    "\n",
    "Below we see that after inputting information for the item `caveats` in the section `caveats_recommendations`, this item does not appear in the results of the `open_questions` method."
   ]
  },
  {
   "cell_type": "code",
   "execution_count": null,
   "metadata": {},
   "outputs": [
    {
     "name": "stdout",
     "output_type": "stream",
     "text": [
      "['caveats_recommendations__recommendations']\n"
     ]
    }
   ],
   "source": [
    "model_doc.fill_info({'caveats_recommendations': {'caveats': 'This is another test'}})\n",
    "assert model_doc.json_doc['caveats_recommendations']['caveats'] == \"This is another test\"\n",
    "\n",
    "# note that caveats_recommendations__caveats is no longer considered an open question\n",
    "# after being filled in through `fill_info`.\n",
    "print([oq for oq in model_doc.open_questions() if oq.startswith('caveats')])"
   ]
  },
  {
   "cell_type": "markdown",
   "metadata": {},
   "source": [
    "And now the complete result of the `open_questions` method:"
   ]
  },
  {
   "cell_type": "code",
   "execution_count": null,
   "metadata": {},
   "outputs": [
    {
     "data": {
      "text/plain": [
       "['model_details__developer',\n",
       " 'model_details__version',\n",
       " 'model_details__type',\n",
       " 'model_details__info',\n",
       " 'model_details__paper',\n",
       " 'model_details__citation',\n",
       " 'model_details__license',\n",
       " 'model_details__contact',\n",
       " 'intended_use__primary_uses',\n",
       " 'intended_use__primary_users',\n",
       " 'intended_use__out_of_scope',\n",
       " 'factors__relevant',\n",
       " 'factors__evaluation',\n",
       " 'metrics__performance_measures',\n",
       " 'metrics__thresholds',\n",
       " 'metrics__variation_approaches',\n",
       " 'evaluation_data__datasets',\n",
       " 'evaluation_data__motivation',\n",
       " 'evaluation_data__preprocessing',\n",
       " 'training_data__training_data',\n",
       " 'quant_analyses__unitary',\n",
       " 'quant_analyses__intersectional',\n",
       " 'ethical_considerations__sensitive_data',\n",
       " 'ethical_considerations__human_life',\n",
       " 'ethical_considerations__mitigations',\n",
       " 'ethical_considerations__risks_and_harms',\n",
       " 'ethical_considerations__use_cases',\n",
       " 'ethical_considerations__additional_information',\n",
       " 'caveats_recommendations__recommendations']"
      ]
     },
     "execution_count": null,
     "metadata": {},
     "output_type": "execute_result"
    }
   ],
   "source": [
    "model_doc.open_questions()"
   ]
  },
  {
   "cell_type": "markdown",
   "metadata": {},
   "source": [
    "If the user wants to fill in an empty field such as the ones identified above by the method `open_questions`, the user simply needs to pass to the module `fill_info` a dictionary with the corresponding information. Depending on the template, the dictionary may be nested. \n",
    "\n",
    ":::{.callout-note}\n",
    "\n",
    "it is technically possible to attribute the element directly to the attribute `json_doc`, but this should be avoided in favour of using the method `fill_info`. The latter tests whether the new information is valid according to the documentation template and also enables the filling of more than one question at the same time. In addition, attributing information directly to `json_doc` is not logged, and may unwarrantedly create new entries that are not part of the template (eg, if a new dictionary key is created due to typos).\n",
    "\n",
    ":::\n",
    "\n",
    "The template serves to provide specific instances of the Documenter object with a form-like structure, indicating which fields are open and thus require some answers or information. Consequently, the template does not change when the actual document object changes after information is added by `fill_info`."
   ]
  },
  {
   "cell_type": "code",
   "execution_count": null,
   "metadata": {},
   "outputs": [
    {
     "name": "stdout",
     "output_type": "stream",
     "text": [
      "[{'performance_measures': 'This is a test', 'thresholds': 'Decision thresholds', 'variation_approaches': 'Variation approaches'}, {'field_description': 'Metrics should be chosen to reflect potential real world impacts of the model', 'performance_measures': 'Model performance measures', 'thresholds': 'Decision thresholds', 'variation_approaches': 'Variation approaches'}]\n"
     ]
    }
   ],
   "source": [
    "new_info = {\n",
    "    'metrics': {'performance_measures': \"This is a test\"},\n",
    "    'caveats_recommendations': {'caveats': \"This is another test\"}\n",
    "    }\n",
    "\n",
    "model_doc.fill_info(new_info)\n",
    "print([model_doc.json_doc['metrics'], ModelCard.template['metrics']])\n",
    "\n",
    "assert model_doc.show_template(indent=False) == ModelCard.template"
   ]
  },
  {
   "cell_type": "markdown",
   "metadata": {},
   "source": [
    "## Reading information from models\n",
    "\n",
    "`gingado`'s `ggdModelDocumentation` base class is able to extract information from machine learning models from a number of widely used libraries and make it available to the Documenter objects. This is done through the method `read_model`, which recognises whether the model is a `gingado` object or any of `scikit-learn`, `keras`, or `fastai` models and read the model characteristics appropriately. For filing out information from other models (eg, `pytorch` or even models coded from scratch, machine learning or not), the user can benefit from the module `fill_model_info` that every Documenter should have, as demonstrated below.\n",
    "\n",
    "In the case of `ModelCard`, these informations are included under `model_details`, item `info`. But the model information could be saved in another area of a custom Documenter.\n",
    "\n",
    ":::{.callout-note}\n",
    "\n",
    "the model-specific information saved is different depending on the model's original library.\n",
    "\n",
    ":::"
   ]
  },
  {
   "cell_type": "markdown",
   "metadata": {},
   "source": [
    "### Preliminaries\n",
    "\n",
    "The mock dataset below is used to construct models using different libraries, to demonstrate how they are read by Documenters."
   ]
  },
  {
   "cell_type": "code",
   "execution_count": null,
   "metadata": {},
   "outputs": [],
   "source": [
    "from sklearn.datasets import make_classification"
   ]
  },
  {
   "cell_type": "code",
   "execution_count": null,
   "metadata": {},
   "outputs": [
    {
     "data": {
      "text/plain": [
       "((100, 20), (100,))"
      ]
     },
     "execution_count": null,
     "metadata": {},
     "output_type": "execute_result"
    }
   ],
   "source": [
    "# some mock up data\n",
    "X, y = make_classification()\n",
    "\n",
    "X.shape, y.shape"
   ]
  },
  {
   "cell_type": "markdown",
   "metadata": {},
   "source": [
    "### gingado Benchmark"
   ]
  },
  {
   "cell_type": "code",
   "execution_count": null,
   "metadata": {},
   "outputs": [],
   "source": [
    "from gingado.benchmark import ClassificationBenchmark"
   ]
  },
  {
   "cell_type": "code",
   "execution_count": null,
   "metadata": {},
   "outputs": [
    {
     "name": "stdout",
     "output_type": "stream",
     "text": [
      "Fitting 5 folds for each of 6 candidates, totalling 30 fits\n",
      "[CV 1/5] END max_features=sqrt, n_estimators=100;, score=0.950 total time=   0.1s\n",
      "[CV 2/5] END max_features=sqrt, n_estimators=100;, score=0.900 total time=   0.1s\n",
      "[CV 3/5] END max_features=sqrt, n_estimators=100;, score=0.950 total time=   0.1s\n",
      "[CV 4/5] END max_features=sqrt, n_estimators=100;, score=0.900 total time=   0.1s\n",
      "[CV 5/5] END max_features=sqrt, n_estimators=100;, score=1.000 total time=   0.1s\n",
      "[CV 1/5] END max_features=sqrt, n_estimators=250;, score=0.950 total time=   0.3s\n",
      "[CV 2/5] END max_features=sqrt, n_estimators=250;, score=0.900 total time=   0.3s\n",
      "[CV 3/5] END max_features=sqrt, n_estimators=250;, score=0.950 total time=   0.3s\n",
      "[CV 4/5] END max_features=sqrt, n_estimators=250;, score=0.900 total time=   0.3s\n",
      "[CV 5/5] END max_features=sqrt, n_estimators=250;, score=1.000 total time=   0.3s\n",
      "[CV 1/5] END max_features=log2, n_estimators=100;, score=0.950 total time=   0.1s\n",
      "[CV 2/5] END max_features=log2, n_estimators=100;, score=0.900 total time=   0.1s\n",
      "[CV 3/5] END max_features=log2, n_estimators=100;, score=0.950 total time=   0.1s\n",
      "[CV 4/5] END max_features=log2, n_estimators=100;, score=0.900 total time=   0.1s\n",
      "[CV 5/5] END max_features=log2, n_estimators=100;, score=1.000 total time=   0.1s\n",
      "[CV 1/5] END max_features=log2, n_estimators=250;, score=0.950 total time=   0.3s\n",
      "[CV 2/5] END max_features=log2, n_estimators=250;, score=0.900 total time=   0.3s\n",
      "[CV 3/5] END max_features=log2, n_estimators=250;, score=0.950 total time=   0.3s\n",
      "[CV 4/5] END max_features=log2, n_estimators=250;, score=0.900 total time=   0.3s\n",
      "[CV 5/5] END max_features=log2, n_estimators=250;, score=1.000 total time=   0.3s\n",
      "[CV 1/5] END max_features=None, n_estimators=100;, score=0.950 total time=   0.1s\n",
      "[CV 2/5] END max_features=None, n_estimators=100;, score=0.900 total time=   0.1s\n",
      "[CV 3/5] END max_features=None, n_estimators=100;, score=0.950 total time=   0.1s\n",
      "[CV 4/5] END max_features=None, n_estimators=100;, score=0.900 total time=   0.1s\n",
      "[CV 5/5] END max_features=None, n_estimators=100;, score=0.900 total time=   0.1s\n",
      "[CV 1/5] END max_features=None, n_estimators=250;, score=0.950 total time=   0.3s\n",
      "[CV 2/5] END max_features=None, n_estimators=250;, score=0.900 total time=   0.3s\n",
      "[CV 3/5] END max_features=None, n_estimators=250;, score=1.000 total time=   0.3s\n",
      "[CV 4/5] END max_features=None, n_estimators=250;, score=0.900 total time=   0.3s\n",
      "[CV 5/5] END max_features=None, n_estimators=250;, score=0.950 total time=   0.3s\n"
     ]
    }
   ],
   "source": [
    "# the gingado benchmark\n",
    "gingado_clf = ClassificationBenchmark(verbose_grid=3).fit(X, y)"
   ]
  },
  {
   "cell_type": "code",
   "execution_count": null,
   "metadata": {},
   "outputs": [
    {
     "name": "stdout",
     "output_type": "stream",
     "text": [
      "{'_estimator_type': 'classifier', 'best_estimator_': RandomForestClassifier(max_features=None, n_estimators=250, oob_score=True), 'best_index_': 5, 'best_params_': {'max_features': None, 'n_estimators': 250}, 'best_score_': 0.9400000000000001, 'classes_': array([0, 1]), 'cv_results_': {'mean_fit_time': array([0.11729741, 0.27056293, 0.11041555, 0.27681222, 0.112884  ,\n",
      "       0.29273424]), 'std_fit_time': array([0.00784129, 0.00694992, 0.00504586, 0.01664459, 0.00310883,\n",
      "       0.01157988]), 'mean_score_time': array([0.00770035, 0.01671743, 0.00736718, 0.01689372, 0.00688419,\n",
      "       0.01793976]), 'std_score_time': array([0.00066321, 0.00025888, 0.00034258, 0.00090103, 0.00024716,\n",
      "       0.00099142]), 'param_max_features': masked_array(data=['sqrt', 'sqrt', 'log2', 'log2', None, None],\n",
      "             mask=[False, False, False, False, False, False],\n",
      "       fill_value='?',\n",
      "            dtype=object), 'param_n_estimators': masked_array(data=[100, 250, 100, 250, 100, 250],\n",
      "             mask=[False, False, False, False, False, False],\n",
      "       fill_value='?',\n",
      "            dtype=object), 'params': [{'max_features': 'sqrt', 'n_estimators': 100}, {'max_features': 'sqrt', 'n_estimators': 250}, {'max_features': 'log2', 'n_estimators': 100}, {'max_features': 'log2', 'n_estimators': 250}, {'max_features': None, 'n_estimators': 100}, {'max_features': None, 'n_estimators': 250}], 'split0_test_score': array([0.95, 0.95, 0.95, 0.95, 0.95, 0.95]), 'split1_test_score': array([0.9, 0.9, 0.9, 0.9, 0.9, 0.9]), 'split2_test_score': array([0.95, 0.95, 0.95, 0.95, 0.95, 1.  ]), 'split3_test_score': array([0.9, 0.9, 0.9, 0.9, 0.9, 0.9]), 'split4_test_score': array([1.  , 1.  , 1.  , 1.  , 0.9 , 0.95]), 'mean_test_score': array([0.94, 0.94, 0.94, 0.94, 0.92, 0.94]), 'std_test_score': array([0.03741657, 0.03741657, 0.03741657, 0.03741657, 0.0244949 ,\n",
      "       0.03741657]), 'rank_test_score': array([2, 2, 2, 2, 6, 1], dtype=int32)}, 'multimetric_': False, 'n_features_in_': 20, 'n_splits_': 5, 'refit_time_': 0.2924659252166748, 'scorer_': <function _passthrough_scorer>}\n"
     ]
    }
   ],
   "source": [
    "# a new instance of ModelCard is created and used to document the model\n",
    "model_doc_gingado = ModelCard()\n",
    "model_doc_gingado.read_model(gingado_clf.benchmark)\n",
    "print(model_doc_gingado.show_json()['model_details']['info'])\n",
    "\n",
    "# but given that gingado Benchmark objects already document the best model at every fit, we can check that they are equal:\n",
    "assert model_doc_gingado.show_json()['model_details']['info'] == gingado_clf.model_documentation.show_json()['model_details']['info']"
   ]
  },
  {
   "cell_type": "markdown",
   "metadata": {},
   "source": [
    "### scikit-learn"
   ]
  },
  {
   "cell_type": "code",
   "execution_count": null,
   "metadata": {},
   "outputs": [],
   "source": [
    "from sklearn.ensemble import RandomForestClassifier"
   ]
  },
  {
   "cell_type": "code",
   "execution_count": null,
   "metadata": {},
   "outputs": [],
   "source": [
    "sklearn_clf = RandomForestClassifier().fit(X, y)"
   ]
  },
  {
   "cell_type": "code",
   "execution_count": null,
   "metadata": {},
   "outputs": [
    {
     "name": "stdout",
     "output_type": "stream",
     "text": [
      "{'_estimator_type': 'classifier', 'base_estimator_': DecisionTreeClassifier(), 'classes_': array([0, 1]), 'estimators_': [DecisionTreeClassifier(max_features='sqrt', random_state=1528320548), DecisionTreeClassifier(max_features='sqrt', random_state=1532103850), DecisionTreeClassifier(max_features='sqrt', random_state=234650733), DecisionTreeClassifier(max_features='sqrt', random_state=2042931307), DecisionTreeClassifier(max_features='sqrt', random_state=568150961), DecisionTreeClassifier(max_features='sqrt', random_state=1247107005), DecisionTreeClassifier(max_features='sqrt', random_state=1602879326), DecisionTreeClassifier(max_features='sqrt', random_state=1871083567), DecisionTreeClassifier(max_features='sqrt', random_state=1107653087), DecisionTreeClassifier(max_features='sqrt', random_state=1309528212), DecisionTreeClassifier(max_features='sqrt', random_state=741384241), DecisionTreeClassifier(max_features='sqrt', random_state=627916794), DecisionTreeClassifier(max_features='sqrt', random_state=177856503), DecisionTreeClassifier(max_features='sqrt', random_state=1925954179), DecisionTreeClassifier(max_features='sqrt', random_state=1039291484), DecisionTreeClassifier(max_features='sqrt', random_state=469678992), DecisionTreeClassifier(max_features='sqrt', random_state=47317142), DecisionTreeClassifier(max_features='sqrt', random_state=2072422137), DecisionTreeClassifier(max_features='sqrt', random_state=497694643), DecisionTreeClassifier(max_features='sqrt', random_state=2017359287), DecisionTreeClassifier(max_features='sqrt', random_state=2003493429), DecisionTreeClassifier(max_features='sqrt', random_state=1046211810), DecisionTreeClassifier(max_features='sqrt', random_state=1298505369), DecisionTreeClassifier(max_features='sqrt', random_state=802094002), DecisionTreeClassifier(max_features='sqrt', random_state=779512828), DecisionTreeClassifier(max_features='sqrt', random_state=1848021309), DecisionTreeClassifier(max_features='sqrt', random_state=712832852), DecisionTreeClassifier(max_features='sqrt', random_state=1255746670), DecisionTreeClassifier(max_features='sqrt', random_state=1581531755), DecisionTreeClassifier(max_features='sqrt', random_state=1040101439), DecisionTreeClassifier(max_features='sqrt', random_state=846899270), DecisionTreeClassifier(max_features='sqrt', random_state=1450766372), DecisionTreeClassifier(max_features='sqrt', random_state=1597242436), DecisionTreeClassifier(max_features='sqrt', random_state=1656966555), DecisionTreeClassifier(max_features='sqrt', random_state=1619104565), DecisionTreeClassifier(max_features='sqrt', random_state=1515752923), DecisionTreeClassifier(max_features='sqrt', random_state=562566862), DecisionTreeClassifier(max_features='sqrt', random_state=1664296567), DecisionTreeClassifier(max_features='sqrt', random_state=1687072105), DecisionTreeClassifier(max_features='sqrt', random_state=39231976), DecisionTreeClassifier(max_features='sqrt', random_state=344802654), DecisionTreeClassifier(max_features='sqrt', random_state=674299665), DecisionTreeClassifier(max_features='sqrt', random_state=769657348), DecisionTreeClassifier(max_features='sqrt', random_state=1881754931), DecisionTreeClassifier(max_features='sqrt', random_state=1774522447), DecisionTreeClassifier(max_features='sqrt', random_state=1758615464), DecisionTreeClassifier(max_features='sqrt', random_state=581736930), DecisionTreeClassifier(max_features='sqrt', random_state=1662713882), DecisionTreeClassifier(max_features='sqrt', random_state=448705342), DecisionTreeClassifier(max_features='sqrt', random_state=24955730), DecisionTreeClassifier(max_features='sqrt', random_state=1502298424), DecisionTreeClassifier(max_features='sqrt', random_state=1573755345), DecisionTreeClassifier(max_features='sqrt', random_state=1395637756), DecisionTreeClassifier(max_features='sqrt', random_state=457124043), DecisionTreeClassifier(max_features='sqrt', random_state=634335830), DecisionTreeClassifier(max_features='sqrt', random_state=914571332), DecisionTreeClassifier(max_features='sqrt', random_state=1704768177), DecisionTreeClassifier(max_features='sqrt', random_state=729245639), DecisionTreeClassifier(max_features='sqrt', random_state=795692861), DecisionTreeClassifier(max_features='sqrt', random_state=1761180254), DecisionTreeClassifier(max_features='sqrt', random_state=211805969), DecisionTreeClassifier(max_features='sqrt', random_state=1383711197), DecisionTreeClassifier(max_features='sqrt', random_state=1989003020), DecisionTreeClassifier(max_features='sqrt', random_state=84103280), DecisionTreeClassifier(max_features='sqrt', random_state=108015474), DecisionTreeClassifier(max_features='sqrt', random_state=286866422), DecisionTreeClassifier(max_features='sqrt', random_state=457278977), DecisionTreeClassifier(max_features='sqrt', random_state=2091330708), DecisionTreeClassifier(max_features='sqrt', random_state=209695135), DecisionTreeClassifier(max_features='sqrt', random_state=1830302126), DecisionTreeClassifier(max_features='sqrt', random_state=347159748), DecisionTreeClassifier(max_features='sqrt', random_state=576229567), DecisionTreeClassifier(max_features='sqrt', random_state=153389636), DecisionTreeClassifier(max_features='sqrt', random_state=108685032), DecisionTreeClassifier(max_features='sqrt', random_state=866932677), DecisionTreeClassifier(max_features='sqrt', random_state=587435480), DecisionTreeClassifier(max_features='sqrt', random_state=683959771), DecisionTreeClassifier(max_features='sqrt', random_state=2098241899), DecisionTreeClassifier(max_features='sqrt', random_state=2031943007), DecisionTreeClassifier(max_features='sqrt', random_state=1469968244), DecisionTreeClassifier(max_features='sqrt', random_state=921312069), DecisionTreeClassifier(max_features='sqrt', random_state=1850422846), DecisionTreeClassifier(max_features='sqrt', random_state=1627648837), DecisionTreeClassifier(max_features='sqrt', random_state=1873105142), DecisionTreeClassifier(max_features='sqrt', random_state=879360188), DecisionTreeClassifier(max_features='sqrt', random_state=758929951), DecisionTreeClassifier(max_features='sqrt', random_state=1135922312), DecisionTreeClassifier(max_features='sqrt', random_state=1081438665), DecisionTreeClassifier(max_features='sqrt', random_state=198730512), DecisionTreeClassifier(max_features='sqrt', random_state=1437204493), DecisionTreeClassifier(max_features='sqrt', random_state=390918864), DecisionTreeClassifier(max_features='sqrt', random_state=1141041866), DecisionTreeClassifier(max_features='sqrt', random_state=1339252056), DecisionTreeClassifier(max_features='sqrt', random_state=1641509008), DecisionTreeClassifier(max_features='sqrt', random_state=123631079), DecisionTreeClassifier(max_features='sqrt', random_state=1890342912), DecisionTreeClassifier(max_features='sqrt', random_state=1291279801), DecisionTreeClassifier(max_features='sqrt', random_state=764631210), DecisionTreeClassifier(max_features='sqrt', random_state=1939666400), DecisionTreeClassifier(max_features='sqrt', random_state=901535320)], 'feature_importances_': array([0.42931272, 0.02354196, 0.013617  , 0.12369786, 0.02270288,\n",
      "       0.01544073, 0.0208859 , 0.01950243, 0.02002617, 0.01711984,\n",
      "       0.03142955, 0.01799099, 0.01659719, 0.02090617, 0.01991217,\n",
      "       0.01899712, 0.0197901 , 0.10810202, 0.02515743, 0.01526978]), 'n_classes_': 2, 'n_features_': 20, 'n_features_in_': 20, 'n_outputs_': 1}\n"
     ]
    },
    {
     "name": "stderr",
     "output_type": "stream",
     "text": [
      "/Users/douglasaraujo/Coding/.venv_gingado/lib/python3.10/site-packages/sklearn/utils/deprecation.py:103: FutureWarning: Attribute `n_features_` was deprecated in version 1.0 and will be removed in 1.2. Use `n_features_in_` instead.\n",
      "  warnings.warn(msg, category=FutureWarning)\n"
     ]
    }
   ],
   "source": [
    "model_doc_sklearn = ModelCard()\n",
    "model_doc_sklearn.read_model(sklearn_clf)\n",
    "print(model_doc_sklearn.show_json()['model_details']['info'])"
   ]
  },
  {
   "cell_type": "markdown",
   "metadata": {},
   "source": [
    "### Keras"
   ]
  },
  {
   "cell_type": "code",
   "execution_count": null,
   "metadata": {},
   "outputs": [],
   "source": [
    "from tensorflow import keras"
   ]
  },
  {
   "cell_type": "code",
   "execution_count": null,
   "metadata": {},
   "outputs": [
    {
     "name": "stdout",
     "output_type": "stream",
     "text": [
      "Epoch 1/10\n"
     ]
    },
    {
     "name": "stderr",
     "output_type": "stream",
     "text": [
      "2022-09-24 00:39:38.835694: I tensorflow/core/platform/cpu_feature_guard.cc:151] This TensorFlow binary is optimized with oneAPI Deep Neural Network Library (oneDNN) to use the following CPU instructions in performance-critical operations:  AVX2 FMA\n",
      "To enable them in other operations, rebuild TensorFlow with the appropriate compiler flags.\n"
     ]
    },
    {
     "name": "stdout",
     "output_type": "stream",
     "text": [
      "10/10 [==============================] - 0s 927us/step - loss: 0.7824\n",
      "Epoch 2/10\n",
      "10/10 [==============================] - 0s 792us/step - loss: 0.7504\n",
      "Epoch 3/10\n",
      "10/10 [==============================] - 0s 738us/step - loss: 0.7261\n",
      "Epoch 4/10\n",
      "10/10 [==============================] - 0s 715us/step - loss: 0.7057\n",
      "Epoch 5/10\n",
      "10/10 [==============================] - 0s 712us/step - loss: 0.6891\n",
      "Epoch 6/10\n",
      "10/10 [==============================] - 0s 712us/step - loss: 0.6732\n",
      "Epoch 7/10\n",
      "10/10 [==============================] - 0s 719us/step - loss: 0.6589\n",
      "Epoch 8/10\n",
      "10/10 [==============================] - 0s 728us/step - loss: 0.6470\n",
      "Epoch 9/10\n",
      "10/10 [==============================] - 0s 705us/step - loss: 0.6344\n",
      "Epoch 10/10\n",
      "10/10 [==============================] - 0s 721us/step - loss: 0.6226\n"
     ]
    },
    {
     "data": {
      "text/plain": [
       "<keras.callbacks.History>"
      ]
     },
     "execution_count": null,
     "metadata": {},
     "output_type": "execute_result"
    }
   ],
   "source": [
    "keras_clf = keras.Sequential()\n",
    "keras_clf.add(keras.layers.Dense(16, activation='relu', input_shape=(20,)))\n",
    "keras_clf.add(keras.layers.Dense(8, activation='relu'))\n",
    "keras_clf.add(keras.layers.Dense(1, activation='sigmoid'))\n",
    "keras_clf.compile(optimizer='sgd', loss='binary_crossentropy')\n",
    "keras_clf.fit(X, y, batch_size=10, epochs=10)"
   ]
  },
  {
   "cell_type": "code",
   "execution_count": null,
   "metadata": {},
   "outputs": [
    {
     "data": {
      "text/plain": [
       "'{\"class_name\": \"Sequential\", \"config\": {\"name\": \"sequential\", \"layers\": [{\"class_name\": \"InputLayer\", \"config\": {\"batch_input_shape\": [null, 20], \"dtype\": \"float32\", \"sparse\": false, \"ragged\": false, \"name\": \"dense_input\"}}, {\"class_name\": \"Dense\", \"config\": {\"name\": \"dense\", \"trainable\": true, \"batch_input_shape\": [null, 20], \"dtype\": \"float32\", \"units\": 16, \"activation\": \"relu\", \"use_bias\": true, \"kernel_initializer\": {\"class_name\": \"GlorotUniform\", \"config\": {\"seed\": null}}, \"bias_initializer\": {\"class_name\": \"Zeros\", \"config\": {}}, \"kernel_regularizer\": null, \"bias_regularizer\": null, \"activity_regularizer\": null, \"kernel_constraint\": null, \"bias_constraint\": null}}, {\"class_name\": \"Dense\", \"config\": {\"name\": \"dense_1\", \"trainable\": true, \"dtype\": \"float32\", \"units\": 8, \"activation\": \"relu\", \"use_bias\": true, \"kernel_initializer\": {\"class_name\": \"GlorotUniform\", \"config\": {\"seed\": null}}, \"bias_initializer\": {\"class_name\": \"Zeros\", \"config\": {}}, \"kernel_regularizer\": null, \"bias_regularizer\": null, \"activity_regularizer\": null, \"kernel_constraint\": null, \"bias_constraint\": null}}, {\"class_name\": \"Dense\", \"config\": {\"name\": \"dense_2\", \"trainable\": true, \"dtype\": \"float32\", \"units\": 1, \"activation\": \"sigmoid\", \"use_bias\": true, \"kernel_initializer\": {\"class_name\": \"GlorotUniform\", \"config\": {\"seed\": null}}, \"bias_initializer\": {\"class_name\": \"Zeros\", \"config\": {}}, \"kernel_regularizer\": null, \"bias_regularizer\": null, \"activity_regularizer\": null, \"kernel_constraint\": null, \"bias_constraint\": null}}]}, \"keras_version\": \"2.8.0\", \"backend\": \"tensorflow\"}'"
      ]
     },
     "execution_count": null,
     "metadata": {},
     "output_type": "execute_result"
    }
   ],
   "source": [
    "model_doc_keras = ModelCard()\n",
    "model_doc_keras.read_model(keras_clf)\n",
    "model_doc_keras.show_json()['model_details']['info']"
   ]
  },
  {
   "cell_type": "markdown",
   "metadata": {},
   "source": [
    "### Other models\n",
    "\n",
    "Native support for automatic documentation of other model types, such as from `fastai`, `pytorch` is expected to be available in future versions. Until then, these models,any models coded form scratch by the user as well as any other model can be documented by passing the information as an argument to the Documenter's `fill_model_info` method. This can be done in any core Python format (a string, a list, a dictionary, etc). For example:"
   ]
  },
  {
   "cell_type": "code",
   "execution_count": null,
   "metadata": {},
   "outputs": [],
   "source": [
    "import numpy as np\n",
    "import torch\n",
    "import torch.nn.functional as F"
   ]
  },
  {
   "cell_type": "code",
   "execution_count": null,
   "metadata": {},
   "outputs": [],
   "source": [
    "class MockDataset(torch.utils.data.Dataset):\n",
    "    def __init__(self, X, y):\n",
    "        self.X = torch.from_numpy(X.astype(np.float32))\n",
    "        self.y = torch.from_numpy(y.astype(np.float32))\n",
    "        self.len = self.X.shape[0]\n",
    "\n",
    "    def __len__(self):\n",
    "        return self.len\n",
    "\n",
    "    def __getitem__(self, idx):\n",
    "        return self.X[idx], self.y[idx]\n",
    "\n",
    "class PytorchNet(torch.nn.Module):\n",
    "    def __init__(self):\n",
    "        super(PytorchNet, self).__init__()\n",
    "        self.layer1 = torch.nn.Linear(20, 16)\n",
    "        self.layer2 = torch.nn.Linear(16, 8)\n",
    "        self.layer3 = torch.nn.Linear(8, 1)\n",
    "\n",
    "    def forward(self, x):\n",
    "        x = torch.relu(self.layer1(x))\n",
    "        x = torch.relu(self.layer2(x))\n",
    "        x = torch.sigmoid(self.layer3(x))\n",
    "        return x\n",
    "\n",
    "pytorch_clf = PytorchNet()\n",
    "\n",
    "dataloader = MockDataset(X, y)\n",
    "\n",
    "\n",
    "loss_func = torch.nn.BCELoss()\n",
    "optimizer = torch.optim.SGD(pytorch_clf.parameters(), lr=0.001, momentum=0.9)\n",
    "\n",
    "for epoch in range(10):\n",
    "    running_loss = 0.0\n",
    "    for i, data in enumerate(dataloader, 0):\n",
    "        _X, _y = data\n",
    "        optimizer.zero_grad()\n",
    "        y_pred_epoch = pytorch_clf(_X)\n",
    "        loss = loss_func(y_pred_epoch, _y.reshape(1))\n",
    "        loss.backward()\n",
    "        optimizer.step()"
   ]
  },
  {
   "cell_type": "code",
   "execution_count": null,
   "metadata": {},
   "outputs": [
    {
     "data": {
      "text/plain": [
       "'This model is a neural network consisting of two fully connected layers and ending in a linear layer with a sigmoid activation'"
      ]
     },
     "execution_count": null,
     "metadata": {},
     "output_type": "execute_result"
    }
   ],
   "source": [
    "model_doc_pytorch = ModelCard()\n",
    "model_doc_pytorch.fill_model_info(\"This model is a neural network consisting of two fully connected layers and ending in a linear layer with a sigmoid activation\")\n",
    "model_doc_pytorch.show_json()['model_details']['info']"
   ]
  },
  {
   "cell_type": "markdown",
   "metadata": {},
   "source": [
    "## Creating a custom Documenter\n",
    "\n",
    "`gingado` users can easily transform their model documentation needs into a Documenter object. The main advantages of doing this are: \n",
    "* the documentation template becomes a \"recyclable\" object that can be saved, loaded, and used in other models or code routines; and\n",
    "* model documentation can be more closely aligned with model creation and training, thus decreasing the probability that the model and its documentation diverge during the process of model development.\n",
    "\n",
    "The requirements for an object to be a `gingado` Documenter are:\n",
    "* it must subclass `ggdModelDocumentation` (or implement all its methods if the user does not want to keep a dependency to `gingado`),\n",
    "* include the actual template for the documentation as a dictionary (with at most two levels of keys) in a class attribute called `template`,\n",
    "* follow the `scikit-learn` convention of storing the `__init__` parameters in attributes with the same name,\n",
    "* implement the `autofill_template` method using the `fill_info` method to set the automatically filled information fields, and\n",
    "* implement the `fill_model_info` method that assigns the information in `model_info` into the class custom template."
   ]
  },
  {
   "cell_type": "markdown",
   "metadata": {},
   "source": [
    "## References\n",
    "::: {#refs}\n",
    ":::"
   ]
  },
  {
   "cell_type": "code",
   "execution_count": null,
   "metadata": {},
   "outputs": [],
   "source": [
    "#| echo: false\n",
    "import nbdev; nbdev.nbdev_export()"
   ]
  }
 ],
 "metadata": {
  "kernelspec": {
   "display_name": "Python 3.9.10 64-bit ('.venv_gingado': venv)",
   "language": "python",
   "name": "python3"
  }
 },
 "nbformat": 4,
 "nbformat_minor": 2
}
