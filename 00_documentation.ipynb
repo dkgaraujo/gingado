{
 "cells": [
  {
   "cell_type": "raw",
   "metadata": {},
   "source": [
    "---\n",
    "badges: true\n",
    "description: Functions to jumpstart and facilitate model documentation\n",
    "output-file: documentation.html\n",
    "title: Model documentation\n",
    "---\n",
    "\n"
   ]
  },
  {
   "cell_type": "code",
   "execution_count": null,
   "metadata": {},
   "outputs": [],
   "source": [
    "#| default_exp model_documentation"
   ]
  },
  {
   "cell_type": "code",
   "execution_count": null,
   "metadata": {},
   "outputs": [],
   "source": [
    "#| export\n",
    "#| include: false\n",
    "#| echo: false\n",
    "from __future__ import annotations # allows multiple typing of arguments in Python versions prior to 3.10"
   ]
  },
  {
   "cell_type": "code",
   "execution_count": null,
   "metadata": {},
   "outputs": [],
   "source": [
    "#| include: false\n",
    "#skip\n",
    "! [ -e /content ] && pip install -Uqq gingado nbdev # install or upgrade gingado on colab"
   ]
  },
  {
   "cell_type": "code",
   "execution_count": null,
   "metadata": {},
   "outputs": [],
   "source": [
    "#| include: false\n",
    "%load_ext autoreload\n",
    "%autoreload 2"
   ]
  },
  {
   "cell_type": "code",
   "execution_count": null,
   "metadata": {},
   "outputs": [],
   "source": [
    "#| include: false\n",
    "from nbdev.showdoc import show_doc"
   ]
  },
  {
   "cell_type": "markdown",
   "metadata": {},
   "source": [
    "Each user has a specific documentation need, ranging from simply logging the model training to a more complex description of the model pipeline with a discusson of the model outcomes. `gingado` addresses this variety of needs by offering a class of objects, \"Documenters\", that facilitate model documentation. A base class facilitates the creation of  generic ways to document models, and `gingado` includes two specific model documentation templates off-the-shelf as described below. \n",
    "\n",
    "The model documentation is performed by Documenters, objects that subclass from the base class `ggdModelDocumentation`. This base class offers code that can be used by any Documenter to read the model in question, format the information according to a template and save the resulting documentation in a JSON format. Documenters save the underlying information using the JSON format. With the JSON documentation file at hand, the user can then deploy existing third-party libraries to transform the information stored in JSON into a variety of formats (eg, HTML, PDF) as needed.\n",
    "\n",
    "One current area of development is the automatic filing of some fields related to the model. The objective is to automatise documentation of the information that can be fetched automatically from the model, leaving time for the analyst to concentrate on other tasks, such as considering the ethical implications of the machine learning model being trained.\n",
    "\n",
    "# Base class\n",
    "\n",
    "`gingado` has a `ggdModelDocumentation` base class that contains the basic functionalities for Documenters. It is not meant to be used by itself, but only as a hyperclass for Documenters objects. `gingado` ships with two such objects that subclass `ggdModelDocumentation`: `ModelCard` and `ForecastCard`. They are both described below in their respective sections.\n",
    "\n",
    "Users are encouraged to submit a PR with their own Documenter models subclassing `ggdModelDocumentation`; see @sec-custom for more information."
   ]
  },
  {
   "cell_type": "code",
   "execution_count": null,
   "metadata": {},
   "outputs": [],
   "source": [
    "#| include: false\n",
    "#| export\n",
    "import copy\n",
    "import json\n",
    "\n",
    "class ggdModelDocumentation:\n",
    "    \"Base class for gingado Documenters\"\n",
    "\n",
    "    def setup_template(self):\n",
    "        \"Set up the template from the JSON documentation\"\n",
    "        self.json_doc = copy.deepcopy(self.__class__.template)\n",
    "        for k in self.json_doc.keys():\n",
    "            self.json_doc[k].pop('field_description', \"\")\n",
    "\n",
    "    def show_template(\n",
    "        self, \n",
    "        indent:bool=True # Whether to print JSON documentation template with indentation for easier human reading\n",
    "        ):\n",
    "        \"Show documentation template in JSON format\"\n",
    "        if indent:\n",
    "            print(json.dumps(self.__class__.template, indent=self.indent_level))\n",
    "        else:\n",
    "            return self.__class__.template\n",
    "        \n",
    "    def documentation_path(self):\n",
    "        \"Show path to documentation\"\n",
    "        print(self.file_path)\n",
    "\n",
    "    def show_json(self):\n",
    "        \"Show documentation in JSON format\"\n",
    "        return self.json_doc\n",
    "        #print(json.dumps(self.json_doc, indent=self.indent_level))\n",
    "\n",
    "    def save_json(\n",
    "        self, \n",
    "        file_path:str # Path to save JSON file\n",
    "        ):\n",
    "        \"Save the documentation in JSON format in the specified file\"\n",
    "        with open(file_path, 'w') as f:\n",
    "            json.dump(self.json_doc, f)\n",
    "\n",
    "    def read_json(\n",
    "        self, \n",
    "        file_path:str # Path to JSON file or path defined in `file_path` if None\n",
    "        ):\n",
    "        \"Load documentation JSON from path\"\n",
    "        if file_path is None:\n",
    "            file_path = self.file_path\n",
    "        f = open(file_path)\n",
    "        self.json_doc = json.load(f)\n",
    "\n",
    "    def open_questions(self):\n",
    "        \"List open fields in the documentation\"\n",
    "        return [\n",
    "                    k + \"__\" + v \n",
    "                    for k, v in self.json_doc.items()\n",
    "                    if isinstance(v, dict)\n",
    "                    for v, i in v.items()\n",
    "                    if i == self.__class__.template[k][v]\n",
    "        ]\n",
    "\n",
    "    def fill_info(\n",
    "        self, \n",
    "        new_info:dict # Dictionary with information to be added to the model documentation\n",
    "        ):\n",
    "        \"Include infomation in model documentation\"\n",
    "        for k, v in new_info.items():\n",
    "            if k not in self.__class__.template.keys():\n",
    "                raise KeyError(f\"key '{k}' is not in the documentation template. The template's keys are: {self.__class__.template.keys()}\")\n",
    "            if isinstance(v, dict) and isinstance(self.json_doc[k], dict):\n",
    "                for v_k, v_v in v.items():\n",
    "                    if v_k == 'field_description':\n",
    "                        raise KeyError(\"The key 'field_description' is not supposed to be changed from the template definition.\")\n",
    "                    if v_k not in self.json_doc[k].keys():\n",
    "                        field_keys = [k for k in self.__class__.template[k].keys() if k != 'field_description']\n",
    "                        raise KeyError(f\"key '{v_k}' is not in the documentation template's item {k}. These template item's keys are: {field_keys}\")\n",
    "                    #self.json_doc[k][v_k] = v_v\n",
    "                    for kk in self.json_doc[k].keys():\n",
    "                        if kk == v_k:\n",
    "                            self.json_doc[k][kk] = v_v\n",
    "            else:\n",
    "                self.json_doc.update({k: v})\n",
    "\n",
    "    def _read_attr(\n",
    "        self, \n",
    "        model\n",
    "        ):\n",
    "        \"For use of method `read_model`\"\n",
    "        for a in dir(model):\n",
    "            if a == '_estimator_type' or a.endswith(\"_\") and not a.startswith(\"_\") and not a.endswith(\"__\"):\n",
    "                try:\n",
    "                    model_attr = model.__getattribute__(a)\n",
    "                    yield {a: model_attr}\n",
    "                except:\n",
    "                    pass\n",
    "\n",
    "    def read_model(\n",
    "        self, \n",
    "        model # The model to be documented\n",
    "        ):\n",
    "        \"Read automatically information form the model and add to documentation\"\n",
    "        if \"keras\" in str(type(model)):\n",
    "            model_info = model.to_json()\n",
    "        else:\n",
    "            model_info = list(self._read_attr(model))\n",
    "            model_info = {k:v for i in model_info for k, v in i.items()}\n",
    "        self.fill_model_info(model_info)\n",
    "\n",
    "    def fill_model_info(\n",
    "        self, \n",
    "        model_info:str|dict, # Information about the model to be added in the documentation\n",
    "        model_info_keyname:str='model_details' # Dictionary key in the Documenter template to which this information should be linked\n",
    "        ):\n",
    "        \"Called automatically, or by the user, to add model information to the documentation according to its template\"\n",
    "        model_info_template = {model_info_keyname: {'info': model_info}}\n",
    "        self.fill_info(model_info_template)\n",
    "\n",
    "    def __setitem__(self, key, value):\n",
    "        setattr(self, key, value)\n",
    "\n",
    "    def __getitem__(self, key):\n",
    "        return getattr(self, key)\n",
    "\n",
    "    def __str__(self):\n",
    "        return json.dumps(self.json_doc, indent=4)\n",
    "\n",
    "    def __repr__(self):\n",
    "        return f\"{self.__class__}()\""
   ]
  },
  {
   "cell_type": "code",
   "execution_count": null,
   "metadata": {},
   "outputs": [
    {
     "data": {
      "text/markdown": [
       "---\n",
       "\n",
       "[source](https://github.com/dkgaraujo/gingado/blob/main/gingado/model_documentation.py#L16){target=\"_blank\" style=\"float:right; font-size:smaller\"}\n",
       "\n",
       "### ggdModelDocumentation\n",
       "\n",
       ">      ggdModelDocumentation ()\n",
       "\n",
       "Base class for gingado Documenters"
      ],
      "text/plain": [
       "---\n",
       "\n",
       "[source](https://github.com/dkgaraujo/gingado/blob/main/gingado/model_documentation.py#L16){target=\"_blank\" style=\"float:right; font-size:smaller\"}\n",
       "\n",
       "### ggdModelDocumentation\n",
       "\n",
       ">      ggdModelDocumentation ()\n",
       "\n",
       "Base class for gingado Documenters"
      ]
     },
     "execution_count": null,
     "metadata": {},
     "output_type": "execute_result"
    }
   ],
   "source": [
    "show_doc(ggdModelDocumentation)"
   ]
  },
  {
   "cell_type": "code",
   "execution_count": null,
   "metadata": {},
   "outputs": [
    {
     "data": {
      "text/markdown": [
       "---\n",
       "\n",
       "[source](https://github.com/dkgaraujo/gingado/blob/main/gingado/model_documentation.py#L19){target=\"_blank\" style=\"float:right; font-size:smaller\"}\n",
       "\n",
       "#### setup_template\n",
       "\n",
       ">      setup_template ()\n",
       "\n",
       "Set up the template from the JSON documentation"
      ],
      "text/plain": [
       "---\n",
       "\n",
       "[source](https://github.com/dkgaraujo/gingado/blob/main/gingado/model_documentation.py#L19){target=\"_blank\" style=\"float:right; font-size:smaller\"}\n",
       "\n",
       "#### setup_template\n",
       "\n",
       ">      setup_template ()\n",
       "\n",
       "Set up the template from the JSON documentation"
      ]
     },
     "execution_count": null,
     "metadata": {},
     "output_type": "execute_result"
    }
   ],
   "source": [
    "show_doc(ggdModelDocumentation.setup_template, name=\"setup_template\", title_level=4)"
   ]
  },
  {
   "cell_type": "code",
   "execution_count": null,
   "metadata": {},
   "outputs": [
    {
     "data": {
      "text/markdown": [
       "---\n",
       "\n",
       "[source](https://github.com/dkgaraujo/gingado/blob/main/gingado/model_documentation.py#L25){target=\"_blank\" style=\"float:right; font-size:smaller\"}\n",
       "\n",
       "#### show_template\n",
       "\n",
       ">      show_template (indent:bool=True)\n",
       "\n",
       "Show documentation template in JSON format\n",
       "\n",
       "|    | **Type** | **Default** | **Details** |\n",
       "| -- | -------- | ----------- | ----------- |\n",
       "| indent | bool | True | Whether to print JSON documentation template with indentation for easier human reading |"
      ],
      "text/plain": [
       "---\n",
       "\n",
       "[source](https://github.com/dkgaraujo/gingado/blob/main/gingado/model_documentation.py#L25){target=\"_blank\" style=\"float:right; font-size:smaller\"}\n",
       "\n",
       "#### show_template\n",
       "\n",
       ">      show_template (indent:bool=True)\n",
       "\n",
       "Show documentation template in JSON format\n",
       "\n",
       "|    | **Type** | **Default** | **Details** |\n",
       "| -- | -------- | ----------- | ----------- |\n",
       "| indent | bool | True | Whether to print JSON documentation template with indentation for easier human reading |"
      ]
     },
     "execution_count": null,
     "metadata": {},
     "output_type": "execute_result"
    }
   ],
   "source": [
    "show_doc(ggdModelDocumentation.show_template, name=\"show_template\", title_level=4)"
   ]
  },
  {
   "cell_type": "code",
   "execution_count": null,
   "metadata": {},
   "outputs": [
    {
     "data": {
      "text/markdown": [
       "---\n",
       "\n",
       "[source](https://github.com/dkgaraujo/gingado/blob/main/gingado/model_documentation.py#L35){target=\"_blank\" style=\"float:right; font-size:smaller\"}\n",
       "\n",
       "#### documentation_path\n",
       "\n",
       ">      documentation_path ()\n",
       "\n",
       "Show path to documentation"
      ],
      "text/plain": [
       "---\n",
       "\n",
       "[source](https://github.com/dkgaraujo/gingado/blob/main/gingado/model_documentation.py#L35){target=\"_blank\" style=\"float:right; font-size:smaller\"}\n",
       "\n",
       "#### documentation_path\n",
       "\n",
       ">      documentation_path ()\n",
       "\n",
       "Show path to documentation"
      ]
     },
     "execution_count": null,
     "metadata": {},
     "output_type": "execute_result"
    }
   ],
   "source": [
    "show_doc(ggdModelDocumentation.documentation_path, name=\"documentation_path\", title_level=4)"
   ]
  },
  {
   "cell_type": "code",
   "execution_count": null,
   "metadata": {},
   "outputs": [
    {
     "data": {
      "text/markdown": [
       "---\n",
       "\n",
       "[source](https://github.com/dkgaraujo/gingado/blob/main/gingado/model_documentation.py#L44){target=\"_blank\" style=\"float:right; font-size:smaller\"}\n",
       "\n",
       "#### save_json\n",
       "\n",
       ">      save_json (file_path:str)\n",
       "\n",
       "Save the documentation in JSON format in the specified file\n",
       "\n",
       "|    | **Type** | **Details** |\n",
       "| -- | -------- | ----------- |\n",
       "| file_path | str | Path to save JSON file |"
      ],
      "text/plain": [
       "---\n",
       "\n",
       "[source](https://github.com/dkgaraujo/gingado/blob/main/gingado/model_documentation.py#L44){target=\"_blank\" style=\"float:right; font-size:smaller\"}\n",
       "\n",
       "#### save_json\n",
       "\n",
       ">      save_json (file_path:str)\n",
       "\n",
       "Save the documentation in JSON format in the specified file\n",
       "\n",
       "|    | **Type** | **Details** |\n",
       "| -- | -------- | ----------- |\n",
       "| file_path | str | Path to save JSON file |"
      ]
     },
     "execution_count": null,
     "metadata": {},
     "output_type": "execute_result"
    }
   ],
   "source": [
    "show_doc(ggdModelDocumentation.save_json, name=\"save_json\", title_level=4)"
   ]
  },
  {
   "cell_type": "code",
   "execution_count": null,
   "metadata": {},
   "outputs": [
    {
     "data": {
      "text/markdown": [
       "---\n",
       "\n",
       "[source](https://github.com/dkgaraujo/gingado/blob/main/gingado/model_documentation.py#L52){target=\"_blank\" style=\"float:right; font-size:smaller\"}\n",
       "\n",
       "#### read_json\n",
       "\n",
       ">      read_json (file_path:str)\n",
       "\n",
       "Load documentation JSON from path\n",
       "\n",
       "|    | **Type** | **Details** |\n",
       "| -- | -------- | ----------- |\n",
       "| file_path | str | Path to JSON file or path defined in `file_path` if None |"
      ],
      "text/plain": [
       "---\n",
       "\n",
       "[source](https://github.com/dkgaraujo/gingado/blob/main/gingado/model_documentation.py#L52){target=\"_blank\" style=\"float:right; font-size:smaller\"}\n",
       "\n",
       "#### read_json\n",
       "\n",
       ">      read_json (file_path:str)\n",
       "\n",
       "Load documentation JSON from path\n",
       "\n",
       "|    | **Type** | **Details** |\n",
       "| -- | -------- | ----------- |\n",
       "| file_path | str | Path to JSON file or path defined in `file_path` if None |"
      ]
     },
     "execution_count": null,
     "metadata": {},
     "output_type": "execute_result"
    }
   ],
   "source": [
    "show_doc(ggdModelDocumentation.read_json, name=\"read_json\", title_level=4)"
   ]
  },
  {
   "cell_type": "code",
   "execution_count": null,
   "metadata": {},
   "outputs": [
    {
     "data": {
      "text/markdown": [
       "---\n",
       "\n",
       "[source](https://github.com/dkgaraujo/gingado/blob/main/gingado/model_documentation.py#L39){target=\"_blank\" style=\"float:right; font-size:smaller\"}\n",
       "\n",
       "#### show_json\n",
       "\n",
       ">      show_json ()\n",
       "\n",
       "Show documentation in JSON format"
      ],
      "text/plain": [
       "---\n",
       "\n",
       "[source](https://github.com/dkgaraujo/gingado/blob/main/gingado/model_documentation.py#L39){target=\"_blank\" style=\"float:right; font-size:smaller\"}\n",
       "\n",
       "#### show_json\n",
       "\n",
       ">      show_json ()\n",
       "\n",
       "Show documentation in JSON format"
      ]
     },
     "execution_count": null,
     "metadata": {},
     "output_type": "execute_result"
    }
   ],
   "source": [
    "show_doc(ggdModelDocumentation.show_json, name=\"show_json\", title_level=4)"
   ]
  },
  {
   "cell_type": "code",
   "execution_count": null,
   "metadata": {},
   "outputs": [
    {
     "data": {
      "text/markdown": [
       "---\n",
       "\n",
       "[source](https://github.com/dkgaraujo/gingado/blob/main/gingado/model_documentation.py#L107){target=\"_blank\" style=\"float:right; font-size:smaller\"}\n",
       "\n",
       "#### read_model\n",
       "\n",
       ">      read_model (model)\n",
       "\n",
       "Read automatically information form the model and add to documentation\n",
       "\n",
       "|    | **Details** |\n",
       "| -- | ----------- |\n",
       "| model | The model to be documented |"
      ],
      "text/plain": [
       "---\n",
       "\n",
       "[source](https://github.com/dkgaraujo/gingado/blob/main/gingado/model_documentation.py#L107){target=\"_blank\" style=\"float:right; font-size:smaller\"}\n",
       "\n",
       "#### read_model\n",
       "\n",
       ">      read_model (model)\n",
       "\n",
       "Read automatically information form the model and add to documentation\n",
       "\n",
       "|    | **Details** |\n",
       "| -- | ----------- |\n",
       "| model | The model to be documented |"
      ]
     },
     "execution_count": null,
     "metadata": {},
     "output_type": "execute_result"
    }
   ],
   "source": [
    "show_doc(ggdModelDocumentation.read_model, name=\"read_model\", title_level=4)"
   ]
  },
  {
   "cell_type": "code",
   "execution_count": null,
   "metadata": {},
   "outputs": [
    {
     "data": {
      "text/markdown": [
       "---\n",
       "\n",
       "[source](https://github.com/dkgaraujo/gingado/blob/main/gingado/model_documentation.py#L62){target=\"_blank\" style=\"float:right; font-size:smaller\"}\n",
       "\n",
       "#### open_questions\n",
       "\n",
       ">      open_questions ()\n",
       "\n",
       "List open fields in the documentation"
      ],
      "text/plain": [
       "---\n",
       "\n",
       "[source](https://github.com/dkgaraujo/gingado/blob/main/gingado/model_documentation.py#L62){target=\"_blank\" style=\"float:right; font-size:smaller\"}\n",
       "\n",
       "#### open_questions\n",
       "\n",
       ">      open_questions ()\n",
       "\n",
       "List open fields in the documentation"
      ]
     },
     "execution_count": null,
     "metadata": {},
     "output_type": "execute_result"
    }
   ],
   "source": [
    "show_doc(ggdModelDocumentation.open_questions, name=\"open_questions\", title_level=4)"
   ]
  },
  {
   "cell_type": "code",
   "execution_count": null,
   "metadata": {},
   "outputs": [
    {
     "data": {
      "text/markdown": [
       "---\n",
       "\n",
       "[source](https://github.com/dkgaraujo/gingado/blob/main/gingado/model_documentation.py#L119){target=\"_blank\" style=\"float:right; font-size:smaller\"}\n",
       "\n",
       "#### fill_model_info\n",
       "\n",
       ">      fill_model_info (model_info:str|dict,\n",
       ">                       model_info_keyname:str='model_details')\n",
       "\n",
       "Called automatically, or by the user, to add model information to the documentation according to its template\n",
       "\n",
       "|    | **Type** | **Default** | **Details** |\n",
       "| -- | -------- | ----------- | ----------- |\n",
       "| model_info | str \\| dict |  | Information about the model to be added in the documentation |\n",
       "| model_info_keyname | str | model_details | Dictionary key in the Documenter template to which this information should be linked |"
      ],
      "text/plain": [
       "---\n",
       "\n",
       "[source](https://github.com/dkgaraujo/gingado/blob/main/gingado/model_documentation.py#L119){target=\"_blank\" style=\"float:right; font-size:smaller\"}\n",
       "\n",
       "#### fill_model_info\n",
       "\n",
       ">      fill_model_info (model_info:str|dict,\n",
       ">                       model_info_keyname:str='model_details')\n",
       "\n",
       "Called automatically, or by the user, to add model information to the documentation according to its template\n",
       "\n",
       "|    | **Type** | **Default** | **Details** |\n",
       "| -- | -------- | ----------- | ----------- |\n",
       "| model_info | str \\| dict |  | Information about the model to be added in the documentation |\n",
       "| model_info_keyname | str | model_details | Dictionary key in the Documenter template to which this information should be linked |"
      ]
     },
     "execution_count": null,
     "metadata": {},
     "output_type": "execute_result"
    }
   ],
   "source": [
    "show_doc(ggdModelDocumentation.fill_model_info, name=\"fill_model_info\", title_level=4)"
   ]
  },
  {
   "cell_type": "code",
   "execution_count": null,
   "metadata": {},
   "outputs": [
    {
     "data": {
      "text/markdown": [
       "---\n",
       "\n",
       "[source](https://github.com/dkgaraujo/gingado/blob/main/gingado/model_documentation.py#L72){target=\"_blank\" style=\"float:right; font-size:smaller\"}\n",
       "\n",
       "#### fill_info\n",
       "\n",
       ">      fill_info (new_info:dict)\n",
       "\n",
       "Include infomation in model documentation\n",
       "\n",
       "|    | **Type** | **Details** |\n",
       "| -- | -------- | ----------- |\n",
       "| new_info | dict | Dictionary with information to be added to the model documentation |"
      ],
      "text/plain": [
       "---\n",
       "\n",
       "[source](https://github.com/dkgaraujo/gingado/blob/main/gingado/model_documentation.py#L72){target=\"_blank\" style=\"float:right; font-size:smaller\"}\n",
       "\n",
       "#### fill_info\n",
       "\n",
       ">      fill_info (new_info:dict)\n",
       "\n",
       "Include infomation in model documentation\n",
       "\n",
       "|    | **Type** | **Details** |\n",
       "| -- | -------- | ----------- |\n",
       "| new_info | dict | Dictionary with information to be added to the model documentation |"
      ]
     },
     "execution_count": null,
     "metadata": {},
     "output_type": "execute_result"
    }
   ],
   "source": [
    "show_doc(ggdModelDocumentation.fill_info, name=\"fill_info\", title_level=4)"
   ]
  },
  {
   "cell_type": "code",
   "execution_count": null,
   "metadata": {},
   "outputs": [],
   "source": [
    "#| include: false\n",
    "#| export\n",
    "from gingado.utils import get_datetime"
   ]
  },
  {
   "cell_type": "markdown",
   "metadata": {},
   "source": [
    "# Documenters\n",
    "\n",
    "## ModelCard\n",
    "\n",
    "`ModelCard` - the model documentation template inspired by the work of @ModelCards already comes with `gingado`. Its template can be used by users as is, or tweaked according to each need. The `ModelCard` template can also serve as inspiration for any custom documentation needs. Users with documentation needs beyond the out-of-the-box solutions provided by `gingado` can create their own class of Documenters (more information on that below), and compatibility with these custom documentation routines with the rest of the code is ensured. Users are encouraged to submit a pull request with their own documentation models subclassing `ggdModelDocumentation` if these custom templates can also benefit other users."
   ]
  },
  {
   "cell_type": "code",
   "execution_count": null,
   "metadata": {},
   "outputs": [],
   "source": [
    "#| include: false\n",
    "#| export\n",
    "\n",
    "class ModelCard(ggdModelDocumentation):\n",
    "    \"A gingado Documenter based on @ModelCards\"\n",
    "    template = {\n",
    "        \"model_details\": {\n",
    "            \"field_description\": \"Basic information about the model\",\n",
    "            \"developer\": \"Person or organisation developing the model\",\n",
    "            \"datetime\": \"Model date\",\n",
    "            \"version\": \"Model version\",\n",
    "            \"type\": \"Model type\",\n",
    "            \"info\": \"Information about training algorithms, parameters, fairness constraints or other applied approaches, and features\",\n",
    "            \"paper\": \"Paper or other resource for more information\",\n",
    "            \"citation\": \"Citation details\",\n",
    "            \"license\": \"License\",\n",
    "            \"contact\": \"Where to send questions or comments about the model\"\n",
    "        },\n",
    "        \"intended_use\": {\n",
    "            \"field_description\": \"Use cases that were envisioned during development\",\n",
    "            \"primary_uses\": \"Primary intended uses\",\n",
    "            \"primary_users\": \"Primary intended users\",\n",
    "            \"out_of_scope\": \"Out-of-scope use cases\"\n",
    "        },\n",
    "        \"factors\": {\n",
    "            \"field_description\": \"Factors could include demographic or phenotypic groups, environmental conditions, technical attributes, or others\",\n",
    "            \"relevant\": \"Relevant factors\",\n",
    "            \"evaluation\": \"Evaluation factors\" \n",
    "        },\n",
    "        \"metrics\": {\n",
    "            \"field_description\": \"Metrics should be chosen to reflect potential real world impacts of the model\",\n",
    "            \"performance_measures\": \"Model performance measures\",\n",
    "            \"thresholds\": \"Decision thresholds\",\n",
    "            \"variation_approaches\": \"Variation approaches\"\n",
    "        },\n",
    "        \"evaluation_data\": {\n",
    "            \"field_description\": \"Details on the dataset(s) used for the quantitative analyses in the documentation\",\n",
    "            \"datasets\": \"Datasets\",\n",
    "            \"motivation\": \"Motivation\",\n",
    "            \"preprocessing\": \"Preprocessing\"\n",
    "        },\n",
    "        \"training_data\": {\n",
    "            \"field_description\": \"May not be possible to provide in practice. When possible, this section should mirror 'Evaluation Data'. If such detail is not possible, minimal allowable information should be provided here, such as details of the distribution over various factors in the training datasets.\",\n",
    "            \"training_data\": \"Information on training data\"\n",
    "        },\n",
    "        \"quant_analyses\": {\n",
    "            \"field_description\": \"Quantitative Analyses\",\n",
    "            \"unitary\": \"Unitary results\",\n",
    "            \"intersectional\": \"Intersectional results\"\n",
    "        },\n",
    "        \"ethical_considerations\": {\n",
    "            \"field_description\": \"Ethical considerations that went into model development, surfacing ethical challenges and solutions to stakeholders. Ethical analysis does not always lead to precise solutions, but the process of ethical contemplation is worthwhile to inform on responsible practices and next steps in future work.\",\n",
    "            \"sensitive_data\": \"Does the model use any sensitive data (e.g., protected classes)?\",\n",
    "            \"human_life\": \"Is the model intended to inform decisions about matters central to human life or flourishing - e.g., health or safety? Or could it be used in such a way?\",\n",
    "            \"mitigations\": \"What risk mitigation strategies were used during model development?\",\n",
    "            \"risks_and_harms\": \"What risks may be present in model usage? Try to identify the potential recipients,likelihood, and magnitude of harms. If these cannot be determined, note that they were considered but remain unknown\",\n",
    "            \"use_cases\": \"Are there any known model use cases that are especially fraught?\",\n",
    "            \"additional_information\": \"If possible, this section should also include any additional ethical considerations that went into model development, for example, review by an external board, or testing with a specific community.\"\n",
    "        },\n",
    "        \"caveats_recommendations\": {\n",
    "            \"field_description\": \"Additional concerns that were not covered in the previous sections\",\n",
    "            \"caveats\": \"For example, did the results suggest any further testing? Were there any relevant groups that were not represented in the evaluation dataset?\",\n",
    "            \"recommendations\": \"Are there additional recommendations for model use? What are the ideal characteristics of an evaluation dataset for this model?\"\n",
    "        }\n",
    "    }\n",
    "\n",
    "    def __init__(\n",
    "        self,\n",
    "        file_path:str=\"\", # Path for the JSON file with the documentation\n",
    "        autofill:bool=True, # Whether the Documenter object should autofill when created\n",
    "        indent_level:int|None=2 # Level of indentation during serialisation to JSON\n",
    "        ):\n",
    "        self.file_path = file_path\n",
    "        self.autofill = autofill\n",
    "        self.indent_level = indent_level\n",
    "        self.setup_template()\n",
    "        if self.autofill:\n",
    "            self.autofill_template()            \n",
    "\n",
    "    def autofill_template(self):\n",
    "        \"Create an empty model card template, then fills it with information that is automatically obtained from the system\"\n",
    "        auto_info = {\n",
    "            'model_details': {\n",
    "                'datetime': get_datetime()\n",
    "            }\n",
    "        }\n",
    "        self.fill_info(auto_info)"
   ]
  },
  {
   "cell_type": "markdown",
   "metadata": {},
   "source": [
    "Like all `gingado` Documenters, a `ModelCard` is can be easily created on a standalone basis as shown below, or as part of a `gingado.ggdBenchmark` object."
   ]
  },
  {
   "cell_type": "code",
   "execution_count": null,
   "metadata": {},
   "outputs": [],
   "source": [
    "model_doc = ModelCard()"
   ]
  },
  {
   "cell_type": "markdown",
   "metadata": {},
   "source": [
    "By default, it autofills the template with the current date and time. Users can add other information to be automatically added by a customised Documenter object."
   ]
  },
  {
   "cell_type": "code",
   "execution_count": null,
   "metadata": {},
   "outputs": [],
   "source": [
    "model_doc_with_autofill = ModelCard(autofill=True)\n",
    "model_doc_no_autofill = ModelCard(autofill=False)"
   ]
  },
  {
   "cell_type": "markdown",
   "metadata": {},
   "source": [
    "Below is a comparison of the `model_details` section of the model document, with and without the autofill."
   ]
  },
  {
   "cell_type": "code",
   "execution_count": null,
   "metadata": {},
   "outputs": [
    {
     "data": {
      "text/plain": [
       "{'developer': 'Person or organisation developing the model',\n",
       " 'datetime': '2023-06-22 09:05:40 ',\n",
       " 'version': 'Model version',\n",
       " 'type': 'Model type',\n",
       " 'info': 'Information about training algorithms, parameters, fairness constraints or other applied approaches, and features',\n",
       " 'paper': 'Paper or other resource for more information',\n",
       " 'citation': 'Citation details',\n",
       " 'license': 'License',\n",
       " 'contact': 'Where to send questions or comments about the model'}"
      ]
     },
     "execution_count": null,
     "metadata": {},
     "output_type": "execute_result"
    }
   ],
   "source": [
    "model_doc_with_autofill.show_json()['model_details']"
   ]
  },
  {
   "cell_type": "code",
   "execution_count": null,
   "metadata": {},
   "outputs": [
    {
     "data": {
      "text/plain": [
       "{'developer': 'Person or organisation developing the model',\n",
       " 'datetime': 'Model date',\n",
       " 'version': 'Model version',\n",
       " 'type': 'Model type',\n",
       " 'info': 'Information about training algorithms, parameters, fairness constraints or other applied approaches, and features',\n",
       " 'paper': 'Paper or other resource for more information',\n",
       " 'citation': 'Citation details',\n",
       " 'license': 'License',\n",
       " 'contact': 'Where to send questions or comments about the model'}"
      ]
     },
     "execution_count": null,
     "metadata": {},
     "output_type": "execute_result"
    }
   ],
   "source": [
    "model_doc_no_autofill.show_json()['model_details']"
   ]
  },
  {
   "cell_type": "code",
   "execution_count": null,
   "metadata": {},
   "outputs": [
    {
     "data": {
      "text/markdown": [
       "---\n",
       "\n",
       "[source](https://github.com/dkgaraujo/gingado/blob/main/gingado/model_documentation.py#L132){target=\"_blank\" style=\"float:right; font-size:smaller\"}\n",
       "\n",
       "### ModelCard\n",
       "\n",
       ">      ModelCard (file_path='', autofill=True, indent_level=2)\n",
       "\n",
       "A gingado Documenter based on @ModelCards"
      ],
      "text/plain": [
       "---\n",
       "\n",
       "[source](https://github.com/dkgaraujo/gingado/blob/main/gingado/model_documentation.py#L132){target=\"_blank\" style=\"float:right; font-size:smaller\"}\n",
       "\n",
       "### ModelCard\n",
       "\n",
       ">      ModelCard (file_path='', autofill=True, indent_level=2)\n",
       "\n",
       "A gingado Documenter based on @ModelCards"
      ]
     },
     "execution_count": null,
     "metadata": {},
     "output_type": "execute_result"
    }
   ],
   "source": [
    "show_doc(ModelCard)"
   ]
  },
  {
   "cell_type": "code",
   "execution_count": null,
   "metadata": {},
   "outputs": [
    {
     "data": {
      "text/markdown": [
       "---\n",
       "\n",
       "[source](https://github.com/dkgaraujo/gingado/blob/main/gingado/model_documentation.py#L213){target=\"_blank\" style=\"float:right; font-size:smaller\"}\n",
       "\n",
       "#### autofill_template\n",
       "\n",
       ">      autofill_template ()\n",
       "\n",
       "Create an empty model card template, then fills it with information that is automatically obtained from the system"
      ],
      "text/plain": [
       "---\n",
       "\n",
       "[source](https://github.com/dkgaraujo/gingado/blob/main/gingado/model_documentation.py#L213){target=\"_blank\" style=\"float:right; font-size:smaller\"}\n",
       "\n",
       "#### autofill_template\n",
       "\n",
       ">      autofill_template ()\n",
       "\n",
       "Create an empty model card template, then fills it with information that is automatically obtained from the system"
      ]
     },
     "execution_count": null,
     "metadata": {},
     "output_type": "execute_result"
    }
   ],
   "source": [
    "show_doc(ModelCard.autofill_template, name=\"autofill_template\", title_level=4)"
   ]
  },
  {
   "cell_type": "markdown",
   "metadata": {},
   "source": [
    "## ForecastCard\n",
    "\n",
    "`ForecastCard` is a model documentation template inspired by @ModelCards, but with fields that are more specifically targeted towards forecasting or nowcasting use cases."
   ]
  },
  {
   "cell_type": "code",
   "execution_count": null,
   "metadata": {},
   "outputs": [],
   "source": [
    "#| include: false\n",
    "#| export\n",
    "\n",
    "class ForecastCard(ggdModelDocumentation):\n",
    "    \"A gingado Documenter for forecasting or nowcasting use cases\"\n",
    "    template = {\n",
    "        \"model_details\": {\n",
    "            \"field_description\": \"Basic information about the model\",\n",
    "            \"variable\": \"Variable(s) being forecasted or nowcasted\",\n",
    "            \"jurisdiction\": \"Jurisdiction(s) of the variable being forecasted or nowcasted\",\n",
    "            \"developer\": \"Person or organisation developing the model\",\n",
    "            \"datetime\": \"Model date\",\n",
    "            \"version\": \"Model version\",\n",
    "            \"type\": \"Model type\",\n",
    "            \"pipeline\": \"Description of the pipeline steps being used\",\n",
    "            \"info\": \"Information about training algorithms, parameters, fairness constraints or other applied approaches, and features\",\n",
    "            \"econometric_model\": \"Information about the econometric model or technique\",\n",
    "            \"paper\": \"Paper or other resource for more information\",\n",
    "            \"citation\": \"Citation details\",\n",
    "            \"license\": \"License\",\n",
    "            \"contact\": \"Where to send questions or comments about the model\"\n",
    "        },\n",
    "        \"intended_use\": {\n",
    "            \"field_description\": \"Use cases that were envisioned during development\",\n",
    "            \"primary_uses\": \"Primary intended uses\",\n",
    "            \"primary_users\": \"Primary intended users\",\n",
    "            \"out_of_scope\": \"Out-of-scope use cases\"\n",
    "        },\n",
    "        \"factors\": {\n",
    "            \"field_description\": \"Factors could include demographic or phenotypic groups, environmental conditions, technical attributes, or others\",\n",
    "            \"relevant\": \"Relevant factors\",\n",
    "            \"evaluation\": \"Evaluation factors\" \n",
    "        },\n",
    "        \"metrics\": {\n",
    "            \"field_description\": \"Metrics should be chosen to reflect potential real world impacts of the model\",\n",
    "            \"performance_measures\": \"Model performance measures\",\n",
    "            \"estimation_approaches\": \"How are the evaluation metrics calculated? Include information on the cross-validation approach, if used\"\n",
    "        },\n",
    "        \"data\": {\n",
    "            \"field_description\": \"Details on the dataset(s) used for the training and evaluation of the model\",\n",
    "            \"datasets\": \"Datasets\",\n",
    "            \"preprocessing\": \"Preprocessing\",\n",
    "            \"cutoff_date\": \"Cut-off date that separates training from evaluation data\"\n",
    "        },\n",
    "        \"ethical_considerations\": {\n",
    "            \"field_description\": \"Ethical considerations that went into model development, surfacing ethical challenges and solutions to stakeholders. Ethical analysis does not always lead to precise solutions, but the process of ethical contemplation is worthwhile to inform on responsible practices and next steps in future work.\",\n",
    "            \"sensitive_data\": \"Does the model use any sensitive data (e.g., protected classes)?\",\n",
    "            \"risks_and_harms\": \"What risks may be present in model usage? Try to identify the potential recipients, likelihood, and magnitude of harms. If these cannot be determined, note that they were considered but remain unknown\",\n",
    "            \"use_cases\": \"Are there any known model use cases that are especially fraught?\",\n",
    "            \"additional_information\": \"If possible, this section should also include any additional ethical considerations that went into model development, for example, review by an external board, or testing with a specific community.\"\n",
    "        },\n",
    "        \"caveats_recommendations\": {\n",
    "            \"field_description\": \"Additional concerns that were not covered in the previous sections\",\n",
    "            \"caveats\": \"For example, did the results suggest any further testing? Were there any relevant groups that were not represented in the evaluation dataset?\",\n",
    "            \"recommendations\": \"Are there additional recommendations for model use? What are the ideal characteristics of an evaluation dataset for this model?\"\n",
    "        }\n",
    "    }\n",
    "\n",
    "    def __init__(self,\n",
    "        file_path:str=\"\", # Path for the JSON file with the documentation\n",
    "        autofill:bool=True, # Whether the Documenter object should autofill when created\n",
    "        indent_level:int|None=2 # Level of indentation during serialisation to JSON\n",
    "        ):\n",
    "        self.file_path = file_path\n",
    "        self.autofill = autofill\n",
    "        self.indent_level = indent_level\n",
    "        self.setup_template()\n",
    "        if self.autofill:\n",
    "            self.autofill_template()            \n",
    "\n",
    "    def autofill_template(self):\n",
    "        \"Create an empty model card template, then fills it with information that is automatically obtained from the system\"\n",
    "        auto_info = {\n",
    "            'model_details': {\n",
    "                'datetime': get_datetime()\n",
    "            }\n",
    "        }\n",
    "        self.fill_info(auto_info)"
   ]
  },
  {
   "cell_type": "markdown",
   "metadata": {},
   "source": [
    "Because a `ForecastCard` Documenter object is targeted to forecasting and nowcasting models, it contains some specialised fields, as illustrated below."
   ]
  },
  {
   "cell_type": "code",
   "execution_count": null,
   "metadata": {},
   "outputs": [
    {
     "name": "stdout",
     "output_type": "stream",
     "text": [
      "{\n",
      "  \"model_details\": {\n",
      "    \"field_description\": \"Basic information about the model\",\n",
      "    \"variable\": \"Variable(s) being forecasted or nowcasted\",\n",
      "    \"jurisdiction\": \"Jurisdiction(s) of the variable being forecasted or nowcasted\",\n",
      "    \"developer\": \"Person or organisation developing the model\",\n",
      "    \"datetime\": \"Model date\",\n",
      "    \"version\": \"Model version\",\n",
      "    \"type\": \"Model type\",\n",
      "    \"pipeline\": \"Description of the pipeline steps being used\",\n",
      "    \"info\": \"Information about training algorithms, parameters, fairness constraints or other applied approaches, and features\",\n",
      "    \"econometric_model\": \"Information about the econometric model or technique\",\n",
      "    \"paper\": \"Paper or other resource for more information\",\n",
      "    \"citation\": \"Citation details\",\n",
      "    \"license\": \"License\",\n",
      "    \"contact\": \"Where to send questions or comments about the model\"\n",
      "  },\n",
      "  \"intended_use\": {\n",
      "    \"field_description\": \"Use cases that were envisioned during development\",\n",
      "    \"primary_uses\": \"Primary intended uses\",\n",
      "    \"primary_users\": \"Primary intended users\",\n",
      "    \"out_of_scope\": \"Out-of-scope use cases\"\n",
      "  },\n",
      "  \"factors\": {\n",
      "    \"field_description\": \"Factors could include demographic or phenotypic groups, environmental conditions, technical attributes, or others\",\n",
      "    \"relevant\": \"Relevant factors\",\n",
      "    \"evaluation\": \"Evaluation factors\"\n",
      "  },\n",
      "  \"metrics\": {\n",
      "    \"field_description\": \"Metrics should be chosen to reflect potential real world impacts of the model\",\n",
      "    \"performance_measures\": \"Model performance measures\",\n",
      "    \"estimation_approaches\": \"How are the evaluation metrics calculated? Include information on the cross-validation approach, if used\"\n",
      "  },\n",
      "  \"data\": {\n",
      "    \"field_description\": \"Details on the dataset(s) used for the training and evaluation of the model\",\n",
      "    \"datasets\": \"Datasets\",\n",
      "    \"preprocessing\": \"Preprocessing\",\n",
      "    \"cutoff_date\": \"Cut-off date that separates training from evaluation data\"\n",
      "  },\n",
      "  \"ethical_considerations\": {\n",
      "    \"field_description\": \"Ethical considerations that went into model development, surfacing ethical challenges and solutions to stakeholders. Ethical analysis does not always lead to precise solutions, but the process of ethical contemplation is worthwhile to inform on responsible practices and next steps in future work.\",\n",
      "    \"sensitive_data\": \"Does the model use any sensitive data (e.g., protected classes)?\",\n",
      "    \"risks_and_harms\": \"What risks may be present in model usage? Try to identify the potential recipients, likelihood, and magnitude of harms. If these cannot be determined, note that they were considered but remain unknown\",\n",
      "    \"use_cases\": \"Are there any known model use cases that are especially fraught?\",\n",
      "    \"additional_information\": \"If possible, this section should also include any additional ethical considerations that went into model development, for example, review by an external board, or testing with a specific community.\"\n",
      "  },\n",
      "  \"caveats_recommendations\": {\n",
      "    \"field_description\": \"Additional concerns that were not covered in the previous sections\",\n",
      "    \"caveats\": \"For example, did the results suggest any further testing? Were there any relevant groups that were not represented in the evaluation dataset?\",\n",
      "    \"recommendations\": \"Are there additional recommendations for model use? What are the ideal characteristics of an evaluation dataset for this model?\"\n",
      "  }\n",
      "}\n"
     ]
    }
   ],
   "source": [
    "model_doc = ForecastCard()\n",
    "\n",
    "model_doc.show_template()"
   ]
  },
  {
   "cell_type": "code",
   "execution_count": null,
   "metadata": {},
   "outputs": [
    {
     "data": {
      "text/plain": [
       "{'model_details': {'variable': 'Variable(s) being forecasted or nowcasted',\n",
       "  'jurisdiction': 'Jurisdiction(s) of the variable being forecasted or nowcasted',\n",
       "  'developer': 'Person or organisation developing the model',\n",
       "  'datetime': '2023-06-22 09:05:40 ',\n",
       "  'version': 'Model version',\n",
       "  'type': 'Model type',\n",
       "  'pipeline': 'Description of the pipeline steps being used',\n",
       "  'info': 'Information about training algorithms, parameters, fairness constraints or other applied approaches, and features',\n",
       "  'econometric_model': 'Information about the econometric model or technique',\n",
       "  'paper': 'Paper or other resource for more information',\n",
       "  'citation': 'Citation details',\n",
       "  'license': 'License',\n",
       "  'contact': 'Where to send questions or comments about the model'},\n",
       " 'intended_use': {'primary_uses': 'Primary intended uses',\n",
       "  'primary_users': 'Primary intended users',\n",
       "  'out_of_scope': 'Out-of-scope use cases'},\n",
       " 'factors': {'relevant': 'Relevant factors',\n",
       "  'evaluation': 'Evaluation factors'},\n",
       " 'metrics': {'performance_measures': 'Model performance measures',\n",
       "  'estimation_approaches': 'How are the evaluation metrics calculated? Include information on the cross-validation approach, if used'},\n",
       " 'data': {'datasets': 'Datasets',\n",
       "  'preprocessing': 'Preprocessing',\n",
       "  'cutoff_date': 'Cut-off date that separates training from evaluation data'},\n",
       " 'ethical_considerations': {'sensitive_data': 'Does the model use any sensitive data (e.g., protected classes)?',\n",
       "  'risks_and_harms': 'What risks may be present in model usage? Try to identify the potential recipients, likelihood, and magnitude of harms. If these cannot be determined, note that they were considered but remain unknown',\n",
       "  'use_cases': 'Are there any known model use cases that are especially fraught?',\n",
       "  'additional_information': 'If possible, this section should also include any additional ethical considerations that went into model development, for example, review by an external board, or testing with a specific community.'},\n",
       " 'caveats_recommendations': {'caveats': 'For example, did the results suggest any further testing? Were there any relevant groups that were not represented in the evaluation dataset?',\n",
       "  'recommendations': 'Are there additional recommendations for model use? What are the ideal characteristics of an evaluation dataset for this model?'}}"
      ]
     },
     "execution_count": null,
     "metadata": {},
     "output_type": "execute_result"
    }
   ],
   "source": [
    "model_doc.show_json()"
   ]
  },
  {
   "cell_type": "code",
   "execution_count": null,
   "metadata": {},
   "outputs": [
    {
     "data": {
      "text/markdown": [
       "---\n",
       "\n",
       "[source](https://github.com/dkgaraujo/gingado/blob/main/gingado/model_documentation.py#L232){target=\"_blank\" style=\"float:right; font-size:smaller\"}\n",
       "\n",
       "### ForecastCard\n",
       "\n",
       ">      ForecastCard (file_path='', autofill=True, indent_level=2)\n",
       "\n",
       "A gingado Documenter for forecasting or nowcasting use cases"
      ],
      "text/plain": [
       "---\n",
       "\n",
       "[source](https://github.com/dkgaraujo/gingado/blob/main/gingado/model_documentation.py#L232){target=\"_blank\" style=\"float:right; font-size:smaller\"}\n",
       "\n",
       "### ForecastCard\n",
       "\n",
       ">      ForecastCard (file_path='', autofill=True, indent_level=2)\n",
       "\n",
       "A gingado Documenter for forecasting or nowcasting use cases"
      ]
     },
     "execution_count": null,
     "metadata": {},
     "output_type": "execute_result"
    }
   ],
   "source": [
    "show_doc(ForecastCard)"
   ]
  },
  {
   "cell_type": "code",
   "execution_count": null,
   "metadata": {},
   "outputs": [
    {
     "data": {
      "text/markdown": [
       "---\n",
       "\n",
       "[source](https://github.com/dkgaraujo/gingado/blob/main/gingado/model_documentation.py#L301){target=\"_blank\" style=\"float:right; font-size:smaller\"}\n",
       "\n",
       "#### autofill_template\n",
       "\n",
       ">      autofill_template ()\n",
       "\n",
       "Create an empty model card template, then fills it with information that is automatically obtained from the system"
      ],
      "text/plain": [
       "---\n",
       "\n",
       "[source](https://github.com/dkgaraujo/gingado/blob/main/gingado/model_documentation.py#L301){target=\"_blank\" style=\"float:right; font-size:smaller\"}\n",
       "\n",
       "#### autofill_template\n",
       "\n",
       ">      autofill_template ()\n",
       "\n",
       "Create an empty model card template, then fills it with information that is automatically obtained from the system"
      ]
     },
     "execution_count": null,
     "metadata": {},
     "output_type": "execute_result"
    }
   ],
   "source": [
    "show_doc(ForecastCard.autofill_template, name=\"autofill_template\", title_level=4)"
   ]
  },
  {
   "cell_type": "markdown",
   "metadata": {},
   "source": [
    "# Basic functioning of model documentation\n",
    "\n",
    "After a Documenter object, such as `ModelCard` or `ForecastCard` is instanciated, the user can see the underlying template with the module `show_template`, as below:"
   ]
  },
  {
   "cell_type": "code",
   "execution_count": null,
   "metadata": {},
   "outputs": [
    {
     "name": "stdout",
     "output_type": "stream",
     "text": [
      "{\n",
      "  \"model_details\": {\n",
      "    \"field_description\": \"Basic information about the model\",\n",
      "    \"developer\": \"Person or organisation developing the model\",\n",
      "    \"datetime\": \"Model date\",\n",
      "    \"version\": \"Model version\",\n",
      "    \"type\": \"Model type\",\n",
      "    \"info\": \"Information about training algorithms, parameters, fairness constraints or other applied approaches, and features\",\n",
      "    \"paper\": \"Paper or other resource for more information\",\n",
      "    \"citation\": \"Citation details\",\n",
      "    \"license\": \"License\",\n",
      "    \"contact\": \"Where to send questions or comments about the model\"\n",
      "  },\n",
      "  \"intended_use\": {\n",
      "    \"field_description\": \"Use cases that were envisioned during development\",\n",
      "    \"primary_uses\": \"Primary intended uses\",\n",
      "    \"primary_users\": \"Primary intended users\",\n",
      "    \"out_of_scope\": \"Out-of-scope use cases\"\n",
      "  },\n",
      "  \"factors\": {\n",
      "    \"field_description\": \"Factors could include demographic or phenotypic groups, environmental conditions, technical attributes, or others\",\n",
      "    \"relevant\": \"Relevant factors\",\n",
      "    \"evaluation\": \"Evaluation factors\"\n",
      "  },\n",
      "  \"metrics\": {\n",
      "    \"field_description\": \"Metrics should be chosen to reflect potential real world impacts of the model\",\n",
      "    \"performance_measures\": \"Model performance measures\",\n",
      "    \"thresholds\": \"Decision thresholds\",\n",
      "    \"variation_approaches\": \"Variation approaches\"\n",
      "  },\n",
      "  \"evaluation_data\": {\n",
      "    \"field_description\": \"Details on the dataset(s) used for the quantitative analyses in the documentation\",\n",
      "    \"datasets\": \"Datasets\",\n",
      "    \"motivation\": \"Motivation\",\n",
      "    \"preprocessing\": \"Preprocessing\"\n",
      "  },\n",
      "  \"training_data\": {\n",
      "    \"field_description\": \"May not be possible to provide in practice. When possible, this section should mirror 'Evaluation Data'. If such detail is not possible, minimal allowable information should be provided here, such as details of the distribution over various factors in the training datasets.\",\n",
      "    \"training_data\": \"Information on training data\"\n",
      "  },\n",
      "  \"quant_analyses\": {\n",
      "    \"field_description\": \"Quantitative Analyses\",\n",
      "    \"unitary\": \"Unitary results\",\n",
      "    \"intersectional\": \"Intersectional results\"\n",
      "  },\n",
      "  \"ethical_considerations\": {\n",
      "    \"field_description\": \"Ethical considerations that went into model development, surfacing ethical challenges and solutions to stakeholders. Ethical analysis does not always lead to precise solutions, but the process of ethical contemplation is worthwhile to inform on responsible practices and next steps in future work.\",\n",
      "    \"sensitive_data\": \"Does the model use any sensitive data (e.g., protected classes)?\",\n",
      "    \"human_life\": \"Is the model intended to inform decisions about matters central to human life or flourishing - e.g., health or safety? Or could it be used in such a way?\",\n",
      "    \"mitigations\": \"What risk mitigation strategies were used during model development?\",\n",
      "    \"risks_and_harms\": \"What risks may be present in model usage? Try to identify the potential recipients,likelihood, and magnitude of harms. If these cannot be determined, note that they were considered but remain unknown\",\n",
      "    \"use_cases\": \"Are there any known model use cases that are especially fraught?\",\n",
      "    \"additional_information\": \"If possible, this section should also include any additional ethical considerations that went into model development, for example, review by an external board, or testing with a specific community.\"\n",
      "  },\n",
      "  \"caveats_recommendations\": {\n",
      "    \"field_description\": \"Additional concerns that were not covered in the previous sections\",\n",
      "    \"caveats\": \"For example, did the results suggest any further testing? Were there any relevant groups that were not represented in the evaluation dataset?\",\n",
      "    \"recommendations\": \"Are there additional recommendations for model use? What are the ideal characteristics of an evaluation dataset for this model?\"\n",
      "  }\n",
      "}\n"
     ]
    }
   ],
   "source": [
    "model_doc = ModelCard(autofill=False)\n",
    "assert model_doc.show_template(indent=False) == ModelCard.template\n",
    "\n",
    "model_doc.show_template()"
   ]
  },
  {
   "cell_type": "markdown",
   "metadata": {},
   "source": [
    "The method `show_json` prints the Documenter's documentation template, where the unfilled information retains the descriptions from the original template:"
   ]
  },
  {
   "cell_type": "code",
   "execution_count": null,
   "metadata": {},
   "outputs": [
    {
     "data": {
      "text/plain": [
       "{'model_details': {'developer': 'Person or organisation developing the model',\n",
       "  'datetime': '2023-06-22 09:05:41 ',\n",
       "  'version': 'Model version',\n",
       "  'type': 'Model type',\n",
       "  'info': 'Information about training algorithms, parameters, fairness constraints or other applied approaches, and features',\n",
       "  'paper': 'Paper or other resource for more information',\n",
       "  'citation': 'Citation details',\n",
       "  'license': 'License',\n",
       "  'contact': 'Where to send questions or comments about the model'},\n",
       " 'intended_use': {'primary_uses': 'Primary intended uses',\n",
       "  'primary_users': 'Primary intended users',\n",
       "  'out_of_scope': 'Out-of-scope use cases'},\n",
       " 'factors': {'relevant': 'Relevant factors',\n",
       "  'evaluation': 'Evaluation factors'},\n",
       " 'metrics': {'performance_measures': 'Model performance measures',\n",
       "  'thresholds': 'Decision thresholds',\n",
       "  'variation_approaches': 'Variation approaches'},\n",
       " 'evaluation_data': {'datasets': 'Datasets',\n",
       "  'motivation': 'Motivation',\n",
       "  'preprocessing': 'Preprocessing'},\n",
       " 'training_data': {'training_data': 'Information on training data'},\n",
       " 'quant_analyses': {'unitary': 'Unitary results',\n",
       "  'intersectional': 'Intersectional results'},\n",
       " 'ethical_considerations': {'sensitive_data': 'Does the model use any sensitive data (e.g., protected classes)?',\n",
       "  'human_life': 'Is the model intended to inform decisions about matters central to human life or flourishing - e.g., health or safety? Or could it be used in such a way?',\n",
       "  'mitigations': 'What risk mitigation strategies were used during model development?',\n",
       "  'risks_and_harms': 'What risks may be present in model usage? Try to identify the potential recipients,likelihood, and magnitude of harms. If these cannot be determined, note that they were considered but remain unknown',\n",
       "  'use_cases': 'Are there any known model use cases that are especially fraught?',\n",
       "  'additional_information': 'If possible, this section should also include any additional ethical considerations that went into model development, for example, review by an external board, or testing with a specific community.'},\n",
       " 'caveats_recommendations': {'caveats': 'For example, did the results suggest any further testing? Were there any relevant groups that were not represented in the evaluation dataset?',\n",
       "  'recommendations': 'Are there additional recommendations for model use? What are the ideal characteristics of an evaluation dataset for this model?'}}"
      ]
     },
     "execution_count": null,
     "metadata": {},
     "output_type": "execute_result"
    }
   ],
   "source": [
    "model_doc = ModelCard(autofill=True)\n",
    "model_doc.show_json()"
   ]
  },
  {
   "cell_type": "markdown",
   "metadata": {},
   "source": [
    "The template is protected from editing once a Documenter has been created. This way, even if a user unwarrantedly changes the template, this does not interfere with the Documenter functionality."
   ]
  },
  {
   "cell_type": "code",
   "execution_count": null,
   "metadata": {},
   "outputs": [
    {
     "name": "stdout",
     "output_type": "stream",
     "text": [
      "{\n",
      "  \"model_details\": {\n",
      "    \"field_description\": \"Basic information about the model\",\n",
      "    \"developer\": \"Person or organisation developing the model\",\n",
      "    \"datetime\": \"Model date\",\n",
      "    \"version\": \"Model version\",\n",
      "    \"type\": \"Model type\",\n",
      "    \"info\": \"Information about training algorithms, parameters, fairness constraints or other applied approaches, and features\",\n",
      "    \"paper\": \"Paper or other resource for more information\",\n",
      "    \"citation\": \"Citation details\",\n",
      "    \"license\": \"License\",\n",
      "    \"contact\": \"Where to send questions or comments about the model\"\n",
      "  },\n",
      "  \"intended_use\": {\n",
      "    \"field_description\": \"Use cases that were envisioned during development\",\n",
      "    \"primary_uses\": \"Primary intended uses\",\n",
      "    \"primary_users\": \"Primary intended users\",\n",
      "    \"out_of_scope\": \"Out-of-scope use cases\"\n",
      "  },\n",
      "  \"factors\": {\n",
      "    \"field_description\": \"Factors could include demographic or phenotypic groups, environmental conditions, technical attributes, or others\",\n",
      "    \"relevant\": \"Relevant factors\",\n",
      "    \"evaluation\": \"Evaluation factors\"\n",
      "  },\n",
      "  \"metrics\": {\n",
      "    \"field_description\": \"Metrics should be chosen to reflect potential real world impacts of the model\",\n",
      "    \"performance_measures\": \"Model performance measures\",\n",
      "    \"thresholds\": \"Decision thresholds\",\n",
      "    \"variation_approaches\": \"Variation approaches\"\n",
      "  },\n",
      "  \"evaluation_data\": {\n",
      "    \"field_description\": \"Details on the dataset(s) used for the quantitative analyses in the documentation\",\n",
      "    \"datasets\": \"Datasets\",\n",
      "    \"motivation\": \"Motivation\",\n",
      "    \"preprocessing\": \"Preprocessing\"\n",
      "  },\n",
      "  \"training_data\": {\n",
      "    \"field_description\": \"May not be possible to provide in practice. When possible, this section should mirror 'Evaluation Data'. If such detail is not possible, minimal allowable information should be provided here, such as details of the distribution over various factors in the training datasets.\",\n",
      "    \"training_data\": \"Information on training data\"\n",
      "  },\n",
      "  \"quant_analyses\": {\n",
      "    \"field_description\": \"Quantitative Analyses\",\n",
      "    \"unitary\": \"Unitary results\",\n",
      "    \"intersectional\": \"Intersectional results\"\n",
      "  },\n",
      "  \"ethical_considerations\": {\n",
      "    \"field_description\": \"Ethical considerations that went into model development, surfacing ethical challenges and solutions to stakeholders. Ethical analysis does not always lead to precise solutions, but the process of ethical contemplation is worthwhile to inform on responsible practices and next steps in future work.\",\n",
      "    \"sensitive_data\": \"Does the model use any sensitive data (e.g., protected classes)?\",\n",
      "    \"human_life\": \"Is the model intended to inform decisions about matters central to human life or flourishing - e.g., health or safety? Or could it be used in such a way?\",\n",
      "    \"mitigations\": \"What risk mitigation strategies were used during model development?\",\n",
      "    \"risks_and_harms\": \"What risks may be present in model usage? Try to identify the potential recipients,likelihood, and magnitude of harms. If these cannot be determined, note that they were considered but remain unknown\",\n",
      "    \"use_cases\": \"Are there any known model use cases that are especially fraught?\",\n",
      "    \"additional_information\": \"If possible, this section should also include any additional ethical considerations that went into model development, for example, review by an external board, or testing with a specific community.\"\n",
      "  },\n",
      "  \"caveats_recommendations\": {\n",
      "    \"field_description\": \"Additional concerns that were not covered in the previous sections\",\n",
      "    \"caveats\": \"For example, did the results suggest any further testing? Were there any relevant groups that were not represented in the evaluation dataset?\",\n",
      "    \"recommendations\": \"Are there additional recommendations for model use? What are the ideal characteristics of an evaluation dataset for this model?\"\n",
      "  }\n",
      "}\n"
     ]
    }
   ],
   "source": [
    "model_doc.template = None\n",
    "model_doc.show_template()\n",
    "\n",
    "assert model_doc.show_template(indent=False) == ModelCard.template"
   ]
  },
  {
   "cell_type": "markdown",
   "metadata": {},
   "source": [
    "Users can find which fields in their templates are still open by using the module `open_questions`. The levels of the template are reflected in the resulting dictionary, with double underscores separating the different dictionary levels in the underlying template.\n",
    "\n",
    "Below we see that after inputting information for the item `caveats` in the section `caveats_recommendations`, this item does not appear in the results of the `open_questions` method."
   ]
  },
  {
   "cell_type": "code",
   "execution_count": null,
   "metadata": {},
   "outputs": [
    {
     "name": "stdout",
     "output_type": "stream",
     "text": [
      "['caveats_recommendations__recommendations']\n"
     ]
    }
   ],
   "source": [
    "model_doc.fill_info({'caveats_recommendations': {'caveats': 'This is another test'}})\n",
    "assert model_doc.json_doc['caveats_recommendations']['caveats'] == \"This is another test\"\n",
    "\n",
    "# note that caveats_recommendations__caveats is no longer considered an open question\n",
    "# after being filled in through `fill_info`.\n",
    "print([oq for oq in model_doc.open_questions() if oq.startswith('caveats')])"
   ]
  },
  {
   "cell_type": "markdown",
   "metadata": {},
   "source": [
    "And now the complete result of the `open_questions` method:"
   ]
  },
  {
   "cell_type": "code",
   "execution_count": null,
   "metadata": {},
   "outputs": [
    {
     "data": {
      "text/plain": [
       "['model_details__developer',\n",
       " 'model_details__version',\n",
       " 'model_details__type',\n",
       " 'model_details__info',\n",
       " 'model_details__paper',\n",
       " 'model_details__citation',\n",
       " 'model_details__license',\n",
       " 'model_details__contact',\n",
       " 'intended_use__primary_uses',\n",
       " 'intended_use__primary_users',\n",
       " 'intended_use__out_of_scope',\n",
       " 'factors__relevant',\n",
       " 'factors__evaluation',\n",
       " 'metrics__performance_measures',\n",
       " 'metrics__thresholds',\n",
       " 'metrics__variation_approaches',\n",
       " 'evaluation_data__datasets',\n",
       " 'evaluation_data__motivation',\n",
       " 'evaluation_data__preprocessing',\n",
       " 'training_data__training_data',\n",
       " 'quant_analyses__unitary',\n",
       " 'quant_analyses__intersectional',\n",
       " 'ethical_considerations__sensitive_data',\n",
       " 'ethical_considerations__human_life',\n",
       " 'ethical_considerations__mitigations',\n",
       " 'ethical_considerations__risks_and_harms',\n",
       " 'ethical_considerations__use_cases',\n",
       " 'ethical_considerations__additional_information',\n",
       " 'caveats_recommendations__recommendations']"
      ]
     },
     "execution_count": null,
     "metadata": {},
     "output_type": "execute_result"
    }
   ],
   "source": [
    "model_doc.open_questions()"
   ]
  },
  {
   "cell_type": "markdown",
   "metadata": {},
   "source": [
    "If the user wants to fill in an empty field such as the ones identified above by the method `open_questions`, the user simply needs to pass to the module `fill_info` a dictionary with the corresponding information. Depending on the template, the dictionary may be nested. \n",
    "\n",
    ":::{.callout-note}\n",
    "\n",
    "it is technically possible to attribute the element directly to the attribute `json_doc`, but this should be avoided in favour of using the method `fill_info`. The latter tests whether the new information is valid according to the documentation template and also enables filling of more than one question at the same time. In addition, attributing information directly to `json_doc` is not logged, and may unwarrantedly create new entries that are not part of the template (eg, if a new dictionary key is created due to typos).\n",
    "\n",
    ":::\n",
    "\n",
    "The template serves to provide specific instances of the Documenter object with a form-like structure, indicating which fields are open and thus require some answers or information. Consequently, the template does not change when the actual document object changes after information is added by `fill_info`."
   ]
  },
  {
   "cell_type": "code",
   "execution_count": null,
   "metadata": {},
   "outputs": [
    {
     "name": "stdout",
     "output_type": "stream",
     "text": [
      "[{'performance_measures': 'This is a test', 'thresholds': 'Decision thresholds', 'variation_approaches': 'Variation approaches'}, {'field_description': 'Metrics should be chosen to reflect potential real world impacts of the model', 'performance_measures': 'Model performance measures', 'thresholds': 'Decision thresholds', 'variation_approaches': 'Variation approaches'}]\n"
     ]
    }
   ],
   "source": [
    "new_info = {\n",
    "    'metrics': {'performance_measures': \"This is a test\"},\n",
    "    'caveats_recommendations': {'caveats': \"This is another test\"}\n",
    "    }\n",
    "\n",
    "model_doc.fill_info(new_info)\n",
    "print([model_doc.json_doc['metrics'], ModelCard.template['metrics']])\n",
    "\n",
    "assert model_doc.show_template(indent=False) == ModelCard.template"
   ]
  },
  {
   "cell_type": "markdown",
   "metadata": {},
   "source": [
    "# Reading information from models\n",
    "\n",
    "`gingado`'s `ggdModelDocumentation` base class is able to extract information from machine learning models from a number of widely used libraries and make it available to the Documenter objects. This is done through the method `read_model`, which recognises whether the model is a `gingado` object or any of `scikit-learn`, `keras`, or `fastai` models and read the model characteristics appropriately. For filing out information from other models (eg, `pytorch` or even models coded from scratch, machine learning or not), the user can benefit from the module `fill_model_info` that every Documenter should have, as demonstrated below.\n",
    "\n",
    "In the case of `ModelCard`, these informations are included under `model_details`, item `info`. But the model information could be saved in another area of a custom Documenter.\n",
    "\n",
    ":::{.callout-note}\n",
    "\n",
    "the model-specific information saved is different depending on the model's original library.\n",
    "\n",
    ":::"
   ]
  },
  {
   "cell_type": "markdown",
   "metadata": {},
   "source": [
    "## Preliminaries\n",
    "\n",
    "The mock dataset below is used to construct models using different libraries, to demonstrate how they are read by Documenters."
   ]
  },
  {
   "cell_type": "code",
   "execution_count": null,
   "metadata": {},
   "outputs": [],
   "source": [
    "from sklearn.datasets import make_classification"
   ]
  },
  {
   "cell_type": "code",
   "execution_count": null,
   "metadata": {},
   "outputs": [
    {
     "data": {
      "text/plain": [
       "((100, 20), (100,))"
      ]
     },
     "execution_count": null,
     "metadata": {},
     "output_type": "execute_result"
    }
   ],
   "source": [
    "# some mock up data\n",
    "X, y = make_classification()\n",
    "\n",
    "X.shape, y.shape"
   ]
  },
  {
   "cell_type": "markdown",
   "metadata": {},
   "source": [
    "## gingado Benchmark"
   ]
  },
  {
   "cell_type": "code",
   "execution_count": null,
   "metadata": {},
   "outputs": [],
   "source": [
    "from gingado.benchmark import ClassificationBenchmark"
   ]
  },
  {
   "cell_type": "code",
   "execution_count": null,
   "metadata": {},
   "outputs": [
    {
     "name": "stdout",
     "output_type": "stream",
     "text": [
      "Fitting 10 folds for each of 6 candidates, totalling 60 fits\n"
     ]
    }
   ],
   "source": [
    "# the gingado benchmark\n",
    "gingado_clf = ClassificationBenchmark(verbose_grid=1).fit(X, y)"
   ]
  },
  {
   "cell_type": "code",
   "execution_count": null,
   "metadata": {},
   "outputs": [
    {
     "name": "stdout",
     "output_type": "stream",
     "text": [
      "{'_estimator_type': 'classifier', 'best_estimator_': RandomForestClassifier(oob_score=True), 'best_index_': 0, 'best_params_': {'max_features': 'sqrt', 'n_estimators': 100}, 'best_score_': 0.99, 'classes_': array([0, 1]), 'cv_results_': {'mean_fit_time': array([0.13181503, 0.29619505, 0.1136914 , 0.28267403, 0.12027018,\n",
      "       0.29762466]), 'std_fit_time': array([0.01625579, 0.02733223, 0.00146566, 0.00806355, 0.0079422 ,\n",
      "       0.02163048]), 'mean_score_time': array([0.00838451, 0.01815953, 0.0072778 , 0.01760452, 0.00771282,\n",
      "       0.01794319]), 'std_score_time': array([0.0007298 , 0.00164848, 0.00029095, 0.00087866, 0.00064812,\n",
      "       0.00179062]), 'param_max_features': masked_array(data=['sqrt', 'sqrt', 'log2', 'log2', None, None],\n",
      "             mask=[False, False, False, False, False, False],\n",
      "       fill_value='?',\n",
      "            dtype=object), 'param_n_estimators': masked_array(data=[100, 250, 100, 250, 100, 250],\n",
      "             mask=[False, False, False, False, False, False],\n",
      "       fill_value='?',\n",
      "            dtype=object), 'params': [{'max_features': 'sqrt', 'n_estimators': 100}, {'max_features': 'sqrt', 'n_estimators': 250}, {'max_features': 'log2', 'n_estimators': 100}, {'max_features': 'log2', 'n_estimators': 250}, {'max_features': None, 'n_estimators': 100}, {'max_features': None, 'n_estimators': 250}], 'split0_test_score': array([0.9, 0.9, 0.9, 0.9, 0.9, 0.9]), 'split1_test_score': array([1., 1., 1., 1., 1., 1.]), 'split2_test_score': array([1., 1., 1., 1., 1., 1.]), 'split3_test_score': array([1., 1., 1., 1., 1., 1.]), 'split4_test_score': array([1., 1., 1., 1., 1., 1.]), 'split5_test_score': array([1., 1., 1., 1., 1., 1.]), 'split6_test_score': array([1., 1., 1., 1., 1., 1.]), 'split7_test_score': array([1., 1., 1., 1., 1., 1.]), 'split8_test_score': array([1., 1., 1., 1., 1., 1.]), 'split9_test_score': array([1., 1., 1., 1., 1., 1.]), 'mean_test_score': array([0.99, 0.99, 0.99, 0.99, 0.99, 0.99]), 'std_test_score': array([0.03, 0.03, 0.03, 0.03, 0.03, 0.03]), 'rank_test_score': array([1, 1, 1, 1, 1, 1], dtype=int32)}, 'multimetric_': False, 'n_features_in_': 20, 'n_splits_': 10, 'refit_time_': 0.13797831535339355, 'scorer_': <function _passthrough_scorer>}\n"
     ]
    }
   ],
   "source": [
    "# a new instance of ModelCard is created and used to document the model\n",
    "model_doc_gingado = ModelCard()\n",
    "model_doc_gingado.read_model(gingado_clf.benchmark)\n",
    "print(model_doc_gingado.show_json()['model_details']['info'])\n",
    "\n",
    "# but given that gingado Benchmark objects already document the best model at every fit, we can check that they are equal:\n",
    "assert model_doc_gingado.show_json()['model_details']['info'] == gingado_clf.model_documentation.show_json()['model_details']['info']"
   ]
  },
  {
   "cell_type": "markdown",
   "metadata": {},
   "source": [
    "## scikit-learn"
   ]
  },
  {
   "cell_type": "code",
   "execution_count": null,
   "metadata": {},
   "outputs": [],
   "source": [
    "from sklearn.ensemble import RandomForestClassifier"
   ]
  },
  {
   "cell_type": "code",
   "execution_count": null,
   "metadata": {},
   "outputs": [],
   "source": [
    "sklearn_clf = RandomForestClassifier().fit(X, y)"
   ]
  },
  {
   "cell_type": "code",
   "execution_count": null,
   "metadata": {},
   "outputs": [
    {
     "name": "stdout",
     "output_type": "stream",
     "text": [
      "{'_estimator_type': 'classifier', 'base_estimator_': DecisionTreeClassifier(), 'classes_': array([0, 1]), 'estimators_': [DecisionTreeClassifier(max_features='sqrt', random_state=644629283), DecisionTreeClassifier(max_features='sqrt', random_state=773222412), DecisionTreeClassifier(max_features='sqrt', random_state=172080181), DecisionTreeClassifier(max_features='sqrt', random_state=777314458), DecisionTreeClassifier(max_features='sqrt', random_state=890227001), DecisionTreeClassifier(max_features='sqrt', random_state=638760693), DecisionTreeClassifier(max_features='sqrt', random_state=221026659), DecisionTreeClassifier(max_features='sqrt', random_state=8390130), DecisionTreeClassifier(max_features='sqrt', random_state=432789656), DecisionTreeClassifier(max_features='sqrt', random_state=1972759968), DecisionTreeClassifier(max_features='sqrt', random_state=1576187512), DecisionTreeClassifier(max_features='sqrt', random_state=166168759), DecisionTreeClassifier(max_features='sqrt', random_state=1463202577), DecisionTreeClassifier(max_features='sqrt', random_state=1755000244), DecisionTreeClassifier(max_features='sqrt', random_state=1886503315), DecisionTreeClassifier(max_features='sqrt', random_state=1377389061), DecisionTreeClassifier(max_features='sqrt', random_state=594812349), DecisionTreeClassifier(max_features='sqrt', random_state=191490399), DecisionTreeClassifier(max_features='sqrt', random_state=2094686855), DecisionTreeClassifier(max_features='sqrt', random_state=1782311375), DecisionTreeClassifier(max_features='sqrt', random_state=375006184), DecisionTreeClassifier(max_features='sqrt', random_state=1886779260), DecisionTreeClassifier(max_features='sqrt', random_state=20598082), DecisionTreeClassifier(max_features='sqrt', random_state=1038188436), DecisionTreeClassifier(max_features='sqrt', random_state=1821597520), DecisionTreeClassifier(max_features='sqrt', random_state=850416929), DecisionTreeClassifier(max_features='sqrt', random_state=1853389052), DecisionTreeClassifier(max_features='sqrt', random_state=250119911), DecisionTreeClassifier(max_features='sqrt', random_state=1259325505), DecisionTreeClassifier(max_features='sqrt', random_state=76487423), DecisionTreeClassifier(max_features='sqrt', random_state=1409801089), DecisionTreeClassifier(max_features='sqrt', random_state=598699990), DecisionTreeClassifier(max_features='sqrt', random_state=76174600), DecisionTreeClassifier(max_features='sqrt', random_state=193904761), DecisionTreeClassifier(max_features='sqrt', random_state=1703822078), DecisionTreeClassifier(max_features='sqrt', random_state=1339222994), DecisionTreeClassifier(max_features='sqrt', random_state=2010201174), DecisionTreeClassifier(max_features='sqrt', random_state=1140435560), DecisionTreeClassifier(max_features='sqrt', random_state=752716613), DecisionTreeClassifier(max_features='sqrt', random_state=154000048), DecisionTreeClassifier(max_features='sqrt', random_state=834145348), DecisionTreeClassifier(max_features='sqrt', random_state=1512945615), DecisionTreeClassifier(max_features='sqrt', random_state=150048855), DecisionTreeClassifier(max_features='sqrt', random_state=1569930300), DecisionTreeClassifier(max_features='sqrt', random_state=847545530), DecisionTreeClassifier(max_features='sqrt', random_state=467086770), DecisionTreeClassifier(max_features='sqrt', random_state=904736232), DecisionTreeClassifier(max_features='sqrt', random_state=550161302), DecisionTreeClassifier(max_features='sqrt', random_state=1272240134), DecisionTreeClassifier(max_features='sqrt', random_state=1979934607), DecisionTreeClassifier(max_features='sqrt', random_state=1968170115), DecisionTreeClassifier(max_features='sqrt', random_state=1735755797), DecisionTreeClassifier(max_features='sqrt', random_state=730511601), DecisionTreeClassifier(max_features='sqrt', random_state=1676843219), DecisionTreeClassifier(max_features='sqrt', random_state=1348911102), DecisionTreeClassifier(max_features='sqrt', random_state=819688245), DecisionTreeClassifier(max_features='sqrt', random_state=834285415), DecisionTreeClassifier(max_features='sqrt', random_state=1838527500), DecisionTreeClassifier(max_features='sqrt', random_state=358239969), DecisionTreeClassifier(max_features='sqrt', random_state=1101177373), DecisionTreeClassifier(max_features='sqrt', random_state=994347621), DecisionTreeClassifier(max_features='sqrt', random_state=1882007098), DecisionTreeClassifier(max_features='sqrt', random_state=1912439135), DecisionTreeClassifier(max_features='sqrt', random_state=1021450603), DecisionTreeClassifier(max_features='sqrt', random_state=177239870), DecisionTreeClassifier(max_features='sqrt', random_state=335200354), DecisionTreeClassifier(max_features='sqrt', random_state=66252232), DecisionTreeClassifier(max_features='sqrt', random_state=956249068), DecisionTreeClassifier(max_features='sqrt', random_state=30070017), DecisionTreeClassifier(max_features='sqrt', random_state=1330396499), DecisionTreeClassifier(max_features='sqrt', random_state=207906059), DecisionTreeClassifier(max_features='sqrt', random_state=1323234017), DecisionTreeClassifier(max_features='sqrt', random_state=2083574934), DecisionTreeClassifier(max_features='sqrt', random_state=1721483578), DecisionTreeClassifier(max_features='sqrt', random_state=439587182), DecisionTreeClassifier(max_features='sqrt', random_state=888640081), DecisionTreeClassifier(max_features='sqrt', random_state=1274687214), DecisionTreeClassifier(max_features='sqrt', random_state=1394566340), DecisionTreeClassifier(max_features='sqrt', random_state=1058291198), DecisionTreeClassifier(max_features='sqrt', random_state=1868840268), DecisionTreeClassifier(max_features='sqrt', random_state=1367322994), DecisionTreeClassifier(max_features='sqrt', random_state=217588037), DecisionTreeClassifier(max_features='sqrt', random_state=1419428676), DecisionTreeClassifier(max_features='sqrt', random_state=849946680), DecisionTreeClassifier(max_features='sqrt', random_state=2096213933), DecisionTreeClassifier(max_features='sqrt', random_state=2004379246), DecisionTreeClassifier(max_features='sqrt', random_state=428198071), DecisionTreeClassifier(max_features='sqrt', random_state=774183356), DecisionTreeClassifier(max_features='sqrt', random_state=1452489189), DecisionTreeClassifier(max_features='sqrt', random_state=410945613), DecisionTreeClassifier(max_features='sqrt', random_state=2035389513), DecisionTreeClassifier(max_features='sqrt', random_state=1818418019), DecisionTreeClassifier(max_features='sqrt', random_state=1905831285), DecisionTreeClassifier(max_features='sqrt', random_state=1263948971), DecisionTreeClassifier(max_features='sqrt', random_state=1860077210), DecisionTreeClassifier(max_features='sqrt', random_state=1006638035), DecisionTreeClassifier(max_features='sqrt', random_state=2072402722), DecisionTreeClassifier(max_features='sqrt', random_state=1095293459), DecisionTreeClassifier(max_features='sqrt', random_state=716644424), DecisionTreeClassifier(max_features='sqrt', random_state=844801010)], 'feature_importances_': array([0.01427207, 0.0160448 , 0.07213446, 0.00679389, 0.01636618,\n",
      "       0.0119022 , 0.01342794, 0.16113749, 0.01067974, 0.47137566,\n",
      "       0.01179527, 0.07481836, 0.00827858, 0.02065695, 0.01097749,\n",
      "       0.01589413, 0.02206046, 0.01543262, 0.00987852, 0.01607318]), 'n_classes_': 2, 'n_features_': 20, 'n_features_in_': 20, 'n_outputs_': 1}\n"
     ]
    },
    {
     "name": "stderr",
     "output_type": "stream",
     "text": [
      "/Users/douglasaraujo/Coding/.venv_gingado/lib/python3.10/site-packages/sklearn/utils/deprecation.py:103: FutureWarning: Attribute `n_features_` was deprecated in version 1.0 and will be removed in 1.2. Use `n_features_in_` instead.\n",
      "  warnings.warn(msg, category=FutureWarning)\n"
     ]
    }
   ],
   "source": [
    "model_doc_sklearn = ModelCard()\n",
    "model_doc_sklearn.read_model(sklearn_clf)\n",
    "print(model_doc_sklearn.show_json()['model_details']['info'])"
   ]
  },
  {
   "cell_type": "markdown",
   "metadata": {},
   "source": [
    "## Keras"
   ]
  },
  {
   "cell_type": "code",
   "execution_count": null,
   "metadata": {},
   "outputs": [
    {
     "name": "stderr",
     "output_type": "stream",
     "text": [
      "2023-06-22 09:05:56.756655: I tensorflow/core/platform/cpu_feature_guard.cc:193] This TensorFlow binary is optimized with oneAPI Deep Neural Network Library (oneDNN) to use the following CPU instructions in performance-critical operations:  AVX2 FMA\n",
      "To enable them in other operations, rebuild TensorFlow with the appropriate compiler flags.\n"
     ]
    }
   ],
   "source": [
    "from tensorflow import keras"
   ]
  },
  {
   "cell_type": "code",
   "execution_count": null,
   "metadata": {},
   "outputs": [
    {
     "name": "stdout",
     "output_type": "stream",
     "text": [
      "Metal device set to: AMD Radeon Pro 5500M\n",
      "\n",
      "systemMemory: 64.00 GB\n",
      "maxCacheSize: 3.99 GB\n",
      "\n",
      "Epoch 1/10\n"
     ]
    },
    {
     "name": "stderr",
     "output_type": "stream",
     "text": [
      "2023-06-22 09:06:05.182863: W tensorflow/core/framework/op_kernel.cc:1830] OP_REQUIRES failed at xla_ops.cc:418 : NOT_FOUND: could not find registered platform with id: 0x7fda3b1488a0\n",
      "2023-06-22 09:06:05.182925: W tensorflow/core/framework/op_kernel.cc:1830] OP_REQUIRES failed at xla_ops.cc:418 : NOT_FOUND: could not find registered platform with id: 0x7fda3b1488a0\n",
      "2023-06-22 09:06:05.525360: W tensorflow/core/framework/op_kernel.cc:1830] OP_REQUIRES failed at xla_ops.cc:418 : NOT_FOUND: could not find registered platform with id: 0x7fda3b1488a0\n",
      "2023-06-22 09:06:05.525391: W tensorflow/core/framework/op_kernel.cc:1830] OP_REQUIRES failed at xla_ops.cc:418 : NOT_FOUND: could not find registered platform with id: 0x7fda3b1488a0\n",
      "2023-06-22 09:06:05.794085: W tensorflow/core/framework/op_kernel.cc:1830] OP_REQUIRES failed at xla_ops.cc:418 : NOT_FOUND: could not find registered platform with id: 0x7fda3b1488a0\n",
      "2023-06-22 09:06:05.794121: W tensorflow/core/framework/op_kernel.cc:1830] OP_REQUIRES failed at xla_ops.cc:418 : NOT_FOUND: could not find registered platform with id: 0x7fda3b1488a0\n"
     ]
    },
    {
     "ename": "NotFoundError",
     "evalue": "Graph execution error:\n\nDetected at node 'StatefulPartitionedCall_4' defined at (most recent call last):\n    File \"/Library/Frameworks/Python.framework/Versions/3.10/lib/python3.10/runpy.py\", line 196, in _run_module_as_main\n      return _run_code(code, main_globals, None,\n    File \"/Library/Frameworks/Python.framework/Versions/3.10/lib/python3.10/runpy.py\", line 86, in _run_code\n      exec(code, run_globals)\n    File \"/Users/douglasaraujo/Coding/.venv_gingado/lib/python3.10/site-packages/ipykernel_launcher.py\", line 17, in <module>\n      app.launch_new_instance()\n    File \"/Users/douglasaraujo/Coding/.venv_gingado/lib/python3.10/site-packages/traitlets/config/application.py\", line 1043, in launch_instance\n      app.start()\n    File \"/Users/douglasaraujo/Coding/.venv_gingado/lib/python3.10/site-packages/ipykernel/kernelapp.py\", line 724, in start\n      self.io_loop.start()\n    File \"/Users/douglasaraujo/Coding/.venv_gingado/lib/python3.10/site-packages/tornado/platform/asyncio.py\", line 215, in start\n      self.asyncio_loop.run_forever()\n    File \"/Library/Frameworks/Python.framework/Versions/3.10/lib/python3.10/asyncio/base_events.py\", line 595, in run_forever\n      self._run_once()\n    File \"/Library/Frameworks/Python.framework/Versions/3.10/lib/python3.10/asyncio/base_events.py\", line 1881, in _run_once\n      handle._run()\n    File \"/Library/Frameworks/Python.framework/Versions/3.10/lib/python3.10/asyncio/events.py\", line 80, in _run\n      self._context.run(self._callback, *self._args)\n    File \"/Users/douglasaraujo/Coding/.venv_gingado/lib/python3.10/site-packages/ipykernel/kernelbase.py\", line 512, in dispatch_queue\n      await self.process_one()\n    File \"/Users/douglasaraujo/Coding/.venv_gingado/lib/python3.10/site-packages/ipykernel/kernelbase.py\", line 501, in process_one\n      await dispatch(*args)\n    File \"/Users/douglasaraujo/Coding/.venv_gingado/lib/python3.10/site-packages/ipykernel/kernelbase.py\", line 408, in dispatch_shell\n      await result\n    File \"/Users/douglasaraujo/Coding/.venv_gingado/lib/python3.10/site-packages/ipykernel/kernelbase.py\", line 731, in execute_request\n      reply_content = await reply_content\n    File \"/Users/douglasaraujo/Coding/.venv_gingado/lib/python3.10/site-packages/ipykernel/ipkernel.py\", line 424, in do_execute\n      res = shell.run_cell(code, store_history=store_history, silent=silent)\n    File \"/Users/douglasaraujo/Coding/.venv_gingado/lib/python3.10/site-packages/ipykernel/zmqshell.py\", line 540, in run_cell\n      return super().run_cell(*args, **kwargs)\n    File \"/Users/douglasaraujo/Coding/.venv_gingado/lib/python3.10/site-packages/IPython/core/interactiveshell.py\", line 2768, in run_cell\n      result = self._run_cell(\n    File \"/Users/douglasaraujo/Coding/.venv_gingado/lib/python3.10/site-packages/IPython/core/interactiveshell.py\", line 2814, in _run_cell\n      return runner(coro)\n    File \"/Users/douglasaraujo/Coding/.venv_gingado/lib/python3.10/site-packages/IPython/core/async_helpers.py\", line 129, in _pseudo_sync_runner\n      coro.send(None)\n    File \"/Users/douglasaraujo/Coding/.venv_gingado/lib/python3.10/site-packages/IPython/core/interactiveshell.py\", line 3012, in run_cell_async\n      has_raised = await self.run_ast_nodes(code_ast.body, cell_name,\n    File \"/Users/douglasaraujo/Coding/.venv_gingado/lib/python3.10/site-packages/IPython/core/interactiveshell.py\", line 3191, in run_ast_nodes\n      if await self.run_code(code, result, async_=asy):\n    File \"/Users/douglasaraujo/Coding/.venv_gingado/lib/python3.10/site-packages/IPython/core/interactiveshell.py\", line 3251, in run_code\n      exec(code_obj, self.user_global_ns, self.user_ns)\n    File \"/var/folders/b9/p8z57lqd55xfk68xz34dg0s40000gn/T/ipykernel_34473/3587272776.py\", line 6, in <module>\n      keras_clf.fit(X, y, batch_size=10, epochs=10)\n    File \"/Users/douglasaraujo/Coding/.venv_gingado/lib/python3.10/site-packages/keras/utils/traceback_utils.py\", line 65, in error_handler\n      return fn(*args, **kwargs)\n    File \"/Users/douglasaraujo/Coding/.venv_gingado/lib/python3.10/site-packages/keras/engine/training.py\", line 1650, in fit\n      tmp_logs = self.train_function(iterator)\n    File \"/Users/douglasaraujo/Coding/.venv_gingado/lib/python3.10/site-packages/keras/engine/training.py\", line 1249, in train_function\n      return step_function(self, iterator)\n    File \"/Users/douglasaraujo/Coding/.venv_gingado/lib/python3.10/site-packages/keras/engine/training.py\", line 1233, in step_function\n      outputs = model.distribute_strategy.run(run_step, args=(data,))\n    File \"/Users/douglasaraujo/Coding/.venv_gingado/lib/python3.10/site-packages/keras/engine/training.py\", line 1222, in run_step\n      outputs = model.train_step(data)\n    File \"/Users/douglasaraujo/Coding/.venv_gingado/lib/python3.10/site-packages/keras/engine/training.py\", line 1027, in train_step\n      self.optimizer.minimize(loss, self.trainable_variables, tape=tape)\n    File \"/Users/douglasaraujo/Coding/.venv_gingado/lib/python3.10/site-packages/keras/optimizers/optimizer_experimental/optimizer.py\", line 527, in minimize\n      self.apply_gradients(grads_and_vars)\n    File \"/Users/douglasaraujo/Coding/.venv_gingado/lib/python3.10/site-packages/keras/optimizers/optimizer_experimental/optimizer.py\", line 1140, in apply_gradients\n      return super().apply_gradients(grads_and_vars, name=name)\n    File \"/Users/douglasaraujo/Coding/.venv_gingado/lib/python3.10/site-packages/keras/optimizers/optimizer_experimental/optimizer.py\", line 634, in apply_gradients\n      iteration = self._internal_apply_gradients(grads_and_vars)\n    File \"/Users/douglasaraujo/Coding/.venv_gingado/lib/python3.10/site-packages/keras/optimizers/optimizer_experimental/optimizer.py\", line 1166, in _internal_apply_gradients\n      return tf.__internal__.distribute.interim.maybe_merge_call(\n    File \"/Users/douglasaraujo/Coding/.venv_gingado/lib/python3.10/site-packages/keras/optimizers/optimizer_experimental/optimizer.py\", line 1216, in _distributed_apply_gradients_fn\n      distribution.extended.update(\n    File \"/Users/douglasaraujo/Coding/.venv_gingado/lib/python3.10/site-packages/keras/optimizers/optimizer_experimental/optimizer.py\", line 1211, in apply_grad_to_update_var\n      return self._update_step_xla(grad, var, id(self._var_key(var)))\nNode: 'StatefulPartitionedCall_4'\ncould not find registered platform with id: 0x7fda3b1488a0\n\t [[{{node StatefulPartitionedCall_4}}]] [Op:__inference_train_function_664]",
     "output_type": "error",
     "traceback": [
      "\u001b[0;31m---------------------------------------------------------------------------\u001b[0m",
      "\u001b[0;31mNotFoundError\u001b[0m                             Traceback (most recent call last)",
      "\u001b[1;32m/Users/douglasaraujo/Coding/gingado/00_documentation.ipynb Cell 64\u001b[0m in \u001b[0;36m<module>\u001b[0;34m\u001b[0m\n\u001b[1;32m      <a href='vscode-notebook-cell:/Users/douglasaraujo/Coding/gingado/00_documentation.ipynb#Y103sZmlsZQ%3D%3D?line=3'>4</a>\u001b[0m keras_clf\u001b[39m.\u001b[39madd(keras\u001b[39m.\u001b[39mlayers\u001b[39m.\u001b[39mDense(\u001b[39m1\u001b[39m, activation\u001b[39m=\u001b[39m\u001b[39m'\u001b[39m\u001b[39msigmoid\u001b[39m\u001b[39m'\u001b[39m))\n\u001b[1;32m      <a href='vscode-notebook-cell:/Users/douglasaraujo/Coding/gingado/00_documentation.ipynb#Y103sZmlsZQ%3D%3D?line=4'>5</a>\u001b[0m keras_clf\u001b[39m.\u001b[39mcompile(optimizer\u001b[39m=\u001b[39m\u001b[39m'\u001b[39m\u001b[39msgd\u001b[39m\u001b[39m'\u001b[39m, loss\u001b[39m=\u001b[39m\u001b[39m'\u001b[39m\u001b[39mbinary_crossentropy\u001b[39m\u001b[39m'\u001b[39m)\n\u001b[0;32m----> <a href='vscode-notebook-cell:/Users/douglasaraujo/Coding/gingado/00_documentation.ipynb#Y103sZmlsZQ%3D%3D?line=5'>6</a>\u001b[0m keras_clf\u001b[39m.\u001b[39;49mfit(X, y, batch_size\u001b[39m=\u001b[39;49m\u001b[39m10\u001b[39;49m, epochs\u001b[39m=\u001b[39;49m\u001b[39m10\u001b[39;49m)\n",
      "File \u001b[0;32m~/Coding/.venv_gingado/lib/python3.10/site-packages/keras/utils/traceback_utils.py:70\u001b[0m, in \u001b[0;36mfilter_traceback.<locals>.error_handler\u001b[0;34m(*args, **kwargs)\u001b[0m\n\u001b[1;32m     67\u001b[0m     filtered_tb \u001b[39m=\u001b[39m _process_traceback_frames(e\u001b[39m.\u001b[39m__traceback__)\n\u001b[1;32m     68\u001b[0m     \u001b[39m# To get the full stack trace, call:\u001b[39;00m\n\u001b[1;32m     69\u001b[0m     \u001b[39m# `tf.debugging.disable_traceback_filtering()`\u001b[39;00m\n\u001b[0;32m---> 70\u001b[0m     \u001b[39mraise\u001b[39;00m e\u001b[39m.\u001b[39mwith_traceback(filtered_tb) \u001b[39mfrom\u001b[39;00m \u001b[39mNone\u001b[39m\n\u001b[1;32m     71\u001b[0m \u001b[39mfinally\u001b[39;00m:\n\u001b[1;32m     72\u001b[0m     \u001b[39mdel\u001b[39;00m filtered_tb\n",
      "File \u001b[0;32m~/Coding/.venv_gingado/lib/python3.10/site-packages/tensorflow/python/eager/execute.py:52\u001b[0m, in \u001b[0;36mquick_execute\u001b[0;34m(op_name, num_outputs, inputs, attrs, ctx, name)\u001b[0m\n\u001b[1;32m     50\u001b[0m \u001b[39mtry\u001b[39;00m:\n\u001b[1;32m     51\u001b[0m   ctx\u001b[39m.\u001b[39mensure_initialized()\n\u001b[0;32m---> 52\u001b[0m   tensors \u001b[39m=\u001b[39m pywrap_tfe\u001b[39m.\u001b[39mTFE_Py_Execute(ctx\u001b[39m.\u001b[39m_handle, device_name, op_name,\n\u001b[1;32m     53\u001b[0m                                       inputs, attrs, num_outputs)\n\u001b[1;32m     54\u001b[0m \u001b[39mexcept\u001b[39;00m core\u001b[39m.\u001b[39m_NotOkStatusException \u001b[39mas\u001b[39;00m e:\n\u001b[1;32m     55\u001b[0m   \u001b[39mif\u001b[39;00m name \u001b[39mis\u001b[39;00m \u001b[39mnot\u001b[39;00m \u001b[39mNone\u001b[39;00m:\n",
      "\u001b[0;31mNotFoundError\u001b[0m: Graph execution error:\n\nDetected at node 'StatefulPartitionedCall_4' defined at (most recent call last):\n    File \"/Library/Frameworks/Python.framework/Versions/3.10/lib/python3.10/runpy.py\", line 196, in _run_module_as_main\n      return _run_code(code, main_globals, None,\n    File \"/Library/Frameworks/Python.framework/Versions/3.10/lib/python3.10/runpy.py\", line 86, in _run_code\n      exec(code, run_globals)\n    File \"/Users/douglasaraujo/Coding/.venv_gingado/lib/python3.10/site-packages/ipykernel_launcher.py\", line 17, in <module>\n      app.launch_new_instance()\n    File \"/Users/douglasaraujo/Coding/.venv_gingado/lib/python3.10/site-packages/traitlets/config/application.py\", line 1043, in launch_instance\n      app.start()\n    File \"/Users/douglasaraujo/Coding/.venv_gingado/lib/python3.10/site-packages/ipykernel/kernelapp.py\", line 724, in start\n      self.io_loop.start()\n    File \"/Users/douglasaraujo/Coding/.venv_gingado/lib/python3.10/site-packages/tornado/platform/asyncio.py\", line 215, in start\n      self.asyncio_loop.run_forever()\n    File \"/Library/Frameworks/Python.framework/Versions/3.10/lib/python3.10/asyncio/base_events.py\", line 595, in run_forever\n      self._run_once()\n    File \"/Library/Frameworks/Python.framework/Versions/3.10/lib/python3.10/asyncio/base_events.py\", line 1881, in _run_once\n      handle._run()\n    File \"/Library/Frameworks/Python.framework/Versions/3.10/lib/python3.10/asyncio/events.py\", line 80, in _run\n      self._context.run(self._callback, *self._args)\n    File \"/Users/douglasaraujo/Coding/.venv_gingado/lib/python3.10/site-packages/ipykernel/kernelbase.py\", line 512, in dispatch_queue\n      await self.process_one()\n    File \"/Users/douglasaraujo/Coding/.venv_gingado/lib/python3.10/site-packages/ipykernel/kernelbase.py\", line 501, in process_one\n      await dispatch(*args)\n    File \"/Users/douglasaraujo/Coding/.venv_gingado/lib/python3.10/site-packages/ipykernel/kernelbase.py\", line 408, in dispatch_shell\n      await result\n    File \"/Users/douglasaraujo/Coding/.venv_gingado/lib/python3.10/site-packages/ipykernel/kernelbase.py\", line 731, in execute_request\n      reply_content = await reply_content\n    File \"/Users/douglasaraujo/Coding/.venv_gingado/lib/python3.10/site-packages/ipykernel/ipkernel.py\", line 424, in do_execute\n      res = shell.run_cell(code, store_history=store_history, silent=silent)\n    File \"/Users/douglasaraujo/Coding/.venv_gingado/lib/python3.10/site-packages/ipykernel/zmqshell.py\", line 540, in run_cell\n      return super().run_cell(*args, **kwargs)\n    File \"/Users/douglasaraujo/Coding/.venv_gingado/lib/python3.10/site-packages/IPython/core/interactiveshell.py\", line 2768, in run_cell\n      result = self._run_cell(\n    File \"/Users/douglasaraujo/Coding/.venv_gingado/lib/python3.10/site-packages/IPython/core/interactiveshell.py\", line 2814, in _run_cell\n      return runner(coro)\n    File \"/Users/douglasaraujo/Coding/.venv_gingado/lib/python3.10/site-packages/IPython/core/async_helpers.py\", line 129, in _pseudo_sync_runner\n      coro.send(None)\n    File \"/Users/douglasaraujo/Coding/.venv_gingado/lib/python3.10/site-packages/IPython/core/interactiveshell.py\", line 3012, in run_cell_async\n      has_raised = await self.run_ast_nodes(code_ast.body, cell_name,\n    File \"/Users/douglasaraujo/Coding/.venv_gingado/lib/python3.10/site-packages/IPython/core/interactiveshell.py\", line 3191, in run_ast_nodes\n      if await self.run_code(code, result, async_=asy):\n    File \"/Users/douglasaraujo/Coding/.venv_gingado/lib/python3.10/site-packages/IPython/core/interactiveshell.py\", line 3251, in run_code\n      exec(code_obj, self.user_global_ns, self.user_ns)\n    File \"/var/folders/b9/p8z57lqd55xfk68xz34dg0s40000gn/T/ipykernel_34473/3587272776.py\", line 6, in <module>\n      keras_clf.fit(X, y, batch_size=10, epochs=10)\n    File \"/Users/douglasaraujo/Coding/.venv_gingado/lib/python3.10/site-packages/keras/utils/traceback_utils.py\", line 65, in error_handler\n      return fn(*args, **kwargs)\n    File \"/Users/douglasaraujo/Coding/.venv_gingado/lib/python3.10/site-packages/keras/engine/training.py\", line 1650, in fit\n      tmp_logs = self.train_function(iterator)\n    File \"/Users/douglasaraujo/Coding/.venv_gingado/lib/python3.10/site-packages/keras/engine/training.py\", line 1249, in train_function\n      return step_function(self, iterator)\n    File \"/Users/douglasaraujo/Coding/.venv_gingado/lib/python3.10/site-packages/keras/engine/training.py\", line 1233, in step_function\n      outputs = model.distribute_strategy.run(run_step, args=(data,))\n    File \"/Users/douglasaraujo/Coding/.venv_gingado/lib/python3.10/site-packages/keras/engine/training.py\", line 1222, in run_step\n      outputs = model.train_step(data)\n    File \"/Users/douglasaraujo/Coding/.venv_gingado/lib/python3.10/site-packages/keras/engine/training.py\", line 1027, in train_step\n      self.optimizer.minimize(loss, self.trainable_variables, tape=tape)\n    File \"/Users/douglasaraujo/Coding/.venv_gingado/lib/python3.10/site-packages/keras/optimizers/optimizer_experimental/optimizer.py\", line 527, in minimize\n      self.apply_gradients(grads_and_vars)\n    File \"/Users/douglasaraujo/Coding/.venv_gingado/lib/python3.10/site-packages/keras/optimizers/optimizer_experimental/optimizer.py\", line 1140, in apply_gradients\n      return super().apply_gradients(grads_and_vars, name=name)\n    File \"/Users/douglasaraujo/Coding/.venv_gingado/lib/python3.10/site-packages/keras/optimizers/optimizer_experimental/optimizer.py\", line 634, in apply_gradients\n      iteration = self._internal_apply_gradients(grads_and_vars)\n    File \"/Users/douglasaraujo/Coding/.venv_gingado/lib/python3.10/site-packages/keras/optimizers/optimizer_experimental/optimizer.py\", line 1166, in _internal_apply_gradients\n      return tf.__internal__.distribute.interim.maybe_merge_call(\n    File \"/Users/douglasaraujo/Coding/.venv_gingado/lib/python3.10/site-packages/keras/optimizers/optimizer_experimental/optimizer.py\", line 1216, in _distributed_apply_gradients_fn\n      distribution.extended.update(\n    File \"/Users/douglasaraujo/Coding/.venv_gingado/lib/python3.10/site-packages/keras/optimizers/optimizer_experimental/optimizer.py\", line 1211, in apply_grad_to_update_var\n      return self._update_step_xla(grad, var, id(self._var_key(var)))\nNode: 'StatefulPartitionedCall_4'\ncould not find registered platform with id: 0x7fda3b1488a0\n\t [[{{node StatefulPartitionedCall_4}}]] [Op:__inference_train_function_664]"
     ]
    }
   ],
   "source": [
    "keras_clf = keras.Sequential()\n",
    "keras_clf.add(keras.layers.Dense(16, activation='relu', input_shape=(20,)))\n",
    "keras_clf.add(keras.layers.Dense(8, activation='relu'))\n",
    "keras_clf.add(keras.layers.Dense(1, activation='sigmoid'))\n",
    "keras_clf.compile(optimizer='sgd', loss='binary_crossentropy')\n",
    "keras_clf.fit(X, y, batch_size=10, epochs=10)"
   ]
  },
  {
   "cell_type": "code",
   "execution_count": null,
   "metadata": {},
   "outputs": [
    {
     "data": {
      "text/plain": [
       "'{\"class_name\": \"Sequential\", \"config\": {\"name\": \"sequential\", \"layers\": [{\"class_name\": \"InputLayer\", \"config\": {\"batch_input_shape\": [null, 20], \"dtype\": \"float32\", \"sparse\": false, \"ragged\": false, \"name\": \"dense_input\"}}, {\"class_name\": \"Dense\", \"config\": {\"name\": \"dense\", \"trainable\": true, \"batch_input_shape\": [null, 20], \"dtype\": \"float32\", \"units\": 16, \"activation\": \"relu\", \"use_bias\": true, \"kernel_initializer\": {\"class_name\": \"GlorotUniform\", \"config\": {\"seed\": null}}, \"bias_initializer\": {\"class_name\": \"Zeros\", \"config\": {}}, \"kernel_regularizer\": null, \"bias_regularizer\": null, \"activity_regularizer\": null, \"kernel_constraint\": null, \"bias_constraint\": null}}, {\"class_name\": \"Dense\", \"config\": {\"name\": \"dense_1\", \"trainable\": true, \"dtype\": \"float32\", \"units\": 8, \"activation\": \"relu\", \"use_bias\": true, \"kernel_initializer\": {\"class_name\": \"GlorotUniform\", \"config\": {\"seed\": null}}, \"bias_initializer\": {\"class_name\": \"Zeros\", \"config\": {}}, \"kernel_regularizer\": null, \"bias_regularizer\": null, \"activity_regularizer\": null, \"kernel_constraint\": null, \"bias_constraint\": null}}, {\"class_name\": \"Dense\", \"config\": {\"name\": \"dense_2\", \"trainable\": true, \"dtype\": \"float32\", \"units\": 1, \"activation\": \"sigmoid\", \"use_bias\": true, \"kernel_initializer\": {\"class_name\": \"GlorotUniform\", \"config\": {\"seed\": null}}, \"bias_initializer\": {\"class_name\": \"Zeros\", \"config\": {}}, \"kernel_regularizer\": null, \"bias_regularizer\": null, \"activity_regularizer\": null, \"kernel_constraint\": null, \"bias_constraint\": null}}]}, \"keras_version\": \"2.8.0\", \"backend\": \"tensorflow\"}'"
      ]
     },
     "execution_count": null,
     "metadata": {},
     "output_type": "execute_result"
    }
   ],
   "source": [
    "model_doc_keras = ModelCard()\n",
    "model_doc_keras.read_model(keras_clf)\n",
    "model_doc_keras.show_json()['model_details']['info']"
   ]
  },
  {
   "cell_type": "markdown",
   "metadata": {},
   "source": [
    "## Other models\n",
    "\n",
    "Native support for automatic documentation of other model types, such as from `fastai`, `pytorch` is expected to be available in future versions. Until then, any models coded form scratch by the user as well as any other model can be documented by passing the information as an argument to the Documenter's `fill_model_info` method. This can be done with a string or dictionary. For example:"
   ]
  },
  {
   "cell_type": "code",
   "execution_count": null,
   "metadata": {},
   "outputs": [],
   "source": [
    "import numpy as np\n",
    "import torch\n",
    "import torch.nn.functional as F"
   ]
  },
  {
   "cell_type": "code",
   "execution_count": null,
   "metadata": {},
   "outputs": [],
   "source": [
    "class MockDataset(torch.utils.data.Dataset):\n",
    "    def __init__(self, X, y):\n",
    "        self.X = torch.from_numpy(X.astype(np.float32))\n",
    "        self.y = torch.from_numpy(y.astype(np.float32))\n",
    "        self.len = self.X.shape[0]\n",
    "\n",
    "    def __len__(self):\n",
    "        return self.len\n",
    "\n",
    "    def __getitem__(self, idx):\n",
    "        return self.X[idx], self.y[idx]\n",
    "\n",
    "class PytorchNet(torch.nn.Module):\n",
    "    def __init__(self):\n",
    "        super(PytorchNet, self).__init__()\n",
    "        self.layer1 = torch.nn.Linear(20, 16)\n",
    "        self.layer2 = torch.nn.Linear(16, 8)\n",
    "        self.layer3 = torch.nn.Linear(8, 1)\n",
    "\n",
    "    def forward(self, x):\n",
    "        x = torch.relu(self.layer1(x))\n",
    "        x = torch.relu(self.layer2(x))\n",
    "        x = torch.sigmoid(self.layer3(x))\n",
    "        return x\n",
    "\n",
    "pytorch_clf = PytorchNet()\n",
    "\n",
    "dataloader = MockDataset(X, y)\n",
    "\n",
    "\n",
    "loss_func = torch.nn.BCELoss()\n",
    "optimizer = torch.optim.SGD(pytorch_clf.parameters(), lr=0.001, momentum=0.9)\n",
    "\n",
    "for epoch in range(10):\n",
    "    running_loss = 0.0\n",
    "    for i, data in enumerate(dataloader, 0):\n",
    "        _X, _y = data\n",
    "        optimizer.zero_grad()\n",
    "        y_pred_epoch = pytorch_clf(_X)\n",
    "        loss = loss_func(y_pred_epoch, _y.reshape(1))\n",
    "        loss.backward()\n",
    "        optimizer.step()"
   ]
  },
  {
   "cell_type": "code",
   "execution_count": null,
   "metadata": {},
   "outputs": [
    {
     "data": {
      "text/plain": [
       "'This model is a neural network consisting of two fully connected layers and ending in a linear layer with a sigmoid activation'"
      ]
     },
     "execution_count": null,
     "metadata": {},
     "output_type": "execute_result"
    }
   ],
   "source": [
    "model_doc_pytorch = ModelCard()\n",
    "model_doc_pytorch.fill_model_info(\"This model is a neural network consisting of two fully connected layers and ending in a linear layer with a sigmoid activation\")\n",
    "model_doc_pytorch.show_json()['model_details']['info']"
   ]
  },
  {
   "cell_type": "markdown",
   "metadata": {},
   "source": [
    "# Creating a custom Documenter {#sec-custom}\n",
    "\n",
    "`gingado` users can easily transform their model documentation needs into a Documenter object. The main advantages of doing this are: \n",
    "\n",
    "- the documentation template becomes a \"recyclable\" object that can be saved, loaded, and used in other models or code routines; and\n",
    "- model documentation can be more closely aligned with model creation and training, thus decreasing the probability that the model and its documentation diverge during the process of model development.\n",
    "\n",
    "A `gingado` Documenter must:\n",
    "\n",
    "- subclass `ggdModelDocumentation` (or implement all its methods if the user does not want to keep a dependency to `gingado`),\n",
    "- include the actual template for the documentation as a dictionary (with at most two levels of keys) in a class attribute called `template`,\n",
    "- ensure that `template` complies with [JSON specifications](https://www.json.org/json-en.html),\n",
    "- have `file_path`, `autofill` and `indent_level` as arguments in `__init__`,\n",
    "- follow the `scikit-learn` convention of storing the `__init__` parameters in `self` attributes with the same name, and\n",
    "- implement the `autofill_template` method using the `fill_info` method to set the automatically filled information fields."
   ]
  },
  {
   "cell_type": "markdown",
   "metadata": {},
   "source": [
    "# References\n",
    "::: {#refs}\n",
    ":::"
   ]
  },
  {
   "cell_type": "code",
   "execution_count": null,
   "metadata": {},
   "outputs": [],
   "source": [
    "#| echo: false\n",
    "import nbdev; nbdev.nbdev_export()"
   ]
  }
 ],
 "metadata": {
  "kernelspec": {
   "display_name": "python3",
   "language": "python",
   "name": "python3"
  }
 },
 "nbformat": 4,
 "nbformat_minor": 2
}
