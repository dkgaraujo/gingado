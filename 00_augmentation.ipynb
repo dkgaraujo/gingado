{
 "cells": [
  {
   "cell_type": "raw",
   "metadata": {},
   "source": [
    "---\n",
    "badges: true\n",
    "description: Functions to augment the user's dataset with information from official\n",
    "  sources.\n",
    "output-file: augmentation.html\n",
    "title: Data augmentation\n",
    "\n",
    "---\n",
    "\n"
   ]
  },
  {
   "cell_type": "code",
   "execution_count": null,
   "metadata": {},
   "outputs": [],
   "source": [
    "#| include: false\n",
    "#| echo: false\n",
    "! [ -e /content ] && pip install -Uqq gingado nbdev # install or upgrade gingado on colab"
   ]
  },
  {
   "cell_type": "code",
   "execution_count": null,
   "metadata": {},
   "outputs": [
    {
     "name": "stdout",
     "output_type": "stream",
     "text": [
      "The autoreload extension is already loaded. To reload it, use:\n",
      "  %reload_ext autoreload\n"
     ]
    }
   ],
   "source": [
    "#| default_exp augmentation\n",
    "#| include: false\n",
    "%load_ext autoreload\n",
    "%autoreload 2"
   ]
  },
  {
   "cell_type": "code",
   "execution_count": null,
   "metadata": {},
   "outputs": [],
   "source": [
    "#| include: false\n",
    "from nbdev.showdoc import show_doc"
   ]
  },
  {
   "cell_type": "markdown",
   "metadata": {},
   "source": [
    "`gingado` provides data augmentation functionalities that can help users to augment their datasets with a time series dimension. This can be done both on a stand-alone basis as the user incorporates new data on top of the original dataset, or as part of a `scikit-learn` [`Pipeline`](https://scikit-learn.org/stable/modules/generated/sklearn.pipeline.Pipeline.html) that also includes other steps like data transformation and model estimation.\n",
    "\n",
    "## Data augmentation with SDMX\n",
    "\n",
    "The **S**tatistical **D**ata and **M**etadata e**X**change (SDMX) is an ISO standard comprising:\n",
    "\n",
    "* technical standards\n",
    "\n",
    "* statistical guidelines, including cross-domain concepts and codelists\n",
    "\n",
    "* an IT architecture and tools\n",
    "\n",
    "SDMX is sponsored by the Bank for International Settlements, European Central Bank, Eurostat, International Monetary Fund, Organisation for Economic Co-operation and Development, United Nations, and World Bank Group.\n",
    "\n",
    "More information about the SDMX is available on its [webpage](http://sdmx.org).\n",
    "\n",
    "`gingado` uses SDMX to augment user datasets through the transformer `AugmentSDMX`."
   ]
  },
  {
   "cell_type": "code",
   "execution_count": null,
   "metadata": {},
   "outputs": [],
   "source": [
    "#| include: false\n",
    "#| export\n",
    "\n",
    "from gingado.utils import load_SDMX_data\n",
    "import numpy as np\n",
    "import pandas as pd\n",
    "import pandasdmx as sdmx\n",
    "from sklearn.base import BaseEstimator, TransformerMixin\n",
    "from sklearn.utils.validation import check_is_fitted\n",
    "from sklearn.feature_selection import VarianceThreshold\n",
    "\n",
    "class AugmentSDMX(BaseEstimator, TransformerMixin):\n",
    "    \"A transformer that augments a dataset using SDMX\"\n",
    "    \n",
    "    InputIndexMessage = \"The dataset to be augmented must have a row index with the date/time information\"\n",
    "    def _format_string(self):\n",
    "        return \"%Y-%m-%d\" if self.data_freq_ == 'D' else \"%Y-%m\" if self.data_freq_ == 'M' else \"%Y\"\n",
    "    \n",
    "    def _get_dates(self):\n",
    "        fstr = self._format_string()\n",
    "        return {\n",
    "            \"startPeriod\": min(self.index_).strftime(fstr),\n",
    "            \"endPeriod\": max(self.index_).strftime(fstr),\n",
    "        }\n",
    "\n",
    "    def _transform(self, X, training=True):\n",
    "        df = load_SDMX_data(sources=self.sources, keys=self.keys_, params=self.params_, verbose=self.verbose)\n",
    "        if df is None:\n",
    "            return X\n",
    "\n",
    "        if training:\n",
    "            # test that the dataset `X` has the same dimension as the one\n",
    "            # used during training, which is an evidence they are the same\n",
    "            n_samples_in_transform, n_features_in_transform = X.shape\n",
    "            if n_samples_in_transform != self.n_samples_in_ or n_features_in_transform != self.n_features_in_:\n",
    "                raise ValueError(\"The X passed to the transform() method must be compatible with the X used by the fit() method.\")\n",
    "            # during testing, we don't want the possibility of a different\n",
    "            # set of columns being retained by virtue of different dynamics\n",
    "            # in both datasets. For example, if a feature is included in the\n",
    "            # training but during the test dates the variable didn't move, it\n",
    "            # should not be subject to the test below so that it is still\n",
    "            # included in the fitted data.\n",
    "            feat_sel = VarianceThreshold() if self.variance_threshold is None else VarianceThreshold(threshold=self.variance_threshold)\n",
    "            feat_sel.fit(df)\n",
    "            self.features_stay_ = df.columns[feat_sel.get_support()]\n",
    "            self.features_removed_ = df.columns[~feat_sel.get_support()]\n",
    "            \n",
    "            df = df.iloc[:, feat_sel.get_support()]\n",
    "            df.columns = feat_sel.get_feature_names_out()\n",
    "\n",
    "            df.dropna(axis=0, how='all', inplace=True)\n",
    "            df.dropna(axis=1, how='all', inplace=True)        \n",
    "        \n",
    "        X = pd.merge(left=X, right=df, how='left', left_index=True, right_on='TIME_PERIOD')\n",
    "        if 'TIME_PERIOD' in X.columns:\n",
    "            X.drop(columns='TIME_PERIOD', inplace=True)\n",
    "        if self.propagate_last_known_value:\n",
    "            X.fillna(method=\"ffill\", inplace=True)\n",
    "        if self.fillna is not None:\n",
    "            X.fillna(self.fillna)\n",
    "        if training:\n",
    "            X.index = self.index_\n",
    "        return X\n",
    "\n",
    "    def __init__(self, sources={'BIS': 'WS_CBPOL_D'}, variance_threshold=None, propagate_last_known_value=True, fillna = 0, verbose=True):\n",
    "        self.sources = sources\n",
    "        self.variance_threshold = variance_threshold\n",
    "        self.propagate_last_known_value = propagate_last_known_value\n",
    "        self.fillna = fillna\n",
    "        self.verbose = verbose\n",
    "\n",
    "    def fit(\n",
    "            self,\n",
    "            X, # a pandas Series or DataFrame with an index of datetime type\n",
    "            y:None=None # `y` is kept as argument for API consistency only\n",
    "        ): # A fitted version of the same AugmentSDMX instance\n",
    "        # Fits instance of AugmentSDMX to `X`, learning its time series frequency\n",
    "        \n",
    "        try:\n",
    "            self.data_freq_ = X.index.to_series().diff().min().resolution_string\n",
    "        except AttributeError:\n",
    "            print(self.InputIndexMessage)\n",
    "            raise\n",
    "        self.index_ = X.index\n",
    "        self.keys_ = {'FREQ': self.data_freq_}\n",
    "        X = self._validate_data(X)\n",
    "\n",
    "        # this variable below is only included to test for consistency \\\n",
    "        # if `fit` and `transform` are called separately with the same `X`\n",
    "        self.n_samples_in_ = X.shape[0]\n",
    "\n",
    "        return self\n",
    "\n",
    "    def transform(\n",
    "            self,\n",
    "            X, # a pandas Series or DataFrame with an index of datetime type\n",
    "            y:None=None, # `y` is kept as argument for API consistency only\n",
    "            training=False # `True` is `transform` is called during training; `False` if called during testing\n",
    "        ): # `X` augmented with data from SDMX\n",
    "        # Transforms input dataset `X` by adding the requested data using SDMX\n",
    "        check_is_fitted(self)\n",
    "        self.params_ = self._get_dates()\n",
    "        idx = X.index\n",
    "        transf_X = self._transform(X, training=training)\n",
    "        transf_X.index = idx\n",
    "        return transf_X\n",
    "\n",
    "    def fit_transform(\n",
    "            self, \n",
    "            X, # # a pandas Series or DataFrame with an index of datetime type\n",
    "            y:None=None # `y` is kept as argument for API consistency only\n",
    "            ) -> np.ndarray: # `X` augmented with data from SDMX with the same number of samples but more columns\n",
    "        # Fit to data, then transform it.\n",
    "        \n",
    "        self.fit(X)\n",
    "        self.params_ = self._get_dates()\n",
    "        return self.transform(X, training=True)"
   ]
  },
  {
   "cell_type": "code",
   "execution_count": null,
   "metadata": {},
   "outputs": [
    {
     "data": {
      "text/markdown": [
       "---\n",
       "\n",
       "[source](https://github.com/dkgaraujo/gingado/tree/main/blob/main/gingado/augmentation.py#L16){target=\"_blank\" style=\"float:right; font-size:smaller\"}\n",
       "\n",
       "### AugmentSDMX\n",
       "\n",
       ">      AugmentSDMX (sources={'BIS': 'WS_CBPOL_D'}, variance_threshold=None,\n",
       ">                   propagate_last_known_value=True, fillna=0, verbose=True)\n",
       "\n",
       "A transformer that augments a dataset using SDMX"
      ],
      "text/plain": [
       "---\n",
       "\n",
       "[source](https://github.com/dkgaraujo/gingado/tree/main/blob/main/gingado/augmentation.py#L16){target=\"_blank\" style=\"float:right; font-size:smaller\"}\n",
       "\n",
       "### AugmentSDMX\n",
       "\n",
       ">      AugmentSDMX (sources={'BIS': 'WS_CBPOL_D'}, variance_threshold=None,\n",
       ">                   propagate_last_known_value=True, fillna=0, verbose=True)\n",
       "\n",
       "A transformer that augments a dataset using SDMX"
      ]
     },
     "execution_count": null,
     "metadata": {},
     "output_type": "execute_result"
    }
   ],
   "source": [
    "show_doc(AugmentSDMX)"
   ]
  },
  {
   "cell_type": "code",
   "execution_count": null,
   "metadata": {},
   "outputs": [
    {
     "data": {
      "text/markdown": [
       "---\n",
       "\n",
       "[source](https://github.com/dkgaraujo/gingado/tree/main/blob/main/gingado/augmentation.py#L77){target=\"_blank\" style=\"float:right; font-size:smaller\"}\n",
       "\n",
       "### AugmentSDMX.fit\n",
       "\n",
       ">      AugmentSDMX.fit (X, y:None=None)\n",
       "\n",
       "|    | **Type** | **Default** | **Details** |\n",
       "| -- | -------- | ----------- | ----------- |\n",
       "| X |  |  | a pandas Series or DataFrame with an index of datetime type |\n",
       "| y | None | None | `y` is kept as argument for API consistency only |"
      ],
      "text/plain": [
       "---\n",
       "\n",
       "[source](https://github.com/dkgaraujo/gingado/tree/main/blob/main/gingado/augmentation.py#L77){target=\"_blank\" style=\"float:right; font-size:smaller\"}\n",
       "\n",
       "### AugmentSDMX.fit\n",
       "\n",
       ">      AugmentSDMX.fit (X, y:None=None)\n",
       "\n",
       "|    | **Type** | **Default** | **Details** |\n",
       "| -- | -------- | ----------- | ----------- |\n",
       "| X |  |  | a pandas Series or DataFrame with an index of datetime type |\n",
       "| y | None | None | `y` is kept as argument for API consistency only |"
      ]
     },
     "execution_count": null,
     "metadata": {},
     "output_type": "execute_result"
    }
   ],
   "source": [
    "show_doc(AugmentSDMX.fit)"
   ]
  },
  {
   "cell_type": "code",
   "execution_count": null,
   "metadata": {},
   "outputs": [
    {
     "data": {
      "text/markdown": [
       "---\n",
       "\n",
       "[source](https://github.com/dkgaraujo/gingado/tree/main/blob/main/gingado/augmentation.py#L99){target=\"_blank\" style=\"float:right; font-size:smaller\"}\n",
       "\n",
       "### AugmentSDMX.transform\n",
       "\n",
       ">      AugmentSDMX.transform (X, y:None=None, training=False)\n",
       "\n",
       "|    | **Type** | **Default** | **Details** |\n",
       "| -- | -------- | ----------- | ----------- |\n",
       "| X |  |  | a pandas Series or DataFrame with an index of datetime type |\n",
       "| y | None | None | `y` is kept as argument for API consistency only |\n",
       "| training | bool | False | `True` is `transform` is called during training; `False` if called during testing |"
      ],
      "text/plain": [
       "---\n",
       "\n",
       "[source](https://github.com/dkgaraujo/gingado/tree/main/blob/main/gingado/augmentation.py#L99){target=\"_blank\" style=\"float:right; font-size:smaller\"}\n",
       "\n",
       "### AugmentSDMX.transform\n",
       "\n",
       ">      AugmentSDMX.transform (X, y:None=None, training=False)\n",
       "\n",
       "|    | **Type** | **Default** | **Details** |\n",
       "| -- | -------- | ----------- | ----------- |\n",
       "| X |  |  | a pandas Series or DataFrame with an index of datetime type |\n",
       "| y | None | None | `y` is kept as argument for API consistency only |\n",
       "| training | bool | False | `True` is `transform` is called during training; `False` if called during testing |"
      ]
     },
     "execution_count": null,
     "metadata": {},
     "output_type": "execute_result"
    }
   ],
   "source": [
    "show_doc(AugmentSDMX.transform)"
   ]
  },
  {
   "cell_type": "code",
   "execution_count": null,
   "metadata": {},
   "outputs": [
    {
     "data": {
      "text/markdown": [
       "---\n",
       "\n",
       "[source](https://github.com/dkgaraujo/gingado/tree/main/blob/main/gingado/augmentation.py#L113){target=\"_blank\" style=\"float:right; font-size:smaller\"}\n",
       "\n",
       "### AugmentSDMX.fit_transform\n",
       "\n",
       ">      AugmentSDMX.fit_transform (X, y:None=None)\n",
       "\n",
       "Fit to data, then transform it.\n",
       "\n",
       "Fits transformer to `X` and `y` with optional parameters `fit_params`\n",
       "and returns a transformed version of `X`.\n",
       "\n",
       "|    | **Type** | **Default** | **Details** |\n",
       "| -- | -------- | ----------- | ----------- |\n",
       "| X | array-like of shape (n_samples, n_features) |  | # a pandas Series or DataFrame with an index of datetime type |\n",
       "| y | array-like of shape (n_samples,) or (n_samples, n_outputs),                 default=None | None | `y` is kept as argument for API consistency only |\n",
       "| **Returns** | **ndarray** |  | **`X` augmented with data from SDMX with the same number of samples but more columns** |"
      ],
      "text/plain": [
       "---\n",
       "\n",
       "[source](https://github.com/dkgaraujo/gingado/tree/main/blob/main/gingado/augmentation.py#L113){target=\"_blank\" style=\"float:right; font-size:smaller\"}\n",
       "\n",
       "### AugmentSDMX.fit_transform\n",
       "\n",
       ">      AugmentSDMX.fit_transform (X, y:None=None)\n",
       "\n",
       "Fit to data, then transform it.\n",
       "\n",
       "Fits transformer to `X` and `y` with optional parameters `fit_params`\n",
       "and returns a transformed version of `X`.\n",
       "\n",
       "|    | **Type** | **Default** | **Details** |\n",
       "| -- | -------- | ----------- | ----------- |\n",
       "| X | array-like of shape (n_samples, n_features) |  | # a pandas Series or DataFrame with an index of datetime type |\n",
       "| y | array-like of shape (n_samples,) or (n_samples, n_outputs),                 default=None | None | `y` is kept as argument for API consistency only |\n",
       "| **Returns** | **ndarray** |  | **`X` augmented with data from SDMX with the same number of samples but more columns** |"
      ]
     },
     "execution_count": null,
     "metadata": {},
     "output_type": "execute_result"
    }
   ],
   "source": [
    "show_doc(AugmentSDMX.fit_transform)"
   ]
  },
  {
   "cell_type": "markdown",
   "metadata": {},
   "source": [
    "### Compatibility with `scikit-learn`\n",
    "\n",
    "As mentioned above, `gingado`'s transformers are built to be compatible with `scikit-learn`. The code below demonstrates this compatibility.\n",
    "\n",
    "First, we create the example dataset. In this case, it comprises the daily foreign exchange rate of selected currencies to the Euro. The Brazilian Real (BRL) is chosen for this example as the dependent variable."
   ]
  },
  {
   "cell_type": "code",
   "execution_count": null,
   "metadata": {},
   "outputs": [],
   "source": [
    "from gingado.utils import load_SDMX_data, Lag\n",
    "from sklearn.model_selection import TimeSeriesSplit"
   ]
  },
  {
   "cell_type": "code",
   "execution_count": null,
   "metadata": {},
   "outputs": [
    {
     "name": "stdout",
     "output_type": "stream",
     "text": [
      "Querying data from ECB's dataflow 'EXR' - Exchange Rates...\n"
     ]
    },
    {
     "name": "stderr",
     "output_type": "stream",
     "text": [
      "2022-09-22 22:08:39,127 pandasdmx.reader.sdmxml - INFO: Use supplied dsd=… argument for non–structure-specific message\n"
     ]
    }
   ],
   "source": [
    "X = load_SDMX_data(\n",
    "    sources={'ECB': 'EXR'}, \n",
    "    keys={'FREQ': 'D', 'CURRENCY': ['EUR', 'AUD', 'BRL', 'CAD', 'CHF', 'GBP', 'JPY', 'SGD', 'USD']},\n",
    "    params={\"startPeriod\": 2003}\n",
    "    )\n",
    "# drop rows with empty values\n",
    "X.dropna(inplace=True)\n",
    "# adjust column names in this simple example for ease of understanding:\n",
    "# remove parts related to source and dataflow names\n",
    "X.columns = X.columns.str.replace(\"ECB__EXR_D__\", \"\").str.replace(\"__EUR__SP00__A\", \"\")\n",
    "X = Lag(lags=1, jump=0, keep_contemporaneous_X=True).fit_transform(X)\n",
    "y = X.pop('BRL')\n",
    "# retain only the lagged variables in the X variable\n",
    "X = X[X.columns[X.columns.str.contains('_lag_')]]"
   ]
  },
  {
   "cell_type": "code",
   "execution_count": null,
   "metadata": {},
   "outputs": [
    {
     "data": {
      "text/plain": [
       "((5052, 8), (5052,), (1, 8), (1,))"
      ]
     },
     "execution_count": null,
     "metadata": {},
     "output_type": "execute_result"
    }
   ],
   "source": [
    "X_train, X_test = X.iloc[:-1], X.tail(1)\n",
    "y_train, y_test = y.iloc[:-1], y.tail(1)\n",
    "\n",
    "X_train.shape, y_train.shape, X_test.shape, y_test.shape"
   ]
  },
  {
   "cell_type": "markdown",
   "metadata": {},
   "source": [
    "Next, the data augmentation object provided by `gingado` adds more data. In this case, for brevity only one dataflow from one source is listed. If users want to add more SDMX sources, simply add more keys to the dictionary. And if users want data from all dataflows from a given source provided the keys and parameters such as frequency and dates match, the value should be set to `'all'`, as in `{'ECB': ['CISS'], 'BIS': 'all'}`."
   ]
  },
  {
   "cell_type": "code",
   "execution_count": null,
   "metadata": {},
   "outputs": [
    {
     "name": "stdout",
     "output_type": "stream",
     "text": [
      "Querying data from ECB's dataflow 'CISS' - Composite Indicator of Systemic Stress...\n"
     ]
    },
    {
     "name": "stderr",
     "output_type": "stream",
     "text": [
      "2022-09-22 22:08:57,676 pandasdmx.reader.sdmxml - INFO: Use supplied dsd=… argument for non–structure-specific message\n"
     ]
    },
    {
     "name": "stdout",
     "output_type": "stream",
     "text": [
      "Querying data from BIS's dataflow 'WS_CBPOL_D' - Policy rates daily...\n"
     ]
    }
   ],
   "source": [
    "test_src = {'ECB': ['CISS'], 'BIS': ['WS_CBPOL_D']}\n",
    "\n",
    "X_train__fit_transform = AugmentSDMX(sources=test_src).fit_transform(X=X_train)\n",
    "X_train__fit_then_transform = AugmentSDMX(sources=test_src).fit(X=X_train).transform(X=X_train, training=True)\n",
    "\n",
    "assert X_train__fit_transform.shape == X_train__fit_then_transform.shape"
   ]
  },
  {
   "cell_type": "markdown",
   "metadata": {},
   "source": [
    "`AugmentSDMX` can also be part of a `Pipeline` object, which minimises operational errors during modelling and avoids using testing data during training:"
   ]
  },
  {
   "cell_type": "markdown",
   "metadata": {},
   "source": [
    "This is the dataset now after this particular augmentation:"
   ]
  },
  {
   "cell_type": "code",
   "execution_count": null,
   "metadata": {},
   "outputs": [],
   "source": [
    "print(f\"No of columns: {len(X_train__fit_transform.columns)} {X_train__fit_transform.columns}\")\n",
    "X_train__fit_transform"
   ]
  },
  {
   "cell_type": "code",
   "execution_count": null,
   "metadata": {},
   "outputs": [],
   "source": [
    "from gingado.augmentation import AugmentSDMX\n",
    "from sklearn.pipeline import Pipeline\n",
    "from sklearn.experimental import enable_iterative_imputer\n",
    "from sklearn.impute import IterativeImputer\n",
    "from sklearn.ensemble import RandomForestRegressor\n",
    "from sklearn.model_selection import GridSearchCV"
   ]
  },
  {
   "cell_type": "code",
   "execution_count": null,
   "metadata": {},
   "outputs": [],
   "source": [
    "pipeline = Pipeline([\n",
    "    ('augmentation', AugmentSDMX(sources={'BIS': 'WS_CBPOL_D'})),\n",
    "    ('imp', IterativeImputer(max_iter=10)),\n",
    "    ('forest', RandomForestRegressor())\n",
    "], verbose=True)"
   ]
  },
  {
   "cell_type": "markdown",
   "metadata": {},
   "source": [
    "### Tuning the data augmentation to enhance model performance\n",
    "\n",
    "And since `AugmentSDMX` can be included in a `Pipeline`, it can also be fine-tuned by parameter search techniques (such as grid search), further helping users make the best of available data to enhance performance of their models."
   ]
  },
  {
   "cell_type": "code",
   "execution_count": null,
   "metadata": {},
   "outputs": [],
   "source": [
    "grid = GridSearchCV(\n",
    "    estimator=pipeline,\n",
    "    param_grid={\n",
    "        'augmentation': ['passthrough', AugmentSDMX(sources={'ECB': 'CISS'})]\n",
    "    },\n",
    "    verbose=3,\n",
    "    cv=TimeSeriesSplit()\n",
    "    )\n",
    "\n",
    "y_pred_grid = grid.fit(X_train, y_train).predict(X_test)"
   ]
  },
  {
   "cell_type": "code",
   "execution_count": null,
   "metadata": {},
   "outputs": [],
   "source": [
    "grid.best_params_"
   ]
  },
  {
   "cell_type": "code",
   "execution_count": null,
   "metadata": {},
   "outputs": [],
   "source": [
    "print(f\"In this particular case, the best model was achieved by {'not ' if grid.best_params_['augmentation'] == 'passthrough' else ''}using the data augmentation.\")"
   ]
  },
  {
   "cell_type": "code",
   "execution_count": null,
   "metadata": {},
   "outputs": [],
   "source": [
    "print(f\"The last value in the training dataset was {y_train.tail(1).to_numpy()}. The predicted value was {y_pred_grid}, and the actual value was {y_test.to_numpy()}.\")"
   ]
  },
  {
   "cell_type": "markdown",
   "metadata": {},
   "source": [
    "### Sources of data\n",
    "\n",
    "`gingado` seeks to only lists realiable data sources by choice, with a focus on official sources. This is meant to provide users with the trust that their dataset will be complemented by reliable sources. Unfortunately, it is not possible at this stage to include *all* official sources given the substantial manual and maintenance work. `gingado` leverages the existence of the [Statistical Data and Metadata eXchange (SDMX)](https://sdmx.org), an organisation of official data sources that establishes common data and metadata formats, to download data that is relevant (and hopefully also useful) to users.\n",
    "\n",
    "The function below from the package [simpledmx](https://github.com/dkgaraujo/simpledmx) returns a list of codes corresponding to the data sources available to provide `gingado` users with data through SDMX."
   ]
  },
  {
   "cell_type": "code",
   "execution_count": null,
   "metadata": {},
   "outputs": [],
   "source": [
    "from gingado.utils import list_SDMX_sources"
   ]
  },
  {
   "cell_type": "code",
   "execution_count": null,
   "metadata": {},
   "outputs": [],
   "source": [
    "list_SDMX_sources()"
   ]
  },
  {
   "cell_type": "markdown",
   "metadata": {},
   "source": [
    "You can also see what the available dataflows are. The code below returns a dictionary where each key is the code for an SDMX source, and the values associated with each key are the code and name for the respective dataflows."
   ]
  },
  {
   "cell_type": "code",
   "execution_count": null,
   "metadata": {},
   "outputs": [],
   "source": [
    "from gingado.utils import list_all_dataflows"
   ]
  },
  {
   "cell_type": "code",
   "execution_count": null,
   "metadata": {},
   "outputs": [],
   "source": [
    "dflows = list_all_dataflows()\n",
    "dflows"
   ]
  },
  {
   "cell_type": "markdown",
   "metadata": {},
   "source": [
    "For example, the dataflows from the World Bank are:"
   ]
  },
  {
   "cell_type": "code",
   "execution_count": null,
   "metadata": {},
   "outputs": [],
   "source": [
    "dflows['WB']"
   ]
  },
  {
   "cell_type": "code",
   "execution_count": null,
   "metadata": {},
   "outputs": [],
   "source": [
    "#| echo: false\n",
    "import nbdev; nbdev.nbdev_export()"
   ]
  }
 ],
 "metadata": {
  "kernelspec": {
   "display_name": "Python 3.9.10 64-bit ('.venv_gingado': venv)",
   "language": "python",
   "name": "python3"
  }
 },
 "nbformat": 4,
 "nbformat_minor": 2
}
