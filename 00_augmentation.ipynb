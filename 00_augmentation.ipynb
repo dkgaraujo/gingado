{
 "cells": [
  {
   "cell_type": "code",
   "execution_count": null,
   "metadata": {},
   "outputs": [],
   "source": [
    "#hide\n",
    "%load_ext autoreload\n",
    "%autoreload 2"
   ]
  },
  {
   "cell_type": "code",
   "execution_count": null,
   "metadata": {},
   "outputs": [],
   "source": [
    "# default_exp augmentation"
   ]
  },
  {
   "cell_type": "markdown",
   "metadata": {},
   "source": [
    "# Data augmentation\n",
    "\n",
    "> Functions to augment the user's dataset with information from official sources."
   ]
  },
  {
   "cell_type": "code",
   "execution_count": null,
   "metadata": {},
   "outputs": [],
   "source": [
    "#hide\n",
    "from nbdev.showdoc import *"
   ]
  },
  {
   "cell_type": "markdown",
   "metadata": {},
   "source": [
    "## Introduction\n",
    "\n",
    "Most users will probably find it helpful to use the `DataAugment` transformer, which is compatible with `scikit-learn`, rather than the underlying functions. However, they are documented below in case their use might address some specific user need.\n",
    "\n",
    "## Sources of data\n",
    "\n",
    "`gingado` only lists official data sources by choice. This is meant to provide users with the trust that their dataset will be complemented by reliable sources. Unfortunately, it is not possible at this stage to include *all* official sources - let alone all reliable sources - because that requires substantial manual and maintenance work. `gingado` leverages the existence of the [Statistical Data and Metadata eXchange (SDMX)](https://sdmx.org), an organisation of official data sources that establishes common data and metadata formats, to download data that is relevant (and hopefully also useful) to users.\n",
    "\n",
    "The function below from the package [simpledmx](https://github.com/dkgaraujo/simpledmx) returns a list of codes corresponding to the data sources available to provide `gingado` users with data through SDMX."
   ]
  },
  {
   "cell_type": "code",
   "execution_count": null,
   "metadata": {},
   "outputs": [],
   "source": [
    "#export\n",
    "from simpledmx import *"
   ]
  },
  {
   "cell_type": "code",
   "execution_count": null,
   "metadata": {},
   "outputs": [
    {
     "data": {
      "text/plain": [
       "['ABS',\n",
       " 'ABS_XML',\n",
       " 'BBK',\n",
       " 'BIS',\n",
       " 'CD2030',\n",
       " 'ECB',\n",
       " 'ESTAT',\n",
       " 'ILO',\n",
       " 'IMF',\n",
       " 'INEGI',\n",
       " 'INSEE',\n",
       " 'ISTAT',\n",
       " 'LSD',\n",
       " 'NB',\n",
       " 'NBB',\n",
       " 'OECD',\n",
       " 'SGR',\n",
       " 'SPC',\n",
       " 'STAT_EE',\n",
       " 'UNICEF',\n",
       " 'UNSD',\n",
       " 'WB',\n",
       " 'WB_WDI']"
      ]
     },
     "execution_count": null,
     "metadata": {},
     "output_type": "execute_result"
    }
   ],
   "source": [
    "list_sdmx_sources()"
   ]
  },
  {
   "cell_type": "code",
   "execution_count": null,
   "metadata": {},
   "outputs": [],
   "source": [
    "#hide\n",
    "import pandas as pd\n",
    "from sklearn.feature_selection import VarianceThreshold"
   ]
  },
  {
   "cell_type": "code",
   "execution_count": null,
   "metadata": {},
   "outputs": [],
   "source": [
    "#export\n",
    "def augm_with_sdmx(df, freq, sources, variance_threshold=None):\n",
    "    \"\"\"Downloads relevant data from SDMX sources to complement the original dataset\n",
    "\n",
    "    Arguments:\n",
    "      df: a pandas DataFrame\n",
    "      freq: the frequency of the desired data from SDMX; for example, 'A' is annual\n",
    "      sources: the list of SDMX sources or None; a list of possible sources can be obtained by running the function list_sdmx_sources()    \n",
    "      variance_threshold: a value larger than or equal to 0 or None, where 0 will lead to the removal of all data that does not vary across the dataset and None uses the scikit-learn default\n",
    "    \"\"\"\n",
    "    start_date, end_date = min(df.index), max(df.index)\n",
    "        \n",
    "    sdmx_data = get_sdmx_data(\n",
    "        start_date=start_date,\n",
    "        end_date=end_date,\n",
    "        freq=freq,\n",
    "        sources=sources\n",
    "        )\n",
    "    sdmx_data = sdmx_data.dropna(axis=1).sort_index()\n",
    "    sdmx_data.reset_index(inplace=True)\n",
    "    sdmx_data['TIME_PERIOD'] = pd.to_datetime(sdmx_data['TIME_PERIOD'])\n",
    "    sdmx_data.set_index('TIME_PERIOD', inplace=True)\n",
    "    \n",
    "    feat_sel = VarianceThreshold() if variance_threshold is None else VarianceThreshold(threshold=variance_threshold)\n",
    "    feat_sel.fit(sdmx_data)\n",
    "    \n",
    "    # TODO: log which features were not kept and why\n",
    "    sdmx_data = sdmx_data.iloc[:, feat_sel.get_support()]\n",
    "\n",
    "    #sdmx_data = feat_sel.fit_transform(sdmx_data)\n",
    "        \n",
    "    if df is None:\n",
    "        return sdmx_data\n",
    "    df = df.merge(sdmx_data, how='left', left_on=time_col, right_on='TIME_PERIOD')\n",
    "    return df"
   ]
  },
  {
   "cell_type": "code",
   "execution_count": null,
   "metadata": {},
   "outputs": [
    {
     "data": {
      "text/markdown": [
       "<h4 id=\"augm_with_sdmx\" class=\"doc_header\"><code>augm_with_sdmx</code><a href=\"__main__.py#L2\" class=\"source_link\" style=\"float:right\">[source]</a></h4>\n",
       "\n",
       "> <code>augm_with_sdmx</code>(**`df`**, **`freq`**, **`sources`**, **`variance_threshold`**=*`None`*)\n",
       "\n",
       "Downloads relevant data from SDMX sources to complement the original dataset\n",
       "\n",
       "Arguments:\n",
       "  df: a pandas DataFrame\n",
       "  freq: the frequency of the desired data from SDMX; for example, 'A' is annual\n",
       "  sources: the list of SDMX sources or None; a list of possible sources can be obtained by running the function list_sdmx_sources()    \n",
       "  variance_threshold: a value larger than or equal to 0 or None, where 0 will lead to the removal of all data that does not vary across the dataset and None uses the scikit-learn default"
      ],
      "text/plain": [
       "<IPython.core.display.Markdown object>"
      ]
     },
     "metadata": {},
     "output_type": "display_data"
    }
   ],
   "source": [
    "show_doc(augm_with_sdmx)"
   ]
  },
  {
   "cell_type": "markdown",
   "metadata": {},
   "source": [
    "## Using `gingado` to jumpstart a dataset\n",
    "\n",
    "Since `gingado` downloads data from official sources through SDMX, users may want to use this funcitonality to gather the dataset of interest instead of augmenting some previously existent data. In these cases, the argument `df` must be set to `None`, like so:"
   ]
  },
  {
   "cell_type": "code",
   "execution_count": null,
   "metadata": {},
   "outputs": [
    {
     "name": "stderr",
     "output_type": "stream",
     "text": [
      "  6%|▌         | 1/18 [00:00<00:04,  3.97it/s]"
     ]
    },
    {
     "name": "stdout",
     "output_type": "stream",
     "text": [
      "Source: BIS, dataflow: WS_CBPOL_D ok!\n"
     ]
    },
    {
     "name": "stderr",
     "output_type": "stream",
     "text": [
      " 11%|█         | 2/18 [00:00<00:04,  3.91it/s]"
     ]
    },
    {
     "name": "stdout",
     "output_type": "stream",
     "text": [
      "Source: BIS, dataflow: WS_CBPOL_M ok!\n"
     ]
    },
    {
     "name": "stderr",
     "output_type": "stream",
     "text": [
      " 17%|█▋        | 3/18 [00:00<00:04,  3.58it/s]"
     ]
    },
    {
     "name": "stdout",
     "output_type": "stream",
     "text": [
      "Source: BIS, dataflow: WS_CBS_PUB ok!\n"
     ]
    },
    {
     "name": "stderr",
     "output_type": "stream",
     "text": [
      " 22%|██▏       | 4/18 [00:01<00:03,  3.92it/s]"
     ]
    },
    {
     "name": "stdout",
     "output_type": "stream",
     "text": [
      "Source: BIS, dataflow: WS_CREDIT_GAP ok!\n"
     ]
    },
    {
     "name": "stderr",
     "output_type": "stream",
     "text": [
      " 28%|██▊       | 5/18 [00:01<00:03,  3.81it/s]"
     ]
    },
    {
     "name": "stdout",
     "output_type": "stream",
     "text": [
      "Source: BIS, dataflow: WS_DEBT_SEC2_PUB ok!\n"
     ]
    },
    {
     "name": "stderr",
     "output_type": "stream",
     "text": [
      " 39%|███▉      | 7/18 [00:01<00:02,  4.10it/s]"
     ]
    },
    {
     "name": "stdout",
     "output_type": "stream",
     "text": [
      "Source: BIS, dataflow: WS_DER_OTC_TOV ok!\n",
      "Source: BIS, dataflow: WS_DSR ok!\n"
     ]
    },
    {
     "name": "stderr",
     "output_type": "stream",
     "text": [
      " 50%|█████     | 9/18 [00:02<00:01,  4.57it/s]"
     ]
    },
    {
     "name": "stdout",
     "output_type": "stream",
     "text": [
      "Source: BIS, dataflow: WS_EER_D ok!\n",
      "Source: BIS, dataflow: WS_EER_M ok!\n"
     ]
    },
    {
     "name": "stderr",
     "output_type": "stream",
     "text": [
      " 56%|█████▌    | 10/18 [00:02<00:01,  4.19it/s]"
     ]
    },
    {
     "name": "stdout",
     "output_type": "stream",
     "text": [
      "Source: BIS, dataflow: WS_GLI ok!\n"
     ]
    },
    {
     "name": "stderr",
     "output_type": "stream",
     "text": [
      " 61%|██████    | 11/18 [00:02<00:01,  3.91it/s]"
     ]
    },
    {
     "name": "stdout",
     "output_type": "stream",
     "text": [
      "Source: BIS, dataflow: WS_LBS_D_PUB ok!\n"
     ]
    },
    {
     "name": "stderr",
     "output_type": "stream",
     "text": [
      " 67%|██████▋   | 12/18 [00:02<00:01,  4.18it/s]"
     ]
    },
    {
     "name": "stdout",
     "output_type": "stream",
     "text": [
      "Source: BIS, dataflow: WS_LONG_CPI ok!\n"
     ]
    },
    {
     "name": "stderr",
     "output_type": "stream",
     "text": [
      " 78%|███████▊  | 14/18 [00:03<00:00,  4.32it/s]"
     ]
    },
    {
     "name": "stdout",
     "output_type": "stream",
     "text": [
      "Source: BIS, dataflow: WS_OTC_DERIV2 ok!\n",
      "Source: BIS, dataflow: WS_SPP ok!\n"
     ]
    },
    {
     "name": "stderr",
     "output_type": "stream",
     "text": [
      " 89%|████████▉ | 16/18 [00:03<00:00,  4.88it/s]"
     ]
    },
    {
     "name": "stdout",
     "output_type": "stream",
     "text": [
      "Source: BIS, dataflow: WS_TC ok!\n",
      "Source: BIS, dataflow: WS_XRU ok!\n"
     ]
    },
    {
     "name": "stderr",
     "output_type": "stream",
     "text": [
      " 94%|█████████▍| 17/18 [00:03<00:00,  5.23it/s]"
     ]
    },
    {
     "name": "stdout",
     "output_type": "stream",
     "text": [
      "Source: BIS, dataflow: WS_XRU_D ok!\n"
     ]
    },
    {
     "name": "stderr",
     "output_type": "stream",
     "text": [
      "100%|██████████| 18/18 [00:04<00:00,  4.29it/s]\n"
     ]
    },
    {
     "name": "stdout",
     "output_type": "stream",
     "text": [
      "Source: BIS, dataflow: WS_XTD_DERIV ok!\n"
     ]
    },
    {
     "name": "stderr",
     "output_type": "stream",
     "text": [
      " 17%|█▋        | 3/18 [00:00<00:00, 21.58it/s]"
     ]
    },
    {
     "name": "stdout",
     "output_type": "stream",
     "text": [
      "Trying to download WS_CBPOL_D from BIS... not possible.\n",
      "Trying to download WS_CBPOL_M from BIS... not possible.\n",
      "Trying to download WS_CBS_PUB from BIS... not possible.\n",
      "Trying to download WS_CREDIT_GAP from BIS... not possible.\n",
      "Trying to download WS_DEBT_SEC2_PUB from BIS... not possible.\n"
     ]
    },
    {
     "name": "stderr",
     "output_type": "stream",
     "text": [
      " 33%|███▎      | 6/18 [00:41<01:38,  8.20s/it]"
     ]
    },
    {
     "name": "stdout",
     "output_type": "stream",
     "text": [
      "Trying to download WS_DER_OTC_TOV from BIS... ok!\n"
     ]
    },
    {
     "name": "stderr",
     "output_type": "stream",
     "text": [
      " 56%|█████▌    | 10/18 [00:42<00:26,  3.35s/it]"
     ]
    },
    {
     "name": "stdout",
     "output_type": "stream",
     "text": [
      "Trying to download WS_DSR from BIS... not possible.\n",
      "Trying to download WS_EER_D from BIS... not possible.\n",
      "Trying to download WS_EER_M from BIS... not possible.\n",
      "Trying to download WS_GLI from BIS... not possible.\n",
      "Trying to download WS_LBS_D_PUB from BIS... not possible.\n"
     ]
    },
    {
     "name": "stderr",
     "output_type": "stream",
     "text": [
      " 67%|██████▋   | 12/18 [00:42<00:13,  2.31s/it]"
     ]
    },
    {
     "name": "stdout",
     "output_type": "stream",
     "text": [
      "Trying to download WS_LONG_CPI from BIS... ok!\n",
      "Trying to download WS_OTC_DERIV2 from BIS... not possible.\n",
      "Trying to download WS_SPP from BIS... not possible.\n",
      "Trying to download WS_TC from BIS... not possible.\n"
     ]
    },
    {
     "name": "stderr",
     "output_type": "stream",
     "text": [
      " 89%|████████▉ | 16/18 [00:42<00:02,  1.25s/it]"
     ]
    },
    {
     "name": "stdout",
     "output_type": "stream",
     "text": [
      "Trying to download WS_XRU from BIS... ok!\n",
      "Trying to download WS_XRU_D from BIS... not possible.\n"
     ]
    },
    {
     "name": "stderr",
     "output_type": "stream",
     "text": [
      "100%|██████████| 18/18 [01:08<00:00,  3.79s/it]\n"
     ]
    },
    {
     "name": "stdout",
     "output_type": "stream",
     "text": [
      "Trying to download WS_XTD_DERIV from BIS... ok!\n"
     ]
    },
    {
     "name": "stderr",
     "output_type": "stream",
     "text": [
      "  0%|          | 0/4 [00:00<?, ?it/s]"
     ]
    },
    {
     "name": "stdout",
     "output_type": "stream",
     "text": [
      "Getting data from BIS's WS_DER_OTC_TOV\n"
     ]
    },
    {
     "name": "stderr",
     "output_type": "stream",
     "text": [
      " 75%|███████▌  | 3/4 [00:19<00:05,  5.19s/it]"
     ]
    },
    {
     "name": "stdout",
     "output_type": "stream",
     "text": [
      "Successful\n",
      "Getting data from BIS's WS_LONG_CPI\n",
      "Successful\n",
      "Getting data from BIS's WS_XRU\n",
      "Successful\n",
      "Getting data from BIS's WS_XTD_DERIV\n"
     ]
    },
    {
     "name": "stderr",
     "output_type": "stream",
     "text": [
      "100%|██████████| 4/4 [00:20<00:00,  5.02s/it]\n"
     ]
    },
    {
     "name": "stdout",
     "output_type": "stream",
     "text": [
      "Successful\n"
     ]
    }
   ],
   "source": [
    "new_data = augm_with_sdmx(df=None, start_date='2018', end_date='2020', freq='A', time_col=None, sources='BIS')"
   ]
  },
  {
   "cell_type": "code",
   "execution_count": null,
   "metadata": {},
   "outputs": [
    {
     "data": {
      "text/html": [
       "<div>\n",
       "<style scoped>\n",
       "    .dataframe tbody tr th:only-of-type {\n",
       "        vertical-align: middle;\n",
       "    }\n",
       "\n",
       "    .dataframe tbody tr th {\n",
       "        vertical-align: top;\n",
       "    }\n",
       "\n",
       "    .dataframe thead th {\n",
       "        text-align: right;\n",
       "    }\n",
       "</style>\n",
       "<table border=\"1\" class=\"dataframe\">\n",
       "  <thead>\n",
       "    <tr style=\"text-align: right;\">\n",
       "      <th></th>\n",
       "      <th>BIS_WS_LONG_CPI_A_AE_628</th>\n",
       "      <th>BIS_WS_LONG_CPI_A_AE_771</th>\n",
       "      <th>BIS_WS_LONG_CPI_A_AR_628</th>\n",
       "      <th>BIS_WS_LONG_CPI_A_AR_771</th>\n",
       "      <th>BIS_WS_LONG_CPI_A_AT_628</th>\n",
       "      <th>BIS_WS_LONG_CPI_A_AT_771</th>\n",
       "      <th>BIS_WS_LONG_CPI_A_AU_628</th>\n",
       "      <th>BIS_WS_LONG_CPI_A_AU_771</th>\n",
       "      <th>BIS_WS_LONG_CPI_A_BE_628</th>\n",
       "      <th>BIS_WS_LONG_CPI_A_BE_771</th>\n",
       "      <th>...</th>\n",
       "      <th>BIS_WS_XTD_DERIV_A_U_J_T_MXN_8A</th>\n",
       "      <th>BIS_WS_XTD_DERIV_A_U_J_T_TO1_8A</th>\n",
       "      <th>BIS_WS_XTD_DERIV_A_U_J_T_TO1_8B</th>\n",
       "      <th>BIS_WS_XTD_DERIV_A_U_J_T_TO1_8C</th>\n",
       "      <th>BIS_WS_XTD_DERIV_A_U_J_T_TO1_8E</th>\n",
       "      <th>BIS_WS_XTD_DERIV_A_U_J_T_TO1_8F</th>\n",
       "      <th>BIS_WS_XTD_DERIV_A_U_J_T_TO1_8G</th>\n",
       "      <th>BIS_WS_XTD_DERIV_A_U_J_T_TO1_8K</th>\n",
       "      <th>BIS_WS_XTD_DERIV_A_U_J_T_USD_8A</th>\n",
       "      <th>BIS_WS_XTD_DERIV_A_U_J_T_ZAR_8A</th>\n",
       "    </tr>\n",
       "    <tr>\n",
       "      <th>TIME_PERIOD</th>\n",
       "      <th></th>\n",
       "      <th></th>\n",
       "      <th></th>\n",
       "      <th></th>\n",
       "      <th></th>\n",
       "      <th></th>\n",
       "      <th></th>\n",
       "      <th></th>\n",
       "      <th></th>\n",
       "      <th></th>\n",
       "      <th></th>\n",
       "      <th></th>\n",
       "      <th></th>\n",
       "      <th></th>\n",
       "      <th></th>\n",
       "      <th></th>\n",
       "      <th></th>\n",
       "      <th></th>\n",
       "      <th></th>\n",
       "      <th></th>\n",
       "      <th></th>\n",
       "    </tr>\n",
       "  </thead>\n",
       "  <tbody>\n",
       "    <tr>\n",
       "      <th>2018-01-01</th>\n",
       "      <td>116.781662</td>\n",
       "      <td>3.070301</td>\n",
       "      <td>416.975221</td>\n",
       "      <td>34.150300</td>\n",
       "      <td>116.259014</td>\n",
       "      <td>2.004903</td>\n",
       "      <td>117.898023</td>\n",
       "      <td>1.911401</td>\n",
       "      <td>115.451626</td>\n",
       "      <td>2.053165</td>\n",
       "      <td>...</td>\n",
       "      <td>11.0</td>\n",
       "      <td>846590.0</td>\n",
       "      <td>471264.0</td>\n",
       "      <td>284211.0</td>\n",
       "      <td>90731.0</td>\n",
       "      <td>59179.0</td>\n",
       "      <td>31552.0</td>\n",
       "      <td>383.0</td>\n",
       "      <td>462350.0</td>\n",
       "      <td>350.0</td>\n",
       "    </tr>\n",
       "    <tr>\n",
       "      <th>2019-01-01</th>\n",
       "      <td>114.524888</td>\n",
       "      <td>-1.932473</td>\n",
       "      <td>637.155776</td>\n",
       "      <td>52.804230</td>\n",
       "      <td>118.035180</td>\n",
       "      <td>1.527766</td>\n",
       "      <td>119.797086</td>\n",
       "      <td>1.610768</td>\n",
       "      <td>117.110457</td>\n",
       "      <td>1.436820</td>\n",
       "      <td>...</td>\n",
       "      <td>7.0</td>\n",
       "      <td>852979.0</td>\n",
       "      <td>514054.0</td>\n",
       "      <td>244999.0</td>\n",
       "      <td>93613.0</td>\n",
       "      <td>61141.0</td>\n",
       "      <td>32472.0</td>\n",
       "      <td>312.0</td>\n",
       "      <td>503307.0</td>\n",
       "      <td>278.0</td>\n",
       "    </tr>\n",
       "    <tr>\n",
       "      <th>2020-01-01</th>\n",
       "      <td>112.143786</td>\n",
       "      <td>-2.079113</td>\n",
       "      <td>895.091635</td>\n",
       "      <td>40.482386</td>\n",
       "      <td>119.741496</td>\n",
       "      <td>1.445600</td>\n",
       "      <td>120.811655</td>\n",
       "      <td>0.846906</td>\n",
       "      <td>117.978002</td>\n",
       "      <td>0.740792</td>\n",
       "      <td>...</td>\n",
       "      <td>1.0</td>\n",
       "      <td>774172.0</td>\n",
       "      <td>446158.0</td>\n",
       "      <td>238840.0</td>\n",
       "      <td>88831.0</td>\n",
       "      <td>58457.0</td>\n",
       "      <td>30373.0</td>\n",
       "      <td>343.0</td>\n",
       "      <td>435049.0</td>\n",
       "      <td>298.0</td>\n",
       "    </tr>\n",
       "  </tbody>\n",
       "</table>\n",
       "<p>3 rows × 658 columns</p>\n",
       "</div>"
      ],
      "text/plain": [
       "             BIS_WS_LONG_CPI_A_AE_628  BIS_WS_LONG_CPI_A_AE_771  \\\n",
       "TIME_PERIOD                                                       \n",
       "2018-01-01                 116.781662                  3.070301   \n",
       "2019-01-01                 114.524888                 -1.932473   \n",
       "2020-01-01                 112.143786                 -2.079113   \n",
       "\n",
       "             BIS_WS_LONG_CPI_A_AR_628  BIS_WS_LONG_CPI_A_AR_771  \\\n",
       "TIME_PERIOD                                                       \n",
       "2018-01-01                 416.975221                 34.150300   \n",
       "2019-01-01                 637.155776                 52.804230   \n",
       "2020-01-01                 895.091635                 40.482386   \n",
       "\n",
       "             BIS_WS_LONG_CPI_A_AT_628  BIS_WS_LONG_CPI_A_AT_771  \\\n",
       "TIME_PERIOD                                                       \n",
       "2018-01-01                 116.259014                  2.004903   \n",
       "2019-01-01                 118.035180                  1.527766   \n",
       "2020-01-01                 119.741496                  1.445600   \n",
       "\n",
       "             BIS_WS_LONG_CPI_A_AU_628  BIS_WS_LONG_CPI_A_AU_771  \\\n",
       "TIME_PERIOD                                                       \n",
       "2018-01-01                 117.898023                  1.911401   \n",
       "2019-01-01                 119.797086                  1.610768   \n",
       "2020-01-01                 120.811655                  0.846906   \n",
       "\n",
       "             BIS_WS_LONG_CPI_A_BE_628  BIS_WS_LONG_CPI_A_BE_771  ...  \\\n",
       "TIME_PERIOD                                                      ...   \n",
       "2018-01-01                 115.451626                  2.053165  ...   \n",
       "2019-01-01                 117.110457                  1.436820  ...   \n",
       "2020-01-01                 117.978002                  0.740792  ...   \n",
       "\n",
       "             BIS_WS_XTD_DERIV_A_U_J_T_MXN_8A  BIS_WS_XTD_DERIV_A_U_J_T_TO1_8A  \\\n",
       "TIME_PERIOD                                                                     \n",
       "2018-01-01                              11.0                         846590.0   \n",
       "2019-01-01                               7.0                         852979.0   \n",
       "2020-01-01                               1.0                         774172.0   \n",
       "\n",
       "             BIS_WS_XTD_DERIV_A_U_J_T_TO1_8B  BIS_WS_XTD_DERIV_A_U_J_T_TO1_8C  \\\n",
       "TIME_PERIOD                                                                     \n",
       "2018-01-01                          471264.0                         284211.0   \n",
       "2019-01-01                          514054.0                         244999.0   \n",
       "2020-01-01                          446158.0                         238840.0   \n",
       "\n",
       "             BIS_WS_XTD_DERIV_A_U_J_T_TO1_8E  BIS_WS_XTD_DERIV_A_U_J_T_TO1_8F  \\\n",
       "TIME_PERIOD                                                                     \n",
       "2018-01-01                           90731.0                          59179.0   \n",
       "2019-01-01                           93613.0                          61141.0   \n",
       "2020-01-01                           88831.0                          58457.0   \n",
       "\n",
       "             BIS_WS_XTD_DERIV_A_U_J_T_TO1_8G  BIS_WS_XTD_DERIV_A_U_J_T_TO1_8K  \\\n",
       "TIME_PERIOD                                                                     \n",
       "2018-01-01                           31552.0                            383.0   \n",
       "2019-01-01                           32472.0                            312.0   \n",
       "2020-01-01                           30373.0                            343.0   \n",
       "\n",
       "             BIS_WS_XTD_DERIV_A_U_J_T_USD_8A  BIS_WS_XTD_DERIV_A_U_J_T_ZAR_8A  \n",
       "TIME_PERIOD                                                                    \n",
       "2018-01-01                          462350.0                            350.0  \n",
       "2019-01-01                          503307.0                            278.0  \n",
       "2020-01-01                          435049.0                            298.0  \n",
       "\n",
       "[3 rows x 658 columns]"
      ]
     },
     "execution_count": null,
     "metadata": {},
     "output_type": "execute_result"
    }
   ],
   "source": [
    "new_data"
   ]
  },
  {
   "cell_type": "markdown",
   "metadata": {},
   "source": [
    "The code above uses a greedy SDMX downloader that is not too concerned about selecting datasets in advance; rather, it downloads it data it possibly can from those official sources for the time period and frequency in question. It then filters out those data points that do not vary throughout the period, avoiding the use of memory to store data that does not contribute to the predictive power of the model. The dataset is then ready to be used.\n",
    "\n",
    "Two things are important to highlight. First, choosing even one source (the [BIS](www.bis.org) in this example) leads to the download of hundreds of variables. Some of them might be representing the same underlying concepts, but for different jurisdictions. The second thing to bear in mind is that download and in particular parsing of the SDMX data can take up some time depending on your local setting.\n",
    "\n",
    "To use `gingado` to augment your dataset instead of creating a completely new one as done above, simply pass the original DataFrame as the argument `df` and name the corresponding column with the time values in the argument `time_col`."
   ]
  },
  {
   "cell_type": "markdown",
   "metadata": {},
   "source": []
  }
 ],
 "metadata": {
  "kernelspec": {
   "display_name": "Python 3.9.10 64-bit ('.venv_gingado': venv)",
   "language": "python",
   "name": "python3"
  }
 },
 "nbformat": 4,
 "nbformat_minor": 2
}
